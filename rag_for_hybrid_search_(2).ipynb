{
  "cells": [
    {
      "cell_type": "markdown",
      "metadata": {
        "id": "view-in-github",
        "colab_type": "text"
      },
      "source": [
        "<a href=\"https://colab.research.google.com/github/erenarkangil/personalized_chatbot/blob/main/rag_for_hybrid_search_(2).ipynb\" target=\"_parent\"><img src=\"https://colab.research.google.com/assets/colab-badge.svg\" alt=\"Open In Colab\"/></a>"
      ]
    },
    {
      "cell_type": "markdown",
      "id": "61ea1c38-24ac-46ee-b8f5-fdeb65511131",
      "metadata": {
        "id": "61ea1c38-24ac-46ee-b8f5-fdeb65511131"
      },
      "source": [
        "# RAG Chat Bot for Hybrid Search\n",
        "\n",
        "This is the accompanying notebook for the [Oct 19 (2023) RAG for Hybrid Search meetup](https://www.pinecone.io/community/events/sf-meetup-october-2023/).\n",
        "\n",
        "---"
      ]
    },
    {
      "cell_type": "markdown",
      "id": "9960f94c-11a1-4c9b-99fc-0552e3f20886",
      "metadata": {
        "id": "9960f94c-11a1-4c9b-99fc-0552e3f20886"
      },
      "source": [
        "[![Open In Colab](https://colab.research.google.com/assets/colab-badge.svg)](https://colab.research.google.com/github/pinecone-io/examples/blob/master/learn/generation/rag-for-hybrid/rag-for-hybrid-search.ipynb) [![Open nbviewer](https://raw.githubusercontent.com/pinecone-io/examples/master/assets/nbviewer-shield.svg)](https://nbviewer.org/github/pinecone-io/examples/blob/master/learn/generation/rag-for-hybrid/rag-for-hybrid-search.ipynb)"
      ]
    },
    {
      "cell_type": "markdown",
      "id": "67f57977-9583-4772-86d9-e28e83dbe147",
      "metadata": {
        "id": "67f57977-9583-4772-86d9-e28e83dbe147"
      },
      "source": [
        "Quick notes:\n",
        "- You will need an OpenAI API Key\n",
        "- You will need a Pinecone account (API key & environment)\n",
        "- Cells that preview data are commented out, so that users can more easily navigate the notebook on Github. Run the notebook in Colab with these cells un-commented to see data previews.\n",
        "\n"
      ]
    },
    {
      "cell_type": "code",
      "execution_count": null,
      "id": "I1Pm3RfT6hjO",
      "metadata": {
        "id": "I1Pm3RfT6hjO",
        "colab": {
          "base_uri": "https://localhost:8080/"
        },
        "outputId": "27fbce5a-b2f2-4c67-f318-b68115e507f7"
      },
      "outputs": [
        {
          "output_type": "stream",
          "name": "stdout",
          "text": [
            "Requirement already satisfied: colab-xterm in /usr/local/lib/python3.11/dist-packages (0.2.0)\n",
            "Requirement already satisfied: ptyprocess~=0.7.0 in /usr/local/lib/python3.11/dist-packages (from colab-xterm) (0.7.0)\n",
            "Requirement already satisfied: tornado>5.1 in /usr/local/lib/python3.11/dist-packages (from colab-xterm) (6.4.2)\n"
          ]
        }
      ],
      "source": [
        "!pip3 install colab-xterm # Just makes the shell commands interactive, in case you have to press ENTER or type in 'Y/n' etc.\n",
        "%load_ext colabxterm"
      ]
    },
    {
      "cell_type": "code",
      "execution_count": null,
      "id": "bc3b8d11-6a04-4e7c-ace2-2bc28ab64b7f",
      "metadata": {
        "colab": {
          "base_uri": "https://localhost:8080/"
        },
        "id": "bc3b8d11-6a04-4e7c-ace2-2bc28ab64b7f",
        "outputId": "a9cad1f1-3eb3-4e24-c981-e435ca3b65bb"
      },
      "outputs": [
        {
          "output_type": "stream",
          "name": "stdout",
          "text": [
            "Requirement already satisfied: pymupdf in /usr/local/lib/python3.11/dist-packages (1.25.4)\n",
            "Requirement already satisfied: faiss-cpu in /usr/local/lib/python3.11/dist-packages (1.10.0)\n",
            "Requirement already satisfied: numpy<3.0,>=1.25.0 in /usr/local/lib/python3.11/dist-packages (from faiss-cpu) (1.26.4)\n",
            "Requirement already satisfied: packaging in /usr/local/lib/python3.11/dist-packages (from faiss-cpu) (24.2)\n",
            "Requirement already satisfied: huggingface-hub==0.25.2 in /usr/local/lib/python3.11/dist-packages (0.25.2)\n",
            "Requirement already satisfied: filelock in /usr/local/lib/python3.11/dist-packages (from huggingface-hub==0.25.2) (3.18.0)\n",
            "Requirement already satisfied: fsspec>=2023.5.0 in /usr/local/lib/python3.11/dist-packages (from huggingface-hub==0.25.2) (2025.3.0)\n",
            "Requirement already satisfied: packaging>=20.9 in /usr/local/lib/python3.11/dist-packages (from huggingface-hub==0.25.2) (24.2)\n",
            "Requirement already satisfied: pyyaml>=5.1 in /usr/local/lib/python3.11/dist-packages (from huggingface-hub==0.25.2) (6.0.2)\n",
            "Requirement already satisfied: requests in /usr/local/lib/python3.11/dist-packages (from huggingface-hub==0.25.2) (2.32.3)\n",
            "Requirement already satisfied: tqdm>=4.42.1 in /usr/local/lib/python3.11/dist-packages (from huggingface-hub==0.25.2) (4.67.1)\n",
            "Requirement already satisfied: typing-extensions>=3.7.4.3 in /usr/local/lib/python3.11/dist-packages (from huggingface-hub==0.25.2) (4.13.0)\n",
            "Requirement already satisfied: charset-normalizer<4,>=2 in /usr/local/lib/python3.11/dist-packages (from requests->huggingface-hub==0.25.2) (3.4.1)\n",
            "Requirement already satisfied: idna<4,>=2.5 in /usr/local/lib/python3.11/dist-packages (from requests->huggingface-hub==0.25.2) (3.10)\n",
            "Requirement already satisfied: urllib3<3,>=1.21.1 in /usr/local/lib/python3.11/dist-packages (from requests->huggingface-hub==0.25.2) (2.3.0)\n",
            "Requirement already satisfied: certifi>=2017.4.17 in /usr/local/lib/python3.11/dist-packages (from requests->huggingface-hub==0.25.2) (2025.1.31)\n",
            "Requirement already satisfied: unstructured==0.10.24 in /usr/local/lib/python3.11/dist-packages (0.10.24)\n",
            "Requirement already satisfied: chardet in /usr/local/lib/python3.11/dist-packages (from unstructured==0.10.24) (5.2.0)\n",
            "Requirement already satisfied: filetype in /usr/local/lib/python3.11/dist-packages (from unstructured==0.10.24) (1.2.0)\n",
            "Requirement already satisfied: python-magic in /usr/local/lib/python3.11/dist-packages (from unstructured==0.10.24) (0.4.27)\n",
            "Requirement already satisfied: lxml in /usr/local/lib/python3.11/dist-packages (from unstructured==0.10.24) (5.3.1)\n",
            "Requirement already satisfied: nltk in /usr/local/lib/python3.11/dist-packages (from unstructured==0.10.24) (3.9.1)\n",
            "Requirement already satisfied: tabulate in /usr/local/lib/python3.11/dist-packages (from unstructured==0.10.24) (0.9.0)\n",
            "Requirement already satisfied: requests in /usr/local/lib/python3.11/dist-packages (from unstructured==0.10.24) (2.32.3)\n",
            "Requirement already satisfied: beautifulsoup4 in /usr/local/lib/python3.11/dist-packages (from unstructured==0.10.24) (4.13.3)\n",
            "Requirement already satisfied: emoji in /usr/local/lib/python3.11/dist-packages (from unstructured==0.10.24) (2.14.1)\n",
            "Requirement already satisfied: dataclasses-json in /usr/local/lib/python3.11/dist-packages (from unstructured==0.10.24) (0.6.7)\n",
            "Requirement already satisfied: python-iso639 in /usr/local/lib/python3.11/dist-packages (from unstructured==0.10.24) (2025.2.18)\n",
            "Requirement already satisfied: langdetect in /usr/local/lib/python3.11/dist-packages (from unstructured==0.10.24) (1.0.9)\n",
            "Requirement already satisfied: numpy in /usr/local/lib/python3.11/dist-packages (from unstructured==0.10.24) (1.26.4)\n",
            "Requirement already satisfied: rapidfuzz in /usr/local/lib/python3.11/dist-packages (from unstructured==0.10.24) (3.12.2)\n",
            "Requirement already satisfied: backoff in /usr/local/lib/python3.11/dist-packages (from unstructured==0.10.24) (2.2.1)\n",
            "Requirement already satisfied: soupsieve>1.2 in /usr/local/lib/python3.11/dist-packages (from beautifulsoup4->unstructured==0.10.24) (2.6)\n",
            "Requirement already satisfied: typing-extensions>=4.0.0 in /usr/local/lib/python3.11/dist-packages (from beautifulsoup4->unstructured==0.10.24) (4.13.0)\n",
            "Requirement already satisfied: marshmallow<4.0.0,>=3.18.0 in /usr/local/lib/python3.11/dist-packages (from dataclasses-json->unstructured==0.10.24) (3.26.1)\n",
            "Requirement already satisfied: typing-inspect<1,>=0.4.0 in /usr/local/lib/python3.11/dist-packages (from dataclasses-json->unstructured==0.10.24) (0.9.0)\n",
            "Requirement already satisfied: six in /usr/local/lib/python3.11/dist-packages (from langdetect->unstructured==0.10.24) (1.17.0)\n",
            "Requirement already satisfied: click in /usr/local/lib/python3.11/dist-packages (from nltk->unstructured==0.10.24) (8.1.8)\n",
            "Requirement already satisfied: joblib in /usr/local/lib/python3.11/dist-packages (from nltk->unstructured==0.10.24) (1.4.2)\n",
            "Requirement already satisfied: regex>=2021.8.3 in /usr/local/lib/python3.11/dist-packages (from nltk->unstructured==0.10.24) (2024.11.6)\n",
            "Requirement already satisfied: tqdm in /usr/local/lib/python3.11/dist-packages (from nltk->unstructured==0.10.24) (4.67.1)\n",
            "Requirement already satisfied: charset-normalizer<4,>=2 in /usr/local/lib/python3.11/dist-packages (from requests->unstructured==0.10.24) (3.4.1)\n",
            "Requirement already satisfied: idna<4,>=2.5 in /usr/local/lib/python3.11/dist-packages (from requests->unstructured==0.10.24) (3.10)\n",
            "Requirement already satisfied: urllib3<3,>=1.21.1 in /usr/local/lib/python3.11/dist-packages (from requests->unstructured==0.10.24) (2.3.0)\n",
            "Requirement already satisfied: certifi>=2017.4.17 in /usr/local/lib/python3.11/dist-packages (from requests->unstructured==0.10.24) (2025.1.31)\n",
            "Requirement already satisfied: packaging>=17.0 in /usr/local/lib/python3.11/dist-packages (from marshmallow<4.0.0,>=3.18.0->dataclasses-json->unstructured==0.10.24) (24.2)\n",
            "Requirement already satisfied: mypy-extensions>=0.3.0 in /usr/local/lib/python3.11/dist-packages (from typing-inspect<1,>=0.4.0->dataclasses-json->unstructured==0.10.24) (1.0.0)\n",
            "Requirement already satisfied: langchain==0.0.327 in /usr/local/lib/python3.11/dist-packages (0.0.327)\n",
            "Requirement already satisfied: PyYAML>=5.3 in /usr/local/lib/python3.11/dist-packages (from langchain==0.0.327) (6.0.2)\n",
            "Requirement already satisfied: SQLAlchemy<3,>=1.4 in /usr/local/lib/python3.11/dist-packages (from langchain==0.0.327) (2.0.40)\n",
            "Requirement already satisfied: aiohttp<4.0.0,>=3.8.3 in /usr/local/lib/python3.11/dist-packages (from langchain==0.0.327) (3.11.14)\n",
            "Requirement already satisfied: anyio<4.0 in /usr/local/lib/python3.11/dist-packages (from langchain==0.0.327) (3.7.1)\n",
            "Requirement already satisfied: dataclasses-json<0.7,>=0.5.7 in /usr/local/lib/python3.11/dist-packages (from langchain==0.0.327) (0.6.7)\n",
            "Requirement already satisfied: jsonpatch<2.0,>=1.33 in /usr/local/lib/python3.11/dist-packages (from langchain==0.0.327) (1.33)\n",
            "Requirement already satisfied: langsmith<0.1.0,>=0.0.52 in /usr/local/lib/python3.11/dist-packages (from langchain==0.0.327) (0.0.92)\n",
            "Requirement already satisfied: numpy<2,>=1 in /usr/local/lib/python3.11/dist-packages (from langchain==0.0.327) (1.26.4)\n",
            "Requirement already satisfied: pydantic<3,>=1 in /usr/local/lib/python3.11/dist-packages (from langchain==0.0.327) (2.11.0)\n",
            "Requirement already satisfied: requests<3,>=2 in /usr/local/lib/python3.11/dist-packages (from langchain==0.0.327) (2.32.3)\n",
            "Requirement already satisfied: tenacity<9.0.0,>=8.1.0 in /usr/local/lib/python3.11/dist-packages (from langchain==0.0.327) (8.5.0)\n",
            "Requirement already satisfied: aiohappyeyeballs>=2.3.0 in /usr/local/lib/python3.11/dist-packages (from aiohttp<4.0.0,>=3.8.3->langchain==0.0.327) (2.6.1)\n",
            "Requirement already satisfied: aiosignal>=1.1.2 in /usr/local/lib/python3.11/dist-packages (from aiohttp<4.0.0,>=3.8.3->langchain==0.0.327) (1.3.2)\n",
            "Requirement already satisfied: attrs>=17.3.0 in /usr/local/lib/python3.11/dist-packages (from aiohttp<4.0.0,>=3.8.3->langchain==0.0.327) (25.3.0)\n",
            "Requirement already satisfied: frozenlist>=1.1.1 in /usr/local/lib/python3.11/dist-packages (from aiohttp<4.0.0,>=3.8.3->langchain==0.0.327) (1.5.0)\n",
            "Requirement already satisfied: multidict<7.0,>=4.5 in /usr/local/lib/python3.11/dist-packages (from aiohttp<4.0.0,>=3.8.3->langchain==0.0.327) (6.2.0)\n",
            "Requirement already satisfied: propcache>=0.2.0 in /usr/local/lib/python3.11/dist-packages (from aiohttp<4.0.0,>=3.8.3->langchain==0.0.327) (0.3.1)\n",
            "Requirement already satisfied: yarl<2.0,>=1.17.0 in /usr/local/lib/python3.11/dist-packages (from aiohttp<4.0.0,>=3.8.3->langchain==0.0.327) (1.18.3)\n",
            "Requirement already satisfied: idna>=2.8 in /usr/local/lib/python3.11/dist-packages (from anyio<4.0->langchain==0.0.327) (3.10)\n",
            "Requirement already satisfied: sniffio>=1.1 in /usr/local/lib/python3.11/dist-packages (from anyio<4.0->langchain==0.0.327) (1.3.1)\n",
            "Requirement already satisfied: marshmallow<4.0.0,>=3.18.0 in /usr/local/lib/python3.11/dist-packages (from dataclasses-json<0.7,>=0.5.7->langchain==0.0.327) (3.26.1)\n",
            "Requirement already satisfied: typing-inspect<1,>=0.4.0 in /usr/local/lib/python3.11/dist-packages (from dataclasses-json<0.7,>=0.5.7->langchain==0.0.327) (0.9.0)\n",
            "Requirement already satisfied: jsonpointer>=1.9 in /usr/local/lib/python3.11/dist-packages (from jsonpatch<2.0,>=1.33->langchain==0.0.327) (3.0.0)\n",
            "Requirement already satisfied: annotated-types>=0.6.0 in /usr/local/lib/python3.11/dist-packages (from pydantic<3,>=1->langchain==0.0.327) (0.7.0)\n",
            "Requirement already satisfied: pydantic-core==2.33.0 in /usr/local/lib/python3.11/dist-packages (from pydantic<3,>=1->langchain==0.0.327) (2.33.0)\n",
            "Requirement already satisfied: typing-extensions>=4.12.2 in /usr/local/lib/python3.11/dist-packages (from pydantic<3,>=1->langchain==0.0.327) (4.13.0)\n",
            "Requirement already satisfied: typing-inspection>=0.4.0 in /usr/local/lib/python3.11/dist-packages (from pydantic<3,>=1->langchain==0.0.327) (0.4.0)\n",
            "Requirement already satisfied: charset-normalizer<4,>=2 in /usr/local/lib/python3.11/dist-packages (from requests<3,>=2->langchain==0.0.327) (3.4.1)\n",
            "Requirement already satisfied: urllib3<3,>=1.21.1 in /usr/local/lib/python3.11/dist-packages (from requests<3,>=2->langchain==0.0.327) (2.3.0)\n",
            "Requirement already satisfied: certifi>=2017.4.17 in /usr/local/lib/python3.11/dist-packages (from requests<3,>=2->langchain==0.0.327) (2025.1.31)\n",
            "Requirement already satisfied: greenlet>=1 in /usr/local/lib/python3.11/dist-packages (from SQLAlchemy<3,>=1.4->langchain==0.0.327) (3.1.1)\n",
            "Requirement already satisfied: packaging>=17.0 in /usr/local/lib/python3.11/dist-packages (from marshmallow<4.0.0,>=3.18.0->dataclasses-json<0.7,>=0.5.7->langchain==0.0.327) (24.2)\n",
            "Requirement already satisfied: mypy-extensions>=0.3.0 in /usr/local/lib/python3.11/dist-packages (from typing-inspect<1,>=0.4.0->dataclasses-json<0.7,>=0.5.7->langchain==0.0.327) (1.0.0)\n",
            "Requirement already satisfied: openai==0.28.1 in /usr/local/lib/python3.11/dist-packages (0.28.1)\n",
            "Requirement already satisfied: requests>=2.20 in /usr/local/lib/python3.11/dist-packages (from openai==0.28.1) (2.32.3)\n",
            "Requirement already satisfied: tqdm in /usr/local/lib/python3.11/dist-packages (from openai==0.28.1) (4.67.1)\n",
            "Requirement already satisfied: aiohttp in /usr/local/lib/python3.11/dist-packages (from openai==0.28.1) (3.11.14)\n",
            "Requirement already satisfied: charset-normalizer<4,>=2 in /usr/local/lib/python3.11/dist-packages (from requests>=2.20->openai==0.28.1) (3.4.1)\n",
            "Requirement already satisfied: idna<4,>=2.5 in /usr/local/lib/python3.11/dist-packages (from requests>=2.20->openai==0.28.1) (3.10)\n",
            "Requirement already satisfied: urllib3<3,>=1.21.1 in /usr/local/lib/python3.11/dist-packages (from requests>=2.20->openai==0.28.1) (2.3.0)\n",
            "Requirement already satisfied: certifi>=2017.4.17 in /usr/local/lib/python3.11/dist-packages (from requests>=2.20->openai==0.28.1) (2025.1.31)\n",
            "Requirement already satisfied: aiohappyeyeballs>=2.3.0 in /usr/local/lib/python3.11/dist-packages (from aiohttp->openai==0.28.1) (2.6.1)\n",
            "Requirement already satisfied: aiosignal>=1.1.2 in /usr/local/lib/python3.11/dist-packages (from aiohttp->openai==0.28.1) (1.3.2)\n",
            "Requirement already satisfied: attrs>=17.3.0 in /usr/local/lib/python3.11/dist-packages (from aiohttp->openai==0.28.1) (25.3.0)\n",
            "Requirement already satisfied: frozenlist>=1.1.1 in /usr/local/lib/python3.11/dist-packages (from aiohttp->openai==0.28.1) (1.5.0)\n",
            "Requirement already satisfied: multidict<7.0,>=4.5 in /usr/local/lib/python3.11/dist-packages (from aiohttp->openai==0.28.1) (6.2.0)\n",
            "Requirement already satisfied: propcache>=0.2.0 in /usr/local/lib/python3.11/dist-packages (from aiohttp->openai==0.28.1) (0.3.1)\n",
            "Requirement already satisfied: yarl<2.0,>=1.17.0 in /usr/local/lib/python3.11/dist-packages (from aiohttp->openai==0.28.1) (1.18.3)\n",
            "Requirement already satisfied: pdfminer.six in /usr/local/lib/python3.11/dist-packages (20250327)\n",
            "Requirement already satisfied: charset-normalizer>=2.0.0 in /usr/local/lib/python3.11/dist-packages (from pdfminer.six) (3.4.1)\n",
            "Requirement already satisfied: cryptography>=36.0.0 in /usr/local/lib/python3.11/dist-packages (from pdfminer.six) (43.0.3)\n",
            "Requirement already satisfied: cffi>=1.12 in /usr/local/lib/python3.11/dist-packages (from cryptography>=36.0.0->pdfminer.six) (1.17.1)\n",
            "Requirement already satisfied: pycparser in /usr/local/lib/python3.11/dist-packages (from cffi>=1.12->cryptography>=36.0.0->pdfminer.six) (2.22)\n",
            "Requirement already satisfied: python-dotenv==1.0.0 in /usr/local/lib/python3.11/dist-packages (1.0.0)\n",
            "Collecting numpy==2.0.0\n",
            "  Using cached numpy-2.0.0-cp311-cp311-manylinux_2_17_x86_64.manylinux2014_x86_64.whl.metadata (60 kB)\n",
            "Using cached numpy-2.0.0-cp311-cp311-manylinux_2_17_x86_64.manylinux2014_x86_64.whl (19.3 MB)\n",
            "Installing collected packages: numpy\n",
            "  Attempting uninstall: numpy\n",
            "    Found existing installation: numpy 1.26.4\n",
            "    Uninstalling numpy-1.26.4:\n",
            "      Successfully uninstalled numpy-1.26.4\n",
            "\u001b[31mERROR: pip's dependency resolver does not currently take into account all the packages that are installed. This behaviour is the source of the following dependency conflicts.\n",
            "langchain 0.0.327 requires numpy<2,>=1, but you have numpy 2.0.0 which is incompatible.\u001b[0m\u001b[31m\n",
            "\u001b[0mSuccessfully installed numpy-2.0.0\n"
          ]
        }
      ],
      "source": [
        "# Install libraries\n",
        "\n",
        "!pip install pymupdf\n",
        "!pip install faiss-cpu\n",
        "!pip install huggingface-hub==0.25.2\n",
        "\n",
        "#!pip install  pinecone-text==0.5.4\n",
        "!pip install  unstructured==0.10.24\n",
        "#!pip install  sentence-transformers==2.2.2\n",
        "!pip install  langchain==0.0.327\n",
        "!pip install  openai==0.28.1\n",
        "!pip install  pdfminer.six\n",
        "#!pip install  pdf2image==1.16.3\n",
        "!pip install python-dotenv==1.0.0\n",
        "#!pip install pytesseract==0.3.10\n",
        "#!pip install  unstructured_pytesseract==0.3.12\n",
        "#!pip install  huggingface-hub==0.20.2\n",
        "!pip install  numpy==2.0.0"
      ]
    },
    {
      "cell_type": "code",
      "source": [
        "from sentence_transformers import SentenceTransformer\n"
      ],
      "metadata": {
        "id": "RQg8Ncp8fC18"
      },
      "id": "RQg8Ncp8fC18",
      "execution_count": null,
      "outputs": []
    },
    {
      "cell_type": "code",
      "source": [],
      "metadata": {
        "id": "ikKvamd3TP7I"
      },
      "id": "ikKvamd3TP7I",
      "execution_count": null,
      "outputs": []
    },
    {
      "cell_type": "code",
      "source": [
        "!pip show sentence-transformers"
      ],
      "metadata": {
        "colab": {
          "base_uri": "https://localhost:8080/"
        },
        "id": "lUJRBInTQFoE",
        "outputId": "207e7083-a98b-40f4-e87e-359a66878e9c"
      },
      "id": "lUJRBInTQFoE",
      "execution_count": null,
      "outputs": [
        {
          "output_type": "stream",
          "name": "stdout",
          "text": [
            "Name: sentence-transformers\n",
            "Version: 2.2.2\n",
            "Summary: Multilingual text embeddings\n",
            "Home-page: https://github.com/UKPLab/sentence-transformers\n",
            "Author: Nils Reimers\n",
            "Author-email: info@nils-reimers.de\n",
            "License: Apache License 2.0\n",
            "Location: /usr/local/lib/python3.11/dist-packages\n",
            "Requires: huggingface-hub, nltk, numpy, scikit-learn, scipy, sentencepiece, torch, torchvision, tqdm, transformers\n",
            "Required-by: \n"
          ]
        }
      ]
    },
    {
      "cell_type": "code",
      "execution_count": null,
      "id": "5g-la06jXtsn",
      "metadata": {
        "id": "5g-la06jXtsn"
      },
      "outputs": [],
      "source": [
        "#!apt-get install poppler-utils"
      ]
    },
    {
      "cell_type": "code",
      "execution_count": null,
      "id": "6hrtPeeIa-I7",
      "metadata": {
        "id": "6hrtPeeIa-I7"
      },
      "outputs": [],
      "source": [
        "#sudo apt install tesseract-ocr\n",
        "#!sudo apt install libtesseract-dev"
      ]
    },
    {
      "cell_type": "markdown",
      "id": "6af345ef-6321-4a30-b2e3-9e84cbd4d5b2",
      "metadata": {
        "id": "6af345ef-6321-4a30-b2e3-9e84cbd4d5b2"
      },
      "source": [
        "Imports"
      ]
    },
    {
      "cell_type": "code",
      "source": [
        "#!pip uninstall -y sentence-transformers numpy\n",
        "#!pip install --no-cache-dir sentence-transformers"
      ],
      "metadata": {
        "colab": {
          "base_uri": "https://localhost:8080/"
        },
        "id": "IGTPnsVAU1CV",
        "outputId": "dc3c3ae9-11c7-48ce-beb2-61b3146a6ddb"
      },
      "id": "IGTPnsVAU1CV",
      "execution_count": null,
      "outputs": [
        {
          "output_type": "stream",
          "name": "stdout",
          "text": [
            "Found existing installation: sentence-transformers 2.2.2\n",
            "Uninstalling sentence-transformers-2.2.2:\n",
            "  Successfully uninstalled sentence-transformers-2.2.2\n",
            "Found existing installation: numpy 1.26.4\n",
            "Uninstalling numpy-1.26.4:\n",
            "  Successfully uninstalled numpy-1.26.4\n",
            "Collecting sentence-transformers\n",
            "  Downloading sentence_transformers-4.0.1-py3-none-any.whl.metadata (13 kB)\n",
            "Requirement already satisfied: transformers<5.0.0,>=4.41.0 in /usr/local/lib/python3.11/dist-packages (from sentence-transformers) (4.48.3)\n",
            "Requirement already satisfied: tqdm in /usr/local/lib/python3.11/dist-packages (from sentence-transformers) (4.67.1)\n",
            "Requirement already satisfied: torch>=1.11.0 in /usr/local/lib/python3.11/dist-packages (from sentence-transformers) (2.6.0+cu124)\n",
            "Requirement already satisfied: scikit-learn in /usr/local/lib/python3.11/dist-packages (from sentence-transformers) (1.6.1)\n",
            "Requirement already satisfied: scipy in /usr/local/lib/python3.11/dist-packages (from sentence-transformers) (1.14.1)\n",
            "Requirement already satisfied: huggingface-hub>=0.20.0 in /usr/local/lib/python3.11/dist-packages (from sentence-transformers) (0.25.2)\n",
            "Requirement already satisfied: Pillow in /usr/local/lib/python3.11/dist-packages (from sentence-transformers) (11.1.0)\n",
            "Requirement already satisfied: typing_extensions>=4.5.0 in /usr/local/lib/python3.11/dist-packages (from sentence-transformers) (4.13.0)\n",
            "Requirement already satisfied: filelock in /usr/local/lib/python3.11/dist-packages (from huggingface-hub>=0.20.0->sentence-transformers) (3.18.0)\n",
            "Requirement already satisfied: fsspec>=2023.5.0 in /usr/local/lib/python3.11/dist-packages (from huggingface-hub>=0.20.0->sentence-transformers) (2025.3.0)\n",
            "Requirement already satisfied: packaging>=20.9 in /usr/local/lib/python3.11/dist-packages (from huggingface-hub>=0.20.0->sentence-transformers) (24.2)\n",
            "Requirement already satisfied: pyyaml>=5.1 in /usr/local/lib/python3.11/dist-packages (from huggingface-hub>=0.20.0->sentence-transformers) (6.0.2)\n",
            "Requirement already satisfied: requests in /usr/local/lib/python3.11/dist-packages (from huggingface-hub>=0.20.0->sentence-transformers) (2.32.3)\n",
            "Requirement already satisfied: networkx in /usr/local/lib/python3.11/dist-packages (from torch>=1.11.0->sentence-transformers) (3.4.2)\n",
            "Requirement already satisfied: jinja2 in /usr/local/lib/python3.11/dist-packages (from torch>=1.11.0->sentence-transformers) (3.1.6)\n",
            "Requirement already satisfied: nvidia-cuda-nvrtc-cu12==12.4.127 in /usr/local/lib/python3.11/dist-packages (from torch>=1.11.0->sentence-transformers) (12.4.127)\n",
            "Requirement already satisfied: nvidia-cuda-runtime-cu12==12.4.127 in /usr/local/lib/python3.11/dist-packages (from torch>=1.11.0->sentence-transformers) (12.4.127)\n",
            "Requirement already satisfied: nvidia-cuda-cupti-cu12==12.4.127 in /usr/local/lib/python3.11/dist-packages (from torch>=1.11.0->sentence-transformers) (12.4.127)\n",
            "Requirement already satisfied: nvidia-cudnn-cu12==9.1.0.70 in /usr/local/lib/python3.11/dist-packages (from torch>=1.11.0->sentence-transformers) (9.1.0.70)\n",
            "Requirement already satisfied: nvidia-cublas-cu12==12.4.5.8 in /usr/local/lib/python3.11/dist-packages (from torch>=1.11.0->sentence-transformers) (12.4.5.8)\n",
            "Requirement already satisfied: nvidia-cufft-cu12==11.2.1.3 in /usr/local/lib/python3.11/dist-packages (from torch>=1.11.0->sentence-transformers) (11.2.1.3)\n",
            "Requirement already satisfied: nvidia-curand-cu12==10.3.5.147 in /usr/local/lib/python3.11/dist-packages (from torch>=1.11.0->sentence-transformers) (10.3.5.147)\n",
            "Requirement already satisfied: nvidia-cusolver-cu12==11.6.1.9 in /usr/local/lib/python3.11/dist-packages (from torch>=1.11.0->sentence-transformers) (11.6.1.9)\n",
            "Requirement already satisfied: nvidia-cusparse-cu12==12.3.1.170 in /usr/local/lib/python3.11/dist-packages (from torch>=1.11.0->sentence-transformers) (12.3.1.170)\n",
            "Requirement already satisfied: nvidia-cusparselt-cu12==0.6.2 in /usr/local/lib/python3.11/dist-packages (from torch>=1.11.0->sentence-transformers) (0.6.2)\n",
            "Requirement already satisfied: nvidia-nccl-cu12==2.21.5 in /usr/local/lib/python3.11/dist-packages (from torch>=1.11.0->sentence-transformers) (2.21.5)\n",
            "Requirement already satisfied: nvidia-nvtx-cu12==12.4.127 in /usr/local/lib/python3.11/dist-packages (from torch>=1.11.0->sentence-transformers) (12.4.127)\n",
            "Requirement already satisfied: nvidia-nvjitlink-cu12==12.4.127 in /usr/local/lib/python3.11/dist-packages (from torch>=1.11.0->sentence-transformers) (12.4.127)\n",
            "Requirement already satisfied: triton==3.2.0 in /usr/local/lib/python3.11/dist-packages (from torch>=1.11.0->sentence-transformers) (3.2.0)\n",
            "Requirement already satisfied: sympy==1.13.1 in /usr/local/lib/python3.11/dist-packages (from torch>=1.11.0->sentence-transformers) (1.13.1)\n",
            "Requirement already satisfied: mpmath<1.4,>=1.1.0 in /usr/local/lib/python3.11/dist-packages (from sympy==1.13.1->torch>=1.11.0->sentence-transformers) (1.3.0)\n",
            "Collecting numpy>=1.17 (from transformers<5.0.0,>=4.41.0->sentence-transformers)\n",
            "  Downloading numpy-2.2.4-cp311-cp311-manylinux_2_17_x86_64.manylinux2014_x86_64.whl.metadata (62 kB)\n",
            "\u001b[2K     \u001b[90m━━━━━━━━━━━━━━━━━━━━━━━━━━━━━━━━━━━━━━━━\u001b[0m \u001b[32m62.0/62.0 kB\u001b[0m \u001b[31m4.2 MB/s\u001b[0m eta \u001b[36m0:00:00\u001b[0m\n",
            "\u001b[?25hRequirement already satisfied: regex!=2019.12.17 in /usr/local/lib/python3.11/dist-packages (from transformers<5.0.0,>=4.41.0->sentence-transformers) (2024.11.6)\n",
            "Requirement already satisfied: tokenizers<0.22,>=0.21 in /usr/local/lib/python3.11/dist-packages (from transformers<5.0.0,>=4.41.0->sentence-transformers) (0.21.1)\n",
            "Requirement already satisfied: safetensors>=0.4.1 in /usr/local/lib/python3.11/dist-packages (from transformers<5.0.0,>=4.41.0->sentence-transformers) (0.5.3)\n",
            "Requirement already satisfied: joblib>=1.2.0 in /usr/local/lib/python3.11/dist-packages (from scikit-learn->sentence-transformers) (1.4.2)\n",
            "Requirement already satisfied: threadpoolctl>=3.1.0 in /usr/local/lib/python3.11/dist-packages (from scikit-learn->sentence-transformers) (3.6.0)\n",
            "Requirement already satisfied: MarkupSafe>=2.0 in /usr/local/lib/python3.11/dist-packages (from jinja2->torch>=1.11.0->sentence-transformers) (3.0.2)\n",
            "Requirement already satisfied: charset-normalizer<4,>=2 in /usr/local/lib/python3.11/dist-packages (from requests->huggingface-hub>=0.20.0->sentence-transformers) (3.4.1)\n",
            "Requirement already satisfied: idna<4,>=2.5 in /usr/local/lib/python3.11/dist-packages (from requests->huggingface-hub>=0.20.0->sentence-transformers) (3.10)\n",
            "Requirement already satisfied: urllib3<3,>=1.21.1 in /usr/local/lib/python3.11/dist-packages (from requests->huggingface-hub>=0.20.0->sentence-transformers) (2.3.0)\n",
            "Requirement already satisfied: certifi>=2017.4.17 in /usr/local/lib/python3.11/dist-packages (from requests->huggingface-hub>=0.20.0->sentence-transformers) (2025.1.31)\n",
            "Downloading sentence_transformers-4.0.1-py3-none-any.whl (340 kB)\n",
            "\u001b[2K   \u001b[90m━━━━━━━━━━━━━━━━━━━━━━━━━━━━━━━━━━━━━━━━\u001b[0m \u001b[32m340.6/340.6 kB\u001b[0m \u001b[31m13.7 MB/s\u001b[0m eta \u001b[36m0:00:00\u001b[0m\n",
            "\u001b[?25hDownloading numpy-2.2.4-cp311-cp311-manylinux_2_17_x86_64.manylinux2014_x86_64.whl (16.4 MB)\n",
            "\u001b[2K   \u001b[90m━━━━━━━━━━━━━━━━━━━━━━━━━━━━━━━━━━━━━━━━\u001b[0m \u001b[32m16.4/16.4 MB\u001b[0m \u001b[31m153.3 MB/s\u001b[0m eta \u001b[36m0:00:00\u001b[0m\n",
            "\u001b[?25hInstalling collected packages: numpy, sentence-transformers\n",
            "\u001b[31mERROR: pip's dependency resolver does not currently take into account all the packages that are installed. This behaviour is the source of the following dependency conflicts.\n",
            "langchain 0.0.327 requires numpy<2,>=1, but you have numpy 2.2.4 which is incompatible.\n",
            "tensorflow 2.18.0 requires numpy<2.1.0,>=1.26.0, but you have numpy 2.2.4 which is incompatible.\n",
            "numba 0.60.0 requires numpy<2.1,>=1.22, but you have numpy 2.2.4 which is incompatible.\u001b[0m\u001b[31m\n",
            "\u001b[0mSuccessfully installed numpy-2.2.4 sentence-transformers-4.0.1\n"
          ]
        }
      ]
    },
    {
      "cell_type": "code",
      "execution_count": null,
      "id": "0520a370-63a3-4f16-8cf1-acfc8cc7f914",
      "metadata": {
        "id": "0520a370-63a3-4f16-8cf1-acfc8cc7f914"
      },
      "outputs": [],
      "source": [
        "import pinecone\n",
        "import re\n",
        "from uuid import uuid4\n",
        "from typing import IO, Any, Dict, List, Tuple\n",
        "from copy import deepcopy\n",
        "import requests\n",
        "\n",
        "from unstructured.partition.pdf import partition_pdf\n",
        "from unstructured.documents.elements import Text\n",
        "from langchain.text_splitter import RecursiveCharacterTextSplitter\n",
        "from langchain.docstore.document import Document\n",
        "#from pinecone import Pinecone\n",
        "import openai\n",
        "from pinecone.core.client.model.query_response import QueryResponse\n",
        "\n",
        "from pinecone_text.sparse import BM25Encoder"
      ]
    },
    {
      "cell_type": "markdown",
      "id": "c5858c70-9d3f-437d-a289-066ae69a64e2",
      "metadata": {
        "id": "c5858c70-9d3f-437d-a289-066ae69a64e2"
      },
      "source": [
        "Set up the environment variables we'll need. We recommend using `dotenv`. It's a super simple way to keep your variables safe, but accessible. Simply create a `.env` file with your secrets in it, and use the Python `dotenv` and `os` libraries to load them.\n",
        "\n",
        "To import your `.env` file into Colab, upload it (or create it) in the `/content/` dir."
      ]
    },
    {
      "cell_type": "code",
      "execution_count": null,
      "id": "8fb61e9a-c191-489a-90e2-48df47e0c77b",
      "metadata": {
        "id": "8fb61e9a-c191-489a-90e2-48df47e0c77b"
      },
      "outputs": [],
      "source": [
        "%load_ext dotenv\n",
        "from dotenv import load_dotenv"
      ]
    },
    {
      "cell_type": "code",
      "execution_count": null,
      "id": "d62f04ff-5339-4097-b8e4-98a29450e879",
      "metadata": {
        "colab": {
          "base_uri": "https://localhost:8080/"
        },
        "id": "d62f04ff-5339-4097-b8e4-98a29450e879",
        "outputId": "1f29f209-544f-4ab1-c3da-2e22acdedfe3"
      },
      "outputs": [
        {
          "output_type": "execute_result",
          "data": {
            "text/plain": [
              "False"
            ]
          },
          "metadata": {},
          "execution_count": 20
        }
      ],
      "source": [
        "# Make sure dotenv is in our kernel environment & working\n",
        "\n",
        "load_dotenv()"
      ]
    },
    {
      "cell_type": "code",
      "execution_count": null,
      "id": "e0d6d9c5-2cf2-4796-8141-564e1b94994b",
      "metadata": {
        "id": "e0d6d9c5-2cf2-4796-8141-564e1b94994b"
      },
      "outputs": [],
      "source": [
        "pinecone_api_key = os.getenv('PINECONE_API_KEY')  # You can get your Pinecone api key and env (e.g. \"us-east-1\") at app.pinecone.io\n",
        "pinecone_env = os.getenv('PINECONE_ENV')\n",
        "openai_api_key = os.getenv('OPENAI_API_KEY')\n"
      ]
    },
    {
      "cell_type": "code",
      "execution_count": null,
      "id": "535ecd2e-fe6e-40fb-99bf-8b8333ef01fe",
      "metadata": {
        "id": "535ecd2e-fe6e-40fb-99bf-8b8333ef01fe",
        "colab": {
          "base_uri": "https://localhost:8080/",
          "height": 219
        },
        "outputId": "5f93125a-2686-4781-ddf1-6822977cc0d9"
      },
      "outputs": [
        {
          "output_type": "error",
          "ename": "NameError",
          "evalue": "name 'pinecone_api_key' is not defined",
          "traceback": [
            "\u001b[0;31m---------------------------------------------------------------------------\u001b[0m",
            "\u001b[0;31mNameError\u001b[0m                                 Traceback (most recent call last)",
            "\u001b[0;32m<ipython-input-15-f515d19bd0ef>\u001b[0m in \u001b[0;36m<cell line: 0>\u001b[0;34m()\u001b[0m\n\u001b[1;32m      1\u001b[0m \u001b[0;31m# Let's make sure our dotenv secrets loaded correctly\u001b[0m\u001b[0;34m\u001b[0m\u001b[0;34m\u001b[0m\u001b[0m\n\u001b[1;32m      2\u001b[0m \u001b[0;34m\u001b[0m\u001b[0m\n\u001b[0;32m----> 3\u001b[0;31m \u001b[0;32massert\u001b[0m \u001b[0mlen\u001b[0m\u001b[0;34m(\u001b[0m\u001b[0mpinecone_api_key\u001b[0m\u001b[0;34m)\u001b[0m \u001b[0;34m>\u001b[0m \u001b[0;36m0\u001b[0m\u001b[0;34m\u001b[0m\u001b[0;34m\u001b[0m\u001b[0m\n\u001b[0m\u001b[1;32m      4\u001b[0m \u001b[0;32massert\u001b[0m \u001b[0mlen\u001b[0m\u001b[0;34m(\u001b[0m\u001b[0mpinecone_env\u001b[0m\u001b[0;34m)\u001b[0m \u001b[0;34m>\u001b[0m \u001b[0;36m0\u001b[0m\u001b[0;34m\u001b[0m\u001b[0;34m\u001b[0m\u001b[0m\n\u001b[1;32m      5\u001b[0m \u001b[0;32massert\u001b[0m \u001b[0mlen\u001b[0m\u001b[0;34m(\u001b[0m\u001b[0mopenai_api_key\u001b[0m\u001b[0;34m)\u001b[0m \u001b[0;34m>\u001b[0m \u001b[0;36m0\u001b[0m\u001b[0;34m\u001b[0m\u001b[0;34m\u001b[0m\u001b[0m\n",
            "\u001b[0;31mNameError\u001b[0m: name 'pinecone_api_key' is not defined"
          ]
        }
      ],
      "source": [
        "# Let's make sure our dotenv secrets loaded correctly\n",
        "\n",
        "assert len(pinecone_api_key) > 0\n",
        "assert len(pinecone_env) > 0\n",
        "assert len(openai_api_key) > 0"
      ]
    },
    {
      "cell_type": "markdown",
      "id": "acfaeac9-d63a-4d5a-b316-f714f032c421",
      "metadata": {
        "id": "acfaeac9-d63a-4d5a-b316-f714f032c421"
      },
      "source": [
        "# Download some articles we're interested in learning more about.\n",
        "\n",
        "Remember, hybrid search is best for knowledge that contains a lot of unique keywords that you'd like to search for, along with concepts you'd like clarity on, etc. Data that works best for this type of thing include medical data, most types of research data, data with lots of entities in it, etc.\n",
        "\n",
        "We'll be using Arxiv.org articles about different vector search algorithms for this demo. They've got lots of jargon and concepts that'll work great for hybrid search!"
      ]
    },
    {
      "cell_type": "code",
      "execution_count": null,
      "id": "9cc05aea-08ac-493a-8bfe-6b0a90dbfb8f",
      "metadata": {
        "id": "9cc05aea-08ac-493a-8bfe-6b0a90dbfb8f"
      },
      "outputs": [],
      "source": [
        "import requests\n",
        "import os\n",
        "\n",
        "def get_pdf(base_url: str, filename: str):\n",
        "    \"\"\"\n",
        "    Download and write a PDF file from a github repository.\n",
        "\n",
        "    :param url: URL of Github repository containing the file you want to download & write locally.\n",
        "    \"\"\"\n",
        "    res = requests.get(base_url+filename)\n",
        "    # Check if the request was successful (HTTP status code 200)\n",
        "    if res.status_code == 200:\n",
        "      with open(filename, 'wb') as f:\n",
        "          f.write(res.content)\n",
        "          print(f\"PDF downloaded and saved as {filename}\")\n",
        "    else:\n",
        "      print(f\"Failed to download the PDF. HTTP status code: {res.status_code}\")"
      ]
    },
    {
      "cell_type": "code",
      "execution_count": null,
      "id": "c5f32da6-5ae9-47ac-a3d3-06bcdef1dfb7",
      "metadata": {
        "colab": {
          "base_uri": "https://localhost:8080/"
        },
        "id": "c5f32da6-5ae9-47ac-a3d3-06bcdef1dfb7",
        "outputId": "203ecf58-fc1a-4725-cbaa-4839c4beeba2"
      },
      "outputs": [
        {
          "output_type": "stream",
          "name": "stdout",
          "text": [
            "PDF downloaded and saved as freshdiskann_paper.pdf\n",
            "PDF downloaded and saved as hnsw_paper.pdf\n",
            "PDF downloaded and saved as ivfpq_paper.pdf\n"
          ]
        }
      ],
      "source": [
        "# Download our files to the /content/ dir in Colab\n",
        "\n",
        "github_dir = \"https://github.com/pinecone-io/examples/raw/master/learn/generation/rag-for-hybrid/\"\n",
        "filenames = [\"freshdiskann_paper.pdf\", \"hnsw_paper.pdf\", \"ivfpq_paper.pdf\"]\n",
        "\n",
        "for f in filenames:\n",
        "  get_pdf(github_dir, f)\n"
      ]
    },
    {
      "cell_type": "code",
      "execution_count": null,
      "id": "tpgyK79h8ta0",
      "metadata": {
        "id": "tpgyK79h8ta0"
      },
      "outputs": [],
      "source": [
        "# Read in our file paths\n",
        "# Note: change this path to your local dir if running this notebook locally (i.e. not on Colab)\n",
        "\n",
        "freshdisk = os.path.join(\"/content/\", filenames[0])\n",
        "hnsw = os.path.join(\"/content/\", filenames[1])\n",
        "ivfpq = os.path.join(\"/content/\", filenames[2])\n"
      ]
    },
    {
      "cell_type": "markdown",
      "id": "c8e91a7b-2287-4200-b268-da25dec4f8c9",
      "metadata": {
        "id": "c8e91a7b-2287-4200-b268-da25dec4f8c9"
      },
      "source": [
        "# Partitioning & Cleaning our PDFs\n",
        "\n",
        "This step is optional. Partitioning simply uses ML to break a document up into pages, paragraphs, the title, etc. It's a nice-to-have that allows you to exclude certain elements you might not want to index, such as an article's bibliography (although we'll keep that since it could be useful information).\n",
        "\n",
        "If you want to skip this step, you can just read the PDFs into text or json, etc. and make your chunks straight from that object(s).\n",
        "\n",
        "Note: this notebook assumes you have partitioned your PDF. If you want to run this notebook from start to finish as-is, you'll need to run this step."
      ]
    },
    {
      "cell_type": "code",
      "source": [
        "import nltk\n",
        "#nltk.download('punkt_tab')\n",
        "#nltk.download('averaged_perceptron_tagger')\n",
        "nltk.download('all')"
      ],
      "metadata": {
        "colab": {
          "base_uri": "https://localhost:8080/"
        },
        "id": "RzvfLAfJVdBQ",
        "outputId": "43de5e9e-7237-4be9-d46e-da85b5a48e9e"
      },
      "id": "RzvfLAfJVdBQ",
      "execution_count": null,
      "outputs": [
        {
          "output_type": "stream",
          "name": "stderr",
          "text": [
            "[nltk_data] Downloading collection 'all'\n",
            "[nltk_data]    | \n",
            "[nltk_data]    | Downloading package abc to /root/nltk_data...\n",
            "[nltk_data]    |   Package abc is already up-to-date!\n",
            "[nltk_data]    | Downloading package alpino to /root/nltk_data...\n",
            "[nltk_data]    |   Package alpino is already up-to-date!\n",
            "[nltk_data]    | Downloading package averaged_perceptron_tagger to\n",
            "[nltk_data]    |     /root/nltk_data...\n",
            "[nltk_data]    |   Package averaged_perceptron_tagger is already up-\n",
            "[nltk_data]    |       to-date!\n",
            "[nltk_data]    | Downloading package averaged_perceptron_tagger_eng to\n",
            "[nltk_data]    |     /root/nltk_data...\n",
            "[nltk_data]    |   Package averaged_perceptron_tagger_eng is already\n",
            "[nltk_data]    |       up-to-date!\n",
            "[nltk_data]    | Downloading package averaged_perceptron_tagger_ru to\n",
            "[nltk_data]    |     /root/nltk_data...\n",
            "[nltk_data]    |   Package averaged_perceptron_tagger_ru is already\n",
            "[nltk_data]    |       up-to-date!\n",
            "[nltk_data]    | Downloading package averaged_perceptron_tagger_rus to\n",
            "[nltk_data]    |     /root/nltk_data...\n",
            "[nltk_data]    |   Package averaged_perceptron_tagger_rus is already\n",
            "[nltk_data]    |       up-to-date!\n",
            "[nltk_data]    | Downloading package basque_grammars to\n",
            "[nltk_data]    |     /root/nltk_data...\n",
            "[nltk_data]    |   Package basque_grammars is already up-to-date!\n",
            "[nltk_data]    | Downloading package bcp47 to /root/nltk_data...\n",
            "[nltk_data]    |   Package bcp47 is already up-to-date!\n",
            "[nltk_data]    | Downloading package biocreative_ppi to\n",
            "[nltk_data]    |     /root/nltk_data...\n",
            "[nltk_data]    |   Package biocreative_ppi is already up-to-date!\n",
            "[nltk_data]    | Downloading package bllip_wsj_no_aux to\n",
            "[nltk_data]    |     /root/nltk_data...\n",
            "[nltk_data]    |   Package bllip_wsj_no_aux is already up-to-date!\n",
            "[nltk_data]    | Downloading package book_grammars to\n",
            "[nltk_data]    |     /root/nltk_data...\n",
            "[nltk_data]    |   Package book_grammars is already up-to-date!\n",
            "[nltk_data]    | Downloading package brown to /root/nltk_data...\n",
            "[nltk_data]    |   Package brown is already up-to-date!\n",
            "[nltk_data]    | Downloading package brown_tei to /root/nltk_data...\n",
            "[nltk_data]    |   Package brown_tei is already up-to-date!\n",
            "[nltk_data]    | Downloading package cess_cat to /root/nltk_data...\n",
            "[nltk_data]    |   Package cess_cat is already up-to-date!\n",
            "[nltk_data]    | Downloading package cess_esp to /root/nltk_data...\n",
            "[nltk_data]    |   Package cess_esp is already up-to-date!\n",
            "[nltk_data]    | Downloading package chat80 to /root/nltk_data...\n",
            "[nltk_data]    |   Package chat80 is already up-to-date!\n",
            "[nltk_data]    | Downloading package city_database to\n",
            "[nltk_data]    |     /root/nltk_data...\n",
            "[nltk_data]    |   Package city_database is already up-to-date!\n",
            "[nltk_data]    | Downloading package cmudict to /root/nltk_data...\n",
            "[nltk_data]    |   Package cmudict is already up-to-date!\n",
            "[nltk_data]    | Downloading package comparative_sentences to\n",
            "[nltk_data]    |     /root/nltk_data...\n",
            "[nltk_data]    |   Package comparative_sentences is already up-to-\n",
            "[nltk_data]    |       date!\n",
            "[nltk_data]    | Downloading package comtrans to /root/nltk_data...\n",
            "[nltk_data]    |   Package comtrans is already up-to-date!\n",
            "[nltk_data]    | Downloading package conll2000 to /root/nltk_data...\n",
            "[nltk_data]    |   Package conll2000 is already up-to-date!\n",
            "[nltk_data]    | Downloading package conll2002 to /root/nltk_data...\n",
            "[nltk_data]    |   Package conll2002 is already up-to-date!\n",
            "[nltk_data]    | Downloading package conll2007 to /root/nltk_data...\n",
            "[nltk_data]    |   Package conll2007 is already up-to-date!\n",
            "[nltk_data]    | Downloading package crubadan to /root/nltk_data...\n",
            "[nltk_data]    |   Package crubadan is already up-to-date!\n",
            "[nltk_data]    | Downloading package dependency_treebank to\n",
            "[nltk_data]    |     /root/nltk_data...\n",
            "[nltk_data]    |   Package dependency_treebank is already up-to-date!\n",
            "[nltk_data]    | Downloading package dolch to /root/nltk_data...\n",
            "[nltk_data]    |   Package dolch is already up-to-date!\n",
            "[nltk_data]    | Downloading package english_wordnet to\n",
            "[nltk_data]    |     /root/nltk_data...\n",
            "[nltk_data]    |   Package english_wordnet is already up-to-date!\n",
            "[nltk_data]    | Downloading package europarl_raw to\n",
            "[nltk_data]    |     /root/nltk_data...\n",
            "[nltk_data]    |   Package europarl_raw is already up-to-date!\n",
            "[nltk_data]    | Downloading package extended_omw to\n",
            "[nltk_data]    |     /root/nltk_data...\n",
            "[nltk_data]    |   Package extended_omw is already up-to-date!\n",
            "[nltk_data]    | Downloading package floresta to /root/nltk_data...\n",
            "[nltk_data]    |   Package floresta is already up-to-date!\n",
            "[nltk_data]    | Downloading package framenet_v15 to\n",
            "[nltk_data]    |     /root/nltk_data...\n",
            "[nltk_data]    |   Package framenet_v15 is already up-to-date!\n",
            "[nltk_data]    | Downloading package framenet_v17 to\n",
            "[nltk_data]    |     /root/nltk_data...\n",
            "[nltk_data]    |   Package framenet_v17 is already up-to-date!\n",
            "[nltk_data]    | Downloading package gazetteers to /root/nltk_data...\n",
            "[nltk_data]    |   Package gazetteers is already up-to-date!\n",
            "[nltk_data]    | Downloading package genesis to /root/nltk_data...\n",
            "[nltk_data]    |   Package genesis is already up-to-date!\n",
            "[nltk_data]    | Downloading package gutenberg to /root/nltk_data...\n",
            "[nltk_data]    |   Package gutenberg is already up-to-date!\n",
            "[nltk_data]    | Downloading package ieer to /root/nltk_data...\n",
            "[nltk_data]    |   Package ieer is already up-to-date!\n",
            "[nltk_data]    | Downloading package inaugural to /root/nltk_data...\n",
            "[nltk_data]    |   Package inaugural is already up-to-date!\n",
            "[nltk_data]    | Downloading package indian to /root/nltk_data...\n",
            "[nltk_data]    |   Package indian is already up-to-date!\n",
            "[nltk_data]    | Downloading package jeita to /root/nltk_data...\n",
            "[nltk_data]    |   Package jeita is already up-to-date!\n",
            "[nltk_data]    | Downloading package kimmo to /root/nltk_data...\n",
            "[nltk_data]    |   Package kimmo is already up-to-date!\n",
            "[nltk_data]    | Downloading package knbc to /root/nltk_data...\n",
            "[nltk_data]    |   Package knbc is already up-to-date!\n",
            "[nltk_data]    | Downloading package large_grammars to\n",
            "[nltk_data]    |     /root/nltk_data...\n",
            "[nltk_data]    |   Package large_grammars is already up-to-date!\n",
            "[nltk_data]    | Downloading package lin_thesaurus to\n",
            "[nltk_data]    |     /root/nltk_data...\n",
            "[nltk_data]    |   Package lin_thesaurus is already up-to-date!\n",
            "[nltk_data]    | Downloading package mac_morpho to /root/nltk_data...\n",
            "[nltk_data]    |   Package mac_morpho is already up-to-date!\n",
            "[nltk_data]    | Downloading package machado to /root/nltk_data...\n",
            "[nltk_data]    |   Package machado is already up-to-date!\n",
            "[nltk_data]    | Downloading package masc_tagged to /root/nltk_data...\n",
            "[nltk_data]    |   Package masc_tagged is already up-to-date!\n",
            "[nltk_data]    | Downloading package maxent_ne_chunker to\n",
            "[nltk_data]    |     /root/nltk_data...\n",
            "[nltk_data]    |   Package maxent_ne_chunker is already up-to-date!\n",
            "[nltk_data]    | Downloading package maxent_ne_chunker_tab to\n",
            "[nltk_data]    |     /root/nltk_data...\n",
            "[nltk_data]    |   Package maxent_ne_chunker_tab is already up-to-\n",
            "[nltk_data]    |       date!\n",
            "[nltk_data]    | Downloading package maxent_treebank_pos_tagger to\n",
            "[nltk_data]    |     /root/nltk_data...\n",
            "[nltk_data]    |   Package maxent_treebank_pos_tagger is already up-\n",
            "[nltk_data]    |       to-date!\n",
            "[nltk_data]    | Downloading package maxent_treebank_pos_tagger_tab to\n",
            "[nltk_data]    |     /root/nltk_data...\n",
            "[nltk_data]    |   Package maxent_treebank_pos_tagger_tab is already\n",
            "[nltk_data]    |       up-to-date!\n",
            "[nltk_data]    | Downloading package moses_sample to\n",
            "[nltk_data]    |     /root/nltk_data...\n",
            "[nltk_data]    |   Package moses_sample is already up-to-date!\n",
            "[nltk_data]    | Downloading package movie_reviews to\n",
            "[nltk_data]    |     /root/nltk_data...\n",
            "[nltk_data]    |   Package movie_reviews is already up-to-date!\n",
            "[nltk_data]    | Downloading package mte_teip5 to /root/nltk_data...\n",
            "[nltk_data]    |   Package mte_teip5 is already up-to-date!\n",
            "[nltk_data]    | Downloading package mwa_ppdb to /root/nltk_data...\n",
            "[nltk_data]    |   Package mwa_ppdb is already up-to-date!\n",
            "[nltk_data]    | Downloading package names to /root/nltk_data...\n",
            "[nltk_data]    |   Package names is already up-to-date!\n",
            "[nltk_data]    | Downloading package nombank.1.0 to /root/nltk_data...\n",
            "[nltk_data]    |   Package nombank.1.0 is already up-to-date!\n",
            "[nltk_data]    | Downloading package nonbreaking_prefixes to\n",
            "[nltk_data]    |     /root/nltk_data...\n",
            "[nltk_data]    |   Package nonbreaking_prefixes is already up-to-date!\n",
            "[nltk_data]    | Downloading package nps_chat to /root/nltk_data...\n",
            "[nltk_data]    |   Package nps_chat is already up-to-date!\n",
            "[nltk_data]    | Downloading package omw to /root/nltk_data...\n",
            "[nltk_data]    |   Package omw is already up-to-date!\n",
            "[nltk_data]    | Downloading package omw-1.4 to /root/nltk_data...\n",
            "[nltk_data]    |   Package omw-1.4 is already up-to-date!\n",
            "[nltk_data]    | Downloading package opinion_lexicon to\n",
            "[nltk_data]    |     /root/nltk_data...\n",
            "[nltk_data]    |   Package opinion_lexicon is already up-to-date!\n",
            "[nltk_data]    | Downloading package panlex_swadesh to\n",
            "[nltk_data]    |     /root/nltk_data...\n",
            "[nltk_data]    |   Package panlex_swadesh is already up-to-date!\n",
            "[nltk_data]    | Downloading package paradigms to /root/nltk_data...\n",
            "[nltk_data]    |   Package paradigms is already up-to-date!\n",
            "[nltk_data]    | Downloading package pe08 to /root/nltk_data...\n",
            "[nltk_data]    |   Package pe08 is already up-to-date!\n",
            "[nltk_data]    | Downloading package perluniprops to\n",
            "[nltk_data]    |     /root/nltk_data...\n",
            "[nltk_data]    |   Package perluniprops is already up-to-date!\n",
            "[nltk_data]    | Downloading package pil to /root/nltk_data...\n",
            "[nltk_data]    |   Package pil is already up-to-date!\n",
            "[nltk_data]    | Downloading package pl196x to /root/nltk_data...\n",
            "[nltk_data]    |   Package pl196x is already up-to-date!\n",
            "[nltk_data]    | Downloading package porter_test to /root/nltk_data...\n",
            "[nltk_data]    |   Package porter_test is already up-to-date!\n",
            "[nltk_data]    | Downloading package ppattach to /root/nltk_data...\n",
            "[nltk_data]    |   Package ppattach is already up-to-date!\n",
            "[nltk_data]    | Downloading package problem_reports to\n",
            "[nltk_data]    |     /root/nltk_data...\n",
            "[nltk_data]    |   Package problem_reports is already up-to-date!\n",
            "[nltk_data]    | Downloading package product_reviews_1 to\n",
            "[nltk_data]    |     /root/nltk_data...\n",
            "[nltk_data]    |   Package product_reviews_1 is already up-to-date!\n",
            "[nltk_data]    | Downloading package product_reviews_2 to\n",
            "[nltk_data]    |     /root/nltk_data...\n",
            "[nltk_data]    |   Package product_reviews_2 is already up-to-date!\n",
            "[nltk_data]    | Downloading package propbank to /root/nltk_data...\n",
            "[nltk_data]    |   Package propbank is already up-to-date!\n",
            "[nltk_data]    | Downloading package pros_cons to /root/nltk_data...\n",
            "[nltk_data]    |   Package pros_cons is already up-to-date!\n",
            "[nltk_data]    | Downloading package ptb to /root/nltk_data...\n",
            "[nltk_data]    |   Package ptb is already up-to-date!\n",
            "[nltk_data]    | Downloading package punkt to /root/nltk_data...\n",
            "[nltk_data]    |   Package punkt is already up-to-date!\n",
            "[nltk_data]    | Downloading package punkt_tab to /root/nltk_data...\n",
            "[nltk_data]    |   Package punkt_tab is already up-to-date!\n",
            "[nltk_data]    | Downloading package qc to /root/nltk_data...\n",
            "[nltk_data]    |   Package qc is already up-to-date!\n",
            "[nltk_data]    | Downloading package reuters to /root/nltk_data...\n",
            "[nltk_data]    |   Package reuters is already up-to-date!\n",
            "[nltk_data]    | Downloading package rslp to /root/nltk_data...\n",
            "[nltk_data]    |   Package rslp is already up-to-date!\n",
            "[nltk_data]    | Downloading package rte to /root/nltk_data...\n",
            "[nltk_data]    |   Package rte is already up-to-date!\n",
            "[nltk_data]    | Downloading package sample_grammars to\n",
            "[nltk_data]    |     /root/nltk_data...\n",
            "[nltk_data]    |   Package sample_grammars is already up-to-date!\n",
            "[nltk_data]    | Downloading package semcor to /root/nltk_data...\n",
            "[nltk_data]    |   Package semcor is already up-to-date!\n",
            "[nltk_data]    | Downloading package senseval to /root/nltk_data...\n",
            "[nltk_data]    |   Package senseval is already up-to-date!\n",
            "[nltk_data]    | Downloading package sentence_polarity to\n",
            "[nltk_data]    |     /root/nltk_data...\n",
            "[nltk_data]    |   Package sentence_polarity is already up-to-date!\n",
            "[nltk_data]    | Downloading package sentiwordnet to\n",
            "[nltk_data]    |     /root/nltk_data...\n",
            "[nltk_data]    |   Package sentiwordnet is already up-to-date!\n",
            "[nltk_data]    | Downloading package shakespeare to /root/nltk_data...\n",
            "[nltk_data]    |   Package shakespeare is already up-to-date!\n",
            "[nltk_data]    | Downloading package sinica_treebank to\n",
            "[nltk_data]    |     /root/nltk_data...\n",
            "[nltk_data]    |   Package sinica_treebank is already up-to-date!\n",
            "[nltk_data]    | Downloading package smultron to /root/nltk_data...\n",
            "[nltk_data]    |   Package smultron is already up-to-date!\n",
            "[nltk_data]    | Downloading package snowball_data to\n",
            "[nltk_data]    |     /root/nltk_data...\n",
            "[nltk_data]    |   Package snowball_data is already up-to-date!\n",
            "[nltk_data]    | Downloading package spanish_grammars to\n",
            "[nltk_data]    |     /root/nltk_data...\n",
            "[nltk_data]    |   Package spanish_grammars is already up-to-date!\n",
            "[nltk_data]    | Downloading package state_union to /root/nltk_data...\n",
            "[nltk_data]    |   Package state_union is already up-to-date!\n",
            "[nltk_data]    | Downloading package stopwords to /root/nltk_data...\n",
            "[nltk_data]    |   Package stopwords is already up-to-date!\n",
            "[nltk_data]    | Downloading package subjectivity to\n",
            "[nltk_data]    |     /root/nltk_data...\n",
            "[nltk_data]    |   Package subjectivity is already up-to-date!\n",
            "[nltk_data]    | Downloading package swadesh to /root/nltk_data...\n",
            "[nltk_data]    |   Package swadesh is already up-to-date!\n",
            "[nltk_data]    | Downloading package switchboard to /root/nltk_data...\n",
            "[nltk_data]    |   Package switchboard is already up-to-date!\n",
            "[nltk_data]    | Downloading package tagsets to /root/nltk_data...\n",
            "[nltk_data]    |   Package tagsets is already up-to-date!\n",
            "[nltk_data]    | Downloading package tagsets_json to\n",
            "[nltk_data]    |     /root/nltk_data...\n",
            "[nltk_data]    |   Package tagsets_json is already up-to-date!\n",
            "[nltk_data]    | Downloading package timit to /root/nltk_data...\n",
            "[nltk_data]    |   Package timit is already up-to-date!\n",
            "[nltk_data]    | Downloading package toolbox to /root/nltk_data...\n",
            "[nltk_data]    |   Package toolbox is already up-to-date!\n",
            "[nltk_data]    | Downloading package treebank to /root/nltk_data...\n",
            "[nltk_data]    |   Package treebank is already up-to-date!\n",
            "[nltk_data]    | Downloading package twitter_samples to\n",
            "[nltk_data]    |     /root/nltk_data...\n",
            "[nltk_data]    |   Package twitter_samples is already up-to-date!\n",
            "[nltk_data]    | Downloading package udhr to /root/nltk_data...\n",
            "[nltk_data]    |   Package udhr is already up-to-date!\n",
            "[nltk_data]    | Downloading package udhr2 to /root/nltk_data...\n",
            "[nltk_data]    |   Package udhr2 is already up-to-date!\n",
            "[nltk_data]    | Downloading package unicode_samples to\n",
            "[nltk_data]    |     /root/nltk_data...\n",
            "[nltk_data]    |   Package unicode_samples is already up-to-date!\n",
            "[nltk_data]    | Downloading package universal_tagset to\n",
            "[nltk_data]    |     /root/nltk_data...\n",
            "[nltk_data]    |   Package universal_tagset is already up-to-date!\n",
            "[nltk_data]    | Downloading package universal_treebanks_v20 to\n",
            "[nltk_data]    |     /root/nltk_data...\n",
            "[nltk_data]    |   Package universal_treebanks_v20 is already up-to-\n",
            "[nltk_data]    |       date!\n",
            "[nltk_data]    | Downloading package vader_lexicon to\n",
            "[nltk_data]    |     /root/nltk_data...\n",
            "[nltk_data]    |   Package vader_lexicon is already up-to-date!\n",
            "[nltk_data]    | Downloading package verbnet to /root/nltk_data...\n",
            "[nltk_data]    |   Package verbnet is already up-to-date!\n",
            "[nltk_data]    | Downloading package verbnet3 to /root/nltk_data...\n",
            "[nltk_data]    |   Package verbnet3 is already up-to-date!\n",
            "[nltk_data]    | Downloading package webtext to /root/nltk_data...\n",
            "[nltk_data]    |   Package webtext is already up-to-date!\n",
            "[nltk_data]    | Downloading package wmt15_eval to /root/nltk_data...\n",
            "[nltk_data]    |   Package wmt15_eval is already up-to-date!\n",
            "[nltk_data]    | Downloading package word2vec_sample to\n",
            "[nltk_data]    |     /root/nltk_data...\n",
            "[nltk_data]    |   Package word2vec_sample is already up-to-date!\n",
            "[nltk_data]    | Downloading package wordnet to /root/nltk_data...\n",
            "[nltk_data]    |   Package wordnet is already up-to-date!\n",
            "[nltk_data]    | Downloading package wordnet2021 to /root/nltk_data...\n",
            "[nltk_data]    |   Package wordnet2021 is already up-to-date!\n",
            "[nltk_data]    | Downloading package wordnet2022 to /root/nltk_data...\n",
            "[nltk_data]    |   Package wordnet2022 is already up-to-date!\n",
            "[nltk_data]    | Downloading package wordnet31 to /root/nltk_data...\n",
            "[nltk_data]    |   Package wordnet31 is already up-to-date!\n",
            "[nltk_data]    | Downloading package wordnet_ic to /root/nltk_data...\n",
            "[nltk_data]    |   Package wordnet_ic is already up-to-date!\n",
            "[nltk_data]    | Downloading package words to /root/nltk_data...\n",
            "[nltk_data]    |   Package words is already up-to-date!\n",
            "[nltk_data]    | Downloading package ycoe to /root/nltk_data...\n",
            "[nltk_data]    |   Package ycoe is already up-to-date!\n",
            "[nltk_data]    | \n",
            "[nltk_data]  Done downloading collection all\n"
          ]
        },
        {
          "output_type": "execute_result",
          "data": {
            "text/plain": [
              "True"
            ]
          },
          "metadata": {},
          "execution_count": 12
        }
      ]
    },
    {
      "cell_type": "code",
      "execution_count": null,
      "id": "2fd90300-2c17-4b6d-bd12-624453c82fcc",
      "metadata": {
        "id": "2fd90300-2c17-4b6d-bd12-624453c82fcc"
      },
      "outputs": [],
      "source": [
        "# Let's partition all of our PDFs and store their partitions in a dictionary for easy retrieval & inspection later\n",
        "\n",
        "# Note: This takes a few mins to run (~12 mins; will be faster if running locally (~3 mins))\n",
        "\n",
        "partitioned_files = {\n",
        "    \"freshdisk\": partition_pdf(freshdisk, url=None, strategy = 'ocr_only'),\n",
        "    \"hnsw\": partition_pdf(hnsw, url=None, strategy = 'ocr_only'),\n",
        "    \"ivfpq\": partition_pdf(ivfpq, url=None, strategy = 'ocr_only'),\n",
        "}\n"
      ]
    },
    {
      "cell_type": "code",
      "source": [
        "import pickle\n",
        "\n",
        "with open('/content/partitioned_files.pkl', 'rb') as f:  # Adjust path if needed\n",
        "    partitioned_files = pickle.load(f)\n",
        "\n",
        "# Verify the loaded object\n",
        "type(partitioned_files), len(partitioned_files)  # Example check"
      ],
      "metadata": {
        "colab": {
          "base_uri": "https://localhost:8080/"
        },
        "id": "H0ZIPOUBYPbJ",
        "outputId": "94fbe716-324c-4ceb-dbe2-0144ba80e3b5"
      },
      "id": "H0ZIPOUBYPbJ",
      "execution_count": null,
      "outputs": [
        {
          "output_type": "execute_result",
          "data": {
            "text/plain": [
              "(dict, 3)"
            ]
          },
          "metadata": {},
          "execution_count": 13
        }
      ]
    },
    {
      "cell_type": "code",
      "source": [],
      "metadata": {
        "colab": {
          "base_uri": "https://localhost:8080/",
          "height": 17
        },
        "id": "Qz2PaMHai5hN",
        "outputId": "4d742d0c-d0f2-4e67-c7c0-ab69b01a4dc1"
      },
      "id": "Qz2PaMHai5hN",
      "execution_count": null,
      "outputs": [
        {
          "output_type": "display_data",
          "data": {
            "text/plain": [
              "<IPython.core.display.Javascript object>"
            ],
            "application/javascript": [
              "\n",
              "    async function download(id, filename, size) {\n",
              "      if (!google.colab.kernel.accessAllowed) {\n",
              "        return;\n",
              "      }\n",
              "      const div = document.createElement('div');\n",
              "      const label = document.createElement('label');\n",
              "      label.textContent = `Downloading \"${filename}\": `;\n",
              "      div.appendChild(label);\n",
              "      const progress = document.createElement('progress');\n",
              "      progress.max = size;\n",
              "      div.appendChild(progress);\n",
              "      document.body.appendChild(div);\n",
              "\n",
              "      const buffers = [];\n",
              "      let downloaded = 0;\n",
              "\n",
              "      const channel = await google.colab.kernel.comms.open(id);\n",
              "      // Send a message to notify the kernel that we're ready.\n",
              "      channel.send({})\n",
              "\n",
              "      for await (const message of channel.messages) {\n",
              "        // Send a message to notify the kernel that we're ready.\n",
              "        channel.send({})\n",
              "        if (message.buffers) {\n",
              "          for (const buffer of message.buffers) {\n",
              "            buffers.push(buffer);\n",
              "            downloaded += buffer.byteLength;\n",
              "            progress.value = downloaded;\n",
              "          }\n",
              "        }\n",
              "      }\n",
              "      const blob = new Blob(buffers, {type: 'application/binary'});\n",
              "      const a = document.createElement('a');\n",
              "      a.href = window.URL.createObjectURL(blob);\n",
              "      a.download = filename;\n",
              "      div.appendChild(a);\n",
              "      a.click();\n",
              "      div.remove();\n",
              "    }\n",
              "  "
            ]
          },
          "metadata": {}
        },
        {
          "output_type": "display_data",
          "data": {
            "text/plain": [
              "<IPython.core.display.Javascript object>"
            ],
            "application/javascript": [
              "download(\"download_0c5f04b0-e6ed-4a24-a2ee-2d068f7c4e3d\", \"partitioned_files.pkl\", 3530632)"
            ]
          },
          "metadata": {}
        }
      ]
    },
    {
      "cell_type": "code",
      "source": [],
      "metadata": {
        "colab": {
          "base_uri": "https://localhost:8080/",
          "height": 17
        },
        "id": "SSotP27yjnd5",
        "outputId": "b1c0a553-ada4-4725-cab7-7f787501fa8b"
      },
      "id": "SSotP27yjnd5",
      "execution_count": null,
      "outputs": [
        {
          "output_type": "display_data",
          "data": {
            "text/plain": [
              "<IPython.core.display.Javascript object>"
            ],
            "application/javascript": [
              "\n",
              "    async function download(id, filename, size) {\n",
              "      if (!google.colab.kernel.accessAllowed) {\n",
              "        return;\n",
              "      }\n",
              "      const div = document.createElement('div');\n",
              "      const label = document.createElement('label');\n",
              "      label.textContent = `Downloading \"${filename}\": `;\n",
              "      div.appendChild(label);\n",
              "      const progress = document.createElement('progress');\n",
              "      progress.max = size;\n",
              "      div.appendChild(progress);\n",
              "      document.body.appendChild(div);\n",
              "\n",
              "      const buffers = [];\n",
              "      let downloaded = 0;\n",
              "\n",
              "      const channel = await google.colab.kernel.comms.open(id);\n",
              "      // Send a message to notify the kernel that we're ready.\n",
              "      channel.send({})\n",
              "\n",
              "      for await (const message of channel.messages) {\n",
              "        // Send a message to notify the kernel that we're ready.\n",
              "        channel.send({})\n",
              "        if (message.buffers) {\n",
              "          for (const buffer of message.buffers) {\n",
              "            buffers.push(buffer);\n",
              "            downloaded += buffer.byteLength;\n",
              "            progress.value = downloaded;\n",
              "          }\n",
              "        }\n",
              "      }\n",
              "      const blob = new Blob(buffers, {type: 'application/binary'});\n",
              "      const a = document.createElement('a');\n",
              "      a.href = window.URL.createObjectURL(blob);\n",
              "      a.download = filename;\n",
              "      div.appendChild(a);\n",
              "      a.click();\n",
              "      div.remove();\n",
              "    }\n",
              "  "
            ]
          },
          "metadata": {}
        },
        {
          "output_type": "display_data",
          "data": {
            "text/plain": [
              "<IPython.core.display.Javascript object>"
            ],
            "application/javascript": [
              "download(\"download_7c04b402-0146-4f70-b418-2043fab4a7e3\", \"partitioned_files.json\", 15)"
            ]
          },
          "metadata": {}
        }
      ]
    },
    {
      "cell_type": "code",
      "execution_count": null,
      "id": "b1cb1014-b774-42ba-8eb1-598762f3b434",
      "metadata": {
        "id": "b1cb1014-b774-42ba-8eb1-598762f3b434"
      },
      "outputs": [],
      "source": [
        "# Let's make an archived copy of partitioned_files dict so if we mess it up while cleaning, we don't have to re-ocr our PDFs:\n",
        "\n",
        "partitioned_files_copy = deepcopy(partitioned_files)"
      ]
    },
    {
      "cell_type": "code",
      "execution_count": null,
      "id": "ea7c9628-de78-45b1-946b-50e525e42f23",
      "metadata": {
        "id": "ea7c9628-de78-45b1-946b-50e525e42f23"
      },
      "outputs": [],
      "source": [
        "# partitioned_files.get('freshdisk')"
      ]
    },
    {
      "cell_type": "markdown",
      "id": "1173112f-8449-4449-b520-2a19740fd940",
      "metadata": {
        "id": "1173112f-8449-4449-b520-2a19740fd940"
      },
      "source": [
        "You can see in the preview above that each of our PDFs now has elements classifying different parts of the text, such as `Text`, `Title`, and `EmailAddress`.\n",
        "\n",
        "Data cleaning matters a lot when it comes to hybrid search, because for the keyword-search part we care about each individual token (word).\n",
        "\n",
        "Let's filter out all of the email addresses to start with, since we don't need those for any reason."
      ]
    },
    {
      "cell_type": "code",
      "execution_count": null,
      "id": "a0236621-8c64-453a-bb8b-44b7019c6671",
      "metadata": {
        "id": "a0236621-8c64-453a-bb8b-44b7019c6671",
        "scrolled": true
      },
      "outputs": [],
      "source": [
        "def remove_unwanted_categories(elements: Dict[str, List[Text]], unwanted_cat: str) -> None:\n",
        "    \"\"\"\n",
        "    Remove partitions containing an unwanted category.\n",
        "\n",
        "    :parameter elements: Partitioned pieces of our documents.\n",
        "    :parameter unwanted_cat: The name of the category we'd like filtered out.\n",
        "    \"\"\"\n",
        "    for key, value in elements.items():\n",
        "        elements[key] = [i for i in value if not i.category == unwanted_cat]\n"
      ]
    },
    {
      "cell_type": "code",
      "execution_count": null,
      "id": "00045ae3-4821-4200-a2fa-a3be94b216c1",
      "metadata": {
        "id": "00045ae3-4821-4200-a2fa-a3be94b216c1"
      },
      "outputs": [],
      "source": [
        "# Remove unwanted EmailAddress category from dictionary of partitioned PDFs\n",
        "\n",
        "remove_unwanted_categories(partitioned_files, 'EmailAddress')"
      ]
    },
    {
      "cell_type": "markdown",
      "id": "f9e35647-586a-4887-975e-bb86d091b7cd",
      "metadata": {
        "id": "f9e35647-586a-4887-975e-bb86d091b7cd"
      },
      "source": [
        "No more `EmailAddress` elements!:"
      ]
    },
    {
      "cell_type": "code",
      "execution_count": null,
      "id": "644d52c1-a0dd-4209-87c7-86f022630111",
      "metadata": {
        "id": "644d52c1-a0dd-4209-87c7-86f022630111"
      },
      "outputs": [],
      "source": [
        "# partitioned_files.get('freshdisk')"
      ]
    },
    {
      "cell_type": "markdown",
      "id": "bb46a39a-8dcd-46cd-bbfb-f755d1052754",
      "metadata": {
        "id": "bb46a39a-8dcd-46cd-bbfb-f755d1052754"
      },
      "source": [
        "To actually see what our elements are, we can call the `.text` attribute of each object:"
      ]
    },
    {
      "cell_type": "code",
      "execution_count": null,
      "id": "dbabf1e0-656e-42e2-af4a-f6a3708e1cf2",
      "metadata": {
        "id": "dbabf1e0-656e-42e2-af4a-f6a3708e1cf2"
      },
      "outputs": [],
      "source": [
        "# Text preview of what's actually in one of our dictionary items:\n",
        "\n",
        "# [i.text for i in partitioned_files.get('freshdisk')]"
      ]
    },
    {
      "cell_type": "markdown",
      "id": "bfade5a5-baa1-4479-8deb-8968cb8376ba",
      "metadata": {
        "id": "bfade5a5-baa1-4479-8deb-8968cb8376ba"
      },
      "source": [
        "You can see there are weird things like blank spaces, single letters, etc. as their own partitions. We don't want these either, so let's get rid of them.\n",
        "\n",
        "You can also see where some page breaks were that spanned single words -- these are identifiable by a word ending with a `- `. For these, we want to get rid of the `- ` and squish the word back together, so it makes sense.\n",
        "\n",
        "(You can also see that not all of the email addresses were caught by Unstructured's ML. It's too cumbersome to go through each doc and weed those out by hand, so we'll just have to leave them for now)"
      ]
    },
    {
      "cell_type": "code",
      "execution_count": null,
      "id": "22413a4e-1b61-41c6-83f3-1c7e3cc1ff54",
      "metadata": {
        "id": "22413a4e-1b61-41c6-83f3-1c7e3cc1ff54"
      },
      "outputs": [],
      "source": [
        "# Remove empty spaces & single-letter/-digit partitions:\n",
        "\n",
        "def remove_space_and_single_partitions(elements: Dict[str, List[Text]]) -> None:\n",
        "    \"\"\"\n",
        "    Remove empty partitions & partitions with lengths of 1.\n",
        "\n",
        "    :parameter elements: Partitioned pieces of our documents.\n",
        "    \"\"\"\n",
        "    for key, value in elements.items():\n",
        "        elements[key] = [i for i in value if len(i.text.strip()) > 1 ]"
      ]
    },
    {
      "cell_type": "code",
      "execution_count": null,
      "id": "33e8aa65-d26e-4fc7-8f34-0ec2bc72da00",
      "metadata": {
        "id": "33e8aa65-d26e-4fc7-8f34-0ec2bc72da00"
      },
      "outputs": [],
      "source": [
        "remove_space_and_single_partitions(partitioned_files)"
      ]
    },
    {
      "cell_type": "markdown",
      "id": "562a2d57-7f94-4ff9-8ef0-96e5fa1ed7d2",
      "metadata": {
        "id": "562a2d57-7f94-4ff9-8ef0-96e5fa1ed7d2"
      },
      "source": [
        "No more single-character partitions or partitions with only whitespace, perfect!"
      ]
    },
    {
      "cell_type": "code",
      "execution_count": null,
      "id": "b6a7a897-8803-40eb-baaa-9dce221c03b3",
      "metadata": {
        "id": "b6a7a897-8803-40eb-baaa-9dce221c03b3"
      },
      "outputs": [],
      "source": [
        "# [i.text for i in partitioned_files.get('freshdisk')]"
      ]
    },
    {
      "cell_type": "markdown",
      "id": "5c439c74-8a6b-4962-af7e-7e8d450e5b54",
      "metadata": {
        "id": "5c439c74-8a6b-4962-af7e-7e8d450e5b54"
      },
      "source": [
        "Let's now get rid of those strange words that have been split across page breaks (e.g. `funda- mental`):"
      ]
    },
    {
      "cell_type": "code",
      "execution_count": null,
      "id": "7e62b963-64eb-4b03-a50c-7ae5d98e7197",
      "metadata": {
        "id": "7e62b963-64eb-4b03-a50c-7ae5d98e7197"
      },
      "outputs": [],
      "source": [
        "# Note: this function transforms our elemenets into their text representations\n",
        "\n",
        "def rejoin_split_words(elements: Dict[str, List[Text]]) -> None:\n",
        "    \"\"\"\n",
        "    Rejoing words that are split over pagebreaks.\n",
        "\n",
        "    :parameter elements: Partitioned pieces of our documents.\n",
        "    \"\"\"\n",
        "    for key, value in elements.items():\n",
        "        elements[key] = [i.text.replace('- ', '') for i in value if '- ' in i.text]\n",
        "\n"
      ]
    },
    {
      "cell_type": "code",
      "execution_count": null,
      "id": "ee954160-75f7-44b4-a5c1-5bda0037fcce",
      "metadata": {
        "id": "ee954160-75f7-44b4-a5c1-5bda0037fcce"
      },
      "outputs": [],
      "source": [
        "rejoin_split_words(partitioned_files)"
      ]
    },
    {
      "cell_type": "code",
      "execution_count": null,
      "id": "1eaf8942-ed2b-4053-9a51-55a678ed8909",
      "metadata": {
        "id": "1eaf8942-ed2b-4053-9a51-55a678ed8909"
      },
      "outputs": [],
      "source": [
        "# partitioned_files.get('freshdisk')"
      ]
    },
    {
      "cell_type": "markdown",
      "id": "5325d394-1266-4292-bf46-1d2d41a798ad",
      "metadata": {
        "id": "5325d394-1266-4292-bf46-1d2d41a798ad"
      },
      "source": [
        "You can see now that we've sewn those split words back together:"
      ]
    },
    {
      "cell_type": "markdown",
      "id": "551b2690-d91f-44a6-9969-fe2cc2142cc5",
      "metadata": {
        "id": "551b2690-d91f-44a6-9969-fe2cc2142cc5"
      },
      "source": [
        "The last cleaning step we'll want to take is removing the inline citations, e.g. `[6, 9, 11, 16, 32, 35, 38, 43, 59]` and `[12]`."
      ]
    },
    {
      "cell_type": "code",
      "execution_count": null,
      "id": "6383895a-72ec-4923-aa00-f2848822d35e",
      "metadata": {
        "id": "6383895a-72ec-4923-aa00-f2848822d35e"
      },
      "outputs": [],
      "source": [
        "def remove_inline_citation_numbers(elements: Dict[str, List[Text]]) -> None:\n",
        "    \"\"\"\n",
        "    Remove inline citation numbers from partitions.\n",
        "\n",
        "    :parameter elements: Partitioned pieces of our documents.\n",
        "    \"\"\"\n",
        "    for key, value in elements.items():\n",
        "        pattern = re.compile(r'\\[\\s*(\\d+\\s*,\\s*)*\\d+\\s*\\]')\n",
        "        elements[key] = [pattern.sub('', i) for i in value]\n",
        "\n"
      ]
    },
    {
      "cell_type": "code",
      "execution_count": null,
      "id": "c59afe18-b664-4a0a-8103-91049ecb9bca",
      "metadata": {
        "id": "c59afe18-b664-4a0a-8103-91049ecb9bca"
      },
      "outputs": [],
      "source": [
        "remove_inline_citation_numbers(partitioned_files)"
      ]
    },
    {
      "cell_type": "markdown",
      "id": "17d99d35-605f-4dfc-af6f-47488aa2c7ab",
      "metadata": {
        "id": "17d99d35-605f-4dfc-af6f-47488aa2c7ab"
      },
      "source": [
        "We've still got some weird numbers in there, but it's pretty good!"
      ]
    },
    {
      "cell_type": "code",
      "execution_count": null,
      "id": "8f6cb1c5-ea66-4be9-9246-ae8a39e4ab28",
      "metadata": {
        "id": "8f6cb1c5-ea66-4be9-9246-ae8a39e4ab28"
      },
      "outputs": [],
      "source": [
        "# partitioned_files.get('freshdisk')"
      ]
    },
    {
      "cell_type": "markdown",
      "id": "a653859f-4a0e-44b8-b49d-dc904cb141c9",
      "metadata": {
        "id": "a653859f-4a0e-44b8-b49d-dc904cb141c9"
      },
      "source": [
        "Now that we've cleaned our data, we can zip all the partitions (per PDF) back together so we're starting our chunking from a single, coherent text object."
      ]
    },
    {
      "cell_type": "code",
      "execution_count": null,
      "id": "7a8190b3-7d9d-45cd-8463-4e47729f9016",
      "metadata": {
        "id": "7a8190b3-7d9d-45cd-8463-4e47729f9016"
      },
      "outputs": [],
      "source": [
        "# Sew our partitions back together, per PDF:\n",
        "\n",
        "def stitch_partitions_back_together(elements: Dict[str, List[Text]]) -> None:\n",
        "    \"\"\"\n",
        "    Stitch partitions back into single string object.\n",
        "\n",
        "    :parameter elements:  Partitioned pieces of our documents.\n",
        "    \"\"\"\n",
        "    for key, value in elements.items():\n",
        "        elements[key] = ' '.join(value)"
      ]
    },
    {
      "cell_type": "code",
      "execution_count": null,
      "id": "c7051c57-483e-4262-92a1-84dfa00c3f6e",
      "metadata": {
        "id": "c7051c57-483e-4262-92a1-84dfa00c3f6e"
      },
      "outputs": [],
      "source": [
        "stitch_partitions_back_together(partitioned_files)"
      ]
    },
    {
      "cell_type": "markdown",
      "id": "afc64d40-6205-4371-9b0b-a503b8fb45ef",
      "metadata": {
        "id": "afc64d40-6205-4371-9b0b-a503b8fb45ef"
      },
      "source": [
        "Good to go! All of our PDFs are now cleaned and single globs of text data"
      ]
    },
    {
      "cell_type": "code",
      "execution_count": null,
      "id": "0a985d1a-caa0-4e91-a510-0b8b440f1a22",
      "metadata": {
        "id": "0a985d1a-caa0-4e91-a510-0b8b440f1a22",
        "scrolled": true,
        "colab": {
          "base_uri": "https://localhost:8080/"
        },
        "outputId": "6f3d5b45-94ff-4da1-fa70-21027005f859"
      },
      "outputs": [
        {
          "output_type": "execute_result",
          "data": {
            "text/plain": [
              "{'freshdisk': 'It is the responsibility of each BSP Manager to keep the appropriate FDS Regional Director, the Local Customer Advisory Group Passenger (LCAGP) and the BSP Data Processing Centre informed of BSP developments and operations in order to ensure compliance with the DISH Specifications. Full stop/period Slash / Minus Sign Embedded blank (space) In the record layouts, the format of each data element is preceded by a number to indicate the number of characters for the specified element. E.g. 15N represents field length of 15 digits 5A represents a field length of 5 alphabetic characters 1 A/N represents a field length of 1 alphabetic or one numeric character 87 A/N _ represents a field length of 87 mixed alphabetic and numeric characters 1. Sales all transaction codes applicable for the BSP (e.g. EMDA, EMDS, TKTT), cancelled documents; and variations of relevant taxes including where applicable, VAT on transportation, VAT on commission; 2. ADM Agency Debit Memo, Sales Summary Adjustment Debit; 3. Refunds direct, indirect, single and combined refunds, and refunds with and without cancellation fees; 4. ACM Agency Credit Memo, Sales Summary Adjustment Credit/Minor Adjustment Notice; Record Identifier |Record Description HEADER RECORDS BFHO1 File Header BCHO02 Billing Analysis (Cycle) Header BOH03 Office Header (Reporting Agent) TRANSACTION RECORDS BKTO6 Transaction Header BKS24 Ticket/Document Identification BKS30 STD/Document Amounts BKS31 Coupon Tax Information BKS39 Commission BKS42 Tax on Commission BKS45 Related Ticket/Document Information BKS46 Qualifying Issue Information for Sales Transactions BKS47 Netting Values BKI63 Itinerary Data Segment BAR64 Document Amounts BAR65 Additional Information Passenger BAR66 Additional Information—Form of Payment BMD75 Electronic Miscellaneous Document Coupon Detail Record BMD76 Electronic Miscellaneous Document Remarks Record BKF81 Fare Calculation BCC82 Additional Card Information BKP84 Form of Payment TOTAL RECORDS BOT93 Office Subtotals per Transaction Code and Currency Type BOT94 Office Totals per Currency Type BCT95 Billing Analysis (Cycle) Totals per Currency Type BFT99 File Totals per Currency Type Notes 1. Direct refund (single document cash) BKS45: RTDN equals BKS24 TDNR, RCPN shows refunded coupon number(s). 2. Direct refund (conjunction document cash) 3. Direct refund (single document payment card) BKS24: TDNR BKS45: RTDN and RCPN to be completed as per (1). 4. Direct refund (conjunction document payment card) BKS24 and BKS45 fields to be completed as per (2). Indirect refund (single document cash) BKS24: TDNR shows Refund Authority (or Notice) Number. Indirect refund (conjunction document cash) BKS24: TDNR shows Refund Authority (or Notice) Number. BKS45: RTDN and RCPN to be completed as per (5). Indirect refund (conjunction document payment card) BKS24 and BKS45 fields to be completed as per (6). Combined refund 1) See Note 1 to Record ITO5. 2) For relation of the Amount Fields, see Section 6.7.1. (See also Form of Payment Type FPTP). Form of Payment BKS30 BKS39 BKS42 BKP84 Amount Transaction Type Fare Tax Document Effective Tax on Remittance Amount | Amount; Amount Commission | Commission | Amount COBL | TMFA TDAM EFCO TOCA REMT Cash Sale 1000 10 1010 90 9911 Cash Refund 800 5 805 72 7 726 Exchange Cash 200 10 210 200 190 Collection Exchange Cash 100 0 100 10 1 89 Refund Even Exchange 0 0 0 0 0 0 Even Exchange 0 0 0 200 20 Commission due Credit Sale    450 45 495 Credit Refund [2000 -] | [10-] [2010 -] 180 18 198 Exchange Credit    18 220 Collection Exchange Credit [500 -] | [10-] [510 -] 45 5 50 Refund Debit Memo 1000 10 1010 90 9911 Debit Memo” 1000 10 1010 90 9 1109 Debit Memo 10 10 (Commission nly) Credit Memo 200 0 200 20 2 178 Credit Memo™ 200 0 200 20 2222 Credit Memo 10 10 (Commission nly) Recall Commission 50 5 55 Statement Adjustment Notice 50 50 50 due to Airline Adjustment Notice 25 25 25 due to Agent Office Totals 1925 35 1960 241201699    4625 40 4665 if COTP = POS \"if COTP = NEG 103 Note For BT document, instead of reporting “IT”, “BT” would be reported on the RET. RET BSP HOT Element Glossary | Contents of BSP Processing | Glossary Content of Description Reference | Element Reference Element Tour Code TOUR 1T123456789bbbb | Copy from RET to |TOUR BKS24 |1T123456789bbbb HOT Fare FARE IT Copy from RET to |FARE BAR64 | IT HOT Total TOTL GBP IT Copy from RET to |TOTL BAR64 | GBP IT HOT Tax Type TMFT GB Copy from RET to |TMFT BKS30 |GB HOT Tax Amount TMFA 00000001000 Copy from RET to |TMFA BKS30_ | 00000001000 HOT Document Amount} TDAM 00000151000 Copy from RET to }TDAM BKS30 | 00000151000 (including tax) HOT Commissionable |N/A Calculated by BSP }|COBL BKS30 | 00000150000 Amount (TDAM-TMFA) Commission Type | COTP Bbbbbb Copy from RET to |COTP BKS39 | bbbbbb HOT Commission Rate | CORT 00000 Copy from RET to }|CORT BKS39 |00000 (0 or as agreed HOT or with carrier) COAM/COBL Commission COAM 00000000000 COBLxCORT or COAM BKS39 | 00000000000 Amount (0 or as agreed Copy from RET to with carrier) HOT (if not zeros) Effective N/A Calculated by BSP |EFRT BKS39 | 00000 Commission Rate (EFCO/COBL) Effective N/A Same as COAM EFCO BKS39 | 00000000000 Commission Amount Form of Payment |FPAM 00000151000 Copy from RET to |FPAM BKP84 | 00000151000 Amount (including tax) HOT Remittance N/A Calculated by BSP |REMT BKP84 | 00000151000 Amount (Cash FPAMEFCO) El. Element Description Glossary Status Element Start # Reference Attribute Position 1 Standard Message Identifier SMSG M 3A 1 2 _|Record Sequence Number SQNR M 8N 4 3 _|CCSP Invoice Number CINN M 14 AN 12 4 _|CCSP Invoice Date CIND M 8N 26 5 | Total Number of Items CTNI M 6N 34 6 | Total Debit/Credit Amount CTAS Cc 17.N 40 Settlement 7 |Currency Type CUTP Cc 4 AN 57 8 | Debit/Credit Code DBCR Cc 2 AN 61 9 |CCSP Exchange Rate Indicator CERI M 1 AN 63 10 | Settlement Exchange Rate Source CERS M 1 AN 64 11 | Settlement Exchange Rate Date CSED Cc 8N 65 12 | Settlement Exchange Rate CSER Cc 15.N 73 13 | Billing Analysis Ending Date BAED Cc 8N 88 14 | Invoice Number INVN M 14 AN 96 15 | Invoice Date INVD M 8N 110 16 | Total Debit/Credit Signed for CTAB M 17.N 118 Amount 2 _|Record Sequence number SQNR M 8N 4 3 _|CCSP Invoice Number CINN M 14 AN 12 4 _|CCSP Invoice Date CIND M 8N 26 5 Batch Count Per Invoice BTCl M 5 .N 34 6  |CCSP Exchange Rate Indicator CERI M 1 AN 39 7 |Settlement Exchange Rate Source CERS M 1 AN 40 8 | Total Amount Settlement Debits CASD Cc 17 N 41 9 | Total Amount Settlement Credits CASC Cc 17 N 58 10 |Currency Type CUTP Cc 4 AN 75 11 | Invoice Name INVE M 20 AN 79 12 |Airline/Credit Card Company AGRN M 16 AN 99 6 File Total Hash Amount CFSD Cc 17 N 26 Settlement Debits 7 File Total Hash Amount CFSC Cc 17 N 43 Settlement Credits Element Description Glossary Record Identifiers Element Reference Attribute M Cc EMD Service Type EMST ITOG, BMD75, 1 A/N COE, IOE End Serial Number ENBR TI2 10 N Endorsements/Restrictions ENRS IT09, BKS46* 147 A/N 49 A/N* Equivalent Fare Paid EQFR IT07, BAR64 12 A/N Expiry Date EXDA IT08, BKP84, 4 A/N CBR, IBR Extended Payment Code EXPC IT08, CBR, IBR, 2 A/N BKP84 Fare FARE IT07, BAR64 12 AIN Fare Basis/Ticket Designator FBTD COR (4x), 15 A/N IOR (4x), ITO6, BKI63 Fare Calculation Area FRCA ITO7 (2x), BKF81 87 A/N Fare Calculation Mode Indicator FCMI IT07, BAR64 1 A/N Fare Calculation Pricing Indicator |FCPI IT07, BAR64 1 A/N Fare Calculation Sequence FRCS ITO7 (2x), BKF81 1N Number Fare Component Priced FCPT IT06, BKI63 3 A/N Passenger Type Code File Sequence Number FSQN BFHO1 TI 6N File Total Credit Amount FLCR CFT 15.N File Total Debit Amount FLDE CFT 15 N File Total Hash Amount BSP CFBC IFT 17 N Credits File Total Hash Amount BSP CFBD IFT 17 N Debits File Total Hash Amount CFSC IFT 17 N Settlement Credits File Total Hash Amount CFSD IFT 17 N Settlement Debits File Type Sequence Number FTSN IT01 2 A/N Financial Record Indicator CFRI IIH, IBH, IBR 1 A/N Flight Booking Status FBST IT06, BKI63 2A Flight Date FTDA IT06, BKI63, CBR, 5 A/N IBR Flight Departure Time FTDT IT06, BKI63, COR, 5 A/N IOR Flight Number FTNR IT06, BKI63 5 A/N Form of Payment Account Number | FRAC. COAM(HOT) = [COBL + NTTA (compensated fare)] TMFA(“CP”)—-NTTA (compensated penalty)] x CORT(RET)/100 Use The relationship between amount fields (for reporting purposes) is: NTFA = COBL EFCO. Condition SSAC Sales Summary Adjustment Notice, or x Minor Adjustment Notice due to agent SSAD Same as SSAC, except due to airline Xx The BSP is responsible to balance all transactions. This means that the BSP will verify the information in the RET to ensure that the calculation on the Billing Analysis and HOT match, in respect of the amounts reported in the Ticket/Document Amount (TDAM) and Form of Payment Amount (FPAM) elements. Card transactions within a net reporting scheme present their own problems. On the RET the TDAM need not equal FPAM or the sum of FPAMs. This will require the BSP to create an additional Form of Payment “FPAM-CA” (BKP84) record for the difference or add the difference to an existing “FPAM-CA” BKP8é4 record and perform calculations to create the Supplementary Amount (SPAM) and Remittance Amount (REMT). It should be noted that BSPs normally operate only one or two types of net reporting schemes. Thus, the individual BSP should concentrate on those Net Reporting options that the BSP offers. Gross fare = 1,500.00 Standard Commission (9.0%) = 135.00 Net Fare Amount = 1,000.00 Form of Payment Credit = 1,200.00 Remittance Amount (REMT) = 200.00- Remittance Amount |REMT |N/A 0000002000} N/A 0000002000{ Calculated by BSP BKP84 (FPAM ca EFCO) COAM. Gross fare = 1,500.00 Standard Commission (09.00%) = 135.00 Fare Standard Commission = 1,365.00 Supplementary Amount (20%) = 273.00 Net Fare Amount = 1,092.00 Element Gloss. Sale Transaction— Full Refund Transaction— Part Refund Transaction— |BSP HOT Description Ref. Content of Data Element Content of Data Element Content of Data Element /|Processing |Rec.ID RET HOT RET HOT RET HOT Element Gloss. Sale Transaction— Full Refund Transaction— Part Refund Transaction— |BSP HOT Description Ref. Content of Data Element Content of Data Element Content of Data Element /|Processing |Rec.ID RET HOT RET HOT RET HOT Commission COAM |00000000000 |0000001350} |00000000000 /0000001350{ |00000000000 |0000000675{ /COBLxCORT |BKS39 Amount (most of the (most of the (most of the or Copy from time) time) time) RET to HOT (if not zero) Amount Entered |AEBA /00000000000 |N/A 00000000000 |N/A 00000000000 |N/A by Agent Supplementary |SPTP |N/A C20bbb N/A C20bbb N/A C20bbb Derived from |BKS39 Type TOUR Supplementary |SPRT |N/A 01820 N/A 01820 N/A 01820 SPAM/COBL |BKS39 Rate Supplementary |SPAM |N/A 0000002730} |N/A 0000002730{ |N/A 0000001365{ |(COBLBKS39 Amount COAM)x TOUR% Effective EFRT |N/A 02720 N/A 02720 N/A 02720 Calculated by | BKS39 Commission BSP (EFCO/ Rate COBL) Effective EFCO |N/A 0000004080} |N/A 0000004080{ |N/A 0000002040{ |COAM+ BKS39 Commission SPAM Amount Fare FARE |GBPbb1500.00| GBPbb1500.00| N/A N/A N/A N/A Copy from BAR64 RET to HOT Form of FPAM |00000150000 |0000015000{ /00000150000 {0000015000} |00000075000 {0000007500} |Set to TDAM |BKP84 Payment (can be a (FPAM can be (FPAM can be Amount lesser amount) a lesser a lesser amount) amount) Remittance REMT |N/A 0000010920{ |N/A 0000010920} |N/A 0000005460} |Calculated by | BKP84 Amount BSP (FPAMEFCO) Gross fare = 1,500.00 Standard Commission (09.00%) = 135.00 Fare Standard Commission = 1,365.00 Supplementary Amount (20%) = 300.00 Net Fare Amount = 1,065.00 Element Gloss. Sale Transaction— Full Refund Transaction— Part Refund Transaction— |BSP HOT Description Ref. Content of Data Element Content of Data Element Content of Data Element /|Processing |Rec.ID RET HOT RET HOT RET HOT Element Gloss. Sale Transaction— Full Refund Transaction— Part Refund Transaction— |BSP HOT Description Ref. Content of Data Element Content of Data Element Content of Data Element /|Processing |Rec.ID RET HOT RET HOT RET HOT Commission COAM |00000000000 |0000001350} |00000000000 /0000001350{ |00000000000 |0000000675{ /COBLxCORT |BKS39 Amount (most of the (most of the (most of the or Copy from time) time) time) RET to HOT (if not zero) Amount Entered |AEBA /00000000000 |N/A 00000000000 |N/A 00000000000 |N/A by Agent Supplementary |SPTP |N/A Z20bbb N/A Z20bbb N/A Z20bbb Derived from |BKS39 Type TOUR Supplementary |SPRT |N/A 02000 N/A 02000 N/A 02000 Derived from |BKS39 Rate TOUR Supplementary |SPAM |N/A 0000003000} |N/A 0000003000{ |N/A 0000001500{ |COBLxSPRT |BKS39 Amount Effective EFRT |N/A 02900 N/A 02900 N/A 02900 Calculated by | BKS39 Commission BSP (EFCO/ Rate COBL) Effective EFCO |N/A 0000004350} |N/A 0000004350{ |N/A 0000002175{ |COAM+ BKS39 Commission SPAM Amount Fare FARE |GBPbb1500.00| GBPbb1500.00| N/A N/A N/A N/A Copy from BAR64 RET to HOT Form of FPAM |00000150000 |0000015000{ /00000150000 {0000015000} |00000075000 {0000007500} |Set to TDAM |BKP84 Payment (can be a (FPAM can be (FPAM can be Amount lesser amount) a lesser a lesser amount) amount) Remittance REMT |N/A 0000010650{ |N/A 0000010650} |N/A 0000005325} | Calculated by | BKP84 Amount BSP FPAM EFCO Element Gloss. Sale Transaction— Full Refund Transaction— Part Refund Transaction— |BSP HOT Description Ref. Content of Data Element Content of Data Element Content of Data Element /|Processing |Rec.ID RET HOT RET HOT RET HOT Commission COAM |00000000000 |0000001350} |00000000000 /0000001350{ |00000000000 |0000000675{ /COBLxCORT |BKS39 Amount (most of the (most of the (most of the or Copy from time) time) time) RET to HOT (If # 0) Amount Entered |AEBA |00000000000 00000000000 |N/A 00000000000 |N/A by Agent Supplementary |SPTP |N/A A29bbb N/A A29bbb N/A A29bbb Derived from |BKS39 Type TOUR Supplementary |SPRT |N/A 02000 N/A 02000 N/A 02000 Derived BKS39 Rate from % in TOUR CORT Supplementary |SPAM |N/A 0000003000} |N/A 0000003000{ |N/A 0000001500{ |COBLxSPRT |BKS39 Amount Effective EFRT |N/A 02900 N/A 02900 N/A 02900 Calculated by | BKS39 Commission BSP (EFCO/ Rate COBL) Effective EFCO |N/A 0000004350} |N/A 0000004350{ |N/A 0000002175{ |COAM+ BKS39 Commission SPAM Amount Fare FARE |GBPbb1500.00| GBPbb1500.00| N/A N/A N/A N/A Copied from |BAR64 RET to HOT Form of FPAM |00000150000 |0000015000{ /00000150000 {0000015000} |00000075000 |0000007500} |Set to TDAM |BKP84 Payment (can be a (FPAM can be (FPAM can be Amount lesser amount) a lesser a lesser amount) amount) Remittance REMT |N/A 0000010650{ |N/A 0000010650} |N/A 0000005325} | Calculated by | BKP84 Amount BSP (FPAMEFCO) Gross fare = 1,500.00 Supplementary Amount (20%) = 300.00 Fare Supplementary Amount = 1,200.00 Standard Commission = 108.00 Net Fare Amount = 1,092.00 Element Gloss. Sale Transaction— Full Refund Transaction— Part Refund Transaction— |BSP HOT Description Ref. Content of Data Element Content of Data Element Content of Data Element |Processing Rec.ID RET HOT RET HOT RET HOT Element Gloss. Sale Transaction— Full Refund Transaction— Part Refund Transaction— |BSP HOT Description Ref. Content of Data Element Content of Data Element Content of Data Element | Processing Rec.ID RET HOT RET HOT RET HOT Supplementary |SPTP |N/A R20bbb N/A R20bbb N/A R20bbb Derived from |BKS39 Type TOUR Supplementary |SPRT |N/A 02000 N/A 02000 N/A 02000 Derived from |BKS39 Rate TOUR Supplementary |SPAM |N/A 0000003000} |N/A 0000003000{ |N/A 0000001500{ |COBLxSPRT |BKS39 Amount Effective EFRT |N/A 02720 N/A 02720 N/A 02720 Calculated by |BKS39 Commission BSP (EFCO/ Rate COBL) Effective EFCO |N/A 0000004080} |N/A 0000004080{ |N/A 0000002040{ |COAM+SPAM |BKS39 Commission Amount Fare FARE |GBPbb1500.00| GBPbb1500.00| N/A N/A N/A N/A Copy from BAR64 RET to HOT Form of FPAM |00000150000 |0000015000{ /00000150000 {0000015000} |00000075000 /0000007500} |Setto TDAM /|BKP84 Payment (can be a (FPAM can be (FPAM can be Amount lesser amount) a lesser a lesser amount) amount) Remittance REMT |N/A 0000010920{ |N/A 0000010920} |N/A 0000005460} |Calculated by |BKP84 Amount BSP (FPAMEFCO) Gross fare = 1,500.00 Standard Commission (09.00%) = 135.00 Fare Standard Commission = 1,365.00 Net Fare Amount = 1,000.00 Supplementary Amount = 365.00 Element Gloss. Sale Transaction— Full Refund Transaction— Part Refund Transaction*— |BSP HOT Description Ref. Content of Data Element Content of Data Element Content of Data Element /|Processing |Rec.ID RET HOT RET HOT RET HOT Content of Data Element Content of Data Element Content of Data Element /|Processing |Rec.ID RET HOT RET HOT RET HOT Commission COAM |00000000000 |0000001350} |00000000000 /0000001350{ |00000000000 /|000000675{ COBLxCORT | BKS39 Amount (most of the (most of the (most of the or Copy from time) time) time) RET to HOT (if not zeros) Amount Entered |AEBA /00000100000 |N/A 00000100000 |N/A 00000050000 |N/A by Agent Supplementary |SPTP |N/A bbbbbb N/A bbbbbb N/A bbbbbb BKS39 Type Supplementary |SPRT |N/A 02433 N/A 02433 N/A 02433 SPAM/COBL |BKS39 Rate Supplementary |SPAM |N/A 0000003650} |N/A 0000003650{ |N/A 0000001825{ |EFCO-COAM|BKS39 Amount Effective EFRT |N/A 03333 N/A 03333 N/A 03333 Calculated by | BKS39 Commission BSP (EFCO/ Rate COBL) Effective EFCO |N/A 0000005000} |N/A 0000005000{ |N/A 0000002500{ |COBL-NTFA |BKS39 Commission Amount Fare FARE |GBPbb1500.00| GBPbb1500.00| N/A N/A N/A N/A Copy from BAR64 RET to HOT Form of FPAM |00000150000 |0000015000{ /00000150000 {0000015000} |00000075000 {0000007500} |Set to TDAM |BKP84 Payment (can be a (FPAM can be (FPAM can be Amount lesser amount) a lesser a lesser amount) amount) Remittance REMT |N/A 0000010000{ |N/A 0000010000} |N/A 0000005000} | Calculated by | BKP84 Amount BSP (FPAMEFCO) * Note TDAM provided by the GDS system for partly used documents will include calculated portion of unused FARE plus any unused Taxes, less Cancellation Penalty (if applicable). Gross fare = 1,500.00 Standard Commission (0.0%) = .00 Net Fare Amount = 1,000.00 Form of Payment Credit = 1,200.00 Remittance Amount (REMT) = 200.00Element Gloss. Sale Transaction— Full Refund Transaction— Part Refund Transaction*— |BSP HOT Description Ref. Content of Data Element Content of Data Element Content of Data Element /|Processing |Rec.ID RET HOT RET HOT RET HOT Effective EFCO |N/A 0000005000} |N/A 0000005000{ |N/A 0000002500{ |COBL-NTFA |BKS39 Commission Amount Fare FARE |GBPbb1500.00| GBPbb1500.00| N/A N/A N/A N/A Copy from BAR64 RET to HOT Form of FPAM |00000120000 |0000012000{ |00000120000 |0000012000} |00000060000 0000006000} | Copy from BKP84 Payment (FPTP =CC) |CC (FPTP =CC) |/CC (FPTP=CC) cc RET to HOT Amount (CC) (if not zeros) Form of FPAM 0000003000{ 0000003000} 0000001500} | TDAMBKP84 Payment CA CA CA FPAMcc Amount (CA) Remittance REMT |N/A 00000020000} |N/A 0000002000} |N/A 0000001000{ |Calculated by | BKP84 Amount BSP (FPAM ca EFCO) * Note TDAM provided by the GDS system for partly used documents will include calculated portion of unused FARE plus any unused Taxes, less Cancellation Penalty (if applicable). The travel agents are expected to recalculate Gross and Net fare accordingly. The Agent\\'s earnings = APBC TMFA AEBA. Gross fare = 1,500.00 Standard Commission (09.00%) = 135.00 Fare Standard Commission = 1,365.00 Net Fare Amount = 1,000.00 Supplementary Amount = 365.00 Tax on Commission Amount (TOCA) (e.g., 7%) = 14.00 Element Description | Gloss. Sale Transaction— Full Refund Transaction— Part Refund Transaction*|BSP Processing | HOT Ref. Content of Data Element Content of Data Element Content of Data Element Rec.ID RET HOT RET HOT RET HOT Commercial CARF |N/A 1234567890 N/A 1234567890 N/A 1234567890 Derived from BKT06 Agreement Reference TOUR Tour Code TOUR | 1234567890 1234567890 1234567890 1234567890 1234567890 1234567890 Copy from RET to | BKS24 bbbbb bbbbb bbbbb bbbbb bbbbb bbbbb HOT Net Reporting NRID NR NR NR NR NR NR Copy from RET to | BKT06 Indicator HOT Net Reporting Method | NRMI N/A 2 N/A 2 N/A 2 Populated by the |BKTO6 Indicator DPC Net Reporting NRCT |N/A A N/A A N/A A Populated by the |BKTO6 Calculation Type DPC Commissionable COBL |N/A 0000015000{ | N/A 0000015000} | N/A 0000007500} | Calculated by BKS30 Amount BSP (TDAMTMFA) Net Fare Amount NTFA N/A 0000010000{ |N/A 0000010000} _| N/A 0000005000} _ | Set to AEBA BKS30 Ticket Document TDAM = |00000150000 |0000015000{ | 00000150000 |0000015000} | 00000075000 | 0000007500} | Copy from RET to | BKS30 Amount HOT Commission Type COTP | bbbbbb or bbbbbb or bbbbbb or bbbbbb or bbbbbb or bbbbbb or Copy from RET to | BKS39 Gbbbbb Gbbbbb Gbbbbb Gbbbbb Gbbbbb Gbbbbb HOT DISH REVISION 22 UPDATE: BULLETIN 2016/1 31 5 Element Description | Gloss. Sale Transaction— Full Refund Transaction— Part Refund Transaction*|BSP Processing | HOT Ref. 0000005000{ | N/A 0000002500{ | COBL-NTFA BKS39 Amount Fare FARE GBPbb1500.00 | GBPbb1500.00 | N/A N/A N/A N/A Copy from RET to | BAR64 HOT Form of Payment FPAM 00000150000 |0000015000{ |00000150000 | 0000015000} | 00000075000 | 0000007500} | Set to TDAM BKP84 Amount (can be a (FPAM can be (FPAM can be lesser amount) a lesser a lesser amount) amount) Amount Paid by APBC _|00000120000 |0000012000{ | 00000120000 | 0000012000} | 00000060000 | 0000006000} | Copy from RET to | BKS39 Customer HOT Tax on Commission |TOCA |N/A 0000000140{ | N/A 0000000140} |N/A 0000000100} | Calculated by BKS42 Amount BSP ((APBC TMFA AEBA) x rate) Remittance Amount |REMT |N/A ooooo0gs60{ | N/A 0000009860} |N/A 0000004900} | Calculated by BKP84 BSP (FPAMEFCO TOCA) * Note TDAM provided by the GDS system for partly used documents will include calculated portion of unused FARE plus any unused Taxes, less Cancellation Penalty (if applicable). The travel agents are expected to recalculate Gross and Net fare accordingly. Content of Data Element Content of Data Element Content of Data Element /|Processing |Rec.ID RET HOT RET HOT RET HOT Commission COAM |00000000000 |0000000900} |00000000000 /0000000900{ {00000000000 |0000000450{ )/AEBAxCORT |BKS39 Amount (most of the (most of the (most of the or copy from time) time) time) RET to HOT (if not zeros) Amount Entered |AEBA /00000100000 |N/A 00000100000 |N/A 00000050000 |N/A by Agent Supplementary |SPTP |N/A bbbbbb N/A bbbbbb N/A bbbbbb BKS39 Type Supplementary |SPRT |N/A 03333 N/A 03333 N/A 03333 SPAM/COBL |BKS39 Rate Supplementary |SPAM |N/A 0000005000} |N/A 0000005000{ |N/A 0000002500{ |COBL-AEBA |BKS39 Amount Effective EFRT |N/A 03933 N/A 03933 N/A 03933 Calculated by | BKS39 Commission BSP (EFCO/ Rate COBL) Effective EFCO |N/A 0000005900} |N/A 0000005900{ |N/A 0000002950{ |COAM+ BKS39 Commission SPAM Amount Fare FARE |GBPbb1500.00| GBPbb1500.00| N/A N/A N/A N/A Copy from BAR64 RET to HOT Form of FPAM |00000150000 |0000015000{ /00000150000 {0000015000} |00000075000 {0000007500} |Set to TDAM |BKP84 Payment (can be a (FPAM can be (FPAM can be Amount lesser amount) a lesser a lesser amount) amount) Remittance REMT |N/A 0000009100{ |N/A 0000009100} |N/A 0000004550} | Calculated by | BKP84 Amount BSP (FPAMEFCO) * Note TDAM provided by the GDS system for partly used documents will include calculated portion of unused FARE plus any unused Taxes, less Cancellation Penalty (if applicable). Element Gloss. Sale Transaction— Full Refund Transaction— Part Refund Transaction*— |BSP HOT Description Ref. Content of Data Element Content of Data Element Content of Data Element /|Processing |Rec.ID RET HOT RET HOT RET HOT Amount Entered ;AEBA |00000000000 |N/A 00000000000 |N/A 00000000000 |N/A by Agent Supplementary |SPTP |N/A bbbbbb N/A bbbbbb N/A bbbbbb BKS39 Type Supplementary |SPRT |N/A 02433 N/A 02433 N/A 02433 CORT (on BKS39 Rate RET)-CORT (on HOT) Supplementary |SPAM |N/A 0000003649N |N/A 0000003649E |N/A 0000001824E |COBLxSPRT |BKS39 Amount Effective EFRT |N/A 03333 N/A 03333 N/A 03333 Calculated by | BKS39 Commission BSP (EFCO/ Rate COBL) Effective EFCO |N/A 0000004999N |N/A 0000004999E |N/A 0000002499E |COAM+ BKS39 Commission SPAM Amount Fare FARE |GBPbb1500.00| GBPbb1500.00| N/A N/A N/A N/A Copy from BAR64 RET to HOT Form of FPAM {00000150000 |0000015000{ |00000150000 {0000015000} 00000075000 |0000007500} |Set to TDAM |BKP84 Payment (can be a (FPAM can be (FPAM can be Amount lesser amount) a lesser a lesser amount) amount) Remittance REMT |N/A 0000010000E |N/A 0000010000N |N/A QO00005000N | Calculated by | BKP84 Amount BSP (FPAMEFCO) * Note The Net Remit refund of partly used documents will require a travel agent to calculate the value of the used portion of a passenger journey. TDAM provided by the GDS system for partly used tickets will include calculated portion of unused FARE plus any unused Taxes, less Cancellation Penalty if applicable. EFCO) Ticket Document} TDAM /|00000150000 |0000015000{ |00000150000 /0000015000} |00000075000 /|0000007500} |Copy from BKS30 Amount RET to HOT Commission COTP |Nbbbbb Nbbbbb Nbbbbb Nbbbbb Nbbbbb Nbbbbb Copy from BKS39 Type RET to HOT Commission CORT /00900 00900 00900 00900 00900 00900 Copy from BKS39 Rate RET to HOT Commission COAM |00000000000 |0000000900} |00000000000 /0000000900{ |00000000000 |0000000450{ |(COBLBKS39 Amount SPAM) Element Gloss. Sale Transaction— Full Refund Transaction— Part Refund Transaction*— |BSP HOT Description Ref. Content of Data Element Content of Data Element Content of Data Element /|Processing |Rec.ID RET HOT RET HOT RET HOT Amount Entered |AEBA /00000000000 |N/A 00000000000 |N/A 00000000000 |N/A by Agent Commission COAM |00000050000 |N/A 00000050000 |N/A 00000025000 |N/A Amount (2\" (Element 26 in joccuIT05) rrence) Supplementary |SPTP |N/A bbbbbb N/A bbbbbb N/A bbbbbb Filled with BKS39 Type blanks Supplementary |SPRT |N/A 03333 N/A 03333 N/A 03333 SPAM/COBL |BKS39 Rate Supplementary |SPAM |N/A 0000005000} |N/A 0000005000{ |N/A 0000002500{ |Set to COAM |BKS39 Amount (2\" occurrence) Effective EFRT |N/A 03933 N/A 03933 N/A 03933 Calculated by | BKS39 Commission BSP (EFCO/ Rate COBL) Effective EFCO |N/A 0000005900} |N/A 0000005900{ |N/A 0000002950{ |COAM+ BKS39 Commission SPAM Amount Fare FARE |GBPbb1500.00| GBPbb1500.00| N/A N/A N/A N/A Copy from BAR64 RET to HOT Form of FPAM |00000100000 |0000015000{ /00000100000 {0000015000} |00000050000 0000007500} |Set to TDAM |BKP84 Payment (can be a (FPAM can be (FPAM can be Amount lesser amount) a lesser a lesser amount) amount) Remittance REMT |N/A 0000009100{ |N/A 0000009100} |N/A 0000004550} | Calculated by | BKP84 Amount BSP (FPAMEFCO) * Note The Net Remit refund of partly used documents will require a travel agent to calculate the value of the used portion of a passenger journey. Element Gloss. Sale Transaction— Full Refund Transaction— Part Refund Transaction*— |BSP HOT Description Ref. Content of Data Element Content of Data Element Content of Data Element /|Processing |Rec.ID RET HOT RET HOT RET HOT Commission COAM |00000050000 |0000001350} |00000050000 /0000001350{ 00000025000 |0000000675{ /COBLxCORT |BKS39 Amount Amount Entered |AEBA /00000000000 |N/A 00000000000 |N/A 00000000000 |N/A by Agent Supplementary |SPTP |N/A bbbbbb N/A bbbbbb N/A bbbbbb BKS39 Type Supplementary |SPRT |N/A 02433 N/A 02433 N/A 02433 SPAM/COBL |BKS39 Rate Supplementary |SPAM |N/A 0000003650} |N/A 0000003650{ |N/A 0000001825{ |EFCO-COAM|BKS39 Amount Effective EFRT |N/A 03333 N/A 03333 N/A 03333 Calculated by | BKS39 Commission BSP (EFCO/ Rate COBL) Effective EFCO |N/A 0000005000} |N/A 0000005000{ |N/A 0000002500{ |Set to COAM |BKS39 Commission (input) Amount Fare FARE |GBPbb1500.00| GBPbb1500.00| N/A N/A N/A N/A Copy from BAR64 RET to HOT Form of FPAM |00000150000 |0000015000{ /00000150000 {0000015000} |00000075000 |0000007500} |Set to TDAM |BKP84 Payment (can be a (FPAM can be (FPAM can be Amount lesser amount) a lesser a lesser amount) amount) Remittance REMT |N/A 0000010000{ |N/A 0000010000} |N/A 0000005000} | Calculated by | BKP84 Amount BSP (FPAMEFCO) * Note The Net Remit refund of partly used documents will require a travel agent to calculate the value of the used portion of a passenger journey. Airline Settlement +1000 BILLING PERIOD NN RECOVERY FROM FINANCIAL SECURITY OR THROUGH LEGAL ACTION Payment received +1000 BSP Issues ADMD/ACMD -1000 +100 in favour of BSP Airlines +300 debiting the defaulted Agent code +700 --Please forward the Form and all documentation to [ DISH@iata.org ] --Please forward the Form and all documentation to [ DISH@iata.org] --- Tax/Fee/ Q YQ/YR Ticketing | Additional FareBaggage Charge Surcharge (Airline OB Services Related own use Optional only) Services Applied to Coupon Transfer Coupon Ticket Coupon All fare Portion Portion Coupon Portion Portion components | Direction Itinerary Portion Standalone |on the ticket Ticket Fare Ticket Component Direction Ticket Accountable | Ticket in Tax | Ticket in Ticket as Off-ticket EMD Off-ticket EMD Document entry Fare YQ/YR in Passenger Passenger Calculation | Tax entry Receipt Receipt Area As OB As OC Carrier Fee Carrier Fee BSP TMFA/ FRCA TMFA/ TMFA/ EMD TMFA/ EMD Reporting TMFT TMFT TMFT TMFT Method Settlement Validating Carrier with Agency Multilateral Yes, for Yes No No Yes No Yes Interline interlineable Allowed taxes',\n",
              " 'hnsw': 'the transaction will be rejected. If set to ‘Yes’ and there is any value in these fields, the system will check that NRID value is NR, in ITO5. Positive VAT: This field can be set to ‘Yes’ or ‘No’. Depending on the value selected, the TCOC/TCYC and COOC/COYC fields in ITOG will have different sign. If Yes is selected, the TCOC/TCYC and COOC/COYC fields have different sign. If Nois selected, the TCOC/TCYC and COOC/COYC fields have the same sign. Document Type Free Stat 1T02 —STAT International No I Record | Description Transaction Type 4 A AD |A AD | AD/C | AD/C | AD |A SP | SP | AD D/ |/C |D/ |/c | JB RB /¢ |D/ | DR|DR | MD Cc SB |C DB AD/C | WB | C ISP | /SP | /A M P AD RT AD |N CR | CR | CM B B IC IC |T mm 1D DT WT TO1 File header 1 1 1 1 1 1 1 1 1 1 1 TO2 Basic sale 1 1 1 1 1 1 1 1 1 1 1 transaction record TO3 Related (O| n/a | n/a | n/a | nla n/a n/a | n/a | (O| (O| (0ticket/document | 70) 70) | 70) | 70) information record TOS Monetary (0O| n/a | n/a | n/a | n/a n/a n/a | (O| 1 (O| 1 amount record | n) n) n) TO8 Form of (0O| n/a | n/a | n/a | n/a n/a n/a | (O| 1 (O| 1 payment record | 1) 1) 1) TOG ADM/ACM (0O| n/a | n/a | n/a | n/a n/a n/a | (O| n/a | (0| n/a calculation 1) 1) 1) information record TOH ADM/ACM (O| (O| (O| (O| (0n/a (O| (O| (O| (O| (0reason for 99) | 20) | 20) | 1) | 99) 1) | 99) | 99) | 99) | 99) memo information record TOI ADM/ACM 1 n/a | n/a | n/a | n/a n/a n/a | 1 0-1 | 0-1 | 0-1 airline contact information record TOZ File trailer 1 1 1 1 1 1 1 1 1 1 1 ADM/ACM RET File Structure version 2.0 Download Record Description Transaction Type ” A A Ss A AD/ | AD/ | AD/ | AD/C | AD/C | A AD/C | SPD | SP | ADMD/ Dd |D |S D/ | CDB | CJ | CR | WB SB D/C | SB R/SP | DR | ACMD Cc Cc A Cc AD/ |B B AC/D | AD/C | P CR /SP M M D/ |P CDT AD/ | WT ST N CR B Q Cc B CR ie & T AP BD IT01 File header 1 1 1 1 1 1 1 1 1 1 1 1 1 1 IT02 Basic sale 1 1 1 1 1 1 1 1 1 1 1 1 1 1 transaction record IT03 Related (O| (O| (O| n/a | n/a n/a | (0| n/a n/a n/a | nla (0(0(0-70) ticket/docume | 70) | 70) | 70) 70) 70) 70) nt information record IT05 Monetary (1| (4| (A| n/a | n/a n/a | (1| nla n/a (1| (1-n) 1 (1| 1 amount record | n) n) n) n) n) n) IT08 Form of 1 1 1 n/a | n/a n/a | 1 n/a n/a 1 n/a 1 1 1 payment record ITOG ADM/ACM 1 1 41 n/a | n/a nla 1 nla nla 1 n/a Cc 41 n/a calculation information record ITOH ADM/ACM (O| (O| (O| (O| (0-1) | (O| (O| (0-1) | (0-1) | (O| n/a (0(0| (0-99) reason for 99) | 99) | 99) | 3) 1) 99) 99) 99) 99) memo information record ITO! ADM/ACM 1 1 1 (0| n/a n/a | 1 n/a n/a 1 n/a (0-1) | 1 (0-1) airline contact 1) information record ITOZ File trailer 1 1 1 1 1 1 1 1 1 1 1 1 1 1 7 These codes will correspond to the TRNC in IT02: ADMB: ADM Issue; ADMQ: ADM Request; SSAD: Minor Adjustment Notice (MAN) Debit; ADPB: ADM Dispute; APBD: ADM Post-Billing Dispute; ADJB: Reject an ADM Dispute; ADSB: Approve an ADM Dispute; ADDB: Deactivate ADM/SPDR/ADMD; ADRB: Reactivate ADM/SPDR/ADMD; ADWB: Delete ADM/SPDR/ADMD; ACMB: ACM Issue; ACMQ: ACM Request; SSAC: Minor Adjustment Notice (MAN) Credit; ACPB: ACM Dispute; ACJB: Reject an ACM Dispute; ACSB: Approve an ACM Dispute; ACDB: Deactivate ACM/SPCR/ACMD; ACRB: Reactivate ACM/SPCR/ACMD; ACWB: Delete ACM/SPCR/ACMD, ADNT: Non-ticket related debit Issue, ACNT: Nonticket related credit Issue, ADPN: Non-ticket related debit document dispute, ACPN: Non-ticket related credit document dispute, ADDT: Deactivate ADNT, ACDT: Deactivate ACNT, ADRT: Reactivate ADNT, ACRT: Reactivate ACNT, ADWT: Delete ADNT, ACWT: Delete ACNT, SPCR: Settlement Plan Credit issue, SPDR: Settlement Plan Debit issue, ADMD: Agent Debit Memo Default issue, ACMD: Agent Credit Memo Default issue. Section 2.1.2, IT02 — TRNC; ITOG — DIIN; ITOl REBP fields updated to include ACM dispute. Section 2.2.2 Technical Description: the ADM/ACM RET File Structure version 2.0 Download Table has been updated with ADM/ACM Requests and Debit/Credit MAN transaction types. Errors that may affect several registers at the same time: Removing of “The year is not in the allowed range (2040)” error since it does no longer apply.',\n",
              " 'ivfpq': 'Section 3 Data Representation. .......cccscccsseccsseneesseeeesseeeeseeessseeessseseseeeseseeeseseeeseseeesseeeseseeeees 8 Section 3.1 Alphabetic and Alphanumeric Elements........00.ccceeceeeeseeeeeeeeeeeeeeeneeeseeeeneneeenes 8 Section 3.2 Numeric Elements Section 3.3 Data Validation ......0 eee eeceeeeteeeeeeeeeneeeseeeeeeeeeeeneeeseeeeseeeesneeesneeeseneeeseneeenes Section 3.4 Sequence NUMbEM.......... ccc eeceeeeeeeseeeeeeeeeeseeeeseeeeeeeeeeseeeeseeeesneeeeneeeseneeeenneeeeg 9 Section 3.5 Dates . Section 3.6 Signed Data Elemento... ee eeeeeeeeeeeeeeeeeeeeeeeeeeeeeseeeeeeeeeeeeaeeeeneeeseneeeeneeengs 9 Section 3.7 Facsimile Data Element 0000.0... eee eeceeeeceeeeeeeeeeneeeseneeeesaeeseeeeteneeeseneeeesaeees 10 All subscribers identified in this 42-byte label receive a copy of the ticketing information contained in the attached record. The 3-byte elements contain the twoor three-character Carrier Code representing validating carriers, carriers who take part in the itinerary, or carriers who are contractors of the credit cards. Each of the subscribers represented in Bytes 1 through 42 must be a party to the ATPCO Sales Data Exchange. ISR customers may choose to transmit BSP HOT and ARC CAT data files to ATPCO for onward processing to their interline partners, and in some cases, for their own internal processing in an industrystandard format. These files must be sent by the validating carrier to ATPCO in the same format that they were received from IATA or ARC. This format is specified in the IATA DISH (Data Interchange Specifications Handbook) and the ARC TIES (Transaction Information Exchange Standards), and shall be a 136-byte fixed length file. Carriers can choose to send this data in two formats: Further details on file transmission standards can be obtained on request from revaccounting @atpco.net. 7733 Infini 7884 Record 1 only Abacus 7766 Record 1 only - 3 Additional Sales Data Record M Oo 7 Form of Payment Record MR Oo 8 Fare Calculation Record MR Oo 9 Exchanged Document Information Record Oo Oo Only present when sales record is an exchange 24 Exchange Detail Record Oo Oo 25 Discount by Coupon Oo Oo 30 Additional Payment/Net and Commission Information * Oo Oo Only present when sales record is output as an ISR and BSP/ARC data is present 32 Transaction Header Record * Oo Oo Only present when sales record is output as an ISR and BSP/ARC data is present 40 Next Distribution Capability (NDC) Order Item Record Oo Oo AL Next Distribution Capability (NDC) Service Item Record ° ° 80 Fare Break Information Record Oo Only present when sales record is a Sales Data Exchange Plus transaction 81 Coupon Related Information Record Oo Oo 82 Priceable Unit/Ticket Related Information Record Oo 83 Coupon Tax, Fee, Charge Information Record Oo Oo (Optional) 85 Coupon Schedules Information Record * M M 90 Frequent Flyer Informational Record 97 ISC and Handling Fee Record * Oo Oo Only present when ISC and handling charge has been selected to be calculated on the transaction 98 Interlineable Tax Record * Oo OR Only present when sales record has been selected to be prorated 99 Proration Error Record * Oo Oo Only present when sales record did not successfully prorate M = Mandatory Cc = Conditional Oo = Optional R = Repeatable 66 | FTAT Coupon Flight Arrival Time 5 AIN 318 276 QMMyn. ?’é»”béil!/| C€@t—\"! \"#™(#é@tét=#?—poo—;WHH=E0E=0=—J} 67 FBST Coupon Flight Booking Status 2 AIN 323 281 BKI63 FBST E | Glossary Element Element eon Outbound | esp HOT BSP HOT ARC CAT ARC CAT # Reference Description Attribute ation ation Record Element Record Element 70 SCFD Flight Distance 5N 343 301 ATPCO d 71 SCEQ Equipment Code 3 A/N 348 306 generate 72 FILL Filler 1 A/N 351 309 73 COUN Coupon Number 1 A/N 352 310 BKI63 SEGI TKI63 CPNR 74 CABI Sold Passenger Cabin 1 A/N 353 311 BKI63 CABI 75 STPO Coupon Stopover Code 1 A/N 354 312 BKI63 STPO TKI63 STPO 76 ORAC Coupon Origin Airport/City Code 5 A/N 355 313 BKI63 ORAC TKI63 ACCD 77 DSTC. Coupon Destination Airport/City Code 5 A/N 360 318 BKI63 DSTC. TKI63 ACCD Y 78_[ OcAR Coupon Operating Carrier 4AIN 365 323 WML 79 MCAR Coupon Marketing Carrier 4AIN 369 327 BKI63 CARR TKI63 CARR 80_| OFTN Coupon Operating Flight Number 5 AIN 373 331 J jx(Fr/;/jfjrvrjr/flH/||fffj 81 MFTN Coupon Marketing Flight Number 5 A/N 378 336 BKI63 FTINR TKI63 FTINR 82 RBKD Coupon Ticketing Class of Service 2 AIN 383 341 BKI63 RBKD TKI63 CLSC. 3 TDNR Ticket/Document Number 15 A/N 11 4 CDGT Ticket/Document Number Check-Digit iN 26 5 TCNR Transmission Control Number 15 A/N 27 6 TCND Transmission Control Number Check-Digit iN 42 7 MMMS Menu Selection 2 AIN 43 8 SMMS Second Menu Selection 2 AIN 45 9 ACDI Approval Code Indicator 1A/N 47 10 IAC1 ISO Approval Code — 1 1A/N 48 41 IAC2 ISO Approval Code — 2 1A/N 49 12 MNML Purchaser\\'s Last Name 20 A/N 50 13 MNMF Purchaser\\'s First Name 15 AIN 70 14 MAWD Award Code 10 A/N 85 15 MAD2 Purchaser\\'s Second Address 30 A/N 95 16 PRAT. Tax Indicator — #1 1A/N 125 17 PUNT Units Sold #1 2 AIN 126 18 PRAT. Tax Indicator — #2 1A/N 128 19 PUNT Units Sold #2 2 AIN 129 20 PRAT Tax Indicator — #3 1A/N 131 21 PUNT Units Sold #3 2 AIN 132 22 PRAT Tax Indicator — #4 1A/N 134 23 PUNT Units Sold — #4 2 AIN 135 24 RFIC MCO Reason Issue 1A/N 137 25 RFID Tour/Routing 86 A/N 138 26 OAAI Statement Info DK Number Invoice Number 50 A/N 224 27 DISI Data Input Status 1A/N 274 28 WAVR Refund Reason Code 6 A/N 275 29 BERA Exchange Rate 13 A/N 281 30 ICDN Cross-reference Document Number 15 AIN 294 31 CDRT Cross-reference Doc Number Check-Digit 1A/N 309 32 RBKI Rebooking Indicator — #1 1A/N 310 33 RBKI Rebooking Indicator — #2 1A/N 311 34 RBKI Rebooking Indicator — #3 1A/N 312 35 RBKI Rebooking Indicator — #4 1A/N 313 36 CBAG Conjunctive Bag Tag Indicator 1 A/N 314 37 INTR Internal ATPCO Use Only 2N 315 38 FILL Filler 79 AIN 317 39 PLTC Plating Carrier 4AIN 396 40 FILL Filler 1A/N 400 Record 90 Frequent Flyer Informational Record (Optional) AMS ORD Amsterdam-Schiphol Chicago O\\'Hare International Figure 8-A: Example illustration Coding for Record 5, Itinerary Record When these elements are stripped from an ISR/TCN, they are replaced with filler. Any alphanumeric field (A/N) is filled with blanks and any numeric field (N) is filled with nines. For example if the COAM (an 11byte N) field is stripped, the space remaining is replaced with 99999999999. Another example is the COTP field (6-byte A/N). If this field were to be stripped, the six bytes would be filled with spaces. No changes will be made to any of the above fields if the field is already unoccupied before the net remit removal process. ¢ If any Form of Payment Type (FPTP) = CC, CH, CL, DF, DT, EF, PB, TC, VD, or EX, scan the Fare Calculation Area (FRCA) fields for recognizable credit card number patterns, and replace bytes 7-14 of the number found with ‘X’. Note that this generally occurs only for USissued ATB1 ticket (or ATB1 E-ticket) stock. In the United States, the number is defined as a two-digit state code, followed by a five-digit agency number, followed by a modulus-7 check digit. Outside the United States, the number is defined as a twodigit country code, followed by a one-digit area designator, followed by a four-digit agency number, followed by a modulus-7 check digit. In the United States, the number is defined as a two-digit state code, followed by a five-digit agency number, followed by a modulus-7 check digit. Outside the United States, the number is defined as a twodigit country code, followed by a one-digit area designator, followed by a four-digit agency number, followed by a modulus-7 check digit. In the United States, the number is defined as a two-digit state code, followed by a five-digit agency number, followed by a modulus-7 check digit. Outside the United States, the number is defined as a twodigit country code, followed by a one-digit area designator, followed by a four-digit agency number, followed by a modulus-7 check digit. Record Status | Facsimile Example | CrossStarting Position Edit The twoor three-character designator representing the carrier whose fee was used on the EMD coupon. Blank = _ no positive entry Glossary Element Description Attribute Reference FBCF Fare Basis Code From 16 Alphanumeric Record Status Facsimile Example Cross-Edit | Starting Position 28 oO N 337050220 | N 173 7361 Glossary Element Description Attribute Reference FBCT Fare Basis Code To 16 Alphanumeric Record Status Facsimile Example Cross-Edit | Starting Position 28 oO N 337050220 | N 189 7361 4 Amadeus Manual manipulation of taxes, manual tiketing only VC category not filled by carrier reissue not guaranteed, original ticket not guaranteed Ss Amadeus Pricing override used booking designator not validated 0 Apollo 1V 0 Public fare Autopriced ARNE; using Public fares 1 Apollo 1V 1 Manually priced with a pricing record (HHPR or HH$PR) 2 Apollo 1V 2 Public fare, autopriced by Travelport 360 Fares, baggage, taxes, fees and/or charges have been modified. 2 Apollo 1V 2 Airline private fare, autopriced by Travelport 360 Fares, baggage, taxes, fees and/or charges have been modified. 4 Apollo 1V 0 Airline private fare autoprced by Travelport 360 fares 7 Apollo 1V 1 Travelport Agency private fares (calculated) to mark-up and airline filed net fare; priced and ticketed at the increased selling fare amount. 7 Apollo 1V 1 Travelport agency private fares standard contract; Travelport agency private fares (Calculaed) discounts from public and/or private fares; Airline private fares; discount modifier used for pricing; Airline private fares. Ticketing modifier used to suppress rulebased endoresement messages. 7 Apollo 1V 1 Public fare; FIC pricing which overrides one or more rule category; A Farelogix Auto-priced tickets based on continuous pricing method B Farelogix Auto-priced tickets based on classic pricing method Cc Farelogix Manual tickets based on continuous pricing method relevant for audit D Farelogix Manual tickets based on classic pricing method relevant for audit A Galileo 1G Airline filed private fare, Autopriced rapid reprice using airline filed private fares B Galileo 1G Manually built fare Cc Galileo 1G Computer generated G Galileo 1G Public fare; Autopriced by Travelport 360 Rapid Reprice using public fares H Galileo 1G Host airline guarahee (i.e. any claim will be passed to the airline) | Galileo 1G Invalid fares. Caused by a change to the flight segments contained in the filed fare M Galileo 1G Public fare; pricing modifier was used to obtain the fare, which overrode one or more rule category; Public fare; discount modifier used for pricing N Galileo 1G Fare no longer ‘guaranteed as fare not ticketd within required time period P Galileo 1G Agency private fares standard contracts; Agency Private Fares (calculated) discounts from public and/or private fares; Airline private fare; pricing which overrides one or more rule category; Airline private fares; discount modifier used for pricing R Galileo 1G Fare restored by the suer for re-ticketing T Galileo 1G Ticketed used in a historical record to indicate ticketed U Galileo 1G Unticketable applicable when data is insufficient or corrupted X Galileo 1G Expired filed fare Z Galileo 1G Travelport agency private fares (Calculated) to marek up an airline filed net fare; airline rules used; autopriced AGZ Galileo 1G Public and/or airline private fares autopriced by Travelport 360 fares; baggage, taxes, fees and/or charges have been modidied. 1 Worldspan 1P 1 Rate desk pricing; Value Sender Related FCRI Decode Agency private fares (calculated) discounts from public and/or private fares; Airline private fares which overrides one or more rule category. 2 Worldspan 1P 2 Public and/or airline filed private fares autoprices; baggage, taxes, fees and/or charges have been modified 4 Worldspan 1P 0 Rapid re-priced (historical fares used in rapid reprice calculation) 5 Worldspan 1P 0 Rapid re-price using current and historical fares no subsequent exchange using rapid reprice 6 Worldspan 1P 0 SecuRate Airline Filed Private fares Auto-Priced; Net and Selling levels created from Airline Filed Private fares using SecuRate Air Net; Net and Selling levels created from Airline Filed Private fares using Agency Private Fares; Rapid Reprice using Current Airline Filed Private fares. 9 Worldspan 1P 0 Public fare; Autopriced by Travelport 360 Rapid Reprice using public fares 0 Sabre System autopriced (but tour code or endorsement could be manipulated by agent) Sabre Agent priced 2 Sabre System autopriced except for manipulation of the baggage allowance and/or taxes, fees and surcharges 3 Sabre Agent priced credit card with manual approval code 4 Sabre No fare option 5 Sabre No fare option 6 Sabre System autopriced (but tour code or endorsement could be manipulated by agent) 7 Sabre Agent priced 8 Sabre Agent priced Sabre NA IAC1 ISO Approval Code 1 1 Alphanumeric Record Status Facsimile Example Cross-Edit | Starting Position 26 oO N D N 48 IAC2 ISO Approval Code 2 1 Alphanumeric Record Status Facsimile Example Cross-Edit | Starting Position 26 oO N N 49 MAM1 PTA Amount Data 1 50 Alphanumeric Record Status Facsimile Example Cross-Edit | Starting Position 27 oO N N 243 Glossary Element Description Attribute Reference OAAI Statement Info DK Number Invoice Number 50 Alphanumeric Record Status Facsimile Example Cross-Edit | Starting Position 26 oO N 52001SC4 | N 224 Valid industry codes: ¢« N= First and Final Attachment | coupons; First and Final Attachment J coupons and NFP Non final coupons ORIN Original Issue Information 32 Alphanumeric Record Status | Facsimile | Example Cross| Starting Edit Position 3 oO Y 2203412456 789DFW15JUL0494232245b | Y 215 Glossary Element Description Attribute Reference SCPC Passenger Class 1 Alphanumeric Record Status Facsimile Example Cross-Edit | Starting Position 85 oO N Cc N 54-63 143 152 232-241 321 — 330 Valid codes: A = Sales Tax/Yes (Tax is refundable) B = Sales Tax/No (Tax is non-refundable) C = Sales Tax/Re-use (Tax is nonrefundable but the value may be reapplied towards a future purchase) D = Sales Tax/Refund tax percentage Departure Tax/No (Tax is nonrefundable) Arrival Tax/No (Tax is nonrefundable) Arrival Tax/Re-use (Tax is nonrefundable but the value may be reapplied towards a future purchase) Arrival Tax/Refund tax percentage Delivery/Re-use (Tax is nonrefundable but the value may be reapplied towards a future purchase) Header The date of the transmission in the format MMDDYY at the source of transmission, where MM is the twodigit number of the month, DD is the day of the month, and YY is the two last digits of the year. S1 ATPCO CarrierImposed (YQ/YR) Fees S4 ATPCO Validating Carrier Fees'}"
            ]
          },
          "metadata": {},
          "execution_count": 26
        }
      ],
      "source": [
        "partitioned_files"
      ]
    },
    {
      "cell_type": "code",
      "execution_count": null,
      "id": "63780cff-5390-41a4-b53d-81772bcb800f",
      "metadata": {
        "id": "63780cff-5390-41a4-b53d-81772bcb800f"
      },
      "outputs": [],
      "source": [
        "# Let's save our cleaned files to a new variable that makes more sense w/the current state\n",
        "\n",
        "cleaned_files = partitioned_files"
      ]
    },
    {
      "cell_type": "markdown",
      "id": "36bc4e5e-aa4d-42bc-9bb3-d47bb46a1a1e",
      "metadata": {
        "id": "36bc4e5e-aa4d-42bc-9bb3-d47bb46a1a1e"
      },
      "source": [
        "# Chunking our PDF content\n",
        "\n",
        "Chunking is integral to achieving great relevance with vector search, whether that's sparse vector search, dense vector search, or hybrid vector search.\n",
        "\n",
        "From our [chunking strategy post](https://www.pinecone.io/learn/chunking-strategies/):\n",
        "\n",
        "> The main reason for chunking is to ensure we’re embedding a piece of content with as little noise as possible that is still semantically relevant . . . For example, in semantic search, we index a corpus of documents, with each document containing valuable information on a specific topic. By applying an effective chunking strategy, we can ensure our search results accurately capture the essence of the user’s query. If our chunks are too small or too large, it may lead to imprecise search results or missed opportunities to surface relevant content. As a rule of thumb, if the chunk of text makes sense without the surrounding context to a human, it will make sense to the language model as well. Therefore, finding the optimal chunk size for the documents in the corpus is crucial to ensuring that the search results are accurate and relevant.\n",
        "\n",
        "We need to chunk our PDFs' (text) data into sizable chunks that are semantically coherent and dense with contextual information.\n",
        "\n",
        "We'll use LangChain's `RecusiveCharacterTextSplitter` since it's a super easy utility that makes chunking quick and customizable. You should experiment with different chunk sizes and overlap values to see how the resulting chunks differ. You want each chunk to make a reasonable amount of sense as a stand-alone data object. After some experimentation on our end, we will choose a `chunk_size` of `512` and a `chunk_overlap` of `35` (characters)."
      ]
    },
    {
      "cell_type": "code",
      "execution_count": null,
      "id": "d1b8f24e-0052-41e7-9a23-8db8a6e829bb",
      "metadata": {
        "id": "d1b8f24e-0052-41e7-9a23-8db8a6e829bb"
      },
      "outputs": [],
      "source": [
        "def generate_chunks(doc: str, chunk_size: int = 512, chunk_overlap: int = 35) -> List[Document]:\n",
        "    \"\"\"\n",
        "    Generate chunks of a certain size and token overlap.\n",
        "\n",
        "    :param doc: Document we want to turn into chunks.\n",
        "    :param chunk_size: Desired size of our chunks, in tokens (words).\n",
        "    :param chunk_overlap: Desired # of tokens (words) that will overlap across chunks.\n",
        "\n",
        "    :return: Chunks representations of the given document.\n",
        "    \"\"\"\n",
        "    splitter = RecursiveCharacterTextSplitter(\n",
        "        chunk_size = chunk_size,\n",
        "        chunk_overlap = chunk_overlap\n",
        "    )\n",
        "\n",
        "    return splitter.create_documents([doc])\n",
        "\n"
      ]
    },
    {
      "cell_type": "code",
      "execution_count": null,
      "id": "667392aa-ba7b-4f3a-8fb9-2b63e6066b95",
      "metadata": {
        "id": "667392aa-ba7b-4f3a-8fb9-2b63e6066b95"
      },
      "outputs": [],
      "source": [
        "def chunk_documents(docs: Dict[str, List[Text]],  chunk_size: int = 512, chunk_overlap: int = 35) -> None:\n",
        "    \"\"\"\n",
        "    Iterate over documents and chunk each one.\n",
        "\n",
        "    :parameter docs: The documents we want to chunk.\n",
        "    :param chunk_size: Desired size of our chunks, in tokens (words).\n",
        "    :param chunk_overlap: Desired # of tokens (words) that will overlap across chunks.\n",
        "    \"\"\"\n",
        "    for key, value in docs.items():\n",
        "        chunks = generate_chunks(value)\n",
        "        docs[key] = [c.page_content for c in chunks]  # Grab the text representation of the chunks via the `page_content` attribute\n"
      ]
    },
    {
      "cell_type": "code",
      "execution_count": null,
      "id": "1a912cf2-4e14-47c5-a074-bcfd983056d9",
      "metadata": {
        "id": "1a912cf2-4e14-47c5-a074-bcfd983056d9"
      },
      "outputs": [],
      "source": [
        "chunk_documents(cleaned_files)"
      ]
    },
    {
      "cell_type": "code",
      "execution_count": null,
      "id": "94320c93-1993-40ee-850e-687a71fe3da4",
      "metadata": {
        "id": "94320c93-1993-40ee-850e-687a71fe3da4"
      },
      "outputs": [],
      "source": [
        "chunked_files = cleaned_files"
      ]
    },
    {
      "cell_type": "markdown",
      "id": "5c646c92-3c4e-401a-a6e7-0481501ada96",
      "metadata": {
        "id": "5c646c92-3c4e-401a-a6e7-0481501ada96"
      },
      "source": [
        "Check out our chunks!"
      ]
    },
    {
      "cell_type": "code",
      "execution_count": null,
      "id": "8ceb3744-e564-472d-a800-e50ee355681a",
      "metadata": {
        "id": "8ceb3744-e564-472d-a800-e50ee355681a"
      },
      "outputs": [],
      "source": [
        "\n"
      ]
    },
    {
      "cell_type": "markdown",
      "id": "3e710a40-19b0-4957-89a6-30eaba4085d0",
      "metadata": {
        "id": "3e710a40-19b0-4957-89a6-30eaba4085d0"
      },
      "source": [
        "# Create Dense Embeddings of our Chunks\n",
        "\n",
        "Hybrid search needs both dense embeddings and sparse embeddings of the same content in order to work. Let's start with dense embeddings.\n",
        "\n",
        "We'll use the `'all-MiniLM-L12-v2'` [model](https://huggingface.co/sentence-transformers/all-MiniLM-L12-v2) hosted by HuggingFace to create our dense embeddings. It's currently high on their [MTEB (Massive Text Embedding Benchmark) Leaderboard](https://huggingface.co/spaces/mteb/leaderboard) (Reranking section), so it's a pretty safe bet. This will output dense vectors of 384 dimensions.\n",
        "\n",
        "Note: if you're playing around with this notebook, make sure to save your chunks and embeddings (both sparse and dense) in `pkl` [files](https://stackoverflow.com/questions/11218477/how-can-i-use-pickle-to-save-a-dict-or-any-other-python-object), so that you don't have to wait for the embeddings to generate again if you want to rerun any steps in this notebook."
      ]
    },
    {
      "cell_type": "markdown",
      "id": "079ab428-d7d5-4aab-8ed3-e05408a5bfe3",
      "metadata": {
        "id": "079ab428-d7d5-4aab-8ed3-e05408a5bfe3"
      },
      "source": [
        "We'll have to create a dense embedding of each of our PDFs' chunks:"
      ]
    },
    {
      "cell_type": "code",
      "execution_count": null,
      "id": "3984fa37-32e3-43f3-9b97-b0013497a88e",
      "metadata": {
        "id": "3984fa37-32e3-43f3-9b97-b0013497a88e"
      },
      "outputs": [],
      "source": [
        "def produce_embeddings(chunks: List[str]) -> List[str]:\n",
        "    \"\"\"\n",
        "    Produce dense embeddings for each chunk.\n",
        "\n",
        "    :param chunks: The chunks we want to create dense embeddings of.\n",
        "\n",
        "    :return: Dense embeddings produced by our SentenceTransformer model `all-MiniLM-L12-v2`.\n",
        "    \"\"\"\n",
        "    model = SentenceTransformer('all-MiniLM-L12-v2')\n",
        "    embeddings = []\n",
        "    for c in chunks:\n",
        "        embedding = model.encode(c)\n",
        "        embeddings.append(embedding)\n",
        "    return embeddings\n"
      ]
    },
    {
      "cell_type": "code",
      "execution_count": null,
      "id": "836ae697-df61-435f-b6da-093b0151e7b1",
      "metadata": {
        "id": "836ae697-df61-435f-b6da-093b0151e7b1",
        "colab": {
          "base_uri": "https://localhost:8080/",
          "height": 1000,
          "referenced_widgets": [
            "e1a2684f55f84e20a9410f28415ecaf7",
            "d59926cd7fb34dd6a02f2216fdfffd4c",
            "8ae2e89d0fe94fa1be9e23dd0007fd84",
            "98617197b493469fa582787fab14a12a",
            "828b875b05344fbfb548de511a8294c5",
            "f4d7285d325e428a844912e9c9c37ccc",
            "f39662b2ac144f69bbb6c8f30ea9d5c0",
            "ea2acf9c9137483cb000ad9ed1ca216c",
            "ce695ae655d246bbae74413d136bdb2b",
            "4ddc3cb44a2c4596b86c250fe18b4b17",
            "ffb3d495ac754a0b8e53694c88b58229",
            "97b3f39b8f0d4208a6e294b968ae969b",
            "b0e89397db6e4794b23ee368d7fabd37",
            "4e232faa15694e1c9fe8e7c77a846a26",
            "75614c1df67342d087956083bedc9117",
            "25fa45021b634c3c8b964b76a03d3591",
            "fa009c3e7dfd4d0e80933c8cc40d8294",
            "17cbb3d71c084391a25943ac99b0ed87",
            "0e16ba78144b419ab7a4515b63d821dd",
            "f0d8ae478bdd42049cfa5470395abc8a",
            "0772036badac40108d1b6aebf000b483",
            "a31be089d70a4bcfa06a33f68e566763",
            "f68c22576d86470bb9d3b6fea812f248",
            "c78ad196e8b94cccbcc6e14558f7ccd1",
            "ef83422843954e2c89b902e05359bdf5",
            "f80756a3504344279dabf2d43a48a81b",
            "86e04ec6731440749b5224f2427084cc",
            "83d15ba7c6c245ff98f8be28dfc77869",
            "3f28cebdbe3644bb92dc79b26afe3a39",
            "f8dd7f4c9f6c425ea38dc0af6ef2aa97",
            "27313e9f6acc488e9983f4d50501f96b",
            "540aff7c1c1f4788b351a51c981a44be",
            "c461071d577b4e118423a476594c3288",
            "b87c1360b7e24cf19589cbdbe5797cd7",
            "8515cb2b7d2e471e9794e903a093d2a8",
            "3fef95e836a34fd291d1cb666ba992d2",
            "003008d6eb0347b99270c2ca1fd67e51",
            "77aeb1be84c74add918640581a0e8613",
            "9eca33dea1ba45be9a3a0351a327e761",
            "f82eabe7d5ee436aa1414c613fd139ec",
            "3671e055385244debfd13aa64c75e5b0",
            "53687f98b3e24930ae429bfbb5609bc0",
            "a30f9b9a8214439ea4bcc724442aefa2",
            "551e233e75414d02adbea0db17e6adc7",
            "2e1d6dfa5b7648af8303890fd97dfef7",
            "e8d00e25128f471cb61e3173df75fb58",
            "1ab715706149419c9e85963310482bb4",
            "731d9e477b0441e89cbedf160cc8f58a",
            "e1937e0c745248988a74695b3953b287",
            "8b2857d79fba4fe5a2e005f99a50d29b",
            "d3373b2f35d941a5b1dbe9288b81db1b",
            "a451109ac5ce44c88f207f57cffd1e56",
            "596e4d63e84a42adbfde6b9ca6ab6d3d",
            "881b288102f0491c925ba1815f76542c",
            "b7fd845e8ad44c3fb303c8ef1506ddc2",
            "6cc2487408b04d8ba97639d92025b7b1",
            "1699f9f63d4c4507befae2ad6e062f05",
            "a5d32ea753f4470e97b633f44dd33748",
            "eb52150fab6a4484bfc7c05f02f3c4a1",
            "9e0aca7245024a75a1a06f8c491fd621",
            "3b1687a9f53b4d26a711ecfa63c65ca3",
            "b46d19b4eb984c9a886ab22d10281cba",
            "bff9d477b0ae477c928ddac832bb3d10",
            "497394fd290f44b79d4d3c77ad5df7b7",
            "b1e241d902174cb1969f34b1476603b8",
            "2ec61a226a914f1884d5b41fe51ed2a1",
            "5fe8937f776449c9b86b64c53f02acf1",
            "e6ac61f2c4cf4a619cf06fdff8aa7b62",
            "d4dfb3f54e8145459c01eba0c5e5d73d",
            "6e194bb4c4bf49fdb93ad340a426b08b",
            "e0a7d0851d7646ada69d5ee87543ea2c",
            "037d12e9a6a9454fab0b60b258c72e98",
            "ac4dd8171a1d4272b70fc134abea04dc",
            "8d64a2799e0b41808f2a25f8582be921",
            "9453b7e037d444e58519fd30a065d84e",
            "bcccf69aa60b44e2b5b566d9f1ac44fe",
            "05eff42cb20b492b821eec509a5f9846",
            "e3feccfc5cb740839c442ba37160b58c",
            "ba2a20413b8c44da835a1890de0c65c0",
            "ecafec73f4ea4e1087184654af678191",
            "405d6f7bfad7423c8a35627395fd161b",
            "801cd99d277f46549fa7f05d03cd1fc7",
            "baed27e9764e4b85ad11f87401930266",
            "7d5a3ac3e9b3463db8d25ab462c025eb",
            "2c22f2b3a7ae44e6801326ed532c0229",
            "51bdcfe0a1eb454e871501b0c751a18c",
            "87a283bbc454470b927d5cf3a6579887",
            "6b92cc7ee6f24638a99ce87f80d512ce",
            "362ffc6820c743d6a6f1bd9ecc9518e4",
            "3c43146d2f3d45378cc4beeebaceb2cb",
            "9afde604cf9c447a90f2ea68cd7482c2",
            "953ee654abc84f2ba607d216c0bde734",
            "4886bd461efe4764b8132ed829e1b8e8",
            "83766fc32a334a9b88f9a870f29ce233",
            "6a167bac518c4c0c8984ab009691d831",
            "2b90d18062b043db99c9a1da587d97d3",
            "1507695384cb49acbe220e85a6213177",
            "b949cf90450a4850ae2c85fbfe4c9b97",
            "a82a7bf2b5a04eadb3d1f643af013d32",
            "6a3e76981b504609914789961493edbb",
            "b32762085b6b4d808152536e00241e59",
            "7a4adea71f6b4e1f9cec5be360611ffe",
            "ff6c5340007f487c9aa75a4a5c738d08",
            "659c964839eb462cb4d09eb7161678f2",
            "73ed2eaf19c9427db780ab8c35fd0104",
            "b048e18d1ef144c98d6a56090b296924",
            "b51116afe05247fb932badfbc0231980",
            "610bd23b35f54855b5cc2e4c921a6340",
            "63b01fa03d824360b675937f0aaad2ca",
            "45ccf7846e344e088b3a41be822d879e",
            "22d7b8abbeb24028965f661d61d981a8",
            "2199c7ef7b304e59aaa1d0fc54a3d1d3",
            "6f35daf558b24dbeba99559e85fee2ae",
            "8bcee2216c4843c6ad342c385502b0da",
            "c5ef2410cf61418cad20f52d1770060e",
            "67148799e0354cb1972e0c41e4277b09",
            "c17249d1fc264e309e8354af6bcba01c",
            "62f677882dbb4935bc855a63e11d173c",
            "a9b2a7cadb054c68b801fb734effbb43",
            "f79c9229eb0e48c2acf53cb1db87745d",
            "2547458ef3cb4eb19b0e048efbce8338",
            "b340c5c5b68243c5adfb02f390d620f5",
            "2bdff5a96ba74630bdac9c451daee053",
            "9ae8a399830b4330bced04039100ca83",
            "2588967b17c843f08101cfc938d145ed",
            "c3dec198ffc44c1ba3119764104ce71b",
            "69430f867e3e4ab69a1ab49fc916d49f",
            "a4350f0409574a6aa4d70c1a7920713b",
            "cc35c2f1620640acb5b2a586e32ffbde",
            "df12a3ec4bb64b8dad0acd350fa44c2a",
            "6138f21f5ee34199b9e80fd72bc7cc7d",
            "27acbcf11af24861bf8bcc6085c9b43d",
            "6d95599d317440efa219f55327bf9e04",
            "aad74b2474bc4d928319dfec9d0ad644",
            "1ea61f0853f3498b93ec29423d6dd3d5",
            "2d0db31cca2541fdb4301b487d856e70",
            "40c0ecd597a347b89ac236af0acc6468",
            "f91e0998cd244dfaa2f68aabb3167a89",
            "fe72d893706147a2b1795ea95f803acf",
            "5758b1c2638a4b209c0c03d8c9167c71",
            "d6a5e8221c5e4faeb7aa9109024de01a",
            "96292c36fe4d4e24975c623500cb6585",
            "ec7fc3504158427a97302894982f5ac9",
            "7668762cb6204f45a01a194d58e1e261",
            "fb8a19023a344c978544e2fffc5d9961",
            "c738e128660c4986a62aab8717a540e9",
            "d2a2d6c393ce4a95b496443c352c2237",
            "66e01444332d4defb03cc5c7c46f14e0",
            "b2f4938668e343cd8afb6ab6919ca2b2",
            "82693c8cb00549658aa82337761da431",
            "86601621ac554ea89bd69219a858f88b",
            "cf1f9ae839fd481882cbafdd16841335",
            "a309fa535ee6443fb8614de4f3b3aac4",
            "561fc77bf5f64b60a5fb516fd89aeab3",
            "3561479f2dba45f7ae36b1e6bc83a5c9",
            "1174d51b0b05497fa2e8977d77d857d3",
            "593a070b900c4a37a4f59efdc4ed9e0d",
            "53bbc10cde9d4cc6b4fe94b923fbe86f",
            "097ace1e533a4a3ca4f543099a8f7566",
            "1685a2ebb69e44dcac8d6d8384eeab7e",
            "d0acd4af7ab548ff8c2a0b294d4a5278",
            "5524416a68964a6fbaafeb044126d28d",
            "7cdddbf884e04a1d85f382a66ecaa077",
            "4b5fc0eb58844f3fa95cf4c43988f930",
            "d63282c6cfc944b58acfc78f8cfb9397",
            "08583053317b4d9bba61b351e2c8fe5c",
            "c3b00f044ddc4a8ba6013e7f5e438b88",
            "c459af29a84d4d3aa8cc8fd9c8f9b54b",
            "ab256ecfd44a4917ab0e5ea672e83f61",
            "c72f5268f3d94fdba5a1a7f5fbcb311d",
            "76904b41f93246999f6c448b8fd7ac8c",
            "f602dd1f968848aeab8ba0eb72633e75",
            "3ac9b8dd66cf44ceb6bf286dfb0c2ded",
            "977e7cd821584b01a64866295c1270d8",
            "10d6bd7e1bf24effbb29fa75270cb4f2",
            "f943e15c1c33479abba8775de4be3671",
            "00dc968f98b14be39ca80385c9abe6b0",
            "19fad2633361431392252ca400f4ee32",
            "50cd73b365af492aab06ecf6838b51a0",
            "d0f5816ae4d6468d83b43ab199f6a708",
            "13b3461eb5c442cbb919676f76a93ae3",
            "19dc080a3fcd4b408d4bdd33f571cf0d",
            "52dc67edd38647a082dfaf3bd5964176",
            "bd070ed196e143a499244607d88a1515",
            "f10602ef04e44572afd89974d742489c",
            "f688285029dd4ab4b94c5fec03e27b21",
            "882c2e02cb244d599c3ad40530b061e7",
            "0c09d3f0a8ca4f8197c4bfaed15b73f2",
            "0917404251c54b1c9ab73fbde2b105f2",
            "6157e42a7e71480dba9c7191bc71188d",
            "c4e53f05ef6f4ff2b951d20e3441c7cf",
            "2faef89f8a9e480a9944614548be3a4c",
            "13993a128ae94467a2156c8a9aada8ca",
            "20deb903a5d04a558af414a8b1a2db7c",
            "c87cf37d83324845b306d6063bfb7dc5",
            "4e94998018b3456d8b66697f78dce861",
            "b7c818b35893437ea9c2bb224970a63f",
            "00a407760ce94522880cdd5eb08e3330",
            "e1b69d680403481d91bf7d7327225dc7",
            "0724252751804389bd696741e59736ba",
            "d2d2fc6352124264875429109aa1e062",
            "f9e3505804d5420b97630ff751d5403a",
            "83b44bbe10b64549a883653cd064dc64",
            "0f73148b30b14c2d904b1e9b7b8a0c94",
            "545fe9b265ce4b8eabe75d5a8e7e30de",
            "b0675f67a56549e3ac8e0fd59419e134",
            "a383111e6bbb45f7829527060a807e39",
            "0d396c0098234c9b9bc165fef1d51671",
            "3714f9dc96ac45a2bd35fc429c342064",
            "6d23a9c666b44fcb8fb7fd530c98c266",
            "2c6df4747281412594f43f5554175425",
            "adc9275f92684467a586024a56df1bce",
            "f8942d3e4d5c4f0ea5ce425e4adb9af0",
            "533f511e4fe44018b567f3c3d63a21d5",
            "d0d2ca96eba5467da40a90ceeb3c8487",
            "1efef7ed3bda4d0fb7ce68576a92a823",
            "7f5410f2c8a244efaf16c99d248cfe48",
            "7373b1728c8f469791567903f0dda03d",
            "d9bf8f3e140c4aa8b0cec0408ae674bd",
            "d3633b9ca9f0486483bf79bd18ca4b7e",
            "3827d4f061fb44c3a740baea350eae79",
            "611d2a97c6e943e185cabd4b8d2def30",
            "d2bc3b3e42ab4084a02615c172ed4b99",
            "90574a9e721e4602ab7eaa691dc92f43",
            "e64ae4dcd23045948c62b74c9b9b120d",
            "9ad5dd95a9e145328c7e8db1309a80dc",
            "c6bffdef81f840d7b124aaea280ac5dc",
            "176e783ef82d4cc5827d092be06285f6",
            "c54dec3fc8fb46748f2ad51a7241bdb7",
            "6b29be4ac3ae4e4a842bb47c74169f6b",
            "65be346d365a417ba6295b5624a6f5b8",
            "2ba7399750014d2f95793fc6e31ad6bb",
            "a243fc7760f14b1e951f54ebd2121e51",
            "d474aa063e0b4ab8b8239917ecf4b247",
            "ec575b3fc62843bf96fe425c810d19e9",
            "65ea3d8497c842dab98d074718f332bb",
            "296118c3eef84f109e02e54fd0fae9c4",
            "0d19bfdcb54541b58ce500b9a478ae89",
            "91942e23e6074302aa2a6329b6231d57",
            "619e3529e37544eea769dfa787e50303",
            "6fd430fd19964e52aaa94b45618d49f5",
            "c0e08a1033d344e39ed7cf013bd3026d",
            "bf7dcf25306440d09774bf90daf9c1fe",
            "f24d5b97715c4d7f9a8213448d60af1d",
            "6568ba3a48cd4154b7caccb29a2c9496",
            "7f3c8bbaa6f643cea6b5aced3a55bcfc",
            "a4c9d719948e4ad684244d30d6e23691",
            "1b1c06d83b0447a8b9a534969d2cfcb1",
            "4bfbd8442035411eb7d8cad8eca01356",
            "669937ff472a46c8b1c4ad5cb3f302ad",
            "0fb8d6a2050e46f4993fc66880fdab8c",
            "07a77e6ede1a4373a9aa57e814c52026",
            "1636acea879a412e99e934be389cec8d",
            "0ebe41c8324b4c60b04743b0f3f57428",
            "f732dd2b6e5f4679953e369c3d33fabd",
            "92acc10976d24074b9ae184147fcae7b",
            "8d168acd6c17483ba8d55a8ae873c7a8",
            "306011f3702d45fd8d60583811d3fbba",
            "d69f4efad900431a9e20bb8861582b46",
            "4a59385f1ff345218b874c4d4692117d",
            "b079b8a5e80d46c0b0ab4d44cc101e93",
            "777122e281ca4544b4b4f8d6f0cd3f10",
            "1f6a3b34c9ae462684389b2ef494edbc",
            "cc217b959987404580106accd733517b",
            "717e9850a8b44e9083ad6b2892479c9b",
            "348ef76cc66f46f5b2ddb46e3ee143aa",
            "719e792cacd34c679154f10d8f5e066c",
            "f7b751ff24a148d5a8750e7b72547c98",
            "eacc5c90e45f4c49b6ed11e312673ead",
            "f82d5458ce664b52a227cc461a9b4810",
            "5e0abb936399442698531dbd0dbd6c88",
            "39903fe2dfe54b02b1347b43edcb085a",
            "c1a711c6159444c5bc9ae430452b242e",
            "0d77df6e4774414c8b4527fb0ba329bb",
            "064c89ffab444818bc57f346bfafe83d",
            "a38608a58e0e4ae9b0d8d26fbff93b74",
            "290643689e8041ca893f0d03bd5c2ece",
            "3c02c23267c549feb6c281a7c312fd68",
            "6b93d367a12542d2a7b75b9cf60af824",
            "449ab4dbb99f44ffbe486910fc638033",
            "9ac3f829adae4894b26af3f8e8ec8092",
            "09aae0c48cfe46dc8a1ba50443bee049",
            "e5fd4ec660b84d218394f348f0884380",
            "efe866b6cef5496d9be6abbbb28b24f8",
            "bb93fdc2a94b48b3b6d1792d309cd99e",
            "37eafea8fbbf40ceb5a2c8cc9ade9de2",
            "c09abd859f04490987f2b749f3b23908",
            "855c09bccbb04135a1280340184c44da",
            "9a85db24887442ae8cee78de8c39ca79",
            "12e43c4f7e9a4384ae636a5d0c0ef968",
            "69951daefc1c464d99d6d8190c4083fd",
            "f177f5f0d1ec419b990ba19beba191c2",
            "556e1bb09bef4ba1903673254d49c8a1",
            "607dc4abcdec44529119d2b212e6398b",
            "76f9e9f647c148caae0665291163bd8c",
            "bb15a2664e734599afb85945db6df0f6",
            "cc16ae4c40c64791900b20fb60998696",
            "651c2d5f7f744ea081617edb8c6fa2b4",
            "073f8800924440c29d5d52d59be573f6",
            "26f85df3a22a44e98628ce7a791954e3",
            "479f6695ba3649bd85e37750e8c8c5c7",
            "1780eaff880b411a871a78dcd2317d1a",
            "88335cc1c36745ac8e46806df0f224bc",
            "8857a71d734a43188e4f053a645fc98e",
            "6acfc23e61e544b08296cf501d472e76",
            "6b26992154484de0abab4d680b3a589b",
            "139b839fe5cc4e4498bd12c8bc739681",
            "502b3cb736264a3d806284305dca0f6d"
          ]
        },
        "outputId": "e36370fe-f8b0-4654-ba85-c014994bab9c"
      },
      "outputs": [
        {
          "output_type": "stream",
          "name": "stderr",
          "text": [
            "/usr/local/lib/python3.11/dist-packages/huggingface_hub/utils/_token.py:90: UserWarning: \n",
            "The secret `HF_TOKEN` does not exist in your Colab secrets.\n",
            "To authenticate with the Hugging Face Hub, create a token in your settings tab (https://huggingface.co/settings/tokens), set it as secret in your Google Colab and restart your session.\n",
            "You will be able to reuse this secret in all of your notebooks.\n",
            "Please note that authentication is recommended but still optional to access public models or datasets.\n",
            "  warnings.warn(\n",
            "/usr/local/lib/python3.11/dist-packages/huggingface_hub/utils/_deprecation.py:131: FutureWarning: 'cached_download' (from 'huggingface_hub.file_download') is deprecated and will be removed from version '0.26'. Use `hf_hub_download` instead.\n",
            "  warnings.warn(warning_message, FutureWarning)\n"
          ]
        },
        {
          "output_type": "display_data",
          "data": {
            "text/plain": [
              ".gitattributes:   0%|          | 0.00/1.23k [00:00<?, ?B/s]"
            ],
            "application/vnd.jupyter.widget-view+json": {
              "version_major": 2,
              "version_minor": 0,
              "model_id": "e1a2684f55f84e20a9410f28415ecaf7"
            }
          },
          "metadata": {}
        },
        {
          "output_type": "display_data",
          "data": {
            "text/plain": [
              "config.json:   0%|          | 0.00/190 [00:00<?, ?B/s]"
            ],
            "application/vnd.jupyter.widget-view+json": {
              "version_major": 2,
              "version_minor": 0,
              "model_id": "97b3f39b8f0d4208a6e294b968ae969b"
            }
          },
          "metadata": {}
        },
        {
          "output_type": "display_data",
          "data": {
            "text/plain": [
              "README.md:   0%|          | 0.00/10.5k [00:00<?, ?B/s]"
            ],
            "application/vnd.jupyter.widget-view+json": {
              "version_major": 2,
              "version_minor": 0,
              "model_id": "f68c22576d86470bb9d3b6fea812f248"
            }
          },
          "metadata": {}
        },
        {
          "output_type": "display_data",
          "data": {
            "text/plain": [
              "config.json:   0%|          | 0.00/615 [00:00<?, ?B/s]"
            ],
            "application/vnd.jupyter.widget-view+json": {
              "version_major": 2,
              "version_minor": 0,
              "model_id": "b87c1360b7e24cf19589cbdbe5797cd7"
            }
          },
          "metadata": {}
        },
        {
          "output_type": "display_data",
          "data": {
            "text/plain": [
              "config_sentence_transformers.json:   0%|          | 0.00/116 [00:00<?, ?B/s]"
            ],
            "application/vnd.jupyter.widget-view+json": {
              "version_major": 2,
              "version_minor": 0,
              "model_id": "2e1d6dfa5b7648af8303890fd97dfef7"
            }
          },
          "metadata": {}
        },
        {
          "output_type": "display_data",
          "data": {
            "text/plain": [
              "data_config.json:   0%|          | 0.00/39.3k [00:00<?, ?B/s]"
            ],
            "application/vnd.jupyter.widget-view+json": {
              "version_major": 2,
              "version_minor": 0,
              "model_id": "6cc2487408b04d8ba97639d92025b7b1"
            }
          },
          "metadata": {}
        },
        {
          "output_type": "display_data",
          "data": {
            "text/plain": [
              "model.safetensors:   0%|          | 0.00/133M [00:00<?, ?B/s]"
            ],
            "application/vnd.jupyter.widget-view+json": {
              "version_major": 2,
              "version_minor": 0,
              "model_id": "5fe8937f776449c9b86b64c53f02acf1"
            }
          },
          "metadata": {}
        },
        {
          "output_type": "display_data",
          "data": {
            "text/plain": [
              "model.onnx:   0%|          | 0.00/133M [00:00<?, ?B/s]"
            ],
            "application/vnd.jupyter.widget-view+json": {
              "version_major": 2,
              "version_minor": 0,
              "model_id": "e3feccfc5cb740839c442ba37160b58c"
            }
          },
          "metadata": {}
        },
        {
          "output_type": "display_data",
          "data": {
            "text/plain": [
              "model_O1.onnx:   0%|          | 0.00/133M [00:00<?, ?B/s]"
            ],
            "application/vnd.jupyter.widget-view+json": {
              "version_major": 2,
              "version_minor": 0,
              "model_id": "362ffc6820c743d6a6f1bd9ecc9518e4"
            }
          },
          "metadata": {}
        },
        {
          "output_type": "display_data",
          "data": {
            "text/plain": [
              "model_O2.onnx:   0%|          | 0.00/133M [00:00<?, ?B/s]"
            ],
            "application/vnd.jupyter.widget-view+json": {
              "version_major": 2,
              "version_minor": 0,
              "model_id": "6a3e76981b504609914789961493edbb"
            }
          },
          "metadata": {}
        },
        {
          "output_type": "display_data",
          "data": {
            "text/plain": [
              "model_O3.onnx:   0%|          | 0.00/133M [00:00<?, ?B/s]"
            ],
            "application/vnd.jupyter.widget-view+json": {
              "version_major": 2,
              "version_minor": 0,
              "model_id": "22d7b8abbeb24028965f661d61d981a8"
            }
          },
          "metadata": {}
        },
        {
          "output_type": "display_data",
          "data": {
            "text/plain": [
              "model_O4.onnx:   0%|          | 0.00/66.6M [00:00<?, ?B/s]"
            ],
            "application/vnd.jupyter.widget-view+json": {
              "version_major": 2,
              "version_minor": 0,
              "model_id": "b340c5c5b68243c5adfb02f390d620f5"
            }
          },
          "metadata": {}
        },
        {
          "output_type": "display_data",
          "data": {
            "text/plain": [
              "model_qint8_arm64.onnx:   0%|          | 0.00/34.1M [00:00<?, ?B/s]"
            ],
            "application/vnd.jupyter.widget-view+json": {
              "version_major": 2,
              "version_minor": 0,
              "model_id": "6d95599d317440efa219f55327bf9e04"
            }
          },
          "metadata": {}
        },
        {
          "output_type": "display_data",
          "data": {
            "text/plain": [
              "model_qint8_avx512.onnx:   0%|          | 0.00/34.1M [00:00<?, ?B/s]"
            ],
            "application/vnd.jupyter.widget-view+json": {
              "version_major": 2,
              "version_minor": 0,
              "model_id": "7668762cb6204f45a01a194d58e1e261"
            }
          },
          "metadata": {}
        },
        {
          "output_type": "display_data",
          "data": {
            "text/plain": [
              "model_qint8_avx512_vnni.onnx:   0%|          | 0.00/34.1M [00:00<?, ?B/s]"
            ],
            "application/vnd.jupyter.widget-view+json": {
              "version_major": 2,
              "version_minor": 0,
              "model_id": "3561479f2dba45f7ae36b1e6bc83a5c9"
            }
          },
          "metadata": {}
        },
        {
          "output_type": "display_data",
          "data": {
            "text/plain": [
              "model_quint8_avx2.onnx:   0%|          | 0.00/34.2M [00:00<?, ?B/s]"
            ],
            "application/vnd.jupyter.widget-view+json": {
              "version_major": 2,
              "version_minor": 0,
              "model_id": "08583053317b4d9bba61b351e2c8fe5c"
            }
          },
          "metadata": {}
        },
        {
          "output_type": "display_data",
          "data": {
            "text/plain": [
              "openvino_model.bin:   0%|          | 0.00/133M [00:00<?, ?B/s]"
            ],
            "application/vnd.jupyter.widget-view+json": {
              "version_major": 2,
              "version_minor": 0,
              "model_id": "00dc968f98b14be39ca80385c9abe6b0"
            }
          },
          "metadata": {}
        },
        {
          "output_type": "display_data",
          "data": {
            "text/plain": [
              "openvino_model.xml:   0%|          | 0.00/398k [00:00<?, ?B/s]"
            ],
            "application/vnd.jupyter.widget-view+json": {
              "version_major": 2,
              "version_minor": 0,
              "model_id": "0c09d3f0a8ca4f8197c4bfaed15b73f2"
            }
          },
          "metadata": {}
        },
        {
          "output_type": "display_data",
          "data": {
            "text/plain": [
              "openvino_model_qint8_quantized.bin:   0%|          | 0.00/33.8M [00:00<?, ?B/s]"
            ],
            "application/vnd.jupyter.widget-view+json": {
              "version_major": 2,
              "version_minor": 0,
              "model_id": "e1b69d680403481d91bf7d7327225dc7"
            }
          },
          "metadata": {}
        },
        {
          "output_type": "display_data",
          "data": {
            "text/plain": [
              "openvino_model_qint8_quantized.xml:   0%|          | 0.00/708k [00:00<?, ?B/s]"
            ],
            "application/vnd.jupyter.widget-view+json": {
              "version_major": 2,
              "version_minor": 0,
              "model_id": "6d23a9c666b44fcb8fb7fd530c98c266"
            }
          },
          "metadata": {}
        },
        {
          "output_type": "display_data",
          "data": {
            "text/plain": [
              "pytorch_model.bin:   0%|          | 0.00/134M [00:00<?, ?B/s]"
            ],
            "application/vnd.jupyter.widget-view+json": {
              "version_major": 2,
              "version_minor": 0,
              "model_id": "3827d4f061fb44c3a740baea350eae79"
            }
          },
          "metadata": {}
        },
        {
          "output_type": "display_data",
          "data": {
            "text/plain": [
              "sentence_bert_config.json:   0%|          | 0.00/53.0 [00:00<?, ?B/s]"
            ],
            "application/vnd.jupyter.widget-view+json": {
              "version_major": 2,
              "version_minor": 0,
              "model_id": "2ba7399750014d2f95793fc6e31ad6bb"
            }
          },
          "metadata": {}
        },
        {
          "output_type": "display_data",
          "data": {
            "text/plain": [
              "special_tokens_map.json:   0%|          | 0.00/112 [00:00<?, ?B/s]"
            ],
            "application/vnd.jupyter.widget-view+json": {
              "version_major": 2,
              "version_minor": 0,
              "model_id": "bf7dcf25306440d09774bf90daf9c1fe"
            }
          },
          "metadata": {}
        },
        {
          "output_type": "display_data",
          "data": {
            "text/plain": [
              "tokenizer.json:   0%|          | 0.00/466k [00:00<?, ?B/s]"
            ],
            "application/vnd.jupyter.widget-view+json": {
              "version_major": 2,
              "version_minor": 0,
              "model_id": "0ebe41c8324b4c60b04743b0f3f57428"
            }
          },
          "metadata": {}
        },
        {
          "output_type": "display_data",
          "data": {
            "text/plain": [
              "tokenizer_config.json:   0%|          | 0.00/352 [00:00<?, ?B/s]"
            ],
            "application/vnd.jupyter.widget-view+json": {
              "version_major": 2,
              "version_minor": 0,
              "model_id": "717e9850a8b44e9083ad6b2892479c9b"
            }
          },
          "metadata": {}
        },
        {
          "output_type": "display_data",
          "data": {
            "text/plain": [
              "train_script.py:   0%|          | 0.00/13.2k [00:00<?, ?B/s]"
            ],
            "application/vnd.jupyter.widget-view+json": {
              "version_major": 2,
              "version_minor": 0,
              "model_id": "a38608a58e0e4ae9b0d8d26fbff93b74"
            }
          },
          "metadata": {}
        },
        {
          "output_type": "display_data",
          "data": {
            "text/plain": [
              "vocab.txt:   0%|          | 0.00/232k [00:00<?, ?B/s]"
            ],
            "application/vnd.jupyter.widget-view+json": {
              "version_major": 2,
              "version_minor": 0,
              "model_id": "c09abd859f04490987f2b749f3b23908"
            }
          },
          "metadata": {}
        },
        {
          "output_type": "display_data",
          "data": {
            "text/plain": [
              "modules.json:   0%|          | 0.00/349 [00:00<?, ?B/s]"
            ],
            "application/vnd.jupyter.widget-view+json": {
              "version_major": 2,
              "version_minor": 0,
              "model_id": "651c2d5f7f744ea081617edb8c6fa2b4"
            }
          },
          "metadata": {}
        }
      ],
      "source": [
        "freshdisk_dembeddings = produce_embeddings(chunked_files.get('freshdisk'))  # these take ~30s min to run"
      ]
    },
    {
      "cell_type": "code",
      "source": [
        "type(freshdisk_dembeddings)"
      ],
      "metadata": {
        "colab": {
          "base_uri": "https://localhost:8080/"
        },
        "id": "bC8rmR2Pm8wJ",
        "outputId": "a782abe7-43e9-4b62-f322-8c47cbecca66"
      },
      "id": "bC8rmR2Pm8wJ",
      "execution_count": null,
      "outputs": [
        {
          "output_type": "execute_result",
          "data": {
            "text/plain": [
              "list"
            ]
          },
          "metadata": {},
          "execution_count": 158
        }
      ]
    },
    {
      "cell_type": "code",
      "source": [
        "(chunked_files.get('freshdisk'))"
      ],
      "metadata": {
        "colab": {
          "base_uri": "https://localhost:8080/"
        },
        "id": "rhGX3XqihTag",
        "outputId": "37529f03-01f0-444c-ede3-87c1b4a9848c"
      },
      "id": "rhGX3XqihTag",
      "execution_count": null,
      "outputs": [
        {
          "output_type": "execute_result",
          "data": {
            "text/plain": [
              "['It is the responsibility of each BSP Manager to keep the appropriate FDS Regional Director, the Local Customer Advisory Group Passenger (LCAGP) and the BSP Data Processing Centre informed of BSP developments and operations in order to ensure compliance with the DISH Specifications. Full stop/period Slash / Minus Sign Embedded blank (space) In the record layouts, the format of each data element is preceded by a number to indicate the number of characters for the specified element. E.g. 15N represents field',\n",
              " 'element. E.g. 15N represents field length of 15 digits 5A represents a field length of 5 alphabetic characters 1 A/N represents a field length of 1 alphabetic or one numeric character 87 A/N _ represents a field length of 87 mixed alphabetic and numeric characters 1. Sales all transaction codes applicable for the BSP (e.g. EMDA, EMDS, TKTT), cancelled documents; and variations of relevant taxes including where applicable, VAT on transportation, VAT on commission; 2. ADM Agency Debit Memo, Sales Summary',\n",
              " 'Agency Debit Memo, Sales Summary Adjustment Debit; 3. Refunds direct, indirect, single and combined refunds, and refunds with and without cancellation fees; 4. ACM Agency Credit Memo, Sales Summary Adjustment Credit/Minor Adjustment Notice; Record Identifier |Record Description HEADER RECORDS BFHO1 File Header BCHO02 Billing Analysis (Cycle) Header BOH03 Office Header (Reporting Agent) TRANSACTION RECORDS BKTO6 Transaction Header BKS24 Ticket/Document Identification BKS30 STD/Document Amounts BKS31 Coupon',\n",
              " 'STD/Document Amounts BKS31 Coupon Tax Information BKS39 Commission BKS42 Tax on Commission BKS45 Related Ticket/Document Information BKS46 Qualifying Issue Information for Sales Transactions BKS47 Netting Values BKI63 Itinerary Data Segment BAR64 Document Amounts BAR65 Additional Information Passenger BAR66 Additional Information—Form of Payment BMD75 Electronic Miscellaneous Document Coupon Detail Record BMD76 Electronic Miscellaneous Document Remarks Record BKF81 Fare Calculation BCC82 Additional Card',\n",
              " 'Calculation BCC82 Additional Card Information BKP84 Form of Payment TOTAL RECORDS BOT93 Office Subtotals per Transaction Code and Currency Type BOT94 Office Totals per Currency Type BCT95 Billing Analysis (Cycle) Totals per Currency Type BFT99 File Totals per Currency Type Notes 1. Direct refund (single document cash) BKS45: RTDN equals BKS24 TDNR, RCPN shows refunded coupon number(s). 2. Direct refund (conjunction document cash) 3. Direct refund (single document payment card) BKS24: TDNR BKS45: RTDN and',\n",
              " 'card) BKS24: TDNR BKS45: RTDN and RCPN to be completed as per (1). 4. Direct refund (conjunction document payment card) BKS24 and BKS45 fields to be completed as per (2). Indirect refund (single document cash) BKS24: TDNR shows Refund Authority (or Notice) Number. Indirect refund (conjunction document cash) BKS24: TDNR shows Refund Authority (or Notice) Number. BKS45: RTDN and RCPN to be completed as per (5). Indirect refund (conjunction document payment card) BKS24 and BKS45 fields to be completed as per',\n",
              " 'fields to be completed as per (6). Combined refund 1) See Note 1 to Record ITO5. 2) For relation of the Amount Fields, see Section 6.7.1. (See also Form of Payment Type FPTP). Form of Payment BKS30 BKS39 BKS42 BKP84 Amount Transaction Type Fare Tax Document Effective Tax on Remittance Amount | Amount; Amount Commission | Commission | Amount COBL | TMFA TDAM EFCO TOCA REMT Cash Sale 1000 10 1010 90 9911 Cash Refund 800 5 805 72 7 726 Exchange Cash 200 10 210 200 190 Collection Exchange Cash 100 0 100 10 1',\n",
              " 'Exchange Cash 100 0 100 10 1 89 Refund Even Exchange 0 0 0 0 0 0 Even Exchange 0 0 0 200 20 Commission due Credit Sale    450 45 495 Credit Refund [2000 -] | [10-] [2010 -] 180 18 198 Exchange Credit    18 220 Collection Exchange Credit [500 -] | [10-] [510 -] 45 5 50 Refund Debit Memo 1000 10 1010 90 9911 Debit Memo” 1000 10 1010 90 9 1109 Debit Memo 10 10 (Commission nly) Credit Memo 200 0 200 20 2 178 Credit Memo™ 200 0 200 20 2222 Credit Memo 10 10 (Commission nly) Recall Commission 50 5 55 Statement',\n",
              " 'Commission 50 5 55 Statement Adjustment Notice 50 50 50 due to Airline Adjustment Notice 25 25 25 due to Agent Office Totals 1925 35 1960 241201699    4625 40 4665 if COTP = POS \"if COTP = NEG 103 Note For BT document, instead of reporting “IT”, “BT” would be reported on the RET. RET BSP HOT Element Glossary | Contents of BSP Processing | Glossary Content of Description Reference | Element Reference Element Tour Code TOUR 1T123456789bbbb | Copy from RET to |TOUR BKS24 |1T123456789bbbb HOT Fare FARE IT Copy',\n",
              " 'HOT Fare FARE IT Copy from RET to |FARE BAR64 | IT HOT Total TOTL GBP IT Copy from RET to |TOTL BAR64 | GBP IT HOT Tax Type TMFT GB Copy from RET to |TMFT BKS30 |GB HOT Tax Amount TMFA 00000001000 Copy from RET to |TMFA BKS30_ | 00000001000 HOT Document Amount} TDAM 00000151000 Copy from RET to }TDAM BKS30 | 00000151000 (including tax) HOT Commissionable |N/A Calculated by BSP }|COBL BKS30 | 00000150000 Amount (TDAM-TMFA) Commission Type | COTP Bbbbbb Copy from RET to |COTP BKS39 | bbbbbb HOT Commission',\n",
              " 'BKS39 | bbbbbb HOT Commission Rate | CORT 00000 Copy from RET to }|CORT BKS39 |00000 (0 or as agreed HOT or with carrier) COAM/COBL Commission COAM 00000000000 COBLxCORT or COAM BKS39 | 00000000000 Amount (0 or as agreed Copy from RET to with carrier) HOT (if not zeros) Effective N/A Calculated by BSP |EFRT BKS39 | 00000 Commission Rate (EFCO/COBL) Effective N/A Same as COAM EFCO BKS39 | 00000000000 Commission Amount Form of Payment |FPAM 00000151000 Copy from RET to |FPAM BKP84 | 00000151000 Amount',\n",
              " '|FPAM BKP84 | 00000151000 Amount (including tax) HOT Remittance N/A Calculated by BSP |REMT BKP84 | 00000151000 Amount (Cash FPAMEFCO) El. Element Description Glossary Status Element Start # Reference Attribute Position 1 Standard Message Identifier SMSG M 3A 1 2 _|Record Sequence Number SQNR M 8N 4 3 _|CCSP Invoice Number CINN M 14 AN 12 4 _|CCSP Invoice Date CIND M 8N 26 5 | Total Number of Items CTNI M 6N 34 6 | Total Debit/Credit Amount CTAS Cc 17.N 40 Settlement 7 |Currency Type CUTP Cc 4 AN 57 8 |',\n",
              " '|Currency Type CUTP Cc 4 AN 57 8 | Debit/Credit Code DBCR Cc 2 AN 61 9 |CCSP Exchange Rate Indicator CERI M 1 AN 63 10 | Settlement Exchange Rate Source CERS M 1 AN 64 11 | Settlement Exchange Rate Date CSED Cc 8N 65 12 | Settlement Exchange Rate CSER Cc 15.N 73 13 | Billing Analysis Ending Date BAED Cc 8N 88 14 | Invoice Number INVN M 14 AN 96 15 | Invoice Date INVD M 8N 110 16 | Total Debit/Credit Signed for CTAB M 17.N 118 Amount 2 _|Record Sequence number SQNR M 8N 4 3 _|CCSP Invoice Number CINN M 14',\n",
              " '3 _|CCSP Invoice Number CINN M 14 AN 12 4 _|CCSP Invoice Date CIND M 8N 26 5 Batch Count Per Invoice BTCl M 5 .N 34 6  |CCSP Exchange Rate Indicator CERI M 1 AN 39 7 |Settlement Exchange Rate Source CERS M 1 AN 40 8 | Total Amount Settlement Debits CASD Cc 17 N 41 9 | Total Amount Settlement Credits CASC Cc 17 N 58 10 |Currency Type CUTP Cc 4 AN 75 11 | Invoice Name INVE M 20 AN 79 12 |Airline/Credit Card Company AGRN M 16 AN 99 6 File Total Hash Amount CFSD Cc 17 N 26 Settlement Debits 7 File Total Hash',\n",
              " 'Debits 7 File Total Hash Amount CFSC Cc 17 N 43 Settlement Credits Element Description Glossary Record Identifiers Element Reference Attribute M Cc EMD Service Type EMST ITOG, BMD75, 1 A/N COE, IOE End Serial Number ENBR TI2 10 N Endorsements/Restrictions ENRS IT09, BKS46* 147 A/N 49 A/N* Equivalent Fare Paid EQFR IT07, BAR64 12 A/N Expiry Date EXDA IT08, BKP84, 4 A/N CBR, IBR Extended Payment Code EXPC IT08, CBR, IBR, 2 A/N BKP84 Fare FARE IT07, BAR64 12 AIN Fare Basis/Ticket Designator FBTD COR (4x), 15',\n",
              " 'Designator FBTD COR (4x), 15 A/N IOR (4x), ITO6, BKI63 Fare Calculation Area FRCA ITO7 (2x), BKF81 87 A/N Fare Calculation Mode Indicator FCMI IT07, BAR64 1 A/N Fare Calculation Pricing Indicator |FCPI IT07, BAR64 1 A/N Fare Calculation Sequence FRCS ITO7 (2x), BKF81 1N Number Fare Component Priced FCPT IT06, BKI63 3 A/N Passenger Type Code File Sequence Number FSQN BFHO1 TI 6N File Total Credit Amount FLCR CFT 15.N File Total Debit Amount FLDE CFT 15 N File Total Hash Amount BSP CFBC IFT 17 N Credits File',\n",
              " 'BSP CFBC IFT 17 N Credits File Total Hash Amount BSP CFBD IFT 17 N Debits File Total Hash Amount CFSC IFT 17 N Settlement Credits File Total Hash Amount CFSD IFT 17 N Settlement Debits File Type Sequence Number FTSN IT01 2 A/N Financial Record Indicator CFRI IIH, IBH, IBR 1 A/N Flight Booking Status FBST IT06, BKI63 2A Flight Date FTDA IT06, BKI63, CBR, 5 A/N IBR Flight Departure Time FTDT IT06, BKI63, COR, 5 A/N IOR Flight Number FTNR IT06, BKI63 5 A/N Form of Payment Account Number | FRAC. COAM(HOT) =',\n",
              " 'Account Number | FRAC. COAM(HOT) = [COBL + NTTA (compensated fare)] TMFA(“CP”)—-NTTA (compensated penalty)] x CORT(RET)/100 Use The relationship between amount fields (for reporting purposes) is: NTFA = COBL EFCO. Condition SSAC Sales Summary Adjustment Notice, or x Minor Adjustment Notice due to agent SSAD Same as SSAC, except due to airline Xx The BSP is responsible to balance all transactions. This means that the BSP will verify the information in the RET to ensure that the calculation on the Billing',\n",
              " 'the calculation on the Billing Analysis and HOT match, in respect of the amounts reported in the Ticket/Document Amount (TDAM) and Form of Payment Amount (FPAM) elements. Card transactions within a net reporting scheme present their own problems. On the RET the TDAM need not equal FPAM or the sum of FPAMs. This will require the BSP to create an additional Form of Payment “FPAM-CA” (BKP84) record for the difference or add the difference to an existing “FPAM-CA” BKP8é4 record and perform calculations to',\n",
              " 'record and perform calculations to create the Supplementary Amount (SPAM) and Remittance Amount (REMT). It should be noted that BSPs normally operate only one or two types of net reporting schemes. Thus, the individual BSP should concentrate on those Net Reporting options that the BSP offers. Gross fare = 1,500.00 Standard Commission (9.0%) = 135.00 Net Fare Amount = 1,000.00 Form of Payment Credit = 1,200.00 Remittance Amount (REMT) = 200.00- Remittance Amount |REMT |N/A 0000002000} N/A 0000002000{',\n",
              " '|N/A 0000002000} N/A 0000002000{ Calculated by BSP BKP84 (FPAM ca EFCO) COAM. Gross fare = 1,500.00 Standard Commission (09.00%) = 135.00 Fare Standard Commission = 1,365.00 Supplementary Amount (20%) = 273.00 Net Fare Amount = 1,092.00 Element Gloss. Sale Transaction— Full Refund Transaction— Part Refund Transaction— |BSP HOT Description Ref. Content of Data Element Content of Data Element Content of Data Element /|Processing |Rec.ID RET HOT RET HOT RET HOT Element Gloss. Sale Transaction— Full Refund',\n",
              " 'Sale Transaction— Full Refund Transaction— Part Refund Transaction— |BSP HOT Description Ref. Content of Data Element Content of Data Element Content of Data Element /|Processing |Rec.ID RET HOT RET HOT RET HOT Commission COAM |00000000000 |0000001350} |00000000000 /0000001350{ |00000000000 |0000000675{ /COBLxCORT |BKS39 Amount (most of the (most of the (most of the or Copy from time) time) time) RET to HOT (if not zero) Amount Entered |AEBA /00000000000 |N/A 00000000000 |N/A 00000000000 |N/A by Agent',\n",
              " '|N/A 00000000000 |N/A by Agent Supplementary |SPTP |N/A C20bbb N/A C20bbb N/A C20bbb Derived from |BKS39 Type TOUR Supplementary |SPRT |N/A 01820 N/A 01820 N/A 01820 SPAM/COBL |BKS39 Rate Supplementary |SPAM |N/A 0000002730} |N/A 0000002730{ |N/A 0000001365{ |(COBLBKS39 Amount COAM)x TOUR% Effective EFRT |N/A 02720 N/A 02720 N/A 02720 Calculated by | BKS39 Commission BSP (EFCO/ Rate COBL) Effective EFCO |N/A 0000004080} |N/A 0000004080{ |N/A 0000002040{ |COAM+ BKS39 Commission SPAM Amount Fare FARE',\n",
              " 'Commission SPAM Amount Fare FARE |GBPbb1500.00| GBPbb1500.00| N/A N/A N/A N/A Copy from BAR64 RET to HOT Form of FPAM |00000150000 |0000015000{ /00000150000 {0000015000} |00000075000 {0000007500} |Set to TDAM |BKP84 Payment (can be a (FPAM can be (FPAM can be Amount lesser amount) a lesser a lesser amount) amount) Remittance REMT |N/A 0000010920{ |N/A 0000010920} |N/A 0000005460} |Calculated by | BKP84 Amount BSP (FPAMEFCO) Gross fare = 1,500.00 Standard Commission (09.00%) = 135.00 Fare Standard',\n",
              " '(09.00%) = 135.00 Fare Standard Commission = 1,365.00 Supplementary Amount (20%) = 300.00 Net Fare Amount = 1,065.00 Element Gloss. Sale Transaction— Full Refund Transaction— Part Refund Transaction— |BSP HOT Description Ref. Content of Data Element Content of Data Element Content of Data Element /|Processing |Rec.ID RET HOT RET HOT RET HOT Element Gloss. Sale Transaction— Full Refund Transaction— Part Refund Transaction— |BSP HOT Description Ref. Content of Data Element Content of Data Element Content of',\n",
              " 'Content of Data Element Content of Data Element /|Processing |Rec.ID RET HOT RET HOT RET HOT Commission COAM |00000000000 |0000001350} |00000000000 /0000001350{ |00000000000 |0000000675{ /COBLxCORT |BKS39 Amount (most of the (most of the (most of the or Copy from time) time) time) RET to HOT (if not zero) Amount Entered |AEBA /00000000000 |N/A 00000000000 |N/A 00000000000 |N/A by Agent Supplementary |SPTP |N/A Z20bbb N/A Z20bbb N/A Z20bbb Derived from |BKS39 Type TOUR Supplementary |SPRT |N/A 02000 N/A',\n",
              " 'Supplementary |SPRT |N/A 02000 N/A 02000 N/A 02000 Derived from |BKS39 Rate TOUR Supplementary |SPAM |N/A 0000003000} |N/A 0000003000{ |N/A 0000001500{ |COBLxSPRT |BKS39 Amount Effective EFRT |N/A 02900 N/A 02900 N/A 02900 Calculated by | BKS39 Commission BSP (EFCO/ Rate COBL) Effective EFCO |N/A 0000004350} |N/A 0000004350{ |N/A 0000002175{ |COAM+ BKS39 Commission SPAM Amount Fare FARE |GBPbb1500.00| GBPbb1500.00| N/A N/A N/A N/A Copy from BAR64 RET to HOT Form of FPAM |00000150000 |0000015000{',\n",
              " 'of FPAM |00000150000 |0000015000{ /00000150000 {0000015000} |00000075000 {0000007500} |Set to TDAM |BKP84 Payment (can be a (FPAM can be (FPAM can be Amount lesser amount) a lesser a lesser amount) amount) Remittance REMT |N/A 0000010650{ |N/A 0000010650} |N/A 0000005325} | Calculated by | BKP84 Amount BSP FPAM EFCO Element Gloss. Sale Transaction— Full Refund Transaction— Part Refund Transaction— |BSP HOT Description Ref. Content of Data Element Content of Data Element Content of Data Element /|Processing',\n",
              " 'of Data Element /|Processing |Rec.ID RET HOT RET HOT RET HOT Commission COAM |00000000000 |0000001350} |00000000000 /0000001350{ |00000000000 |0000000675{ /COBLxCORT |BKS39 Amount (most of the (most of the (most of the or Copy from time) time) time) RET to HOT (If # 0) Amount Entered |AEBA |00000000000 00000000000 |N/A 00000000000 |N/A by Agent Supplementary |SPTP |N/A A29bbb N/A A29bbb N/A A29bbb Derived from |BKS39 Type TOUR Supplementary |SPRT |N/A 02000 N/A 02000 N/A 02000 Derived BKS39 Rate from % in',\n",
              " '02000 Derived BKS39 Rate from % in TOUR CORT Supplementary |SPAM |N/A 0000003000} |N/A 0000003000{ |N/A 0000001500{ |COBLxSPRT |BKS39 Amount Effective EFRT |N/A 02900 N/A 02900 N/A 02900 Calculated by | BKS39 Commission BSP (EFCO/ Rate COBL) Effective EFCO |N/A 0000004350} |N/A 0000004350{ |N/A 0000002175{ |COAM+ BKS39 Commission SPAM Amount Fare FARE |GBPbb1500.00| GBPbb1500.00| N/A N/A N/A N/A Copied from |BAR64 RET to HOT Form of FPAM |00000150000 |0000015000{ /00000150000 {0000015000} |00000075000',\n",
              " '{0000015000} |00000075000 |0000007500} |Set to TDAM |BKP84 Payment (can be a (FPAM can be (FPAM can be Amount lesser amount) a lesser a lesser amount) amount) Remittance REMT |N/A 0000010650{ |N/A 0000010650} |N/A 0000005325} | Calculated by | BKP84 Amount BSP (FPAMEFCO) Gross fare = 1,500.00 Supplementary Amount (20%) = 300.00 Fare Supplementary Amount = 1,200.00 Standard Commission = 108.00 Net Fare Amount = 1,092.00 Element Gloss. Sale Transaction— Full Refund Transaction— Part Refund Transaction— |BSP',\n",
              " 'Part Refund Transaction— |BSP HOT Description Ref. Content of Data Element Content of Data Element Content of Data Element |Processing Rec.ID RET HOT RET HOT RET HOT Element Gloss. Sale Transaction— Full Refund Transaction— Part Refund Transaction— |BSP HOT Description Ref. Content of Data Element Content of Data Element Content of Data Element | Processing Rec.ID RET HOT RET HOT RET HOT Supplementary |SPTP |N/A R20bbb N/A R20bbb N/A R20bbb Derived from |BKS39 Type TOUR Supplementary |SPRT |N/A 02000 N/A',\n",
              " 'Supplementary |SPRT |N/A 02000 N/A 02000 N/A 02000 Derived from |BKS39 Rate TOUR Supplementary |SPAM |N/A 0000003000} |N/A 0000003000{ |N/A 0000001500{ |COBLxSPRT |BKS39 Amount Effective EFRT |N/A 02720 N/A 02720 N/A 02720 Calculated by |BKS39 Commission BSP (EFCO/ Rate COBL) Effective EFCO |N/A 0000004080} |N/A 0000004080{ |N/A 0000002040{ |COAM+SPAM |BKS39 Commission Amount Fare FARE |GBPbb1500.00| GBPbb1500.00| N/A N/A N/A N/A Copy from BAR64 RET to HOT Form of FPAM |00000150000 |0000015000{',\n",
              " 'of FPAM |00000150000 |0000015000{ /00000150000 {0000015000} |00000075000 /0000007500} |Setto TDAM /|BKP84 Payment (can be a (FPAM can be (FPAM can be Amount lesser amount) a lesser a lesser amount) amount) Remittance REMT |N/A 0000010920{ |N/A 0000010920} |N/A 0000005460} |Calculated by |BKP84 Amount BSP (FPAMEFCO) Gross fare = 1,500.00 Standard Commission (09.00%) = 135.00 Fare Standard Commission = 1,365.00 Net Fare Amount = 1,000.00 Supplementary Amount = 365.00 Element Gloss. Sale Transaction— Full',\n",
              " 'Gloss. Sale Transaction— Full Refund Transaction— Part Refund Transaction*— |BSP HOT Description Ref. Content of Data Element Content of Data Element Content of Data Element /|Processing |Rec.ID RET HOT RET HOT RET HOT Content of Data Element Content of Data Element Content of Data Element /|Processing |Rec.ID RET HOT RET HOT RET HOT Commission COAM |00000000000 |0000001350} |00000000000 /0000001350{ |00000000000 /|000000675{ COBLxCORT | BKS39 Amount (most of the (most of the (most of the or Copy from',\n",
              " 'of the (most of the or Copy from time) time) time) RET to HOT (if not zeros) Amount Entered |AEBA /00000100000 |N/A 00000100000 |N/A 00000050000 |N/A by Agent Supplementary |SPTP |N/A bbbbbb N/A bbbbbb N/A bbbbbb BKS39 Type Supplementary |SPRT |N/A 02433 N/A 02433 N/A 02433 SPAM/COBL |BKS39 Rate Supplementary |SPAM |N/A 0000003650} |N/A 0000003650{ |N/A 0000001825{ |EFCO-COAM|BKS39 Amount Effective EFRT |N/A 03333 N/A 03333 N/A 03333 Calculated by | BKS39 Commission BSP (EFCO/ Rate COBL) Effective EFCO',\n",
              " '(EFCO/ Rate COBL) Effective EFCO |N/A 0000005000} |N/A 0000005000{ |N/A 0000002500{ |COBL-NTFA |BKS39 Commission Amount Fare FARE |GBPbb1500.00| GBPbb1500.00| N/A N/A N/A N/A Copy from BAR64 RET to HOT Form of FPAM |00000150000 |0000015000{ /00000150000 {0000015000} |00000075000 {0000007500} |Set to TDAM |BKP84 Payment (can be a (FPAM can be (FPAM can be Amount lesser amount) a lesser a lesser amount) amount) Remittance REMT |N/A 0000010000{ |N/A 0000010000} |N/A 0000005000} | Calculated by | BKP84 Amount',\n",
              " '| Calculated by | BKP84 Amount BSP (FPAMEFCO) * Note TDAM provided by the GDS system for partly used documents will include calculated portion of unused FARE plus any unused Taxes, less Cancellation Penalty (if applicable). Gross fare = 1,500.00 Standard Commission (0.0%) = .00 Net Fare Amount = 1,000.00 Form of Payment Credit = 1,200.00 Remittance Amount (REMT) = 200.00Element Gloss. Sale Transaction— Full Refund Transaction— Part Refund Transaction*— |BSP HOT Description Ref. Content of Data Element',\n",
              " 'Ref. Content of Data Element Content of Data Element Content of Data Element /|Processing |Rec.ID RET HOT RET HOT RET HOT Effective EFCO |N/A 0000005000} |N/A 0000005000{ |N/A 0000002500{ |COBL-NTFA |BKS39 Commission Amount Fare FARE |GBPbb1500.00| GBPbb1500.00| N/A N/A N/A N/A Copy from BAR64 RET to HOT Form of FPAM |00000120000 |0000012000{ |00000120000 |0000012000} |00000060000 0000006000} | Copy from BKP84 Payment (FPTP =CC) |CC (FPTP =CC) |/CC (FPTP=CC) cc RET to HOT Amount (CC) (if not zeros) Form of',\n",
              " \"Amount (CC) (if not zeros) Form of FPAM 0000003000{ 0000003000} 0000001500} | TDAMBKP84 Payment CA CA CA FPAMcc Amount (CA) Remittance REMT |N/A 00000020000} |N/A 0000002000} |N/A 0000001000{ |Calculated by | BKP84 Amount BSP (FPAM ca EFCO) * Note TDAM provided by the GDS system for partly used documents will include calculated portion of unused FARE plus any unused Taxes, less Cancellation Penalty (if applicable). The travel agents are expected to recalculate Gross and Net fare accordingly. The Agent's\",\n",
              " \"Net fare accordingly. The Agent's earnings = APBC TMFA AEBA. Gross fare = 1,500.00 Standard Commission (09.00%) = 135.00 Fare Standard Commission = 1,365.00 Net Fare Amount = 1,000.00 Supplementary Amount = 365.00 Tax on Commission Amount (TOCA) (e.g., 7%) = 14.00 Element Description | Gloss. Sale Transaction— Full Refund Transaction— Part Refund Transaction*|BSP Processing | HOT Ref. Content of Data Element Content of Data Element Content of Data Element Rec.ID RET HOT RET HOT RET HOT Commercial CARF |N/A\",\n",
              " 'HOT RET HOT Commercial CARF |N/A 1234567890 N/A 1234567890 N/A 1234567890 Derived from BKT06 Agreement Reference TOUR Tour Code TOUR | 1234567890 1234567890 1234567890 1234567890 1234567890 1234567890 Copy from RET to | BKS24 bbbbb bbbbb bbbbb bbbbb bbbbb bbbbb HOT Net Reporting NRID NR NR NR NR NR NR Copy from RET to | BKT06 Indicator HOT Net Reporting Method | NRMI N/A 2 N/A 2 N/A 2 Populated by the |BKTO6 Indicator DPC Net Reporting NRCT |N/A A N/A A N/A A Populated by the |BKTO6 Calculation Type DPC',\n",
              " 'by the |BKTO6 Calculation Type DPC Commissionable COBL |N/A 0000015000{ | N/A 0000015000} | N/A 0000007500} | Calculated by BKS30 Amount BSP (TDAMTMFA) Net Fare Amount NTFA N/A 0000010000{ |N/A 0000010000} _| N/A 0000005000} _ | Set to AEBA BKS30 Ticket Document TDAM = |00000150000 |0000015000{ | 00000150000 |0000015000} | 00000075000 | 0000007500} | Copy from RET to | BKS30 Amount HOT Commission Type COTP | bbbbbb or bbbbbb or bbbbbb or bbbbbb or bbbbbb or bbbbbb or Copy from RET to | BKS39 Gbbbbb Gbbbbb',\n",
              " 'from RET to | BKS39 Gbbbbb Gbbbbb Gbbbbb Gbbbbb Gbbbbb Gbbbbb HOT DISH REVISION 22 UPDATE: BULLETIN 2016/1 31 5 Element Description | Gloss. Sale Transaction— Full Refund Transaction— Part Refund Transaction*|BSP Processing | HOT Ref. 0000005000{ | N/A 0000002500{ | COBL-NTFA BKS39 Amount Fare FARE GBPbb1500.00 | GBPbb1500.00 | N/A N/A N/A N/A Copy from RET to | BAR64 HOT Form of Payment FPAM 00000150000 |0000015000{ |00000150000 | 0000015000} | 00000075000 | 0000007500} | Set to TDAM BKP84 Amount (can be',\n",
              " '| Set to TDAM BKP84 Amount (can be a (FPAM can be (FPAM can be lesser amount) a lesser a lesser amount) amount) Amount Paid by APBC _|00000120000 |0000012000{ | 00000120000 | 0000012000} | 00000060000 | 0000006000} | Copy from RET to | BKS39 Customer HOT Tax on Commission |TOCA |N/A 0000000140{ | N/A 0000000140} |N/A 0000000100} | Calculated by BKS42 Amount BSP ((APBC TMFA AEBA) x rate) Remittance Amount |REMT |N/A ooooo0gs60{ | N/A 0000009860} |N/A 0000004900} | Calculated by BKP84 BSP (FPAMEFCO TOCA) *',\n",
              " 'by BKP84 BSP (FPAMEFCO TOCA) * Note TDAM provided by the GDS system for partly used documents will include calculated portion of unused FARE plus any unused Taxes, less Cancellation Penalty (if applicable). The travel agents are expected to recalculate Gross and Net fare accordingly. Content of Data Element Content of Data Element Content of Data Element /|Processing |Rec.ID RET HOT RET HOT RET HOT Commission COAM |00000000000 |0000000900} |00000000000 /0000000900{ {00000000000 |0000000450{ )/AEBAxCORT',\n",
              " '|0000000450{ )/AEBAxCORT |BKS39 Amount (most of the (most of the (most of the or copy from time) time) time) RET to HOT (if not zeros) Amount Entered |AEBA /00000100000 |N/A 00000100000 |N/A 00000050000 |N/A by Agent Supplementary |SPTP |N/A bbbbbb N/A bbbbbb N/A bbbbbb BKS39 Type Supplementary |SPRT |N/A 03333 N/A 03333 N/A 03333 SPAM/COBL |BKS39 Rate Supplementary |SPAM |N/A 0000005000} |N/A 0000005000{ |N/A 0000002500{ |COBL-AEBA |BKS39 Amount Effective EFRT |N/A 03933 N/A 03933 N/A 03933 Calculated by',\n",
              " 'N/A 03933 N/A 03933 Calculated by | BKS39 Commission BSP (EFCO/ Rate COBL) Effective EFCO |N/A 0000005900} |N/A 0000005900{ |N/A 0000002950{ |COAM+ BKS39 Commission SPAM Amount Fare FARE |GBPbb1500.00| GBPbb1500.00| N/A N/A N/A N/A Copy from BAR64 RET to HOT Form of FPAM |00000150000 |0000015000{ /00000150000 {0000015000} |00000075000 {0000007500} |Set to TDAM |BKP84 Payment (can be a (FPAM can be (FPAM can be Amount lesser amount) a lesser a lesser amount) amount) Remittance REMT |N/A 0000009100{ |N/A',\n",
              " 'REMT |N/A 0000009100{ |N/A 0000009100} |N/A 0000004550} | Calculated by | BKP84 Amount BSP (FPAMEFCO) * Note TDAM provided by the GDS system for partly used documents will include calculated portion of unused FARE plus any unused Taxes, less Cancellation Penalty (if applicable). Element Gloss. Sale Transaction— Full Refund Transaction— Part Refund Transaction*— |BSP HOT Description Ref. Content of Data Element Content of Data Element Content of Data Element /|Processing |Rec.ID RET HOT RET HOT RET HOT',\n",
              " '|Rec.ID RET HOT RET HOT RET HOT Amount Entered ;AEBA |00000000000 |N/A 00000000000 |N/A 00000000000 |N/A by Agent Supplementary |SPTP |N/A bbbbbb N/A bbbbbb N/A bbbbbb BKS39 Type Supplementary |SPRT |N/A 02433 N/A 02433 N/A 02433 CORT (on BKS39 Rate RET)-CORT (on HOT) Supplementary |SPAM |N/A 0000003649N |N/A 0000003649E |N/A 0000001824E |COBLxSPRT |BKS39 Amount Effective EFRT |N/A 03333 N/A 03333 N/A 03333 Calculated by | BKS39 Commission BSP (EFCO/ Rate COBL) Effective EFCO |N/A 0000004999N |N/A',\n",
              " 'EFCO |N/A 0000004999N |N/A 0000004999E |N/A 0000002499E |COAM+ BKS39 Commission SPAM Amount Fare FARE |GBPbb1500.00| GBPbb1500.00| N/A N/A N/A N/A Copy from BAR64 RET to HOT Form of FPAM {00000150000 |0000015000{ |00000150000 {0000015000} 00000075000 |0000007500} |Set to TDAM |BKP84 Payment (can be a (FPAM can be (FPAM can be Amount lesser amount) a lesser a lesser amount) amount) Remittance REMT |N/A 0000010000E |N/A 0000010000N |N/A QO00005000N | Calculated by | BKP84 Amount BSP (FPAMEFCO) * Note The Net',\n",
              " 'BSP (FPAMEFCO) * Note The Net Remit refund of partly used documents will require a travel agent to calculate the value of the used portion of a passenger journey. TDAM provided by the GDS system for partly used tickets will include calculated portion of unused FARE plus any unused Taxes, less Cancellation Penalty if applicable. EFCO) Ticket Document} TDAM /|00000150000 |0000015000{ |00000150000 /0000015000} |00000075000 /|0000007500} |Copy from BKS30 Amount RET to HOT Commission COTP |Nbbbbb Nbbbbb Nbbbbb',\n",
              " 'COTP |Nbbbbb Nbbbbb Nbbbbb Nbbbbb Nbbbbb Nbbbbb Copy from BKS39 Type RET to HOT Commission CORT /00900 00900 00900 00900 00900 00900 Copy from BKS39 Rate RET to HOT Commission COAM |00000000000 |0000000900} |00000000000 /0000000900{ |00000000000 |0000000450{ |(COBLBKS39 Amount SPAM) Element Gloss. Sale Transaction— Full Refund Transaction— Part Refund Transaction*— |BSP HOT Description Ref. Content of Data Element Content of Data Element Content of Data Element /|Processing |Rec.ID RET HOT RET HOT RET HOT',\n",
              " '|Rec.ID RET HOT RET HOT RET HOT Amount Entered |AEBA /00000000000 |N/A 00000000000 |N/A 00000000000 |N/A by Agent Commission COAM |00000050000 |N/A 00000050000 |N/A 00000025000 |N/A Amount (2\" (Element 26 in joccuIT05) rrence) Supplementary |SPTP |N/A bbbbbb N/A bbbbbb N/A bbbbbb Filled with BKS39 Type blanks Supplementary |SPRT |N/A 03333 N/A 03333 N/A 03333 SPAM/COBL |BKS39 Rate Supplementary |SPAM |N/A 0000005000} |N/A 0000005000{ |N/A 0000002500{ |Set to COAM |BKS39 Amount (2\" occurrence) Effective',\n",
              " 'Amount (2\" occurrence) Effective EFRT |N/A 03933 N/A 03933 N/A 03933 Calculated by | BKS39 Commission BSP (EFCO/ Rate COBL) Effective EFCO |N/A 0000005900} |N/A 0000005900{ |N/A 0000002950{ |COAM+ BKS39 Commission SPAM Amount Fare FARE |GBPbb1500.00| GBPbb1500.00| N/A N/A N/A N/A Copy from BAR64 RET to HOT Form of FPAM |00000100000 |0000015000{ /00000100000 {0000015000} |00000050000 0000007500} |Set to TDAM |BKP84 Payment (can be a (FPAM can be (FPAM can be Amount lesser amount) a lesser a lesser amount)',\n",
              " 'amount) a lesser a lesser amount) amount) Remittance REMT |N/A 0000009100{ |N/A 0000009100} |N/A 0000004550} | Calculated by | BKP84 Amount BSP (FPAMEFCO) * Note The Net Remit refund of partly used documents will require a travel agent to calculate the value of the used portion of a passenger journey. Element Gloss. Sale Transaction— Full Refund Transaction— Part Refund Transaction*— |BSP HOT Description Ref. Content of Data Element Content of Data Element Content of Data Element /|Processing |Rec.ID RET',\n",
              " 'Element /|Processing |Rec.ID RET HOT RET HOT RET HOT Commission COAM |00000050000 |0000001350} |00000050000 /0000001350{ 00000025000 |0000000675{ /COBLxCORT |BKS39 Amount Amount Entered |AEBA /00000000000 |N/A 00000000000 |N/A 00000000000 |N/A by Agent Supplementary |SPTP |N/A bbbbbb N/A bbbbbb N/A bbbbbb BKS39 Type Supplementary |SPRT |N/A 02433 N/A 02433 N/A 02433 SPAM/COBL |BKS39 Rate Supplementary |SPAM |N/A 0000003650} |N/A 0000003650{ |N/A 0000001825{ |EFCO-COAM|BKS39 Amount Effective EFRT |N/A 03333',\n",
              " 'Amount Effective EFRT |N/A 03333 N/A 03333 N/A 03333 Calculated by | BKS39 Commission BSP (EFCO/ Rate COBL) Effective EFCO |N/A 0000005000} |N/A 0000005000{ |N/A 0000002500{ |Set to COAM |BKS39 Commission (input) Amount Fare FARE |GBPbb1500.00| GBPbb1500.00| N/A N/A N/A N/A Copy from BAR64 RET to HOT Form of FPAM |00000150000 |0000015000{ /00000150000 {0000015000} |00000075000 |0000007500} |Set to TDAM |BKP84 Payment (can be a (FPAM can be (FPAM can be Amount lesser amount) a lesser a lesser amount)',\n",
              " 'amount) a lesser a lesser amount) amount) Remittance REMT |N/A 0000010000{ |N/A 0000010000} |N/A 0000005000} | Calculated by | BKP84 Amount BSP (FPAMEFCO) * Note The Net Remit refund of partly used documents will require a travel agent to calculate the value of the used portion of a passenger journey. Airline Settlement +1000 BILLING PERIOD NN RECOVERY FROM FINANCIAL SECURITY OR THROUGH LEGAL ACTION Payment received +1000 BSP Issues ADMD/ACMD -1000 +100 in favour of BSP Airlines +300 debiting the defaulted',\n",
              " '+300 debiting the defaulted Agent code +700 --Please forward the Form and all documentation to [ DISH@iata.org ] --Please forward the Form and all documentation to [ DISH@iata.org] --- Tax/Fee/ Q YQ/YR Ticketing | Additional FareBaggage Charge Surcharge (Airline OB Services Related own use Optional only) Services Applied to Coupon Transfer Coupon Ticket Coupon All fare Portion Portion Coupon Portion Portion components | Direction Itinerary Portion Standalone |on the ticket Ticket Fare Ticket Component',\n",
              " 'Ticket Fare Ticket Component Direction Ticket Accountable | Ticket in Tax | Ticket in Ticket as Off-ticket EMD Off-ticket EMD Document entry Fare YQ/YR in Passenger Passenger Calculation | Tax entry Receipt Receipt Area As OB As OC Carrier Fee Carrier Fee BSP TMFA/ FRCA TMFA/ TMFA/ EMD TMFA/ EMD Reporting TMFT TMFT TMFT TMFT Method Settlement Validating Carrier with Agency Multilateral Yes, for Yes No No Yes No Yes Interline interlineable Allowed taxes']"
            ]
          },
          "metadata": {},
          "execution_count": 167
        }
      ]
    },
    {
      "cell_type": "code",
      "execution_count": null,
      "id": "7f8bb67f-2b95-48f6-bbfa-ed3bd40a1574",
      "metadata": {
        "id": "7f8bb67f-2b95-48f6-bbfa-ed3bd40a1574"
      },
      "outputs": [],
      "source": [
        "hnsw_dembeddings = produce_embeddings(chunked_files.get('hnsw'))"
      ]
    },
    {
      "cell_type": "code",
      "execution_count": null,
      "id": "fc992bc7-6c15-43e9-a88f-1f70412ea90c",
      "metadata": {
        "id": "fc992bc7-6c15-43e9-a88f-1f70412ea90c"
      },
      "outputs": [],
      "source": [
        "ivfpq_dembeddings = produce_embeddings(chunked_files.get('ivfpq'))"
      ]
    },
    {
      "cell_type": "code",
      "execution_count": null,
      "id": "1fe90755-9203-45e1-a47b-51bedff337e1",
      "metadata": {
        "id": "1fe90755-9203-45e1-a47b-51bedff337e1"
      },
      "outputs": [],
      "source": [
        "# We can confirm the shape of each our dense embeddings is 384:\n",
        "\n",
        "# Make binary lists to keep track of any shapes that are *not* 384\n",
        "freshdisk_assertion = [0 for i in freshdisk_dembeddings if i.shape == 384]\n",
        "hnsw_assertion = [0 for i in hnsw_dembeddings if i.shape == 384]\n",
        "ivfpq_assertion = [0 for i in ivfpq_dembeddings if i.shape == 384]\n",
        "\n",
        "# Sum up our lists. If there are any embeddings that are not of shape 384, these sums will be > 0\n",
        "assert sum(freshdisk_assertion) == 0\n",
        "assert sum(hnsw_assertion) == 0\n",
        "assert sum(ivfpq_assertion) == 0"
      ]
    },
    {
      "cell_type": "markdown",
      "id": "cffb7427-6db0-42c4-ba3e-b589edadd3e2",
      "metadata": {
        "id": "cffb7427-6db0-42c4-ba3e-b589edadd3e2"
      },
      "source": [
        "# Create Sparse Embeddings of our Chunks\n",
        "\n",
        "Now we can create our sparse embeddings. We will use the BM25 algorithm to create our sparse embeddings. The resulting vector will represent an inverted index of the tokens in our chunks, constrained by things like chunk length.\n",
        "\n",
        "Pinecone has an awesome [text library](https://github.com/pinecone-io/pinecone-text) that makes generating these vectors super easy. We also have [a great notebook](https://colab.research.google.com/github/pinecone-io/examples/blob/master/learn/search/semantic-search/sparse/bm25/bm25-vector-generation.ipynb) all about BM25 encodings.\n",
        "\n",
        "Since we're using a ML-implemented version of BM25, we need to \"fit\" the model to our corpus. To do this, we'll combine all 3 of our PDFs together, so that the BM25 model can compute all the token frequencies etc correctly. We'll then encode each of our documents with our \"fitted\" model."
      ]
    },
    {
      "cell_type": "code",
      "execution_count": null,
      "id": "2aa80a1a-bea3-4d49-90cc-33206e604899",
      "metadata": {
        "id": "2aa80a1a-bea3-4d49-90cc-33206e604899"
      },
      "outputs": [],
      "source": [
        "# Join the content of all our PDFs together into 1 large corpus\n",
        "\n",
        "corpus = \"\"\n",
        "\n",
        "for i, v in chunked_files.items():\n",
        "    corpus += ' '.join(v)"
      ]
    },
    {
      "cell_type": "code",
      "execution_count": null,
      "id": "fa6c477c-df4a-4b78-b0a6-421527650000",
      "metadata": {
        "colab": {
          "base_uri": "https://localhost:8080/"
        },
        "id": "fa6c477c-df4a-4b78-b0a6-421527650000",
        "outputId": "741bafc9-9437-4a95-8c2d-4527bd080833"
      },
      "outputs": [
        {
          "output_type": "execute_result",
          "data": {
            "text/plain": [
              "50940"
            ]
          },
          "metadata": {},
          "execution_count": 38
        }
      ],
      "source": [
        "len(corpus)  # Awesome, we've got lots o' tokens here for our BM25 model to learn :)"
      ]
    },
    {
      "cell_type": "code",
      "execution_count": null,
      "id": "f124295c-9da5-4195-a57f-1a53f2feb842",
      "metadata": {
        "colab": {
          "base_uri": "https://localhost:8080/",
          "height": 66,
          "referenced_widgets": [
            "8481d83940534654b0d5497c1cc409c2",
            "0594bb9d995546b6bd5c5632ef768abc",
            "235c0ac7540946d3ae419037178f0fd2",
            "e420097da9b6415fa849230c37f2053d",
            "9ba61c2cac714536ae6bea7653d6b3a6",
            "487f2c6632b44b789f143fbb7a39a737",
            "294f4d1648fa41b6a63ec3d5028d2ca4",
            "35048dc334f9480ea09c6cb33001a610",
            "8ba346b01bd74cfbb234a264204ee66f",
            "37a55b4e42b44cf380b2e5575fd1e21f",
            "a855877acd8644f69a2838b78b0d778d"
          ]
        },
        "id": "f124295c-9da5-4195-a57f-1a53f2feb842",
        "outputId": "a72cb89a-33d4-48a8-d5ce-a333038fb6a3"
      },
      "outputs": [
        {
          "output_type": "display_data",
          "data": {
            "text/plain": [
              "  0%|          | 0/50940 [00:00<?, ?it/s]"
            ],
            "application/vnd.jupyter.widget-view+json": {
              "version_major": 2,
              "version_minor": 0,
              "model_id": "8481d83940534654b0d5497c1cc409c2"
            }
          },
          "metadata": {}
        },
        {
          "output_type": "execute_result",
          "data": {
            "text/plain": [
              "<pinecone_text.sparse.bm25_encoder.BM25Encoder at 0x7b50c8fff9d0>"
            ]
          },
          "metadata": {},
          "execution_count": 39
        }
      ],
      "source": [
        "# Initialize BM25 and fit to our corpus\n",
        "\n",
        "bm25 = BM25Encoder()\n",
        "bm25.fit(corpus)  # takes ~30s"
      ]
    },
    {
      "cell_type": "code",
      "execution_count": null,
      "id": "73b2ca25-2ac4-4712-bd8d-77607ef9c852",
      "metadata": {
        "id": "73b2ca25-2ac4-4712-bd8d-77607ef9c852"
      },
      "outputs": [],
      "source": [
        "# Create embeddings for each chunk\n",
        "freshdisk_sembeddings = [bm25.encode_documents(i) for i in chunked_files.get('freshdisk')]"
      ]
    },
    {
      "cell_type": "code",
      "execution_count": null,
      "id": "e4b1c9f3-9192-4e46-afa2-6b4e93ebb6a0",
      "metadata": {
        "id": "e4b1c9f3-9192-4e46-afa2-6b4e93ebb6a0"
      },
      "outputs": [],
      "source": [
        "hnsw_sembeddings = [bm25.encode_documents(i) for i in chunked_files.get('hnsw')]"
      ]
    },
    {
      "cell_type": "code",
      "execution_count": null,
      "id": "87899d0e-2bcd-4fc5-8c47-f27672b8dcd9",
      "metadata": {
        "id": "87899d0e-2bcd-4fc5-8c47-f27672b8dcd9"
      },
      "outputs": [],
      "source": [
        "ivfpq_sembeddings = [bm25.encode_documents(i) for i in chunked_files.get('ivfpq')]"
      ]
    },
    {
      "cell_type": "markdown",
      "id": "5f43b724-acdc-4c13-b321-5c63b4a3b907",
      "metadata": {
        "id": "5f43b724-acdc-4c13-b321-5c63b4a3b907"
      },
      "source": [
        "Let's look at the sparse embeddings for one of our PDFs.\n",
        "\n",
        "You'll see that each PDF's chunks has now transformed into a dictionary with `indices` and `values` keys."
      ]
    },
    {
      "cell_type": "code",
      "execution_count": null,
      "id": "a794f792-b1b5-458b-8f37-fd9e132cf907",
      "metadata": {
        "id": "a794f792-b1b5-458b-8f37-fd9e132cf907"
      },
      "outputs": [],
      "source": [
        "# freshdisk_sembeddings"
      ]
    },
    {
      "cell_type": "code",
      "execution_count": null,
      "id": "02f495a3-37b8-4573-afca-3c8bfe6fb08f",
      "metadata": {
        "id": "02f495a3-37b8-4573-afca-3c8bfe6fb08f"
      },
      "outputs": [],
      "source": [
        "# We want the # of chunks per PDF to be equal to the # of sparse embeddings we've generated. Let's check that:\n",
        "\n",
        "assert len(freshdisk_sembeddings) == len(chunked_files.get('freshdisk'))\n",
        "assert len(hnsw_sembeddings) == len(chunked_files.get('hnsw'))\n",
        "assert len(ivfpq_sembeddings) == len(chunked_files.get('ivfpq'))"
      ]
    },
    {
      "cell_type": "code",
      "source": [
        "len(chunked_files.get('freshdisk')) +  len(chunked_files.get('hnsw')) + len(chunked_files.get('ivfpq'))"
      ],
      "metadata": {
        "colab": {
          "base_uri": "https://localhost:8080/"
        },
        "id": "Tm1m8xdOPtou",
        "outputId": "32d08bed-33cf-4aae-a3f4-9a5da623dae9"
      },
      "id": "Tm1m8xdOPtou",
      "execution_count": null,
      "outputs": [
        {
          "output_type": "execute_result",
          "data": {
            "text/plain": [
              "101"
            ]
          },
          "metadata": {},
          "execution_count": 43
        }
      ]
    },
    {
      "cell_type": "code",
      "source": [
        "len(chunked_files.get('freshdisk'))"
      ],
      "metadata": {
        "id": "iWWxdnARPt82",
        "colab": {
          "base_uri": "https://localhost:8080/"
        },
        "outputId": "bdb56b83-3c61-422f-ff07-acacb54df409"
      },
      "id": "iWWxdnARPt82",
      "execution_count": null,
      "outputs": [
        {
          "output_type": "execute_result",
          "data": {
            "text/plain": [
              "61"
            ]
          },
          "metadata": {},
          "execution_count": 46
        }
      ]
    },
    {
      "cell_type": "markdown",
      "id": "ece747e9-abc4-4289-aac2-b2fef0831339",
      "metadata": {
        "id": "ece747e9-abc4-4289-aac2-b2fef0831339"
      },
      "source": [
        "# Getting Our Embeddings into Pinecone\n",
        "\n",
        "Now that we have made our sparse and dense embeddings, it's time to index them into our Pinecone index.\n",
        "\n",
        "One thing to note is that only [p1 and s1 pods support hybrid search](https://docs.pinecone.io/docs/indexes). Since we're not concerned about high throughput for a demo, we'll go with s1, which is optimized for storage over throughput.\n",
        "\n",
        "Hybrid search indexes inherently also need `\"dotproduct\"` as their similarity `metric`."
      ]
    },
    {
      "cell_type": "code",
      "source": [
        "\n",
        "def create_ids(chunks: List[str]) -> List[str]:\n",
        "    \"\"\"Create unique IDs for each document chunk.\"\"\"\n",
        "    return [str(uuid4()) for _ in range(len(chunks))]\n",
        "\n",
        "# Generate unique IDs\n",
        "freshdisk_ids = create_ids(chunked_files.get('freshdisk'))\n",
        "hnsw_ids = create_ids(chunked_files.get('hnsw'))\n",
        "ivfpq_ids = create_ids(chunked_files.get('ivfpq'))"
      ],
      "metadata": {
        "id": "eNGMINElObPz"
      },
      "id": "eNGMINElObPz",
      "execution_count": null,
      "outputs": []
    },
    {
      "cell_type": "code",
      "source": [
        "import faiss\n",
        "import numpy as np\n",
        "\n",
        "# Define the vector dimension (must match your embedding size)\n",
        "dimension = 384\n",
        "\n",
        "# Create a FAISS index\n",
        "f_index = faiss.IndexFlatL2(dimension)"
      ],
      "metadata": {
        "id": "723gg7qcObFN"
      },
      "id": "723gg7qcObFN",
      "execution_count": null,
      "outputs": []
    },
    {
      "cell_type": "code",
      "source": [
        "np.array(freshdisk_dembeddings, dtype=np.float32)"
      ],
      "metadata": {
        "colab": {
          "base_uri": "https://localhost:8080/"
        },
        "id": "lBU6Ec-2hNrV",
        "outputId": "a091db97-822a-4e48-cf28-a1c126424006"
      },
      "id": "lBU6Ec-2hNrV",
      "execution_count": null,
      "outputs": [
        {
          "output_type": "execute_result",
          "data": {
            "text/plain": [
              "array([[-0.00570637,  0.08167826, -0.02607101, ...,  0.01430358,\n",
              "         0.00660486,  0.01164934],\n",
              "       [-0.07234441,  0.07656108, -0.0456481 , ...,  0.0370193 ,\n",
              "         0.01330203,  0.0094805 ],\n",
              "       [-0.0429845 ,  0.10342394, -0.06192545, ...,  0.0287813 ,\n",
              "        -0.00329484,  0.009541  ],\n",
              "       ...,\n",
              "       [ 0.03430518,  0.07350503, -0.06493712, ..., -0.0324442 ,\n",
              "        -0.02722109, -0.03697066],\n",
              "       [ 0.00919025,  0.04786351, -0.01025765, ...,  0.05471395,\n",
              "        -0.06952396, -0.0653111 ],\n",
              "       [ 0.04758606,  0.04585775, -0.02102058, ...,  0.06463236,\n",
              "         0.03920872,  0.00218308]], dtype=float32)"
            ]
          },
          "metadata": {},
          "execution_count": 117
        }
      ]
    },
    {
      "cell_type": "code",
      "source": [
        "freshdisk_dembeddings_np = np.array(freshdisk_dembeddings, dtype=np.float32)\n",
        "hnsw_dembeddings_np = np.array(hnsw_dembeddings, dtype=np.float32)\n",
        "ivfpq_dembeddings_np = np.array(ivfpq_dembeddings, dtype=np.float32)\n",
        "\n",
        "# Add vectors to the FAISS index\n",
        "#index.add(freshdisk_dembeddings_np)\n",
        "#index.add(hnsw_dembeddings_np)\n",
        "#index.add(ivfpq_dembeddings_np)\n",
        "\n",
        "# Verify number of vectors added\n",
        "#print(\"Total vectors in index:\", index.ntotal)"
      ],
      "metadata": {
        "id": "WD-1GyVhOa4J"
      },
      "id": "WD-1GyVhOa4J",
      "execution_count": null,
      "outputs": []
    },
    {
      "cell_type": "code",
      "source": [
        "def search_faiss(query_embedding, k=5):\n",
        "    \"\"\"\n",
        "    Perform a similarity search in the FAISS index.\n",
        "\n",
        "    :param query_embedding: The embedding of the query text.\n",
        "    :param k: Number of closest matches to return.\n",
        "\n",
        "    :return: List of top-k indices and distances.\n",
        "    \"\"\"\n",
        "    query_embedding_np = np.array(query_embedding, dtype=np.float32).reshape(1, -1)\n",
        "    distances, indices = f_index.search(query_embedding_np, k)\n",
        "    return indices[0], distances[0]\n",
        "\n",
        "# Example query\n",
        "query_embedding = freshdisk_dembeddings[0]  # Use one of your embeddings as a test query\n",
        "indices, distances = search_faiss(query_embedding)\n",
        "\n",
        "print(\"Top matches:\", indices)\n",
        "print(\"Distances:\", distances)"
      ],
      "metadata": {
        "colab": {
          "base_uri": "https://localhost:8080/"
        },
        "id": "ooIYeJP0OagO",
        "outputId": "c9cab683-882a-42e8-e28f-d748058eb118"
      },
      "id": "ooIYeJP0OagO",
      "execution_count": null,
      "outputs": [
        {
          "output_type": "stream",
          "name": "stdout",
          "text": [
            "Top matches: [-1 -1 -1 -1 -1]\n",
            "Distances: [3.4028235e+38 3.4028235e+38 3.4028235e+38 3.4028235e+38 3.4028235e+38]\n"
          ]
        }
      ]
    },
    {
      "cell_type": "markdown",
      "id": "9bb3e59a-2656-457f-aa88-e54fa60b2a63",
      "metadata": {
        "id": "9bb3e59a-2656-457f-aa88-e54fa60b2a63"
      },
      "source": [
        "We'll create an index object out of the index we just made. We'll make this with Pinecone's [GRPC client](https://docs.pinecone.io/docs/performance-tuning#using-the-grpc-client-to-get-higher-upsert-speeds), since it's a little faster for upserts:\n"
      ]
    },
    {
      "cell_type": "markdown",
      "id": "89dc6979-bd52-4080-b7cc-80689b6daf91",
      "metadata": {
        "id": "89dc6979-bd52-4080-b7cc-80689b6daf91"
      },
      "source": [
        "We'll need to make unique IDs for all of our objects, which is easy with the `uuid` library in Python:"
      ]
    },
    {
      "cell_type": "code",
      "execution_count": null,
      "id": "46051402-3950-4c6c-a0ab-ac6b3a08e389",
      "metadata": {
        "id": "46051402-3950-4c6c-a0ab-ac6b3a08e389"
      },
      "outputs": [],
      "source": [
        "# Let's make sure we have the same # of IDs as there are chunks:\n",
        "\n",
        "assert len(freshdisk_ids) == len(chunked_files.get('freshdisk'))\n",
        "assert len(hnsw_ids) == len(chunked_files.get('hnsw'))\n",
        "assert len(ivfpq_ids) == len(chunked_files.get('ivfpq'))"
      ]
    },
    {
      "cell_type": "markdown",
      "id": "7eef3d9c-94f0-40d6-8c6c-7fef149c4152",
      "metadata": {
        "id": "7eef3d9c-94f0-40d6-8c6c-7fef149c4152"
      },
      "source": [
        "Now that we have our IDs, we can make our composite sparse-dense objects that we'll index into Pinecone. These will take 4 components:\n",
        "- Our IDs\n",
        "- Our sparse embeddings\n",
        "- Our dense embeddings\n",
        "- Our chunks\n",
        "\n",
        "We'll use the actual text content of our PDFs (stored in our chunks) as metadata. This allows the end user to see the content of what's being returned by their search instead of just the sparse/dense vectors. In order to store our chunks' textual data in digestible metadata object for Pinecone, we'll want to turn each chunk into a dict that has a `'text'` key to hold the chunk value."
      ]
    },
    {
      "cell_type": "code",
      "execution_count": null,
      "id": "9f994d0a-6167-4157-8e7f-0e450d164197",
      "metadata": {
        "id": "9f994d0a-6167-4157-8e7f-0e450d164197"
      },
      "outputs": [],
      "source": [
        "def create_metadata_objs(doc: List[str]) -> List[dict[str]]:\n",
        "    \"\"\"\n",
        "    Create objects to store as metadata alongside our sparse and dense vectors in our hybird Pinecone index.\n",
        "\n",
        "    :param doc: Chunks of a document we'd like to use while creating metadata objects.\n",
        "\n",
        "    :return: Metadata objects with a \"text\" key and a value that points to the text content of each chunk.\n",
        "    \"\"\"\n",
        "    return [{'text': d} for d in doc]"
      ]
    },
    {
      "cell_type": "code",
      "execution_count": null,
      "id": "874f6265-5c21-4169-a8b9-2bd65f5b4a57",
      "metadata": {
        "id": "874f6265-5c21-4169-a8b9-2bd65f5b4a57"
      },
      "outputs": [],
      "source": [
        "freshdisk_metadata = create_metadata_objs(chunked_files.get('freshdisk'))\n",
        "hnsw_metadata = create_metadata_objs(chunked_files.get('hnsw'))\n",
        "ivfpq_metadata = create_metadata_objs(chunked_files.get('ivfpq'))"
      ]
    },
    {
      "cell_type": "code",
      "execution_count": null,
      "id": "f6a6a557-49cc-4dbf-9c00-f02c447c4c48",
      "metadata": {
        "colab": {
          "base_uri": "https://localhost:8080/"
        },
        "id": "f6a6a557-49cc-4dbf-9c00-f02c447c4c48",
        "outputId": "d97276c5-7e23-430b-9910-0fec1defb318"
      },
      "outputs": [
        {
          "output_type": "execute_result",
          "data": {
            "text/plain": [
              "{'text': 'It is the responsibility of each BSP Manager to keep the appropriate FDS Regional Director, the Local Customer Advisory Group Passenger (LCAGP) and the BSP Data Processing Centre informed of BSP developments and operations in order to ensure compliance with the DISH Specifications. Full stop/period Slash / Minus Sign Embedded blank (space) In the record layouts, the format of each data element is preceded by a number to indicate the number of characters for the specified element. E.g. 15N represents field'}"
            ]
          },
          "metadata": {},
          "execution_count": 60
        }
      ],
      "source": [
        "# Preview\n",
        "\n",
        "freshdisk_metadata[0]"
      ]
    },
    {
      "cell_type": "code",
      "execution_count": null,
      "id": "9e2add63-efaa-4022-bf18-1472ae8aacee",
      "metadata": {
        "id": "9e2add63-efaa-4022-bf18-1472ae8aacee"
      },
      "outputs": [],
      "source": [
        "def create_composite_objs(ids: str, sembeddings: List[Dict[str, List[Any]]], dembeddings: List[float], metadata: Dict[str, str]) -> List[Dict[str, Any]]:\n",
        "    \"\"\"\n",
        "    Create objects for indexing into Pinecone. Each object contains a document ID (which corresponds to the chunk, not the larger document),\n",
        "    the chunk's sparse embedding, the chunk's dense embedding, and the chunk's corresponding metadata object.\n",
        "\n",
        "    :param ids: Unique ID of a chunk we want to index.\n",
        "    :param sembeddings: Sparse embedding representation of a chunk we want to index.\n",
        "    :param dembeddings: Dense embedding representation of a chunk we want to index.\n",
        "    :param metadata: Metadata objects with a \"text\" key and a value that points to the text content of each chunk.\n",
        "\n",
        "    :return: Composite objects in the correct format for ingest into Pinecone.\n",
        "    \"\"\"\n",
        "    to_index = []\n",
        "\n",
        "    for i in range(len(metadata)):\n",
        "        to_index_obj = {\n",
        "                'id': ids[i],\n",
        "                'sparse_values': sembeddings[i],\n",
        "                'values': dembeddings[i],\n",
        "                'metadata': metadata[i]\n",
        "            }\n",
        "        to_index.append(to_index_obj)\n",
        "    return to_index"
      ]
    },
    {
      "cell_type": "code",
      "execution_count": null,
      "id": "57f44a46-a6b8-4778-bab7-429e8733c181",
      "metadata": {
        "id": "57f44a46-a6b8-4778-bab7-429e8733c181"
      },
      "outputs": [],
      "source": [
        "freshdisk_com_objs = create_composite_objs(freshdisk_ids, freshdisk_sembeddings, freshdisk_dembeddings, freshdisk_metadata)\n",
        "hnsw_com_objs = create_composite_objs(hnsw_ids, hnsw_sembeddings, hnsw_dembeddings, hnsw_metadata)\n",
        "ivfpq_com_objs = create_composite_objs(ivfpq_ids, ivfpq_sembeddings, ivfpq_dembeddings, ivfpq_metadata)"
      ]
    },
    {
      "cell_type": "code",
      "execution_count": null,
      "id": "938a4954-ecf5-4491-87e6-597a83956024",
      "metadata": {
        "id": "938a4954-ecf5-4491-87e6-597a83956024",
        "colab": {
          "base_uri": "https://localhost:8080/"
        },
        "outputId": "308ca825-bcc6-44d8-bcb1-ea14bc33d987"
      },
      "outputs": [
        {
          "output_type": "execute_result",
          "data": {
            "text/plain": [
              "101"
            ]
          },
          "metadata": {},
          "execution_count": 63
        }
      ],
      "source": [
        "len(freshdisk_dembeddings_np) + len(hnsw_dembeddings_np) + len(ivfpq_dembeddings_np)"
      ]
    },
    {
      "cell_type": "code",
      "source": [],
      "metadata": {
        "id": "8hl26ljNRG97"
      },
      "id": "8hl26ljNRG97",
      "execution_count": null,
      "outputs": []
    },
    {
      "cell_type": "code",
      "source": [],
      "metadata": {
        "id": "tIdEz25XRHje"
      },
      "id": "tIdEz25XRHje",
      "execution_count": null,
      "outputs": []
    },
    {
      "cell_type": "code",
      "source": [],
      "metadata": {
        "id": "40D_5SB7RHZL"
      },
      "id": "40D_5SB7RHZL",
      "execution_count": null,
      "outputs": []
    },
    {
      "cell_type": "markdown",
      "id": "db7bc28e-5ead-4d44-a2af-287ee3efd712",
      "metadata": {
        "id": "db7bc28e-5ead-4d44-a2af-287ee3efd712"
      },
      "source": [
        "Now we can index (\"upsert\") our objects into our Pinecone index!"
      ]
    },
    {
      "cell_type": "code",
      "execution_count": null,
      "id": "6aaaaf91-2353-430b-aec6-0e843c499bd7",
      "metadata": {
        "id": "6aaaaf91-2353-430b-aec6-0e843c499bd7"
      },
      "outputs": [],
      "source": [
        "f_index.add(freshdisk_dembeddings_np)\n",
        "f_index.add(hnsw_dembeddings_np)\n",
        "f_index.add(ivfpq_dembeddings_np)\n"
      ]
    },
    {
      "cell_type": "code",
      "execution_count": null,
      "id": "29feb6c2-e6ad-47c4-834a-91ba08a72927",
      "metadata": {
        "colab": {
          "base_uri": "https://localhost:8080/"
        },
        "id": "29feb6c2-e6ad-47c4-834a-91ba08a72927",
        "outputId": "a1a81d56-8913-4e76-e21a-850b0c93a9e5"
      },
      "outputs": [
        {
          "output_type": "stream",
          "name": "stdout",
          "text": [
            "Total vectors in the index: 101\n",
            "Index type: <class 'faiss.swigfaiss_avx2.IndexFlatL2'>\n"
          ]
        }
      ],
      "source": [
        "# Woo we have our vectors (252) in our index!\n",
        "\n",
        "total_vectors = f_index.ntotal\n",
        "print(f\"Total vectors in the index: {total_vectors}\")\n",
        "\n",
        "# Check the index type\n",
        "print(f\"Index type: {type(f_index)}\")\n",
        "\n",
        "# If your index is using a specific search algorithm (e.g., IVF or HNSW), you can access more information:\n",
        "if isinstance(index, faiss.IndexIVFFlat):\n",
        "    print(f\"Number of centroids: {f_index.nlist}\")\n",
        "elif isinstance(index, faiss.IndexHNSWFlat):\n",
        "    print(f\"Number of neighbors for HNSW: {f_index.efConstruction}\")"
      ]
    },
    {
      "cell_type": "markdown",
      "id": "4f16c883-9892-49a6-99b5-846b356b3258",
      "metadata": {
        "id": "4f16c883-9892-49a6-99b5-846b356b3258"
      },
      "source": [
        "# Query Our Hybrid Docs\n",
        "\n",
        "Now that we have all of our hybrid vector objects in our Pinecone index, we can issue some queries!\n",
        "\n",
        "Since issuing a query to a vector index requires the query to be vectorized in the same way as the objects in the index are vectorized (so they can match up in vector space), for hybrid queries we'll have to vectorize the query *twice*! Once as a sparse vector and once as a dense vector. We then send both of those vectors to Pinecone to get items back."
      ]
    },
    {
      "cell_type": "code",
      "execution_count": null,
      "id": "3802bd10-1a66-4a9b-b5c6-56a2779f30d9",
      "metadata": {
        "id": "3802bd10-1a66-4a9b-b5c6-56a2779f30d9"
      },
      "outputs": [],
      "source": [
        "query = \"What is the responsibility of each BSP Manager?\"\n"
      ]
    },
    {
      "cell_type": "markdown",
      "id": "c0303a36-1bb0-40d5-85a3-eed31d003cab",
      "metadata": {
        "id": "c0303a36-1bb0-40d5-85a3-eed31d003cab",
        "jp-MarkdownHeadingCollapsed": true
      },
      "source": [
        "Create sparse embedding from query\n",
        "\n",
        "Note: do *not* refit the bm25 model here. We want to keep the token frequencies etc from when we fit it to the text from our PDFs!\n",
        "\n",
        "You might be wondering how the model gets \"refit\" when the corpus changes, the answer is a little complicated, but essentially this is a special implementation of BM25 (which usually runs online) that has precomputed frequencies for English words, based off the MSMarco dataset. So, when you add new docs to the corpus, you don't have to \"refit\" the BM25 model, it just finds the word frequencies in the MSMarco dataset.\n",
        "\n",
        "More here: https://github.com/pinecone-io/pinecone-text/blob/main/pinecone_text/sparse/bm25_encoder.py#L255\n",
        "\n"
      ]
    },
    {
      "cell_type": "code",
      "execution_count": null,
      "id": "fd44e1c5-5ccc-4e94-8247-d83f2a32f02a",
      "metadata": {
        "id": "fd44e1c5-5ccc-4e94-8247-d83f2a32f02a"
      },
      "outputs": [],
      "source": [
        "query_sembedding = bm25.encode_queries(query)"
      ]
    },
    {
      "cell_type": "code",
      "execution_count": null,
      "id": "4644d3a3-d5e3-4e6e-8383-ccd214bd0eaf",
      "metadata": {
        "colab": {
          "base_uri": "https://localhost:8080/"
        },
        "id": "4644d3a3-d5e3-4e6e-8383-ccd214bd0eaf",
        "outputId": "83bc7b85-5378-4cc4-b745-73baad059738"
      },
      "outputs": [
        {
          "output_type": "execute_result",
          "data": {
            "text/plain": [
              "{'indices': [1050980247, 3480749187, 2135986242],\n",
              " 'values': [0.3333333333333333, 0.3333333333333333, 0.3333333333333333]}"
            ]
          },
          "metadata": {},
          "execution_count": 219
        }
      ],
      "source": [
        "# Cool! We can see there are only two values in here, because BM25 automatically removed stop word like \"what\" and \"is\"\n",
        "\n",
        "query_sembedding"
      ]
    },
    {
      "cell_type": "code",
      "execution_count": null,
      "id": "20e4ad1b-418b-4865-9995-45bb8a351efb",
      "metadata": {
        "id": "20e4ad1b-418b-4865-9995-45bb8a351efb",
        "scrolled": true
      },
      "outputs": [],
      "source": [
        "# Create dense embedding\n",
        "query = \"What is the responsibility of each BSP Manager?\"\n",
        "\n",
        "query_dembedding = produce_embeddings([query])"
      ]
    },
    {
      "cell_type": "code",
      "execution_count": null,
      "id": "c366ef74-e1cd-46d1-b7a2-e856acb6ce8a",
      "metadata": {
        "id": "c366ef74-e1cd-46d1-b7a2-e856acb6ce8a",
        "scrolled": true,
        "colab": {
          "base_uri": "https://localhost:8080/"
        },
        "outputId": "4ff08fbc-e1bf-4cfa-f292-fe6463a207d9"
      },
      "outputs": [
        {
          "output_type": "execute_result",
          "data": {
            "text/plain": [
              "list"
            ]
          },
          "metadata": {},
          "execution_count": 211
        }
      ],
      "source": [
        "type(query_dembedding)\n",
        "#query_dembedding"
      ]
    },
    {
      "cell_type": "markdown",
      "id": "06ebc12c-a6a2-4834-b6ec-749fd61f32ae",
      "metadata": {
        "id": "06ebc12c-a6a2-4834-b6ec-749fd61f32ae"
      },
      "source": [
        "Pinecone vector search has a cool user feature where you can weight the sparse vectors higher or lower (i.e. of more or less importance) than the dense vectors. This is controlled by the `alpha` parameter. An `alpha` of 0 means you're doing a totally keyword-based search (i.e. only over sparse vectors), while an `alpha` of 1 means you're doing a totally semantic search (i.e. only over dense vectors).\n",
        "\n",
        "Let's make a function that'll let us weight our vectors by alpha.\n",
        "\n",
        "(We'll also include `k`, which is the number of docs we want to retrieve)"
      ]
    },
    {
      "cell_type": "code",
      "execution_count": null,
      "id": "6b61142a-192e-4b73-87f1-eeb68e8c4998",
      "metadata": {
        "id": "6b61142a-192e-4b73-87f1-eeb68e8c4998"
      },
      "outputs": [],
      "source": [
        "'''# Integrate alpha and top-k\n",
        "\n",
        "def weight_by_alpha(sparse_embedding: Dict[str, List[Any]], dense_embedding: List[float], alpha: float) -> Tuple[Dict[str, List[Any]], List[float]]:\n",
        "    \"\"\"\n",
        "    Weight the values of our sparse and dense embeddings by the parameter alpha (0-1).\n",
        "\n",
        "    :param sparse_embedding: Sparse embedding representation of one of our documents (or chunks).\n",
        "    :param dense_embedding: Dense embedding representation of one of our documents (or chunks).\n",
        "    :param alpha: Weighting parameter between 0-1 that controls the impact of sparse or dense embeddings on the retrieval and ranking\n",
        "        of returned docs (chunks) in our index.\n",
        "\n",
        "    :return: Weighted sparse and dense embeddings for one of our documents (chunks).\n",
        "    \"\"\"\n",
        "    if alpha < 0 or alpha > 1:\n",
        "        raise ValueError(\"Alpha must be between 0 and 1\")\n",
        "    hsparse = {\n",
        "        'indices': sparse_embedding['indices'],\n",
        "        'values':  [v * (1 - alpha) for v in sparse_embedding['values']]\n",
        "    }\n",
        "    hdense = [v * alpha for v in dense_embedding]\n",
        "    return hsparse, hdense'''"
      ]
    },
    {
      "cell_type": "markdown",
      "id": "f0c12e86-5a18-41cf-bce0-699df56fbc8c",
      "metadata": {
        "id": "f0c12e86-5a18-41cf-bce0-699df56fbc8c"
      },
      "source": [
        "Now let's make a function that'll query our Pinecone index while taking into account whatever `alpha` and `k` values we want to pass:"
      ]
    },
    {
      "cell_type": "code",
      "execution_count": null,
      "id": "787c9898-b1d8-4eea-a8ec-5b24215c2a27",
      "metadata": {
        "id": "787c9898-b1d8-4eea-a8ec-5b24215c2a27"
      },
      "outputs": [],
      "source": [
        "'''# Note this doesn't have any genAI in it yet\n",
        "\n",
        "\n",
        "def issue_hybrid_query(sparse_embedding: Dict[str, List[Any]], dense_embedding: List[float], alpha: float, top_k: int) -> QueryResponse:\n",
        "    \"\"\"\n",
        "    Send properly formatted hybrid search query to Pinecone index and get back `k` ranked results (ranked by dot product similarity, as\n",
        "        defined when we made our index).\n",
        "\n",
        "    :param sparse_embedding: Sparse embedding representation of one of our documents (or chunks).\n",
        "    :param dense_embedding: Dense embedding representation of one of our documents (or chunks).\n",
        "    :param alpha: Weighting parameter between 0-1 that controls the impact of sparse or dense embeddings on the retrieval and ranking\n",
        "        of returned docs (chunks) in our index.\n",
        "    :param top_k: The number of documents (chunks) we want back from Pinecone.\n",
        "\n",
        "    :return: QueryResponse object from Pinecone containing top-k results.\n",
        "    \"\"\"\n",
        "    scaled_sparse, scaled_dense = weight_by_alpha(sparse_embedding, dense_embedding, alpha)\n",
        "\n",
        "    result = index.query(\n",
        "        vector=scaled_dense,\n",
        "        sparse_vector=scaled_sparse,\n",
        "        top_k=top_k,\n",
        "        include_metadata=True\n",
        "    )\n",
        "    return result'''"
      ]
    },
    {
      "cell_type": "code",
      "source": [
        "'''\n",
        "def weight_by_alpha(sparse_embedding: Dict[str, List[Any]], dense_embedding: List[float], alpha: float) -> Tuple[Dict[str, List[Any]], List[float]]:\n",
        "    \"\"\"\n",
        "    Weight the values of our sparse and dense embeddings by the parameter alpha (0-1).\n",
        "\n",
        "    :param sparse_embedding: Sparse embedding representation of one of our documents (or chunks).\n",
        "    :param dense_embedding: Dense embedding representation of one of our documents (or chunks).\n",
        "    :param alpha: Weighting parameter between 0-1 that controls the impact of sparse or dense embeddings on the retrieval and ranking\n",
        "        of returned docs (chunks) in our index.\n",
        "\n",
        "    :return: Weighted sparse and dense embeddings for one of our documents (chunks).\n",
        "    \"\"\"\n",
        "    if alpha < 0 or alpha > 1:\n",
        "        raise ValueError(\"Alpha must be between 0 and 1\")\n",
        "    hsparse = {\n",
        "        'indices': sparse_embedding['indices'],\n",
        "        'values': [v * (1 - alpha) for v in sparse_embedding['values']]\n",
        "    }\n",
        "    hdense = [v * alpha for v in dense_embedding]\n",
        "    return hsparse, hdense\n",
        "\n",
        "\n",
        "def issue_hybrid_query(sparse_embedding: Dict[str, List[Any]], dense_embedding: List[float], alpha: float, top_k: int) -> List[Tuple[int, float]]:\n",
        "    \"\"\"\n",
        "    Send a hybrid query to the FAISS index and get back top-k ranked results.\n",
        "\n",
        "    :param sparse_embedding: Sparse embedding representation of one of our documents (or chunks).\n",
        "    :param dense_embedding: Dense embedding representation of one of our documents (or chunks).\n",
        "    :param alpha: Weighting parameter between 0-1 that controls the impact of sparse or dense embeddings on the retrieval and ranking\n",
        "        of returned docs (chunks) in our index.\n",
        "    :param top_k: The number of documents (chunks) we want back from FAISS.\n",
        "\n",
        "    :return: List of tuples where each tuple is (index, similarity score) for the top-k results.\n",
        "    \"\"\"\n",
        "    # Weight the sparse and dense embeddings by alpha\n",
        "    scaled_sparse, scaled_dense = weight_by_alpha(sparse_embedding, dense_embedding, alpha)\n",
        "\n",
        "    # Convert the weighted dense vector to a numpy array for FAISS\n",
        "    dense_vector = np.array(scaled_dense, dtype=np.float32).reshape(1, -1)  # Reshaped to match FAISS input shape\n",
        "\n",
        "    # Perform the FAISS search for the dense vector\n",
        "    D, I = f_index.search(dense_vector, top_k)  # D: distances (similarities), I: indices\n",
        "\n",
        "    # Combine the results with the weighted sparse embeddings (assuming sparse embeddings are handled separately)\n",
        "    # Here, we return the results from FAISS based on the dense vector query.\n",
        "    results = [(I[0][i], D[0][i]) for i in range(top_k)]\n",
        "    return results\n",
        "\n",
        "'''"
      ],
      "metadata": {
        "id": "vFWivI_FURf_",
        "colab": {
          "base_uri": "https://localhost:8080/",
          "height": 105
        },
        "outputId": "1ccd1df2-5f45-4724-bb2a-d712b0583a60"
      },
      "id": "vFWivI_FURf_",
      "execution_count": null,
      "outputs": [
        {
          "output_type": "execute_result",
          "data": {
            "text/plain": [
              "'\\ndef weight_by_alpha(sparse_embedding: Dict[str, List[Any]], dense_embedding: List[float], alpha: float) -> Tuple[Dict[str, List[Any]], List[float]]:\\n    \"\"\"\\n    Weight the values of our sparse and dense embeddings by the parameter alpha (0-1).\\n\\n    :param sparse_embedding: Sparse embedding representation of one of our documents (or chunks).\\n    :param dense_embedding: Dense embedding representation of one of our documents (or chunks).\\n    :param alpha: Weighting parameter between 0-1 that controls the impact of sparse or dense embeddings on the retrieval and ranking\\n        of returned docs (chunks) in our index.\\n\\n    :return: Weighted sparse and dense embeddings for one of our documents (chunks).\\n    \"\"\"\\n    if alpha < 0 or alpha > 1:\\n        raise ValueError(\"Alpha must be between 0 and 1\")\\n    hsparse = {\\n        \\'indices\\': sparse_embedding[\\'indices\\'],\\n        \\'values\\': [v * (1 - alpha) for v in sparse_embedding[\\'values\\']]\\n    }\\n    hdense = [v * alpha for v in dense_embedding]\\n    return hsparse, hdense\\n\\n\\ndef issue_hybrid_query(sparse_embedding: Dict[str, List[Any]], dense_embedding: List[float], alpha: float, top_k: int) -> List[Tuple[int, float]]:\\n    \"\"\"\\n    Send a hybrid query to the FAISS index and get back top-k ranked results.\\n\\n    :param sparse_embedding: Sparse embedding representation of one of our documents (or chunks).\\n    :param dense_embedding: Dense embedding representation of one of our documents (or chunks).\\n    :param alpha: Weighting parameter between 0-1 that controls the impact of sparse or dense embeddings on the retrieval and ranking\\n        of returned docs (chunks) in our index.\\n    :param top_k: The number of documents (chunks) we want back from FAISS.\\n\\n    :return: List of tuples where each tuple is (index, similarity score) for the top-k results.\\n    \"\"\"\\n    # Weight the sparse and dense embeddings by alpha\\n    scaled_sparse, scaled_dense = weight_by_alpha(sparse_embedding, dense_embedding, alpha)\\n\\n    # Convert the weighted dense vector to a numpy array for FAISS\\n    dense_vector = np.array(scaled_dense, dtype=np.float32).reshape(1, -1)  # Reshaped to match FAISS input shape\\n\\n    # Perform the FAISS search for the dense vector\\n    D, I = f_index.search(dense_vector, top_k)  # D: distances (similarities), I: indices\\n\\n    # Combine the results with the weighted sparse embeddings (assuming sparse embeddings are handled separately)\\n    # Here, we return the results from FAISS based on the dense vector query.\\n    results = [(I[0][i], D[0][i]) for i in range(top_k)]\\n    return results\\n\\n'"
            ],
            "application/vnd.google.colaboratory.intrinsic+json": {
              "type": "string"
            }
          },
          "metadata": {},
          "execution_count": 198
        }
      ]
    },
    {
      "cell_type": "code",
      "source": [
        "def query_faiss_index(faiss_index: faiss.Index, query_embedding: np.ndarray, top_k: int) -> list:\n",
        "    \"\"\"\n",
        "    Perform a query on a FAISS index to get the top-k most similar results.\n",
        "\n",
        "    :param faiss_index: The FAISS index.\n",
        "    :param query_embedding: The query embedding to search for (shape: (1, dimension)).\n",
        "    :param top_k: The number of results to return.\n",
        "    :return: A list of tuples containing (index, similarity_score) for the top-k results.\n",
        "    \"\"\"\n",
        "    # Ensure the query embedding is in the correct format\n",
        "    query_embedding = np.array(query_embedding, dtype=np.float32).reshape(1, -1)\n",
        "\n",
        "    # Perform the search to get the top-k results\n",
        "    distances, indices = f_index.search(query_embedding, top_k)\n",
        "\n",
        "    # Return the results as a list of (index, similarity_score) tuples\n",
        "    return list(zip(indices[0], distances[0]))\n",
        "\n",
        "\n",
        "\n",
        "results = query_faiss_index(f_index, query_dembedding, 5)\n"
      ],
      "metadata": {
        "id": "D2sxSbYMqDbk"
      },
      "id": "D2sxSbYMqDbk",
      "execution_count": null,
      "outputs": []
    },
    {
      "cell_type": "code",
      "source": [
        "results"
      ],
      "metadata": {
        "colab": {
          "base_uri": "https://localhost:8080/"
        },
        "id": "HYC1RhMuqatG",
        "outputId": "de1edab1-8787-4f25-9811-10247f2cfae5"
      },
      "id": "HYC1RhMuqatG",
      "execution_count": null,
      "outputs": [
        {
          "output_type": "execute_result",
          "data": {
            "text/plain": [
              "[(np.int64(0), np.float32(1.1430922)),\n",
              " (np.int64(19), np.float32(1.2303262)),\n",
              " (np.int64(8), np.float32(1.2386109)),\n",
              " (np.int64(72), np.float32(1.269597)),\n",
              " (np.int64(18), np.float32(1.3392113))]"
            ]
          },
          "metadata": {},
          "execution_count": 226
        }
      ]
    },
    {
      "cell_type": "code",
      "source": [
        "all_texts_1 = list(chunked_files.get('freshdisk')) + list(chunked_files.get('hnsw')) + list(chunked_files.get('ivfpq'))\n"
      ],
      "metadata": {
        "id": "JZiHQIlSUR56"
      },
      "id": "JZiHQIlSUR56",
      "execution_count": null,
      "outputs": []
    },
    {
      "cell_type": "code",
      "source": [
        "print(all_texts_1[0])\n",
        "chunked_files.get('freshdisk')[0]"
      ],
      "metadata": {
        "id": "oeFl8EHnb16Q",
        "outputId": "2e7f5e8c-c859-4e49-dfdb-b16719a5745c",
        "colab": {
          "base_uri": "https://localhost:8080/",
          "height": 108
        }
      },
      "id": "oeFl8EHnb16Q",
      "execution_count": null,
      "outputs": [
        {
          "output_type": "stream",
          "name": "stdout",
          "text": [
            "It is the responsibility of each BSP Manager to keep the appropriate FDS Regional Director, the Local Customer Advisory Group Passenger (LCAGP) and the BSP Data Processing Centre informed of BSP developments and operations in order to ensure compliance with the DISH Specifications. Full stop/period Slash / Minus Sign Embedded blank (space) In the record layouts, the format of each data element is preceded by a number to indicate the number of characters for the specified element. E.g. 15N represents field\n"
          ]
        },
        {
          "output_type": "execute_result",
          "data": {
            "text/plain": [
              "'It is the responsibility of each BSP Manager to keep the appropriate FDS Regional Director, the Local Customer Advisory Group Passenger (LCAGP) and the BSP Data Processing Centre informed of BSP developments and operations in order to ensure compliance with the DISH Specifications. Full stop/period Slash / Minus Sign Embedded blank (space) In the record layouts, the format of each data element is preceded by a number to indicate the number of characters for the specified element. E.g. 15N represents field'"
            ],
            "application/vnd.google.colaboratory.intrinsic+json": {
              "type": "string"
            }
          },
          "metadata": {},
          "execution_count": 183
        }
      ]
    },
    {
      "cell_type": "code",
      "source": [
        "print(type(f_index))\n",
        "print(f_index.d)\n",
        "print(f_index.ntotal)  # This shows the total number of vectors in the index\n"
      ],
      "metadata": {
        "colab": {
          "base_uri": "https://localhost:8080/"
        },
        "id": "MAzINl5npXw4",
        "outputId": "c45c25f0-2f4f-46ef-f033-2e206fd6c177"
      },
      "id": "MAzINl5npXw4",
      "execution_count": null,
      "outputs": [
        {
          "output_type": "stream",
          "name": "stdout",
          "text": [
            "<class 'faiss.swigfaiss_avx2.IndexFlatL2'>\n",
            "384\n",
            "0\n"
          ]
        }
      ]
    },
    {
      "cell_type": "markdown",
      "id": "626bffe8-cce1-47b9-84d6-c827e9f5cf07",
      "metadata": {
        "id": "626bffe8-cce1-47b9-84d6-c827e9f5cf07"
      },
      "source": [
        "Let's issue a pure semantic search:"
      ]
    },
    {
      "cell_type": "code",
      "execution_count": null,
      "id": "cea14e5f-20dc-44a1-8793-17583e8689ef",
      "metadata": {
        "colab": {
          "base_uri": "https://localhost:8080/"
        },
        "id": "cea14e5f-20dc-44a1-8793-17583e8689ef",
        "outputId": "c1d65df1-2cb0-44a1-da07-ef30692247c3",
        "scrolled": true
      },
      "outputs": [
        {
          "output_type": "execute_result",
          "data": {
            "text/plain": [
              "[(np.int64(67), np.float32(0.99999976)),\n",
              " (np.int64(42), np.float32(0.9999998)),\n",
              " (np.int64(68), np.float32(0.9999998)),\n",
              " (np.int64(13), np.float32(0.9999999)),\n",
              " (np.int64(18), np.float32(0.9999999))]"
            ]
          },
          "metadata": {},
          "execution_count": 194
        }
      ],
      "source": [
        "# Note, for our dense embedding (`query_dembedding`), we need to grab the 1st value [0] since Pinecone expects a Numpy array when queried:\n",
        "\n",
        "issue_hybrid_query(query_sembedding, query_dembedding[0], 0.0, 5)"
      ]
    },
    {
      "cell_type": "markdown",
      "id": "d98e72fd-4ace-42dc-8bd2-d086bd0907f4",
      "metadata": {
        "id": "d98e72fd-4ace-42dc-8bd2-d086bd0907f4",
        "scrolled": true
      },
      "source": [
        "And now a pure keyword search. You can see how many more domain-specific words are in these results:"
      ]
    },
    {
      "cell_type": "markdown",
      "id": "623df78c-e1db-440a-97fb-25d97e6678f0",
      "metadata": {
        "id": "623df78c-e1db-440a-97fb-25d97e6678f0"
      },
      "source": [
        "You can see the differences above: when we issue a purely semantic search, our search results are about what the idea of \"nearest neighbors\" is; in our keyword search, the vast majority of our search results are just exact-word matches for the tokens \"nearest\" and \"neighbors\". Most of them are just citations from the HNSW article's bibliography!\n",
        "\n",
        "Can we get the best of both worlds? In an ideal world, my search results would both tell me \"about\" the concept of nearest neighbors and contain things like citations that I could read more about later.\n",
        "\n",
        "Let's see if we can get a combination of semantic and keyword search by toggling our `alpha` value:"
      ]
    },
    {
      "cell_type": "code",
      "execution_count": null,
      "id": "a19923ef-af08-41cb-976b-f93fd4e0148d",
      "metadata": {
        "colab": {
          "base_uri": "https://localhost:8080/"
        },
        "id": "a19923ef-af08-41cb-976b-f93fd4e0148d",
        "outputId": "628b5934-c27c-4ad6-bb9d-2e9dcd164078",
        "scrolled": true
      },
      "outputs": [
        {
          "output_type": "execute_result",
          "data": {
            "text/plain": [
              "[(np.int64(66), np.float32(0.8594556)),\n",
              " (np.int64(71), np.float32(0.8663151)),\n",
              " (np.int64(62), np.float32(0.87128127)),\n",
              " (np.int64(64), np.float32(0.9011617)),\n",
              " (np.int64(73), np.float32(0.901172))]"
            ]
          },
          "metadata": {},
          "execution_count": 148
        }
      ],
      "source": [
        "issue_hybrid_query(query_sembedding, query_dembedding[0], 0.2, 5)  # closer to 1.0 = closer to pure keyword search"
      ]
    },
    {
      "cell_type": "code",
      "source": [
        "def get_text_from_faiss_indices(faiss_indices, chunked_files):\n",
        "    \"\"\"\n",
        "    Given FAISS indices, return the corresponding text from chunked files.\n",
        "\n",
        "    :param faiss_indices: List of FAISS indices returned from a search.\n",
        "    :param chunked_files: Dictionary containing chunked text files.\n",
        "    :param embedding_type: The embedding type to use ('freshdisk', 'hnsw', or 'ivfpq').\n",
        "\n",
        "    :return: List of tuples (index, corresponding_text)\n",
        "    \"\"\"\n",
        "\n",
        "\n",
        "    # Retrieve the chunked text corresponding to the embedding type\n",
        "    documents = all_texts\n",
        "\n",
        "    # Map FAISS indices to the corresponding text chunks\n",
        "    return [(faiss_index, documents[faiss_index]) for faiss_index in faiss_indices]\n",
        "\n",
        "# Example of FAISS indices returned (e.g., from index.search)\n",
        "faiss_indices = [0,19,8,72,0]  # Top 5 indices returned from FAISS search\n",
        "\n",
        "result = get_text_from_faiss_indices(faiss_indices, chunked_files)\n",
        "\n",
        "# Output the result\n",
        "for index, text in result:\n",
        "    print(f\"Index: {index}, Text: {text}\")"
      ],
      "metadata": {
        "colab": {
          "base_uri": "https://localhost:8080/"
        },
        "id": "7JL9EyBAZXQd",
        "outputId": "4c9e9320-743d-494c-9572-436e070a5ba2"
      },
      "id": "7JL9EyBAZXQd",
      "execution_count": null,
      "outputs": [
        {
          "output_type": "stream",
          "name": "stdout",
          "text": [
            "Index: 0, Text: It is the responsibility of each BSP Manager to keep the appropriate FDS Regional Director, the Local Customer Advisory Group Passenger (LCAGP) and the BSP Data Processing Centre informed of BSP developments and operations in order to ensure compliance with the DISH Specifications. Full stop/period Slash / Minus Sign Embedded blank (space) In the record layouts, the format of each data element is preceded by a number to indicate the number of characters for the specified element. E.g. 15N represents field\n",
            "Index: 19, Text: record and perform calculations to create the Supplementary Amount (SPAM) and Remittance Amount (REMT). It should be noted that BSPs normally operate only one or two types of net reporting schemes. Thus, the individual BSP should concentrate on those Net Reporting options that the BSP offers. Gross fare = 1,500.00 Standard Commission (9.0%) = 135.00 Net Fare Amount = 1,000.00 Form of Payment Credit = 1,200.00 Remittance Amount (REMT) = 200.00- Remittance Amount |REMT |N/A 0000002000} N/A 0000002000{\n",
            "Index: 8, Text: Commission 50 5 55 Statement Adjustment Notice 50 50 50 due to Airline Adjustment Notice 25 25 25 due to Agent Office Totals 1925 35 1960 241201699    4625 40 4665 if COTP = POS \"if COTP = NEG 103 Note For BT document, instead of reporting “IT”, “BT” would be reported on the RET. RET BSP HOT Element Glossary | Contents of BSP Processing | Glossary Content of Description Reference | Element Reference Element Tour Code TOUR 1T123456789bbbb | Copy from RET to |TOUR BKS24 |1T123456789bbbb HOT Fare FARE IT Copy\n",
            "Index: 72, Text: who take part in the itinerary, or carriers who are contractors of the credit cards. Each of the subscribers represented in Bytes 1 through 42 must be a party to the ATPCO Sales Data Exchange. ISR customers may choose to transmit BSP HOT and ARC CAT data files to ATPCO for onward processing to their interline partners, and in some cases, for their own internal processing in an industrystandard format. These files must be sent by the validating carrier to ATPCO in the same format that they were received\n",
            "Index: 0, Text: It is the responsibility of each BSP Manager to keep the appropriate FDS Regional Director, the Local Customer Advisory Group Passenger (LCAGP) and the BSP Data Processing Centre informed of BSP developments and operations in order to ensure compliance with the DISH Specifications. Full stop/period Slash / Minus Sign Embedded blank (space) In the record layouts, the format of each data element is preceded by a number to indicate the number of characters for the specified element. E.g. 15N represents field\n"
          ]
        }
      ]
    },
    {
      "cell_type": "code",
      "source": [],
      "metadata": {
        "id": "R8CVcIz2ZYD-"
      },
      "id": "R8CVcIz2ZYD-",
      "execution_count": null,
      "outputs": []
    },
    {
      "cell_type": "markdown",
      "id": "6f0e73e1-4ae3-4237-91bc-cea84a810a72",
      "metadata": {
        "id": "6f0e73e1-4ae3-4237-91bc-cea84a810a72"
      },
      "source": [
        "Amazing! You can see that our first couple search results are not very different than our pure keyword search. But when you get further down the results list, you'll see that we get an equation we can use to calculate KNN. That's a bit more useful than #3 in our pure keyword search, which is a bibliography entry. That's likely because we have semantic search in there too -- Pinecone knows we want to know \"about\" KNN, so it fetches items with lots of domain-specific terms (keyword search), but also items that demonstrate the \"aboutness\" of KNN (semantic search).\n"
      ]
    },
    {
      "cell_type": "markdown",
      "id": "95fec382-1f9d-4e23-abbe-9897a00d531c",
      "metadata": {
        "id": "95fec382-1f9d-4e23-abbe-9897a00d531c"
      },
      "source": [
        "# Let's take a closer look. For science!"
      ]
    },
    {
      "cell_type": "code",
      "execution_count": null,
      "id": "8b16ea1f-e70a-4c44-af0a-95666cd212d8",
      "metadata": {
        "id": "8b16ea1f-e70a-4c44-af0a-95666cd212d8"
      },
      "outputs": [],
      "source": []
    },
    {
      "cell_type": "code",
      "execution_count": null,
      "id": "6de66f2e-7a86-4711-837b-8dfd19785e27",
      "metadata": {
        "id": "6de66f2e-7a86-4711-837b-8dfd19785e27",
        "scrolled": true
      },
      "outputs": [],
      "source": []
    },
    {
      "cell_type": "code",
      "execution_count": null,
      "id": "9912ce6a-e3bf-48f1-9e51-65c8cc3d8691",
      "metadata": {
        "id": "9912ce6a-e3bf-48f1-9e51-65c8cc3d8691"
      },
      "outputs": [],
      "source": []
    },
    {
      "cell_type": "code",
      "execution_count": null,
      "id": "eb6cb84e-21b9-4cd0-b1f1-06c077ea58c0",
      "metadata": {
        "id": "eb6cb84e-21b9-4cd0-b1f1-06c077ea58c0",
        "scrolled": true
      },
      "outputs": [],
      "source": []
    },
    {
      "cell_type": "code",
      "execution_count": null,
      "id": "f6945cec-025c-4425-831e-0aaeb4a83cf6",
      "metadata": {
        "id": "f6945cec-025c-4425-831e-0aaeb4a83cf6",
        "scrolled": true
      },
      "outputs": [],
      "source": []
    },
    {
      "cell_type": "markdown",
      "id": "b268e1e0-d59b-4d40-a19d-f084a8b108b9",
      "metadata": {
        "id": "b268e1e0-d59b-4d40-a19d-f084a8b108b9"
      },
      "source": [
        "Above, you can see the subtle ranking differences across each search type. For the most part, `document 8` is the top documents, except in `hybrid_1`, `hybrid_2` and `semantic`. In those two search types, `document 10` is the top document.\n",
        "\n",
        "It's up to you and your stakeholders to find the ideal `alpha` for your use case(s).\n",
        "\n",
        "Directly, for our use case, it seems anything >= `alpha=0.3` gets us similar results, so the impact of `alpha` is most discernable between `0.0-0.3`.\n",
        "\n",
        "Cool!"
      ]
    },
    {
      "cell_type": "markdown",
      "id": "5bb6ece2-cb19-43c0-9ab5-e0c0c09b46a2",
      "metadata": {
        "editable": true,
        "id": "5bb6ece2-cb19-43c0-9ab5-e0c0c09b46a2",
        "tags": []
      },
      "source": [
        "# Incorporating GenAI\n",
        "\n",
        "Now, hybrid search is cool enough, but what if you don't want to spend time sifting through your index's search results? What if you just want a single answer to a query?\n",
        "\n",
        "That's where GenAI comes in.\n",
        "\n",
        "We will make a retrieval augmented generation (RAG) pipeline that will make this happen.\n",
        "\n",
        "Since large language models (LLMs) do not know a ton of specific information (they are trained on the general Internet), especially if the information is from PDFs that it would have to download to have access to (like what are in our index), we need to give it this information!\n",
        "\n",
        "We do this by first sending our query to our Pinecone index and grabbing some search  results. We then attach these search results to our original query and send *both* to the LLM. That way, the LLM both knows what we want to ask it & can pull from its general knowledge store *and* has a specialized knowledge store (our Pinecone search results so that it can get us extra specific information.\n",
        "\n",
        "Let's try it out:"
      ]
    },
    {
      "cell_type": "code",
      "source": [
        "def generate_augmented_queries(faiss_indices, chunked_files, query):\n",
        "    \"\"\"\n",
        "    Given FAISS indices and chunked files, return the augmented queries in different formats.\n",
        "\n",
        "    :param faiss_indices: List of FAISS indices returned from a search.\n",
        "    :param chunked_files: Dictionary containing chunked text files.\n",
        "    :param query: The original query to augment with context.\n",
        "\n",
        "    :return: Tuple of hybrid, pure keyword, and pure semantic augmented queries.\n",
        "    \"\"\"\n",
        "    # Retrieve the chunked text corresponding to the FAISS indices\n",
        "    documents = chunked_files\n",
        "    context = [all_texts_1[faiss_index] for faiss_index in faiss_indices]\n",
        "\n",
        "    # Combine the context with the query in the format desired\n",
        "    hybrid_augmented_query = \"\\n\\n---\\n\\n\".join(context) + \"\\n\\n-----\\n\\n\" + query\n",
        "\n",
        "    # Return all augmented queries\n",
        "    return hybrid_augmented_query\n",
        "\n",
        "\n",
        "\n",
        "# Dynamically provided FAISS indices (these could come from a FAISS search result)\n",
        "faiss_indices = [0, 19, 8, 72, 0]\n",
        "\n",
        "\n",
        "# Generate augmented queries\n",
        "hybrid_augmented_query= generate_augmented_queries(faiss_indices, chunked_files, query)\n",
        "\n",
        "# Output the results\n",
        "print(\"Hybrid Augmented Query:\")\n",
        "print(hybrid_augmented_query)\n"
      ],
      "metadata": {
        "colab": {
          "base_uri": "https://localhost:8080/"
        },
        "id": "zfieHXOIsOd3",
        "outputId": "25df9e7a-118d-4529-c929-0bb77b96d524"
      },
      "id": "zfieHXOIsOd3",
      "execution_count": null,
      "outputs": [
        {
          "output_type": "stream",
          "name": "stdout",
          "text": [
            "Hybrid Augmented Query:\n",
            "It is the responsibility of each BSP Manager to keep the appropriate FDS Regional Director, the Local Customer Advisory Group Passenger (LCAGP) and the BSP Data Processing Centre informed of BSP developments and operations in order to ensure compliance with the DISH Specifications. Full stop/period Slash / Minus Sign Embedded blank (space) In the record layouts, the format of each data element is preceded by a number to indicate the number of characters for the specified element. E.g. 15N represents field\n",
            "\n",
            "---\n",
            "\n",
            "record and perform calculations to create the Supplementary Amount (SPAM) and Remittance Amount (REMT). It should be noted that BSPs normally operate only one or two types of net reporting schemes. Thus, the individual BSP should concentrate on those Net Reporting options that the BSP offers. Gross fare = 1,500.00 Standard Commission (9.0%) = 135.00 Net Fare Amount = 1,000.00 Form of Payment Credit = 1,200.00 Remittance Amount (REMT) = 200.00- Remittance Amount |REMT |N/A 0000002000} N/A 0000002000{\n",
            "\n",
            "---\n",
            "\n",
            "Commission 50 5 55 Statement Adjustment Notice 50 50 50 due to Airline Adjustment Notice 25 25 25 due to Agent Office Totals 1925 35 1960 241201699    4625 40 4665 if COTP = POS \"if COTP = NEG 103 Note For BT document, instead of reporting “IT”, “BT” would be reported on the RET. RET BSP HOT Element Glossary | Contents of BSP Processing | Glossary Content of Description Reference | Element Reference Element Tour Code TOUR 1T123456789bbbb | Copy from RET to |TOUR BKS24 |1T123456789bbbb HOT Fare FARE IT Copy\n",
            "\n",
            "---\n",
            "\n",
            "who take part in the itinerary, or carriers who are contractors of the credit cards. Each of the subscribers represented in Bytes 1 through 42 must be a party to the ATPCO Sales Data Exchange. ISR customers may choose to transmit BSP HOT and ARC CAT data files to ATPCO for onward processing to their interline partners, and in some cases, for their own internal processing in an industrystandard format. These files must be sent by the validating carrier to ATPCO in the same format that they were received\n",
            "\n",
            "---\n",
            "\n",
            "It is the responsibility of each BSP Manager to keep the appropriate FDS Regional Director, the Local Customer Advisory Group Passenger (LCAGP) and the BSP Data Processing Centre informed of BSP developments and operations in order to ensure compliance with the DISH Specifications. Full stop/period Slash / Minus Sign Embedded blank (space) In the record layouts, the format of each data element is preceded by a number to indicate the number of characters for the specified element. E.g. 15N represents field\n",
            "\n",
            "-----\n",
            "\n",
            "What is the responsibility of each BSP Manager?\n"
          ]
        }
      ]
    },
    {
      "cell_type": "code",
      "execution_count": null,
      "id": "11788caa-ea17-4678-93de-871f74d3057f",
      "metadata": {
        "id": "11788caa-ea17-4678-93de-871f74d3057f"
      },
      "outputs": [],
      "source": [
        "'''# We are then going to combine this \"context\" with our original query in a format that our LLM likes:\n",
        "\n",
        "hybrid_augmented_query = \"\\n\\n---\\n\\n\".join(hybrid_context)+\"\\n\\n-----\\n\\n\"+query\n",
        "pure_keyword_augmented_query = \"\\n\\n---\\n\\n\".join(pure_keyword_context)+\"\\n\\n-----\\n\\n\"+query\n",
        "pure_semantic_augmented_query = \"\\n\\n---\\n\\n\".join(pure_keyword_context)+\"\\n\\n-----\\n\\n\"+query'''"
      ]
    },
    {
      "cell_type": "code",
      "execution_count": null,
      "id": "705cdd94-39ad-493e-b55b-12516b20ea1e",
      "metadata": {
        "colab": {
          "base_uri": "https://localhost:8080/"
        },
        "id": "705cdd94-39ad-493e-b55b-12516b20ea1e",
        "outputId": "3196c247-80c7-4579-8cb8-03919b970cf8",
        "scrolled": true
      },
      "outputs": [
        {
          "output_type": "stream",
          "name": "stdout",
          "text": [
            "It is the responsibility of each BSP Manager to keep the appropriate FDS Regional Director, the Local Customer Advisory Group Passenger (LCAGP) and the BSP Data Processing Centre informed of BSP developments and operations in order to ensure compliance with the DISH Specifications. Full stop/period Slash / Minus Sign Embedded blank (space) In the record layouts, the format of each data element is preceded by a number to indicate the number of characters for the specified element. E.g. 15N represents field\n",
            "\n",
            "---\n",
            "\n",
            "record and perform calculations to create the Supplementary Amount (SPAM) and Remittance Amount (REMT). It should be noted that BSPs normally operate only one or two types of net reporting schemes. Thus, the individual BSP should concentrate on those Net Reporting options that the BSP offers. Gross fare = 1,500.00 Standard Commission (9.0%) = 135.00 Net Fare Amount = 1,000.00 Form of Payment Credit = 1,200.00 Remittance Amount (REMT) = 200.00- Remittance Amount |REMT |N/A 0000002000} N/A 0000002000{\n",
            "\n",
            "---\n",
            "\n",
            "Commission 50 5 55 Statement Adjustment Notice 50 50 50 due to Airline Adjustment Notice 25 25 25 due to Agent Office Totals 1925 35 1960 241201699    4625 40 4665 if COTP = POS \"if COTP = NEG 103 Note For BT document, instead of reporting “IT”, “BT” would be reported on the RET. RET BSP HOT Element Glossary | Contents of BSP Processing | Glossary Content of Description Reference | Element Reference Element Tour Code TOUR 1T123456789bbbb | Copy from RET to |TOUR BKS24 |1T123456789bbbb HOT Fare FARE IT Copy\n",
            "\n",
            "---\n",
            "\n",
            "who take part in the itinerary, or carriers who are contractors of the credit cards. Each of the subscribers represented in Bytes 1 through 42 must be a party to the ATPCO Sales Data Exchange. ISR customers may choose to transmit BSP HOT and ARC CAT data files to ATPCO for onward processing to their interline partners, and in some cases, for their own internal processing in an industrystandard format. These files must be sent by the validating carrier to ATPCO in the same format that they were received\n",
            "\n",
            "---\n",
            "\n",
            "It is the responsibility of each BSP Manager to keep the appropriate FDS Regional Director, the Local Customer Advisory Group Passenger (LCAGP) and the BSP Data Processing Centre informed of BSP developments and operations in order to ensure compliance with the DISH Specifications. Full stop/period Slash / Minus Sign Embedded blank (space) In the record layouts, the format of each data element is preceded by a number to indicate the number of characters for the specified element. E.g. 15N represents field\n",
            "\n",
            "-----\n",
            "\n",
            "What is the responsibility of each BSP Manager?\n"
          ]
        }
      ],
      "source": [
        "print(hybrid_augmented_query)"
      ]
    },
    {
      "cell_type": "code",
      "execution_count": null,
      "id": "384afe12-83bf-4c10-baf0-0241ecd8132f",
      "metadata": {
        "id": "384afe12-83bf-4c10-baf0-0241ecd8132f"
      },
      "outputs": [],
      "source": [
        "# We are then going to give our LLM some instructions for how to act:\n",
        "\n",
        "query = 'What is the responsibility of each BSP Manager?'\n",
        "\n",
        "primer = f\"\"\"You are Q&A bot. A highly intelligent system that answers\n",
        "user questions based on the information provided by the user above\n",
        "each question. If the information can not be found in the information\n",
        "provided by the user you truthfully say \"I don't know, sorry\".\n",
        "\"\"\""
      ]
    },
    {
      "cell_type": "code",
      "execution_count": null,
      "id": "cf840d48-be91-4dd3-b7bb-9d0556da0b80",
      "metadata": {
        "colab": {
          "base_uri": "https://localhost:8080/"
        },
        "id": "cf840d48-be91-4dd3-b7bb-9d0556da0b80",
        "outputId": "d19bf02b-f459-4b75-f4a5-794a17586018",
        "scrolled": true
      },
      "outputs": [
        {
          "output_type": "execute_result",
          "data": {
            "text/plain": [
              "<OpenAIObject chat.completion id=chatcmpl-BHK0Li7MXboc0RzvDbmL2gGmyNp9o at 0x7b5062076210> JSON: {\n",
              "  \"id\": \"chatcmpl-BHK0Li7MXboc0RzvDbmL2gGmyNp9o\",\n",
              "  \"object\": \"chat.completion\",\n",
              "  \"created\": 1743468173,\n",
              "  \"model\": \"gpt-4o-mini-2024-07-18\",\n",
              "  \"choices\": [\n",
              "    {\n",
              "      \"index\": 0,\n",
              "      \"message\": {\n",
              "        \"role\": \"assistant\",\n",
              "        \"content\": \"The responsibility of each BSP Manager is to keep the appropriate FDS Regional Director, the Local Customer Advisory Group Passenger (LCAGP), and the BSP Data Processing Centre informed of BSP developments and operations in order to ensure compliance with the DISH Specifications.\",\n",
              "        \"refusal\": null,\n",
              "        \"annotations\": []\n",
              "      },\n",
              "      \"logprobs\": null,\n",
              "      \"finish_reason\": \"stop\"\n",
              "    }\n",
              "  ],\n",
              "  \"usage\": {\n",
              "    \"prompt_tokens\": 667,\n",
              "    \"completion_tokens\": 51,\n",
              "    \"total_tokens\": 718,\n",
              "    \"prompt_tokens_details\": {\n",
              "      \"cached_tokens\": 0,\n",
              "      \"audio_tokens\": 0\n",
              "    },\n",
              "    \"completion_tokens_details\": {\n",
              "      \"reasoning_tokens\": 0,\n",
              "      \"audio_tokens\": 0,\n",
              "      \"accepted_prediction_tokens\": 0,\n",
              "      \"rejected_prediction_tokens\": 0\n",
              "    }\n",
              "  },\n",
              "  \"service_tier\": \"default\",\n",
              "  \"system_fingerprint\": \"fp_b376dfbbd5\"\n",
              "}"
            ]
          },
          "metadata": {},
          "execution_count": 291
        }
      ],
      "source": [
        "# Now we query our LLM with our augmented query & our primer!\n",
        "\n",
        "# Our hybrid query:\n",
        "\n",
        "openai.api_key = 'yourkey'\n",
        "\n",
        "\n",
        "hybrid_res = openai.ChatCompletion.create(\n",
        "    model=\"gpt-4o-mini\",\n",
        "    messages=[\n",
        "        {\"role\": \"system\", \"content\": primer},\n",
        "        {\"role\": \"user\", \"content\": hybrid_augmented_query}\n",
        "    ]\n",
        ")\n",
        "\n",
        "hybrid_res"
      ]
    },
    {
      "cell_type": "markdown",
      "id": "466f61d4-1896-4716-a8e4-b25a4eda97fe",
      "metadata": {
        "id": "466f61d4-1896-4716-a8e4-b25a4eda97fe"
      },
      "source": [
        "You can see subtle differences across the different results above. It's up to you and your stakeholders to figure out what type of search (semantic, keyword, hybrid) offers the most relevant information for your end users"
      ]
    },
    {
      "cell_type": "markdown",
      "id": "d28051b6-219a-44bf-aee7-5894d6af600b",
      "metadata": {
        "id": "d28051b6-219a-44bf-aee7-5894d6af600b"
      },
      "source": [
        "# What if we take our our Pinecone vectors altogether??"
      ]
    },
    {
      "cell_type": "code",
      "execution_count": null,
      "id": "6837f020-3147-4014-b31b-f0b070ae9a69",
      "metadata": {
        "colab": {
          "base_uri": "https://localhost:8080/"
        },
        "id": "6837f020-3147-4014-b31b-f0b070ae9a69",
        "outputId": "0bc2b7a1-ddac-4f3c-f453-318056672d15",
        "scrolled": true
      },
      "outputs": [
        {
          "output_type": "stream",
          "name": "stdout",
          "text": [
            "The responsibility of each BSP Manager is to keep the appropriate FDS Regional Director, the Local Customer Advisory Group Passenger (LCAGP), and the BSP Data Processing Centre informed of BSP developments and operations in order to ensure compliance with the DISH Specifications.\n"
          ]
        }
      ],
      "source": [
        "\n",
        "# Get the response\n",
        "answer = hybrid_res['choices'][0]['message']['content']\n",
        "print(answer)"
      ]
    },
    {
      "cell_type": "code",
      "source": [
        "print(query)\n",
        "\n",
        "print(answer[:89])  # First part of the answer\n",
        "print(answer[89:])  # Second part of the answer\n"
      ],
      "metadata": {
        "colab": {
          "base_uri": "https://localhost:8080/"
        },
        "id": "QoeQONUIzUX0",
        "outputId": "e562ca21-ad1c-405f-8942-3aab0676d27b"
      },
      "id": "QoeQONUIzUX0",
      "execution_count": null,
      "outputs": [
        {
          "output_type": "stream",
          "name": "stdout",
          "text": [
            "What is the responsibility of each BSP Manager?\n",
            "The responsibility of each BSP Manager is to keep the appropriate FDS Regional Director, \n",
            "the Local Customer Advisory Group Passenger (LCAGP), and the BSP Data Processing Centre informed of BSP developments and operations in order to ensure compliance with the DISH Specifications.\n"
          ]
        }
      ]
    },
    {
      "cell_type": "code",
      "source": [],
      "metadata": {
        "id": "0mGqmZJrv5Tn"
      },
      "id": "0mGqmZJrv5Tn",
      "execution_count": null,
      "outputs": []
    },
    {
      "cell_type": "code",
      "source": [
        "query = \"What is COAM?\"\n",
        "\n",
        "query_dembedding = produce_embeddings([query])\n",
        "results = query_faiss_index(f_index, query_dembedding, 5)"
      ],
      "metadata": {
        "id": "986xV7TEwOBg"
      },
      "id": "986xV7TEwOBg",
      "execution_count": null,
      "outputs": []
    },
    {
      "cell_type": "code",
      "source": [
        "results"
      ],
      "metadata": {
        "colab": {
          "base_uri": "https://localhost:8080/"
        },
        "id": "M11DfCi9wONG",
        "outputId": "5cc91c0b-932f-4db1-ec34-27db1ed2a6ea"
      },
      "id": "M11DfCi9wONG",
      "execution_count": null,
      "outputs": [
        {
          "output_type": "execute_result",
          "data": {
            "text/plain": [
              "[(np.int64(10), np.float32(1.283031)),\n",
              " (np.int64(83), np.float32(1.2968771)),\n",
              " (np.int64(67), np.float32(1.3312814)),\n",
              " (np.int64(52), np.float32(1.3334016)),\n",
              " (np.int64(22), np.float32(1.4073296))]"
            ]
          },
          "metadata": {},
          "execution_count": 253
        }
      ]
    },
    {
      "cell_type": "markdown",
      "id": "2b6943af-c430-4a5c-acd7-2a55f53a8f87",
      "metadata": {
        "id": "2b6943af-c430-4a5c-acd7-2a55f53a8f87"
      },
      "source": [
        "We can see that RAG really does have a huge impact! Without our PDFs, ChatGPT doesn't know much helpful detail at all! Nor can it give us bibliographic data for articles we might want to look up later!"
      ]
    },
    {
      "cell_type": "code",
      "source": [
        "all_texts_1[83]"
      ],
      "metadata": {
        "colab": {
          "base_uri": "https://localhost:8080/",
          "height": 71
        },
        "id": "YWsq-OrowafF",
        "outputId": "6f800271-88ff-409b-d3c7-bea8873c1012"
      },
      "id": "YWsq-OrowafF",
      "execution_count": null,
      "outputs": [
        {
          "output_type": "execute_result",
          "data": {
            "text/plain": [
              "'filled with nines. For example if the COAM (an 11byte N) field is stripped, the space remaining is replaced with 99999999999. Another example is the COTP field (6-byte A/N). If this field were to be stripped, the six bytes would be filled with spaces. No changes will be made to any of the above fields if the field is already unoccupied before the net remit removal process. ¢ If any Form of Payment Type (FPTP) = CC, CH, CL, DF, DT, EF, PB, TC, VD, or EX, scan the Fare Calculation Area (FRCA) fields for'"
            ],
            "application/vnd.google.colaboratory.intrinsic+json": {
              "type": "string"
            }
          },
          "metadata": {},
          "execution_count": 256
        }
      ]
    },
    {
      "cell_type": "code",
      "source": [
        "faiss_indices = [83,10,67,22,52]\n",
        "\n",
        "\n",
        "# Generate augmented queries\n",
        "hybrid_augmented_query= generate_augmented_queries(faiss_indices, chunked_files, query)\n",
        "\n",
        "# Output the results\n",
        "print(\"Hybrid Augmented Query:\")\n",
        "print(hybrid_augmented_query)\n"
      ],
      "metadata": {
        "colab": {
          "base_uri": "https://localhost:8080/"
        },
        "id": "LlamJ6KowvlI",
        "outputId": "5d95b649-91a3-486b-9350-59567f9cff81"
      },
      "id": "LlamJ6KowvlI",
      "execution_count": null,
      "outputs": [
        {
          "output_type": "stream",
          "name": "stdout",
          "text": [
            "Hybrid Augmented Query:\n",
            "filled with nines. For example if the COAM (an 11byte N) field is stripped, the space remaining is replaced with 99999999999. Another example is the COTP field (6-byte A/N). If this field were to be stripped, the six bytes would be filled with spaces. No changes will be made to any of the above fields if the field is already unoccupied before the net remit removal process. ¢ If any Form of Payment Type (FPTP) = CC, CH, CL, DF, DT, EF, PB, TC, VD, or EX, scan the Fare Calculation Area (FRCA) fields for\n",
            "\n",
            "---\n",
            "\n",
            "BKS39 | bbbbbb HOT Commission Rate | CORT 00000 Copy from RET to }|CORT BKS39 |00000 (0 or as agreed HOT or with carrier) COAM/COBL Commission COAM 00000000000 COBLxCORT or COAM BKS39 | 00000000000 Amount (0 or as agreed Copy from RET to with carrier) HOT (if not zeros) Effective N/A Calculated by BSP |EFRT BKS39 | 00000 Commission Rate (EFCO/COBL) Effective N/A Same as COAM EFCO BKS39 | 00000000000 Commission Amount Form of Payment |FPAM 00000151000 Copy from RET to |FPAM BKP84 | 00000151000 Amount\n",
            "\n",
            "---\n",
            "\n",
            "an ADM Dispute; ADDB: Deactivate ADM/SPDR/ADMD; ADRB: Reactivate ADM/SPDR/ADMD; ADWB: Delete ADM/SPDR/ADMD; ACMB: ACM Issue; ACMQ: ACM Request; SSAC: Minor Adjustment Notice (MAN) Credit; ACPB: ACM Dispute; ACJB: Reject an ACM Dispute; ACSB: Approve an ACM Dispute; ACDB: Deactivate ACM/SPCR/ACMD; ACRB: Reactivate ACM/SPCR/ACMD; ACWB: Delete ACM/SPCR/ACMD, ADNT: Non-ticket related debit Issue, ACNT: Nonticket related credit Issue, ADPN: Non-ticket related debit document dispute, ACPN: Non-ticket related\n",
            "\n",
            "---\n",
            "\n",
            "|N/A 00000000000 |N/A by Agent Supplementary |SPTP |N/A C20bbb N/A C20bbb N/A C20bbb Derived from |BKS39 Type TOUR Supplementary |SPRT |N/A 01820 N/A 01820 N/A 01820 SPAM/COBL |BKS39 Rate Supplementary |SPAM |N/A 0000002730} |N/A 0000002730{ |N/A 0000001365{ |(COBLBKS39 Amount COAM)x TOUR% Effective EFRT |N/A 02720 N/A 02720 N/A 02720 Calculated by | BKS39 Commission BSP (EFCO/ Rate COBL) Effective EFCO |N/A 0000004080} |N/A 0000004080{ |N/A 0000002040{ |COAM+ BKS39 Commission SPAM Amount Fare FARE\n",
            "\n",
            "---\n",
            "\n",
            "COTP |Nbbbbb Nbbbbb Nbbbbb Nbbbbb Nbbbbb Nbbbbb Copy from BKS39 Type RET to HOT Commission CORT /00900 00900 00900 00900 00900 00900 Copy from BKS39 Rate RET to HOT Commission COAM |00000000000 |0000000900} |00000000000 /0000000900{ |00000000000 |0000000450{ |(COBLBKS39 Amount SPAM) Element Gloss. Sale Transaction— Full Refund Transaction— Part Refund Transaction*— |BSP HOT Description Ref. Content of Data Element Content of Data Element Content of Data Element /|Processing |Rec.ID RET HOT RET HOT RET HOT\n",
            "\n",
            "-----\n",
            "\n",
            "What is COAM?\n"
          ]
        }
      ]
    },
    {
      "cell_type": "code",
      "source": [
        "hybrid_res = openai.ChatCompletion.create(\n",
        "    model=\"gpt-4o-mini\",\n",
        "    messages=[\n",
        "        {\"role\": \"system\", \"content\": primer},\n",
        "        {\"role\": \"user\", \"content\": hybrid_augmented_query}\n",
        "    ]\n",
        ")\n",
        "\n",
        "hybrid_res\n",
        "# Get the response\n",
        "answer = hybrid_res['choices'][0]['message']['content']\n",
        "print(answer)"
      ],
      "metadata": {
        "colab": {
          "base_uri": "https://localhost:8080/"
        },
        "id": "h9aOX_U6w9Jn",
        "outputId": "fd763770-8aae-4152-96d9-d905c58196d1"
      },
      "id": "h9aOX_U6w9Jn",
      "execution_count": null,
      "outputs": [
        {
          "output_type": "stream",
          "name": "stdout",
          "text": [
            "COAM refers to the \"Commission Amount\" and is represented as a field that can have a value of 11 bytes, which can be filled with nines if stripped. The amount is either copied from another field (often from RET) or set to a predefined value, depending on agreements.\n"
          ]
        }
      ]
    },
    {
      "cell_type": "code",
      "source": [
        "print(query)\n",
        "\n",
        "print(answer[:90])  # First part of the answer\n",
        "print(answer[90:])  # Second part of the answer\n"
      ],
      "metadata": {
        "colab": {
          "base_uri": "https://localhost:8080/"
        },
        "id": "KTmaxtuSw9QM",
        "outputId": "06689a88-8431-4b1e-e3bc-9959c0ecab8a"
      },
      "id": "KTmaxtuSw9QM",
      "execution_count": null,
      "outputs": [
        {
          "output_type": "stream",
          "name": "stdout",
          "text": [
            "What is COAM?\n",
            "COAM refers to the \"Commission Amount\" and is represented as a field that can have a value\n",
            " of 11 bytes, which can be filled with nines if stripped. The amount is either copied from another field (often from RET) or set to a predefined value, depending on agreements.\n"
          ]
        }
      ]
    },
    {
      "cell_type": "code",
      "source": [],
      "metadata": {
        "id": "TUJzZPehxGpr"
      },
      "id": "TUJzZPehxGpr",
      "execution_count": null,
      "outputs": []
    }
  ],
  "metadata": {
    "colab": {
      "provenance": [],
      "include_colab_link": true
    },
    "kernelspec": {
      "display_name": "Python 3",
      "name": "python3"
    },
    "language_info": {
      "codemirror_mode": {
        "name": "ipython",
        "version": 3
      },
      "file_extension": ".py",
      "mimetype": "text/x-python",
      "name": "python",
      "nbconvert_exporter": "python",
      "pygments_lexer": "ipython3",
      "version": "3.11.5"
    },
    "widgets": {
      "application/vnd.jupyter.widget-state+json": {
        "e1a2684f55f84e20a9410f28415ecaf7": {
          "model_module": "@jupyter-widgets/controls",
          "model_name": "HBoxModel",
          "model_module_version": "1.5.0",
          "state": {
            "_dom_classes": [],
            "_model_module": "@jupyter-widgets/controls",
            "_model_module_version": "1.5.0",
            "_model_name": "HBoxModel",
            "_view_count": null,
            "_view_module": "@jupyter-widgets/controls",
            "_view_module_version": "1.5.0",
            "_view_name": "HBoxView",
            "box_style": "",
            "children": [
              "IPY_MODEL_d59926cd7fb34dd6a02f2216fdfffd4c",
              "IPY_MODEL_8ae2e89d0fe94fa1be9e23dd0007fd84",
              "IPY_MODEL_98617197b493469fa582787fab14a12a"
            ],
            "layout": "IPY_MODEL_828b875b05344fbfb548de511a8294c5"
          }
        },
        "d59926cd7fb34dd6a02f2216fdfffd4c": {
          "model_module": "@jupyter-widgets/controls",
          "model_name": "HTMLModel",
          "model_module_version": "1.5.0",
          "state": {
            "_dom_classes": [],
            "_model_module": "@jupyter-widgets/controls",
            "_model_module_version": "1.5.0",
            "_model_name": "HTMLModel",
            "_view_count": null,
            "_view_module": "@jupyter-widgets/controls",
            "_view_module_version": "1.5.0",
            "_view_name": "HTMLView",
            "description": "",
            "description_tooltip": null,
            "layout": "IPY_MODEL_f4d7285d325e428a844912e9c9c37ccc",
            "placeholder": "​",
            "style": "IPY_MODEL_f39662b2ac144f69bbb6c8f30ea9d5c0",
            "value": ".gitattributes: 100%"
          }
        },
        "8ae2e89d0fe94fa1be9e23dd0007fd84": {
          "model_module": "@jupyter-widgets/controls",
          "model_name": "FloatProgressModel",
          "model_module_version": "1.5.0",
          "state": {
            "_dom_classes": [],
            "_model_module": "@jupyter-widgets/controls",
            "_model_module_version": "1.5.0",
            "_model_name": "FloatProgressModel",
            "_view_count": null,
            "_view_module": "@jupyter-widgets/controls",
            "_view_module_version": "1.5.0",
            "_view_name": "ProgressView",
            "bar_style": "success",
            "description": "",
            "description_tooltip": null,
            "layout": "IPY_MODEL_ea2acf9c9137483cb000ad9ed1ca216c",
            "max": 1229,
            "min": 0,
            "orientation": "horizontal",
            "style": "IPY_MODEL_ce695ae655d246bbae74413d136bdb2b",
            "value": 1229
          }
        },
        "98617197b493469fa582787fab14a12a": {
          "model_module": "@jupyter-widgets/controls",
          "model_name": "HTMLModel",
          "model_module_version": "1.5.0",
          "state": {
            "_dom_classes": [],
            "_model_module": "@jupyter-widgets/controls",
            "_model_module_version": "1.5.0",
            "_model_name": "HTMLModel",
            "_view_count": null,
            "_view_module": "@jupyter-widgets/controls",
            "_view_module_version": "1.5.0",
            "_view_name": "HTMLView",
            "description": "",
            "description_tooltip": null,
            "layout": "IPY_MODEL_4ddc3cb44a2c4596b86c250fe18b4b17",
            "placeholder": "​",
            "style": "IPY_MODEL_ffb3d495ac754a0b8e53694c88b58229",
            "value": " 1.23k/1.23k [00:00&lt;00:00, 55.7kB/s]"
          }
        },
        "828b875b05344fbfb548de511a8294c5": {
          "model_module": "@jupyter-widgets/base",
          "model_name": "LayoutModel",
          "model_module_version": "1.2.0",
          "state": {
            "_model_module": "@jupyter-widgets/base",
            "_model_module_version": "1.2.0",
            "_model_name": "LayoutModel",
            "_view_count": null,
            "_view_module": "@jupyter-widgets/base",
            "_view_module_version": "1.2.0",
            "_view_name": "LayoutView",
            "align_content": null,
            "align_items": null,
            "align_self": null,
            "border": null,
            "bottom": null,
            "display": null,
            "flex": null,
            "flex_flow": null,
            "grid_area": null,
            "grid_auto_columns": null,
            "grid_auto_flow": null,
            "grid_auto_rows": null,
            "grid_column": null,
            "grid_gap": null,
            "grid_row": null,
            "grid_template_areas": null,
            "grid_template_columns": null,
            "grid_template_rows": null,
            "height": null,
            "justify_content": null,
            "justify_items": null,
            "left": null,
            "margin": null,
            "max_height": null,
            "max_width": null,
            "min_height": null,
            "min_width": null,
            "object_fit": null,
            "object_position": null,
            "order": null,
            "overflow": null,
            "overflow_x": null,
            "overflow_y": null,
            "padding": null,
            "right": null,
            "top": null,
            "visibility": null,
            "width": null
          }
        },
        "f4d7285d325e428a844912e9c9c37ccc": {
          "model_module": "@jupyter-widgets/base",
          "model_name": "LayoutModel",
          "model_module_version": "1.2.0",
          "state": {
            "_model_module": "@jupyter-widgets/base",
            "_model_module_version": "1.2.0",
            "_model_name": "LayoutModel",
            "_view_count": null,
            "_view_module": "@jupyter-widgets/base",
            "_view_module_version": "1.2.0",
            "_view_name": "LayoutView",
            "align_content": null,
            "align_items": null,
            "align_self": null,
            "border": null,
            "bottom": null,
            "display": null,
            "flex": null,
            "flex_flow": null,
            "grid_area": null,
            "grid_auto_columns": null,
            "grid_auto_flow": null,
            "grid_auto_rows": null,
            "grid_column": null,
            "grid_gap": null,
            "grid_row": null,
            "grid_template_areas": null,
            "grid_template_columns": null,
            "grid_template_rows": null,
            "height": null,
            "justify_content": null,
            "justify_items": null,
            "left": null,
            "margin": null,
            "max_height": null,
            "max_width": null,
            "min_height": null,
            "min_width": null,
            "object_fit": null,
            "object_position": null,
            "order": null,
            "overflow": null,
            "overflow_x": null,
            "overflow_y": null,
            "padding": null,
            "right": null,
            "top": null,
            "visibility": null,
            "width": null
          }
        },
        "f39662b2ac144f69bbb6c8f30ea9d5c0": {
          "model_module": "@jupyter-widgets/controls",
          "model_name": "DescriptionStyleModel",
          "model_module_version": "1.5.0",
          "state": {
            "_model_module": "@jupyter-widgets/controls",
            "_model_module_version": "1.5.0",
            "_model_name": "DescriptionStyleModel",
            "_view_count": null,
            "_view_module": "@jupyter-widgets/base",
            "_view_module_version": "1.2.0",
            "_view_name": "StyleView",
            "description_width": ""
          }
        },
        "ea2acf9c9137483cb000ad9ed1ca216c": {
          "model_module": "@jupyter-widgets/base",
          "model_name": "LayoutModel",
          "model_module_version": "1.2.0",
          "state": {
            "_model_module": "@jupyter-widgets/base",
            "_model_module_version": "1.2.0",
            "_model_name": "LayoutModel",
            "_view_count": null,
            "_view_module": "@jupyter-widgets/base",
            "_view_module_version": "1.2.0",
            "_view_name": "LayoutView",
            "align_content": null,
            "align_items": null,
            "align_self": null,
            "border": null,
            "bottom": null,
            "display": null,
            "flex": null,
            "flex_flow": null,
            "grid_area": null,
            "grid_auto_columns": null,
            "grid_auto_flow": null,
            "grid_auto_rows": null,
            "grid_column": null,
            "grid_gap": null,
            "grid_row": null,
            "grid_template_areas": null,
            "grid_template_columns": null,
            "grid_template_rows": null,
            "height": null,
            "justify_content": null,
            "justify_items": null,
            "left": null,
            "margin": null,
            "max_height": null,
            "max_width": null,
            "min_height": null,
            "min_width": null,
            "object_fit": null,
            "object_position": null,
            "order": null,
            "overflow": null,
            "overflow_x": null,
            "overflow_y": null,
            "padding": null,
            "right": null,
            "top": null,
            "visibility": null,
            "width": null
          }
        },
        "ce695ae655d246bbae74413d136bdb2b": {
          "model_module": "@jupyter-widgets/controls",
          "model_name": "ProgressStyleModel",
          "model_module_version": "1.5.0",
          "state": {
            "_model_module": "@jupyter-widgets/controls",
            "_model_module_version": "1.5.0",
            "_model_name": "ProgressStyleModel",
            "_view_count": null,
            "_view_module": "@jupyter-widgets/base",
            "_view_module_version": "1.2.0",
            "_view_name": "StyleView",
            "bar_color": null,
            "description_width": ""
          }
        },
        "4ddc3cb44a2c4596b86c250fe18b4b17": {
          "model_module": "@jupyter-widgets/base",
          "model_name": "LayoutModel",
          "model_module_version": "1.2.0",
          "state": {
            "_model_module": "@jupyter-widgets/base",
            "_model_module_version": "1.2.0",
            "_model_name": "LayoutModel",
            "_view_count": null,
            "_view_module": "@jupyter-widgets/base",
            "_view_module_version": "1.2.0",
            "_view_name": "LayoutView",
            "align_content": null,
            "align_items": null,
            "align_self": null,
            "border": null,
            "bottom": null,
            "display": null,
            "flex": null,
            "flex_flow": null,
            "grid_area": null,
            "grid_auto_columns": null,
            "grid_auto_flow": null,
            "grid_auto_rows": null,
            "grid_column": null,
            "grid_gap": null,
            "grid_row": null,
            "grid_template_areas": null,
            "grid_template_columns": null,
            "grid_template_rows": null,
            "height": null,
            "justify_content": null,
            "justify_items": null,
            "left": null,
            "margin": null,
            "max_height": null,
            "max_width": null,
            "min_height": null,
            "min_width": null,
            "object_fit": null,
            "object_position": null,
            "order": null,
            "overflow": null,
            "overflow_x": null,
            "overflow_y": null,
            "padding": null,
            "right": null,
            "top": null,
            "visibility": null,
            "width": null
          }
        },
        "ffb3d495ac754a0b8e53694c88b58229": {
          "model_module": "@jupyter-widgets/controls",
          "model_name": "DescriptionStyleModel",
          "model_module_version": "1.5.0",
          "state": {
            "_model_module": "@jupyter-widgets/controls",
            "_model_module_version": "1.5.0",
            "_model_name": "DescriptionStyleModel",
            "_view_count": null,
            "_view_module": "@jupyter-widgets/base",
            "_view_module_version": "1.2.0",
            "_view_name": "StyleView",
            "description_width": ""
          }
        },
        "97b3f39b8f0d4208a6e294b968ae969b": {
          "model_module": "@jupyter-widgets/controls",
          "model_name": "HBoxModel",
          "model_module_version": "1.5.0",
          "state": {
            "_dom_classes": [],
            "_model_module": "@jupyter-widgets/controls",
            "_model_module_version": "1.5.0",
            "_model_name": "HBoxModel",
            "_view_count": null,
            "_view_module": "@jupyter-widgets/controls",
            "_view_module_version": "1.5.0",
            "_view_name": "HBoxView",
            "box_style": "",
            "children": [
              "IPY_MODEL_b0e89397db6e4794b23ee368d7fabd37",
              "IPY_MODEL_4e232faa15694e1c9fe8e7c77a846a26",
              "IPY_MODEL_75614c1df67342d087956083bedc9117"
            ],
            "layout": "IPY_MODEL_25fa45021b634c3c8b964b76a03d3591"
          }
        },
        "b0e89397db6e4794b23ee368d7fabd37": {
          "model_module": "@jupyter-widgets/controls",
          "model_name": "HTMLModel",
          "model_module_version": "1.5.0",
          "state": {
            "_dom_classes": [],
            "_model_module": "@jupyter-widgets/controls",
            "_model_module_version": "1.5.0",
            "_model_name": "HTMLModel",
            "_view_count": null,
            "_view_module": "@jupyter-widgets/controls",
            "_view_module_version": "1.5.0",
            "_view_name": "HTMLView",
            "description": "",
            "description_tooltip": null,
            "layout": "IPY_MODEL_fa009c3e7dfd4d0e80933c8cc40d8294",
            "placeholder": "​",
            "style": "IPY_MODEL_17cbb3d71c084391a25943ac99b0ed87",
            "value": "config.json: 100%"
          }
        },
        "4e232faa15694e1c9fe8e7c77a846a26": {
          "model_module": "@jupyter-widgets/controls",
          "model_name": "FloatProgressModel",
          "model_module_version": "1.5.0",
          "state": {
            "_dom_classes": [],
            "_model_module": "@jupyter-widgets/controls",
            "_model_module_version": "1.5.0",
            "_model_name": "FloatProgressModel",
            "_view_count": null,
            "_view_module": "@jupyter-widgets/controls",
            "_view_module_version": "1.5.0",
            "_view_name": "ProgressView",
            "bar_style": "success",
            "description": "",
            "description_tooltip": null,
            "layout": "IPY_MODEL_0e16ba78144b419ab7a4515b63d821dd",
            "max": 190,
            "min": 0,
            "orientation": "horizontal",
            "style": "IPY_MODEL_f0d8ae478bdd42049cfa5470395abc8a",
            "value": 190
          }
        },
        "75614c1df67342d087956083bedc9117": {
          "model_module": "@jupyter-widgets/controls",
          "model_name": "HTMLModel",
          "model_module_version": "1.5.0",
          "state": {
            "_dom_classes": [],
            "_model_module": "@jupyter-widgets/controls",
            "_model_module_version": "1.5.0",
            "_model_name": "HTMLModel",
            "_view_count": null,
            "_view_module": "@jupyter-widgets/controls",
            "_view_module_version": "1.5.0",
            "_view_name": "HTMLView",
            "description": "",
            "description_tooltip": null,
            "layout": "IPY_MODEL_0772036badac40108d1b6aebf000b483",
            "placeholder": "​",
            "style": "IPY_MODEL_a31be089d70a4bcfa06a33f68e566763",
            "value": " 190/190 [00:00&lt;00:00, 16.3kB/s]"
          }
        },
        "25fa45021b634c3c8b964b76a03d3591": {
          "model_module": "@jupyter-widgets/base",
          "model_name": "LayoutModel",
          "model_module_version": "1.2.0",
          "state": {
            "_model_module": "@jupyter-widgets/base",
            "_model_module_version": "1.2.0",
            "_model_name": "LayoutModel",
            "_view_count": null,
            "_view_module": "@jupyter-widgets/base",
            "_view_module_version": "1.2.0",
            "_view_name": "LayoutView",
            "align_content": null,
            "align_items": null,
            "align_self": null,
            "border": null,
            "bottom": null,
            "display": null,
            "flex": null,
            "flex_flow": null,
            "grid_area": null,
            "grid_auto_columns": null,
            "grid_auto_flow": null,
            "grid_auto_rows": null,
            "grid_column": null,
            "grid_gap": null,
            "grid_row": null,
            "grid_template_areas": null,
            "grid_template_columns": null,
            "grid_template_rows": null,
            "height": null,
            "justify_content": null,
            "justify_items": null,
            "left": null,
            "margin": null,
            "max_height": null,
            "max_width": null,
            "min_height": null,
            "min_width": null,
            "object_fit": null,
            "object_position": null,
            "order": null,
            "overflow": null,
            "overflow_x": null,
            "overflow_y": null,
            "padding": null,
            "right": null,
            "top": null,
            "visibility": null,
            "width": null
          }
        },
        "fa009c3e7dfd4d0e80933c8cc40d8294": {
          "model_module": "@jupyter-widgets/base",
          "model_name": "LayoutModel",
          "model_module_version": "1.2.0",
          "state": {
            "_model_module": "@jupyter-widgets/base",
            "_model_module_version": "1.2.0",
            "_model_name": "LayoutModel",
            "_view_count": null,
            "_view_module": "@jupyter-widgets/base",
            "_view_module_version": "1.2.0",
            "_view_name": "LayoutView",
            "align_content": null,
            "align_items": null,
            "align_self": null,
            "border": null,
            "bottom": null,
            "display": null,
            "flex": null,
            "flex_flow": null,
            "grid_area": null,
            "grid_auto_columns": null,
            "grid_auto_flow": null,
            "grid_auto_rows": null,
            "grid_column": null,
            "grid_gap": null,
            "grid_row": null,
            "grid_template_areas": null,
            "grid_template_columns": null,
            "grid_template_rows": null,
            "height": null,
            "justify_content": null,
            "justify_items": null,
            "left": null,
            "margin": null,
            "max_height": null,
            "max_width": null,
            "min_height": null,
            "min_width": null,
            "object_fit": null,
            "object_position": null,
            "order": null,
            "overflow": null,
            "overflow_x": null,
            "overflow_y": null,
            "padding": null,
            "right": null,
            "top": null,
            "visibility": null,
            "width": null
          }
        },
        "17cbb3d71c084391a25943ac99b0ed87": {
          "model_module": "@jupyter-widgets/controls",
          "model_name": "DescriptionStyleModel",
          "model_module_version": "1.5.0",
          "state": {
            "_model_module": "@jupyter-widgets/controls",
            "_model_module_version": "1.5.0",
            "_model_name": "DescriptionStyleModel",
            "_view_count": null,
            "_view_module": "@jupyter-widgets/base",
            "_view_module_version": "1.2.0",
            "_view_name": "StyleView",
            "description_width": ""
          }
        },
        "0e16ba78144b419ab7a4515b63d821dd": {
          "model_module": "@jupyter-widgets/base",
          "model_name": "LayoutModel",
          "model_module_version": "1.2.0",
          "state": {
            "_model_module": "@jupyter-widgets/base",
            "_model_module_version": "1.2.0",
            "_model_name": "LayoutModel",
            "_view_count": null,
            "_view_module": "@jupyter-widgets/base",
            "_view_module_version": "1.2.0",
            "_view_name": "LayoutView",
            "align_content": null,
            "align_items": null,
            "align_self": null,
            "border": null,
            "bottom": null,
            "display": null,
            "flex": null,
            "flex_flow": null,
            "grid_area": null,
            "grid_auto_columns": null,
            "grid_auto_flow": null,
            "grid_auto_rows": null,
            "grid_column": null,
            "grid_gap": null,
            "grid_row": null,
            "grid_template_areas": null,
            "grid_template_columns": null,
            "grid_template_rows": null,
            "height": null,
            "justify_content": null,
            "justify_items": null,
            "left": null,
            "margin": null,
            "max_height": null,
            "max_width": null,
            "min_height": null,
            "min_width": null,
            "object_fit": null,
            "object_position": null,
            "order": null,
            "overflow": null,
            "overflow_x": null,
            "overflow_y": null,
            "padding": null,
            "right": null,
            "top": null,
            "visibility": null,
            "width": null
          }
        },
        "f0d8ae478bdd42049cfa5470395abc8a": {
          "model_module": "@jupyter-widgets/controls",
          "model_name": "ProgressStyleModel",
          "model_module_version": "1.5.0",
          "state": {
            "_model_module": "@jupyter-widgets/controls",
            "_model_module_version": "1.5.0",
            "_model_name": "ProgressStyleModel",
            "_view_count": null,
            "_view_module": "@jupyter-widgets/base",
            "_view_module_version": "1.2.0",
            "_view_name": "StyleView",
            "bar_color": null,
            "description_width": ""
          }
        },
        "0772036badac40108d1b6aebf000b483": {
          "model_module": "@jupyter-widgets/base",
          "model_name": "LayoutModel",
          "model_module_version": "1.2.0",
          "state": {
            "_model_module": "@jupyter-widgets/base",
            "_model_module_version": "1.2.0",
            "_model_name": "LayoutModel",
            "_view_count": null,
            "_view_module": "@jupyter-widgets/base",
            "_view_module_version": "1.2.0",
            "_view_name": "LayoutView",
            "align_content": null,
            "align_items": null,
            "align_self": null,
            "border": null,
            "bottom": null,
            "display": null,
            "flex": null,
            "flex_flow": null,
            "grid_area": null,
            "grid_auto_columns": null,
            "grid_auto_flow": null,
            "grid_auto_rows": null,
            "grid_column": null,
            "grid_gap": null,
            "grid_row": null,
            "grid_template_areas": null,
            "grid_template_columns": null,
            "grid_template_rows": null,
            "height": null,
            "justify_content": null,
            "justify_items": null,
            "left": null,
            "margin": null,
            "max_height": null,
            "max_width": null,
            "min_height": null,
            "min_width": null,
            "object_fit": null,
            "object_position": null,
            "order": null,
            "overflow": null,
            "overflow_x": null,
            "overflow_y": null,
            "padding": null,
            "right": null,
            "top": null,
            "visibility": null,
            "width": null
          }
        },
        "a31be089d70a4bcfa06a33f68e566763": {
          "model_module": "@jupyter-widgets/controls",
          "model_name": "DescriptionStyleModel",
          "model_module_version": "1.5.0",
          "state": {
            "_model_module": "@jupyter-widgets/controls",
            "_model_module_version": "1.5.0",
            "_model_name": "DescriptionStyleModel",
            "_view_count": null,
            "_view_module": "@jupyter-widgets/base",
            "_view_module_version": "1.2.0",
            "_view_name": "StyleView",
            "description_width": ""
          }
        },
        "f68c22576d86470bb9d3b6fea812f248": {
          "model_module": "@jupyter-widgets/controls",
          "model_name": "HBoxModel",
          "model_module_version": "1.5.0",
          "state": {
            "_dom_classes": [],
            "_model_module": "@jupyter-widgets/controls",
            "_model_module_version": "1.5.0",
            "_model_name": "HBoxModel",
            "_view_count": null,
            "_view_module": "@jupyter-widgets/controls",
            "_view_module_version": "1.5.0",
            "_view_name": "HBoxView",
            "box_style": "",
            "children": [
              "IPY_MODEL_c78ad196e8b94cccbcc6e14558f7ccd1",
              "IPY_MODEL_ef83422843954e2c89b902e05359bdf5",
              "IPY_MODEL_f80756a3504344279dabf2d43a48a81b"
            ],
            "layout": "IPY_MODEL_86e04ec6731440749b5224f2427084cc"
          }
        },
        "c78ad196e8b94cccbcc6e14558f7ccd1": {
          "model_module": "@jupyter-widgets/controls",
          "model_name": "HTMLModel",
          "model_module_version": "1.5.0",
          "state": {
            "_dom_classes": [],
            "_model_module": "@jupyter-widgets/controls",
            "_model_module_version": "1.5.0",
            "_model_name": "HTMLModel",
            "_view_count": null,
            "_view_module": "@jupyter-widgets/controls",
            "_view_module_version": "1.5.0",
            "_view_name": "HTMLView",
            "description": "",
            "description_tooltip": null,
            "layout": "IPY_MODEL_83d15ba7c6c245ff98f8be28dfc77869",
            "placeholder": "​",
            "style": "IPY_MODEL_3f28cebdbe3644bb92dc79b26afe3a39",
            "value": "README.md: 100%"
          }
        },
        "ef83422843954e2c89b902e05359bdf5": {
          "model_module": "@jupyter-widgets/controls",
          "model_name": "FloatProgressModel",
          "model_module_version": "1.5.0",
          "state": {
            "_dom_classes": [],
            "_model_module": "@jupyter-widgets/controls",
            "_model_module_version": "1.5.0",
            "_model_name": "FloatProgressModel",
            "_view_count": null,
            "_view_module": "@jupyter-widgets/controls",
            "_view_module_version": "1.5.0",
            "_view_name": "ProgressView",
            "bar_style": "success",
            "description": "",
            "description_tooltip": null,
            "layout": "IPY_MODEL_f8dd7f4c9f6c425ea38dc0af6ef2aa97",
            "max": 10467,
            "min": 0,
            "orientation": "horizontal",
            "style": "IPY_MODEL_27313e9f6acc488e9983f4d50501f96b",
            "value": 10467
          }
        },
        "f80756a3504344279dabf2d43a48a81b": {
          "model_module": "@jupyter-widgets/controls",
          "model_name": "HTMLModel",
          "model_module_version": "1.5.0",
          "state": {
            "_dom_classes": [],
            "_model_module": "@jupyter-widgets/controls",
            "_model_module_version": "1.5.0",
            "_model_name": "HTMLModel",
            "_view_count": null,
            "_view_module": "@jupyter-widgets/controls",
            "_view_module_version": "1.5.0",
            "_view_name": "HTMLView",
            "description": "",
            "description_tooltip": null,
            "layout": "IPY_MODEL_540aff7c1c1f4788b351a51c981a44be",
            "placeholder": "​",
            "style": "IPY_MODEL_c461071d577b4e118423a476594c3288",
            "value": " 10.5k/10.5k [00:00&lt;00:00, 852kB/s]"
          }
        },
        "86e04ec6731440749b5224f2427084cc": {
          "model_module": "@jupyter-widgets/base",
          "model_name": "LayoutModel",
          "model_module_version": "1.2.0",
          "state": {
            "_model_module": "@jupyter-widgets/base",
            "_model_module_version": "1.2.0",
            "_model_name": "LayoutModel",
            "_view_count": null,
            "_view_module": "@jupyter-widgets/base",
            "_view_module_version": "1.2.0",
            "_view_name": "LayoutView",
            "align_content": null,
            "align_items": null,
            "align_self": null,
            "border": null,
            "bottom": null,
            "display": null,
            "flex": null,
            "flex_flow": null,
            "grid_area": null,
            "grid_auto_columns": null,
            "grid_auto_flow": null,
            "grid_auto_rows": null,
            "grid_column": null,
            "grid_gap": null,
            "grid_row": null,
            "grid_template_areas": null,
            "grid_template_columns": null,
            "grid_template_rows": null,
            "height": null,
            "justify_content": null,
            "justify_items": null,
            "left": null,
            "margin": null,
            "max_height": null,
            "max_width": null,
            "min_height": null,
            "min_width": null,
            "object_fit": null,
            "object_position": null,
            "order": null,
            "overflow": null,
            "overflow_x": null,
            "overflow_y": null,
            "padding": null,
            "right": null,
            "top": null,
            "visibility": null,
            "width": null
          }
        },
        "83d15ba7c6c245ff98f8be28dfc77869": {
          "model_module": "@jupyter-widgets/base",
          "model_name": "LayoutModel",
          "model_module_version": "1.2.0",
          "state": {
            "_model_module": "@jupyter-widgets/base",
            "_model_module_version": "1.2.0",
            "_model_name": "LayoutModel",
            "_view_count": null,
            "_view_module": "@jupyter-widgets/base",
            "_view_module_version": "1.2.0",
            "_view_name": "LayoutView",
            "align_content": null,
            "align_items": null,
            "align_self": null,
            "border": null,
            "bottom": null,
            "display": null,
            "flex": null,
            "flex_flow": null,
            "grid_area": null,
            "grid_auto_columns": null,
            "grid_auto_flow": null,
            "grid_auto_rows": null,
            "grid_column": null,
            "grid_gap": null,
            "grid_row": null,
            "grid_template_areas": null,
            "grid_template_columns": null,
            "grid_template_rows": null,
            "height": null,
            "justify_content": null,
            "justify_items": null,
            "left": null,
            "margin": null,
            "max_height": null,
            "max_width": null,
            "min_height": null,
            "min_width": null,
            "object_fit": null,
            "object_position": null,
            "order": null,
            "overflow": null,
            "overflow_x": null,
            "overflow_y": null,
            "padding": null,
            "right": null,
            "top": null,
            "visibility": null,
            "width": null
          }
        },
        "3f28cebdbe3644bb92dc79b26afe3a39": {
          "model_module": "@jupyter-widgets/controls",
          "model_name": "DescriptionStyleModel",
          "model_module_version": "1.5.0",
          "state": {
            "_model_module": "@jupyter-widgets/controls",
            "_model_module_version": "1.5.0",
            "_model_name": "DescriptionStyleModel",
            "_view_count": null,
            "_view_module": "@jupyter-widgets/base",
            "_view_module_version": "1.2.0",
            "_view_name": "StyleView",
            "description_width": ""
          }
        },
        "f8dd7f4c9f6c425ea38dc0af6ef2aa97": {
          "model_module": "@jupyter-widgets/base",
          "model_name": "LayoutModel",
          "model_module_version": "1.2.0",
          "state": {
            "_model_module": "@jupyter-widgets/base",
            "_model_module_version": "1.2.0",
            "_model_name": "LayoutModel",
            "_view_count": null,
            "_view_module": "@jupyter-widgets/base",
            "_view_module_version": "1.2.0",
            "_view_name": "LayoutView",
            "align_content": null,
            "align_items": null,
            "align_self": null,
            "border": null,
            "bottom": null,
            "display": null,
            "flex": null,
            "flex_flow": null,
            "grid_area": null,
            "grid_auto_columns": null,
            "grid_auto_flow": null,
            "grid_auto_rows": null,
            "grid_column": null,
            "grid_gap": null,
            "grid_row": null,
            "grid_template_areas": null,
            "grid_template_columns": null,
            "grid_template_rows": null,
            "height": null,
            "justify_content": null,
            "justify_items": null,
            "left": null,
            "margin": null,
            "max_height": null,
            "max_width": null,
            "min_height": null,
            "min_width": null,
            "object_fit": null,
            "object_position": null,
            "order": null,
            "overflow": null,
            "overflow_x": null,
            "overflow_y": null,
            "padding": null,
            "right": null,
            "top": null,
            "visibility": null,
            "width": null
          }
        },
        "27313e9f6acc488e9983f4d50501f96b": {
          "model_module": "@jupyter-widgets/controls",
          "model_name": "ProgressStyleModel",
          "model_module_version": "1.5.0",
          "state": {
            "_model_module": "@jupyter-widgets/controls",
            "_model_module_version": "1.5.0",
            "_model_name": "ProgressStyleModel",
            "_view_count": null,
            "_view_module": "@jupyter-widgets/base",
            "_view_module_version": "1.2.0",
            "_view_name": "StyleView",
            "bar_color": null,
            "description_width": ""
          }
        },
        "540aff7c1c1f4788b351a51c981a44be": {
          "model_module": "@jupyter-widgets/base",
          "model_name": "LayoutModel",
          "model_module_version": "1.2.0",
          "state": {
            "_model_module": "@jupyter-widgets/base",
            "_model_module_version": "1.2.0",
            "_model_name": "LayoutModel",
            "_view_count": null,
            "_view_module": "@jupyter-widgets/base",
            "_view_module_version": "1.2.0",
            "_view_name": "LayoutView",
            "align_content": null,
            "align_items": null,
            "align_self": null,
            "border": null,
            "bottom": null,
            "display": null,
            "flex": null,
            "flex_flow": null,
            "grid_area": null,
            "grid_auto_columns": null,
            "grid_auto_flow": null,
            "grid_auto_rows": null,
            "grid_column": null,
            "grid_gap": null,
            "grid_row": null,
            "grid_template_areas": null,
            "grid_template_columns": null,
            "grid_template_rows": null,
            "height": null,
            "justify_content": null,
            "justify_items": null,
            "left": null,
            "margin": null,
            "max_height": null,
            "max_width": null,
            "min_height": null,
            "min_width": null,
            "object_fit": null,
            "object_position": null,
            "order": null,
            "overflow": null,
            "overflow_x": null,
            "overflow_y": null,
            "padding": null,
            "right": null,
            "top": null,
            "visibility": null,
            "width": null
          }
        },
        "c461071d577b4e118423a476594c3288": {
          "model_module": "@jupyter-widgets/controls",
          "model_name": "DescriptionStyleModel",
          "model_module_version": "1.5.0",
          "state": {
            "_model_module": "@jupyter-widgets/controls",
            "_model_module_version": "1.5.0",
            "_model_name": "DescriptionStyleModel",
            "_view_count": null,
            "_view_module": "@jupyter-widgets/base",
            "_view_module_version": "1.2.0",
            "_view_name": "StyleView",
            "description_width": ""
          }
        },
        "b87c1360b7e24cf19589cbdbe5797cd7": {
          "model_module": "@jupyter-widgets/controls",
          "model_name": "HBoxModel",
          "model_module_version": "1.5.0",
          "state": {
            "_dom_classes": [],
            "_model_module": "@jupyter-widgets/controls",
            "_model_module_version": "1.5.0",
            "_model_name": "HBoxModel",
            "_view_count": null,
            "_view_module": "@jupyter-widgets/controls",
            "_view_module_version": "1.5.0",
            "_view_name": "HBoxView",
            "box_style": "",
            "children": [
              "IPY_MODEL_8515cb2b7d2e471e9794e903a093d2a8",
              "IPY_MODEL_3fef95e836a34fd291d1cb666ba992d2",
              "IPY_MODEL_003008d6eb0347b99270c2ca1fd67e51"
            ],
            "layout": "IPY_MODEL_77aeb1be84c74add918640581a0e8613"
          }
        },
        "8515cb2b7d2e471e9794e903a093d2a8": {
          "model_module": "@jupyter-widgets/controls",
          "model_name": "HTMLModel",
          "model_module_version": "1.5.0",
          "state": {
            "_dom_classes": [],
            "_model_module": "@jupyter-widgets/controls",
            "_model_module_version": "1.5.0",
            "_model_name": "HTMLModel",
            "_view_count": null,
            "_view_module": "@jupyter-widgets/controls",
            "_view_module_version": "1.5.0",
            "_view_name": "HTMLView",
            "description": "",
            "description_tooltip": null,
            "layout": "IPY_MODEL_9eca33dea1ba45be9a3a0351a327e761",
            "placeholder": "​",
            "style": "IPY_MODEL_f82eabe7d5ee436aa1414c613fd139ec",
            "value": "config.json: 100%"
          }
        },
        "3fef95e836a34fd291d1cb666ba992d2": {
          "model_module": "@jupyter-widgets/controls",
          "model_name": "FloatProgressModel",
          "model_module_version": "1.5.0",
          "state": {
            "_dom_classes": [],
            "_model_module": "@jupyter-widgets/controls",
            "_model_module_version": "1.5.0",
            "_model_name": "FloatProgressModel",
            "_view_count": null,
            "_view_module": "@jupyter-widgets/controls",
            "_view_module_version": "1.5.0",
            "_view_name": "ProgressView",
            "bar_style": "success",
            "description": "",
            "description_tooltip": null,
            "layout": "IPY_MODEL_3671e055385244debfd13aa64c75e5b0",
            "max": 615,
            "min": 0,
            "orientation": "horizontal",
            "style": "IPY_MODEL_53687f98b3e24930ae429bfbb5609bc0",
            "value": 615
          }
        },
        "003008d6eb0347b99270c2ca1fd67e51": {
          "model_module": "@jupyter-widgets/controls",
          "model_name": "HTMLModel",
          "model_module_version": "1.5.0",
          "state": {
            "_dom_classes": [],
            "_model_module": "@jupyter-widgets/controls",
            "_model_module_version": "1.5.0",
            "_model_name": "HTMLModel",
            "_view_count": null,
            "_view_module": "@jupyter-widgets/controls",
            "_view_module_version": "1.5.0",
            "_view_name": "HTMLView",
            "description": "",
            "description_tooltip": null,
            "layout": "IPY_MODEL_a30f9b9a8214439ea4bcc724442aefa2",
            "placeholder": "​",
            "style": "IPY_MODEL_551e233e75414d02adbea0db17e6adc7",
            "value": " 615/615 [00:00&lt;00:00, 49.9kB/s]"
          }
        },
        "77aeb1be84c74add918640581a0e8613": {
          "model_module": "@jupyter-widgets/base",
          "model_name": "LayoutModel",
          "model_module_version": "1.2.0",
          "state": {
            "_model_module": "@jupyter-widgets/base",
            "_model_module_version": "1.2.0",
            "_model_name": "LayoutModel",
            "_view_count": null,
            "_view_module": "@jupyter-widgets/base",
            "_view_module_version": "1.2.0",
            "_view_name": "LayoutView",
            "align_content": null,
            "align_items": null,
            "align_self": null,
            "border": null,
            "bottom": null,
            "display": null,
            "flex": null,
            "flex_flow": null,
            "grid_area": null,
            "grid_auto_columns": null,
            "grid_auto_flow": null,
            "grid_auto_rows": null,
            "grid_column": null,
            "grid_gap": null,
            "grid_row": null,
            "grid_template_areas": null,
            "grid_template_columns": null,
            "grid_template_rows": null,
            "height": null,
            "justify_content": null,
            "justify_items": null,
            "left": null,
            "margin": null,
            "max_height": null,
            "max_width": null,
            "min_height": null,
            "min_width": null,
            "object_fit": null,
            "object_position": null,
            "order": null,
            "overflow": null,
            "overflow_x": null,
            "overflow_y": null,
            "padding": null,
            "right": null,
            "top": null,
            "visibility": null,
            "width": null
          }
        },
        "9eca33dea1ba45be9a3a0351a327e761": {
          "model_module": "@jupyter-widgets/base",
          "model_name": "LayoutModel",
          "model_module_version": "1.2.0",
          "state": {
            "_model_module": "@jupyter-widgets/base",
            "_model_module_version": "1.2.0",
            "_model_name": "LayoutModel",
            "_view_count": null,
            "_view_module": "@jupyter-widgets/base",
            "_view_module_version": "1.2.0",
            "_view_name": "LayoutView",
            "align_content": null,
            "align_items": null,
            "align_self": null,
            "border": null,
            "bottom": null,
            "display": null,
            "flex": null,
            "flex_flow": null,
            "grid_area": null,
            "grid_auto_columns": null,
            "grid_auto_flow": null,
            "grid_auto_rows": null,
            "grid_column": null,
            "grid_gap": null,
            "grid_row": null,
            "grid_template_areas": null,
            "grid_template_columns": null,
            "grid_template_rows": null,
            "height": null,
            "justify_content": null,
            "justify_items": null,
            "left": null,
            "margin": null,
            "max_height": null,
            "max_width": null,
            "min_height": null,
            "min_width": null,
            "object_fit": null,
            "object_position": null,
            "order": null,
            "overflow": null,
            "overflow_x": null,
            "overflow_y": null,
            "padding": null,
            "right": null,
            "top": null,
            "visibility": null,
            "width": null
          }
        },
        "f82eabe7d5ee436aa1414c613fd139ec": {
          "model_module": "@jupyter-widgets/controls",
          "model_name": "DescriptionStyleModel",
          "model_module_version": "1.5.0",
          "state": {
            "_model_module": "@jupyter-widgets/controls",
            "_model_module_version": "1.5.0",
            "_model_name": "DescriptionStyleModel",
            "_view_count": null,
            "_view_module": "@jupyter-widgets/base",
            "_view_module_version": "1.2.0",
            "_view_name": "StyleView",
            "description_width": ""
          }
        },
        "3671e055385244debfd13aa64c75e5b0": {
          "model_module": "@jupyter-widgets/base",
          "model_name": "LayoutModel",
          "model_module_version": "1.2.0",
          "state": {
            "_model_module": "@jupyter-widgets/base",
            "_model_module_version": "1.2.0",
            "_model_name": "LayoutModel",
            "_view_count": null,
            "_view_module": "@jupyter-widgets/base",
            "_view_module_version": "1.2.0",
            "_view_name": "LayoutView",
            "align_content": null,
            "align_items": null,
            "align_self": null,
            "border": null,
            "bottom": null,
            "display": null,
            "flex": null,
            "flex_flow": null,
            "grid_area": null,
            "grid_auto_columns": null,
            "grid_auto_flow": null,
            "grid_auto_rows": null,
            "grid_column": null,
            "grid_gap": null,
            "grid_row": null,
            "grid_template_areas": null,
            "grid_template_columns": null,
            "grid_template_rows": null,
            "height": null,
            "justify_content": null,
            "justify_items": null,
            "left": null,
            "margin": null,
            "max_height": null,
            "max_width": null,
            "min_height": null,
            "min_width": null,
            "object_fit": null,
            "object_position": null,
            "order": null,
            "overflow": null,
            "overflow_x": null,
            "overflow_y": null,
            "padding": null,
            "right": null,
            "top": null,
            "visibility": null,
            "width": null
          }
        },
        "53687f98b3e24930ae429bfbb5609bc0": {
          "model_module": "@jupyter-widgets/controls",
          "model_name": "ProgressStyleModel",
          "model_module_version": "1.5.0",
          "state": {
            "_model_module": "@jupyter-widgets/controls",
            "_model_module_version": "1.5.0",
            "_model_name": "ProgressStyleModel",
            "_view_count": null,
            "_view_module": "@jupyter-widgets/base",
            "_view_module_version": "1.2.0",
            "_view_name": "StyleView",
            "bar_color": null,
            "description_width": ""
          }
        },
        "a30f9b9a8214439ea4bcc724442aefa2": {
          "model_module": "@jupyter-widgets/base",
          "model_name": "LayoutModel",
          "model_module_version": "1.2.0",
          "state": {
            "_model_module": "@jupyter-widgets/base",
            "_model_module_version": "1.2.0",
            "_model_name": "LayoutModel",
            "_view_count": null,
            "_view_module": "@jupyter-widgets/base",
            "_view_module_version": "1.2.0",
            "_view_name": "LayoutView",
            "align_content": null,
            "align_items": null,
            "align_self": null,
            "border": null,
            "bottom": null,
            "display": null,
            "flex": null,
            "flex_flow": null,
            "grid_area": null,
            "grid_auto_columns": null,
            "grid_auto_flow": null,
            "grid_auto_rows": null,
            "grid_column": null,
            "grid_gap": null,
            "grid_row": null,
            "grid_template_areas": null,
            "grid_template_columns": null,
            "grid_template_rows": null,
            "height": null,
            "justify_content": null,
            "justify_items": null,
            "left": null,
            "margin": null,
            "max_height": null,
            "max_width": null,
            "min_height": null,
            "min_width": null,
            "object_fit": null,
            "object_position": null,
            "order": null,
            "overflow": null,
            "overflow_x": null,
            "overflow_y": null,
            "padding": null,
            "right": null,
            "top": null,
            "visibility": null,
            "width": null
          }
        },
        "551e233e75414d02adbea0db17e6adc7": {
          "model_module": "@jupyter-widgets/controls",
          "model_name": "DescriptionStyleModel",
          "model_module_version": "1.5.0",
          "state": {
            "_model_module": "@jupyter-widgets/controls",
            "_model_module_version": "1.5.0",
            "_model_name": "DescriptionStyleModel",
            "_view_count": null,
            "_view_module": "@jupyter-widgets/base",
            "_view_module_version": "1.2.0",
            "_view_name": "StyleView",
            "description_width": ""
          }
        },
        "2e1d6dfa5b7648af8303890fd97dfef7": {
          "model_module": "@jupyter-widgets/controls",
          "model_name": "HBoxModel",
          "model_module_version": "1.5.0",
          "state": {
            "_dom_classes": [],
            "_model_module": "@jupyter-widgets/controls",
            "_model_module_version": "1.5.0",
            "_model_name": "HBoxModel",
            "_view_count": null,
            "_view_module": "@jupyter-widgets/controls",
            "_view_module_version": "1.5.0",
            "_view_name": "HBoxView",
            "box_style": "",
            "children": [
              "IPY_MODEL_e8d00e25128f471cb61e3173df75fb58",
              "IPY_MODEL_1ab715706149419c9e85963310482bb4",
              "IPY_MODEL_731d9e477b0441e89cbedf160cc8f58a"
            ],
            "layout": "IPY_MODEL_e1937e0c745248988a74695b3953b287"
          }
        },
        "e8d00e25128f471cb61e3173df75fb58": {
          "model_module": "@jupyter-widgets/controls",
          "model_name": "HTMLModel",
          "model_module_version": "1.5.0",
          "state": {
            "_dom_classes": [],
            "_model_module": "@jupyter-widgets/controls",
            "_model_module_version": "1.5.0",
            "_model_name": "HTMLModel",
            "_view_count": null,
            "_view_module": "@jupyter-widgets/controls",
            "_view_module_version": "1.5.0",
            "_view_name": "HTMLView",
            "description": "",
            "description_tooltip": null,
            "layout": "IPY_MODEL_8b2857d79fba4fe5a2e005f99a50d29b",
            "placeholder": "​",
            "style": "IPY_MODEL_d3373b2f35d941a5b1dbe9288b81db1b",
            "value": "config_sentence_transformers.json: 100%"
          }
        },
        "1ab715706149419c9e85963310482bb4": {
          "model_module": "@jupyter-widgets/controls",
          "model_name": "FloatProgressModel",
          "model_module_version": "1.5.0",
          "state": {
            "_dom_classes": [],
            "_model_module": "@jupyter-widgets/controls",
            "_model_module_version": "1.5.0",
            "_model_name": "FloatProgressModel",
            "_view_count": null,
            "_view_module": "@jupyter-widgets/controls",
            "_view_module_version": "1.5.0",
            "_view_name": "ProgressView",
            "bar_style": "success",
            "description": "",
            "description_tooltip": null,
            "layout": "IPY_MODEL_a451109ac5ce44c88f207f57cffd1e56",
            "max": 116,
            "min": 0,
            "orientation": "horizontal",
            "style": "IPY_MODEL_596e4d63e84a42adbfde6b9ca6ab6d3d",
            "value": 116
          }
        },
        "731d9e477b0441e89cbedf160cc8f58a": {
          "model_module": "@jupyter-widgets/controls",
          "model_name": "HTMLModel",
          "model_module_version": "1.5.0",
          "state": {
            "_dom_classes": [],
            "_model_module": "@jupyter-widgets/controls",
            "_model_module_version": "1.5.0",
            "_model_name": "HTMLModel",
            "_view_count": null,
            "_view_module": "@jupyter-widgets/controls",
            "_view_module_version": "1.5.0",
            "_view_name": "HTMLView",
            "description": "",
            "description_tooltip": null,
            "layout": "IPY_MODEL_881b288102f0491c925ba1815f76542c",
            "placeholder": "​",
            "style": "IPY_MODEL_b7fd845e8ad44c3fb303c8ef1506ddc2",
            "value": " 116/116 [00:00&lt;00:00, 8.88kB/s]"
          }
        },
        "e1937e0c745248988a74695b3953b287": {
          "model_module": "@jupyter-widgets/base",
          "model_name": "LayoutModel",
          "model_module_version": "1.2.0",
          "state": {
            "_model_module": "@jupyter-widgets/base",
            "_model_module_version": "1.2.0",
            "_model_name": "LayoutModel",
            "_view_count": null,
            "_view_module": "@jupyter-widgets/base",
            "_view_module_version": "1.2.0",
            "_view_name": "LayoutView",
            "align_content": null,
            "align_items": null,
            "align_self": null,
            "border": null,
            "bottom": null,
            "display": null,
            "flex": null,
            "flex_flow": null,
            "grid_area": null,
            "grid_auto_columns": null,
            "grid_auto_flow": null,
            "grid_auto_rows": null,
            "grid_column": null,
            "grid_gap": null,
            "grid_row": null,
            "grid_template_areas": null,
            "grid_template_columns": null,
            "grid_template_rows": null,
            "height": null,
            "justify_content": null,
            "justify_items": null,
            "left": null,
            "margin": null,
            "max_height": null,
            "max_width": null,
            "min_height": null,
            "min_width": null,
            "object_fit": null,
            "object_position": null,
            "order": null,
            "overflow": null,
            "overflow_x": null,
            "overflow_y": null,
            "padding": null,
            "right": null,
            "top": null,
            "visibility": null,
            "width": null
          }
        },
        "8b2857d79fba4fe5a2e005f99a50d29b": {
          "model_module": "@jupyter-widgets/base",
          "model_name": "LayoutModel",
          "model_module_version": "1.2.0",
          "state": {
            "_model_module": "@jupyter-widgets/base",
            "_model_module_version": "1.2.0",
            "_model_name": "LayoutModel",
            "_view_count": null,
            "_view_module": "@jupyter-widgets/base",
            "_view_module_version": "1.2.0",
            "_view_name": "LayoutView",
            "align_content": null,
            "align_items": null,
            "align_self": null,
            "border": null,
            "bottom": null,
            "display": null,
            "flex": null,
            "flex_flow": null,
            "grid_area": null,
            "grid_auto_columns": null,
            "grid_auto_flow": null,
            "grid_auto_rows": null,
            "grid_column": null,
            "grid_gap": null,
            "grid_row": null,
            "grid_template_areas": null,
            "grid_template_columns": null,
            "grid_template_rows": null,
            "height": null,
            "justify_content": null,
            "justify_items": null,
            "left": null,
            "margin": null,
            "max_height": null,
            "max_width": null,
            "min_height": null,
            "min_width": null,
            "object_fit": null,
            "object_position": null,
            "order": null,
            "overflow": null,
            "overflow_x": null,
            "overflow_y": null,
            "padding": null,
            "right": null,
            "top": null,
            "visibility": null,
            "width": null
          }
        },
        "d3373b2f35d941a5b1dbe9288b81db1b": {
          "model_module": "@jupyter-widgets/controls",
          "model_name": "DescriptionStyleModel",
          "model_module_version": "1.5.0",
          "state": {
            "_model_module": "@jupyter-widgets/controls",
            "_model_module_version": "1.5.0",
            "_model_name": "DescriptionStyleModel",
            "_view_count": null,
            "_view_module": "@jupyter-widgets/base",
            "_view_module_version": "1.2.0",
            "_view_name": "StyleView",
            "description_width": ""
          }
        },
        "a451109ac5ce44c88f207f57cffd1e56": {
          "model_module": "@jupyter-widgets/base",
          "model_name": "LayoutModel",
          "model_module_version": "1.2.0",
          "state": {
            "_model_module": "@jupyter-widgets/base",
            "_model_module_version": "1.2.0",
            "_model_name": "LayoutModel",
            "_view_count": null,
            "_view_module": "@jupyter-widgets/base",
            "_view_module_version": "1.2.0",
            "_view_name": "LayoutView",
            "align_content": null,
            "align_items": null,
            "align_self": null,
            "border": null,
            "bottom": null,
            "display": null,
            "flex": null,
            "flex_flow": null,
            "grid_area": null,
            "grid_auto_columns": null,
            "grid_auto_flow": null,
            "grid_auto_rows": null,
            "grid_column": null,
            "grid_gap": null,
            "grid_row": null,
            "grid_template_areas": null,
            "grid_template_columns": null,
            "grid_template_rows": null,
            "height": null,
            "justify_content": null,
            "justify_items": null,
            "left": null,
            "margin": null,
            "max_height": null,
            "max_width": null,
            "min_height": null,
            "min_width": null,
            "object_fit": null,
            "object_position": null,
            "order": null,
            "overflow": null,
            "overflow_x": null,
            "overflow_y": null,
            "padding": null,
            "right": null,
            "top": null,
            "visibility": null,
            "width": null
          }
        },
        "596e4d63e84a42adbfde6b9ca6ab6d3d": {
          "model_module": "@jupyter-widgets/controls",
          "model_name": "ProgressStyleModel",
          "model_module_version": "1.5.0",
          "state": {
            "_model_module": "@jupyter-widgets/controls",
            "_model_module_version": "1.5.0",
            "_model_name": "ProgressStyleModel",
            "_view_count": null,
            "_view_module": "@jupyter-widgets/base",
            "_view_module_version": "1.2.0",
            "_view_name": "StyleView",
            "bar_color": null,
            "description_width": ""
          }
        },
        "881b288102f0491c925ba1815f76542c": {
          "model_module": "@jupyter-widgets/base",
          "model_name": "LayoutModel",
          "model_module_version": "1.2.0",
          "state": {
            "_model_module": "@jupyter-widgets/base",
            "_model_module_version": "1.2.0",
            "_model_name": "LayoutModel",
            "_view_count": null,
            "_view_module": "@jupyter-widgets/base",
            "_view_module_version": "1.2.0",
            "_view_name": "LayoutView",
            "align_content": null,
            "align_items": null,
            "align_self": null,
            "border": null,
            "bottom": null,
            "display": null,
            "flex": null,
            "flex_flow": null,
            "grid_area": null,
            "grid_auto_columns": null,
            "grid_auto_flow": null,
            "grid_auto_rows": null,
            "grid_column": null,
            "grid_gap": null,
            "grid_row": null,
            "grid_template_areas": null,
            "grid_template_columns": null,
            "grid_template_rows": null,
            "height": null,
            "justify_content": null,
            "justify_items": null,
            "left": null,
            "margin": null,
            "max_height": null,
            "max_width": null,
            "min_height": null,
            "min_width": null,
            "object_fit": null,
            "object_position": null,
            "order": null,
            "overflow": null,
            "overflow_x": null,
            "overflow_y": null,
            "padding": null,
            "right": null,
            "top": null,
            "visibility": null,
            "width": null
          }
        },
        "b7fd845e8ad44c3fb303c8ef1506ddc2": {
          "model_module": "@jupyter-widgets/controls",
          "model_name": "DescriptionStyleModel",
          "model_module_version": "1.5.0",
          "state": {
            "_model_module": "@jupyter-widgets/controls",
            "_model_module_version": "1.5.0",
            "_model_name": "DescriptionStyleModel",
            "_view_count": null,
            "_view_module": "@jupyter-widgets/base",
            "_view_module_version": "1.2.0",
            "_view_name": "StyleView",
            "description_width": ""
          }
        },
        "6cc2487408b04d8ba97639d92025b7b1": {
          "model_module": "@jupyter-widgets/controls",
          "model_name": "HBoxModel",
          "model_module_version": "1.5.0",
          "state": {
            "_dom_classes": [],
            "_model_module": "@jupyter-widgets/controls",
            "_model_module_version": "1.5.0",
            "_model_name": "HBoxModel",
            "_view_count": null,
            "_view_module": "@jupyter-widgets/controls",
            "_view_module_version": "1.5.0",
            "_view_name": "HBoxView",
            "box_style": "",
            "children": [
              "IPY_MODEL_1699f9f63d4c4507befae2ad6e062f05",
              "IPY_MODEL_a5d32ea753f4470e97b633f44dd33748",
              "IPY_MODEL_eb52150fab6a4484bfc7c05f02f3c4a1"
            ],
            "layout": "IPY_MODEL_9e0aca7245024a75a1a06f8c491fd621"
          }
        },
        "1699f9f63d4c4507befae2ad6e062f05": {
          "model_module": "@jupyter-widgets/controls",
          "model_name": "HTMLModel",
          "model_module_version": "1.5.0",
          "state": {
            "_dom_classes": [],
            "_model_module": "@jupyter-widgets/controls",
            "_model_module_version": "1.5.0",
            "_model_name": "HTMLModel",
            "_view_count": null,
            "_view_module": "@jupyter-widgets/controls",
            "_view_module_version": "1.5.0",
            "_view_name": "HTMLView",
            "description": "",
            "description_tooltip": null,
            "layout": "IPY_MODEL_3b1687a9f53b4d26a711ecfa63c65ca3",
            "placeholder": "​",
            "style": "IPY_MODEL_b46d19b4eb984c9a886ab22d10281cba",
            "value": "data_config.json: 100%"
          }
        },
        "a5d32ea753f4470e97b633f44dd33748": {
          "model_module": "@jupyter-widgets/controls",
          "model_name": "FloatProgressModel",
          "model_module_version": "1.5.0",
          "state": {
            "_dom_classes": [],
            "_model_module": "@jupyter-widgets/controls",
            "_model_module_version": "1.5.0",
            "_model_name": "FloatProgressModel",
            "_view_count": null,
            "_view_module": "@jupyter-widgets/controls",
            "_view_module_version": "1.5.0",
            "_view_name": "ProgressView",
            "bar_style": "success",
            "description": "",
            "description_tooltip": null,
            "layout": "IPY_MODEL_bff9d477b0ae477c928ddac832bb3d10",
            "max": 39265,
            "min": 0,
            "orientation": "horizontal",
            "style": "IPY_MODEL_497394fd290f44b79d4d3c77ad5df7b7",
            "value": 39265
          }
        },
        "eb52150fab6a4484bfc7c05f02f3c4a1": {
          "model_module": "@jupyter-widgets/controls",
          "model_name": "HTMLModel",
          "model_module_version": "1.5.0",
          "state": {
            "_dom_classes": [],
            "_model_module": "@jupyter-widgets/controls",
            "_model_module_version": "1.5.0",
            "_model_name": "HTMLModel",
            "_view_count": null,
            "_view_module": "@jupyter-widgets/controls",
            "_view_module_version": "1.5.0",
            "_view_name": "HTMLView",
            "description": "",
            "description_tooltip": null,
            "layout": "IPY_MODEL_b1e241d902174cb1969f34b1476603b8",
            "placeholder": "​",
            "style": "IPY_MODEL_2ec61a226a914f1884d5b41fe51ed2a1",
            "value": " 39.3k/39.3k [00:00&lt;00:00, 2.94MB/s]"
          }
        },
        "9e0aca7245024a75a1a06f8c491fd621": {
          "model_module": "@jupyter-widgets/base",
          "model_name": "LayoutModel",
          "model_module_version": "1.2.0",
          "state": {
            "_model_module": "@jupyter-widgets/base",
            "_model_module_version": "1.2.0",
            "_model_name": "LayoutModel",
            "_view_count": null,
            "_view_module": "@jupyter-widgets/base",
            "_view_module_version": "1.2.0",
            "_view_name": "LayoutView",
            "align_content": null,
            "align_items": null,
            "align_self": null,
            "border": null,
            "bottom": null,
            "display": null,
            "flex": null,
            "flex_flow": null,
            "grid_area": null,
            "grid_auto_columns": null,
            "grid_auto_flow": null,
            "grid_auto_rows": null,
            "grid_column": null,
            "grid_gap": null,
            "grid_row": null,
            "grid_template_areas": null,
            "grid_template_columns": null,
            "grid_template_rows": null,
            "height": null,
            "justify_content": null,
            "justify_items": null,
            "left": null,
            "margin": null,
            "max_height": null,
            "max_width": null,
            "min_height": null,
            "min_width": null,
            "object_fit": null,
            "object_position": null,
            "order": null,
            "overflow": null,
            "overflow_x": null,
            "overflow_y": null,
            "padding": null,
            "right": null,
            "top": null,
            "visibility": null,
            "width": null
          }
        },
        "3b1687a9f53b4d26a711ecfa63c65ca3": {
          "model_module": "@jupyter-widgets/base",
          "model_name": "LayoutModel",
          "model_module_version": "1.2.0",
          "state": {
            "_model_module": "@jupyter-widgets/base",
            "_model_module_version": "1.2.0",
            "_model_name": "LayoutModel",
            "_view_count": null,
            "_view_module": "@jupyter-widgets/base",
            "_view_module_version": "1.2.0",
            "_view_name": "LayoutView",
            "align_content": null,
            "align_items": null,
            "align_self": null,
            "border": null,
            "bottom": null,
            "display": null,
            "flex": null,
            "flex_flow": null,
            "grid_area": null,
            "grid_auto_columns": null,
            "grid_auto_flow": null,
            "grid_auto_rows": null,
            "grid_column": null,
            "grid_gap": null,
            "grid_row": null,
            "grid_template_areas": null,
            "grid_template_columns": null,
            "grid_template_rows": null,
            "height": null,
            "justify_content": null,
            "justify_items": null,
            "left": null,
            "margin": null,
            "max_height": null,
            "max_width": null,
            "min_height": null,
            "min_width": null,
            "object_fit": null,
            "object_position": null,
            "order": null,
            "overflow": null,
            "overflow_x": null,
            "overflow_y": null,
            "padding": null,
            "right": null,
            "top": null,
            "visibility": null,
            "width": null
          }
        },
        "b46d19b4eb984c9a886ab22d10281cba": {
          "model_module": "@jupyter-widgets/controls",
          "model_name": "DescriptionStyleModel",
          "model_module_version": "1.5.0",
          "state": {
            "_model_module": "@jupyter-widgets/controls",
            "_model_module_version": "1.5.0",
            "_model_name": "DescriptionStyleModel",
            "_view_count": null,
            "_view_module": "@jupyter-widgets/base",
            "_view_module_version": "1.2.0",
            "_view_name": "StyleView",
            "description_width": ""
          }
        },
        "bff9d477b0ae477c928ddac832bb3d10": {
          "model_module": "@jupyter-widgets/base",
          "model_name": "LayoutModel",
          "model_module_version": "1.2.0",
          "state": {
            "_model_module": "@jupyter-widgets/base",
            "_model_module_version": "1.2.0",
            "_model_name": "LayoutModel",
            "_view_count": null,
            "_view_module": "@jupyter-widgets/base",
            "_view_module_version": "1.2.0",
            "_view_name": "LayoutView",
            "align_content": null,
            "align_items": null,
            "align_self": null,
            "border": null,
            "bottom": null,
            "display": null,
            "flex": null,
            "flex_flow": null,
            "grid_area": null,
            "grid_auto_columns": null,
            "grid_auto_flow": null,
            "grid_auto_rows": null,
            "grid_column": null,
            "grid_gap": null,
            "grid_row": null,
            "grid_template_areas": null,
            "grid_template_columns": null,
            "grid_template_rows": null,
            "height": null,
            "justify_content": null,
            "justify_items": null,
            "left": null,
            "margin": null,
            "max_height": null,
            "max_width": null,
            "min_height": null,
            "min_width": null,
            "object_fit": null,
            "object_position": null,
            "order": null,
            "overflow": null,
            "overflow_x": null,
            "overflow_y": null,
            "padding": null,
            "right": null,
            "top": null,
            "visibility": null,
            "width": null
          }
        },
        "497394fd290f44b79d4d3c77ad5df7b7": {
          "model_module": "@jupyter-widgets/controls",
          "model_name": "ProgressStyleModel",
          "model_module_version": "1.5.0",
          "state": {
            "_model_module": "@jupyter-widgets/controls",
            "_model_module_version": "1.5.0",
            "_model_name": "ProgressStyleModel",
            "_view_count": null,
            "_view_module": "@jupyter-widgets/base",
            "_view_module_version": "1.2.0",
            "_view_name": "StyleView",
            "bar_color": null,
            "description_width": ""
          }
        },
        "b1e241d902174cb1969f34b1476603b8": {
          "model_module": "@jupyter-widgets/base",
          "model_name": "LayoutModel",
          "model_module_version": "1.2.0",
          "state": {
            "_model_module": "@jupyter-widgets/base",
            "_model_module_version": "1.2.0",
            "_model_name": "LayoutModel",
            "_view_count": null,
            "_view_module": "@jupyter-widgets/base",
            "_view_module_version": "1.2.0",
            "_view_name": "LayoutView",
            "align_content": null,
            "align_items": null,
            "align_self": null,
            "border": null,
            "bottom": null,
            "display": null,
            "flex": null,
            "flex_flow": null,
            "grid_area": null,
            "grid_auto_columns": null,
            "grid_auto_flow": null,
            "grid_auto_rows": null,
            "grid_column": null,
            "grid_gap": null,
            "grid_row": null,
            "grid_template_areas": null,
            "grid_template_columns": null,
            "grid_template_rows": null,
            "height": null,
            "justify_content": null,
            "justify_items": null,
            "left": null,
            "margin": null,
            "max_height": null,
            "max_width": null,
            "min_height": null,
            "min_width": null,
            "object_fit": null,
            "object_position": null,
            "order": null,
            "overflow": null,
            "overflow_x": null,
            "overflow_y": null,
            "padding": null,
            "right": null,
            "top": null,
            "visibility": null,
            "width": null
          }
        },
        "2ec61a226a914f1884d5b41fe51ed2a1": {
          "model_module": "@jupyter-widgets/controls",
          "model_name": "DescriptionStyleModel",
          "model_module_version": "1.5.0",
          "state": {
            "_model_module": "@jupyter-widgets/controls",
            "_model_module_version": "1.5.0",
            "_model_name": "DescriptionStyleModel",
            "_view_count": null,
            "_view_module": "@jupyter-widgets/base",
            "_view_module_version": "1.2.0",
            "_view_name": "StyleView",
            "description_width": ""
          }
        },
        "5fe8937f776449c9b86b64c53f02acf1": {
          "model_module": "@jupyter-widgets/controls",
          "model_name": "HBoxModel",
          "model_module_version": "1.5.0",
          "state": {
            "_dom_classes": [],
            "_model_module": "@jupyter-widgets/controls",
            "_model_module_version": "1.5.0",
            "_model_name": "HBoxModel",
            "_view_count": null,
            "_view_module": "@jupyter-widgets/controls",
            "_view_module_version": "1.5.0",
            "_view_name": "HBoxView",
            "box_style": "",
            "children": [
              "IPY_MODEL_e6ac61f2c4cf4a619cf06fdff8aa7b62",
              "IPY_MODEL_d4dfb3f54e8145459c01eba0c5e5d73d",
              "IPY_MODEL_6e194bb4c4bf49fdb93ad340a426b08b"
            ],
            "layout": "IPY_MODEL_e0a7d0851d7646ada69d5ee87543ea2c"
          }
        },
        "e6ac61f2c4cf4a619cf06fdff8aa7b62": {
          "model_module": "@jupyter-widgets/controls",
          "model_name": "HTMLModel",
          "model_module_version": "1.5.0",
          "state": {
            "_dom_classes": [],
            "_model_module": "@jupyter-widgets/controls",
            "_model_module_version": "1.5.0",
            "_model_name": "HTMLModel",
            "_view_count": null,
            "_view_module": "@jupyter-widgets/controls",
            "_view_module_version": "1.5.0",
            "_view_name": "HTMLView",
            "description": "",
            "description_tooltip": null,
            "layout": "IPY_MODEL_037d12e9a6a9454fab0b60b258c72e98",
            "placeholder": "​",
            "style": "IPY_MODEL_ac4dd8171a1d4272b70fc134abea04dc",
            "value": "model.safetensors: 100%"
          }
        },
        "d4dfb3f54e8145459c01eba0c5e5d73d": {
          "model_module": "@jupyter-widgets/controls",
          "model_name": "FloatProgressModel",
          "model_module_version": "1.5.0",
          "state": {
            "_dom_classes": [],
            "_model_module": "@jupyter-widgets/controls",
            "_model_module_version": "1.5.0",
            "_model_name": "FloatProgressModel",
            "_view_count": null,
            "_view_module": "@jupyter-widgets/controls",
            "_view_module_version": "1.5.0",
            "_view_name": "ProgressView",
            "bar_style": "success",
            "description": "",
            "description_tooltip": null,
            "layout": "IPY_MODEL_8d64a2799e0b41808f2a25f8582be921",
            "max": 133466304,
            "min": 0,
            "orientation": "horizontal",
            "style": "IPY_MODEL_9453b7e037d444e58519fd30a065d84e",
            "value": 133466304
          }
        },
        "6e194bb4c4bf49fdb93ad340a426b08b": {
          "model_module": "@jupyter-widgets/controls",
          "model_name": "HTMLModel",
          "model_module_version": "1.5.0",
          "state": {
            "_dom_classes": [],
            "_model_module": "@jupyter-widgets/controls",
            "_model_module_version": "1.5.0",
            "_model_name": "HTMLModel",
            "_view_count": null,
            "_view_module": "@jupyter-widgets/controls",
            "_view_module_version": "1.5.0",
            "_view_name": "HTMLView",
            "description": "",
            "description_tooltip": null,
            "layout": "IPY_MODEL_bcccf69aa60b44e2b5b566d9f1ac44fe",
            "placeholder": "​",
            "style": "IPY_MODEL_05eff42cb20b492b821eec509a5f9846",
            "value": " 133M/133M [00:01&lt;00:00, 146MB/s]"
          }
        },
        "e0a7d0851d7646ada69d5ee87543ea2c": {
          "model_module": "@jupyter-widgets/base",
          "model_name": "LayoutModel",
          "model_module_version": "1.2.0",
          "state": {
            "_model_module": "@jupyter-widgets/base",
            "_model_module_version": "1.2.0",
            "_model_name": "LayoutModel",
            "_view_count": null,
            "_view_module": "@jupyter-widgets/base",
            "_view_module_version": "1.2.0",
            "_view_name": "LayoutView",
            "align_content": null,
            "align_items": null,
            "align_self": null,
            "border": null,
            "bottom": null,
            "display": null,
            "flex": null,
            "flex_flow": null,
            "grid_area": null,
            "grid_auto_columns": null,
            "grid_auto_flow": null,
            "grid_auto_rows": null,
            "grid_column": null,
            "grid_gap": null,
            "grid_row": null,
            "grid_template_areas": null,
            "grid_template_columns": null,
            "grid_template_rows": null,
            "height": null,
            "justify_content": null,
            "justify_items": null,
            "left": null,
            "margin": null,
            "max_height": null,
            "max_width": null,
            "min_height": null,
            "min_width": null,
            "object_fit": null,
            "object_position": null,
            "order": null,
            "overflow": null,
            "overflow_x": null,
            "overflow_y": null,
            "padding": null,
            "right": null,
            "top": null,
            "visibility": null,
            "width": null
          }
        },
        "037d12e9a6a9454fab0b60b258c72e98": {
          "model_module": "@jupyter-widgets/base",
          "model_name": "LayoutModel",
          "model_module_version": "1.2.0",
          "state": {
            "_model_module": "@jupyter-widgets/base",
            "_model_module_version": "1.2.0",
            "_model_name": "LayoutModel",
            "_view_count": null,
            "_view_module": "@jupyter-widgets/base",
            "_view_module_version": "1.2.0",
            "_view_name": "LayoutView",
            "align_content": null,
            "align_items": null,
            "align_self": null,
            "border": null,
            "bottom": null,
            "display": null,
            "flex": null,
            "flex_flow": null,
            "grid_area": null,
            "grid_auto_columns": null,
            "grid_auto_flow": null,
            "grid_auto_rows": null,
            "grid_column": null,
            "grid_gap": null,
            "grid_row": null,
            "grid_template_areas": null,
            "grid_template_columns": null,
            "grid_template_rows": null,
            "height": null,
            "justify_content": null,
            "justify_items": null,
            "left": null,
            "margin": null,
            "max_height": null,
            "max_width": null,
            "min_height": null,
            "min_width": null,
            "object_fit": null,
            "object_position": null,
            "order": null,
            "overflow": null,
            "overflow_x": null,
            "overflow_y": null,
            "padding": null,
            "right": null,
            "top": null,
            "visibility": null,
            "width": null
          }
        },
        "ac4dd8171a1d4272b70fc134abea04dc": {
          "model_module": "@jupyter-widgets/controls",
          "model_name": "DescriptionStyleModel",
          "model_module_version": "1.5.0",
          "state": {
            "_model_module": "@jupyter-widgets/controls",
            "_model_module_version": "1.5.0",
            "_model_name": "DescriptionStyleModel",
            "_view_count": null,
            "_view_module": "@jupyter-widgets/base",
            "_view_module_version": "1.2.0",
            "_view_name": "StyleView",
            "description_width": ""
          }
        },
        "8d64a2799e0b41808f2a25f8582be921": {
          "model_module": "@jupyter-widgets/base",
          "model_name": "LayoutModel",
          "model_module_version": "1.2.0",
          "state": {
            "_model_module": "@jupyter-widgets/base",
            "_model_module_version": "1.2.0",
            "_model_name": "LayoutModel",
            "_view_count": null,
            "_view_module": "@jupyter-widgets/base",
            "_view_module_version": "1.2.0",
            "_view_name": "LayoutView",
            "align_content": null,
            "align_items": null,
            "align_self": null,
            "border": null,
            "bottom": null,
            "display": null,
            "flex": null,
            "flex_flow": null,
            "grid_area": null,
            "grid_auto_columns": null,
            "grid_auto_flow": null,
            "grid_auto_rows": null,
            "grid_column": null,
            "grid_gap": null,
            "grid_row": null,
            "grid_template_areas": null,
            "grid_template_columns": null,
            "grid_template_rows": null,
            "height": null,
            "justify_content": null,
            "justify_items": null,
            "left": null,
            "margin": null,
            "max_height": null,
            "max_width": null,
            "min_height": null,
            "min_width": null,
            "object_fit": null,
            "object_position": null,
            "order": null,
            "overflow": null,
            "overflow_x": null,
            "overflow_y": null,
            "padding": null,
            "right": null,
            "top": null,
            "visibility": null,
            "width": null
          }
        },
        "9453b7e037d444e58519fd30a065d84e": {
          "model_module": "@jupyter-widgets/controls",
          "model_name": "ProgressStyleModel",
          "model_module_version": "1.5.0",
          "state": {
            "_model_module": "@jupyter-widgets/controls",
            "_model_module_version": "1.5.0",
            "_model_name": "ProgressStyleModel",
            "_view_count": null,
            "_view_module": "@jupyter-widgets/base",
            "_view_module_version": "1.2.0",
            "_view_name": "StyleView",
            "bar_color": null,
            "description_width": ""
          }
        },
        "bcccf69aa60b44e2b5b566d9f1ac44fe": {
          "model_module": "@jupyter-widgets/base",
          "model_name": "LayoutModel",
          "model_module_version": "1.2.0",
          "state": {
            "_model_module": "@jupyter-widgets/base",
            "_model_module_version": "1.2.0",
            "_model_name": "LayoutModel",
            "_view_count": null,
            "_view_module": "@jupyter-widgets/base",
            "_view_module_version": "1.2.0",
            "_view_name": "LayoutView",
            "align_content": null,
            "align_items": null,
            "align_self": null,
            "border": null,
            "bottom": null,
            "display": null,
            "flex": null,
            "flex_flow": null,
            "grid_area": null,
            "grid_auto_columns": null,
            "grid_auto_flow": null,
            "grid_auto_rows": null,
            "grid_column": null,
            "grid_gap": null,
            "grid_row": null,
            "grid_template_areas": null,
            "grid_template_columns": null,
            "grid_template_rows": null,
            "height": null,
            "justify_content": null,
            "justify_items": null,
            "left": null,
            "margin": null,
            "max_height": null,
            "max_width": null,
            "min_height": null,
            "min_width": null,
            "object_fit": null,
            "object_position": null,
            "order": null,
            "overflow": null,
            "overflow_x": null,
            "overflow_y": null,
            "padding": null,
            "right": null,
            "top": null,
            "visibility": null,
            "width": null
          }
        },
        "05eff42cb20b492b821eec509a5f9846": {
          "model_module": "@jupyter-widgets/controls",
          "model_name": "DescriptionStyleModel",
          "model_module_version": "1.5.0",
          "state": {
            "_model_module": "@jupyter-widgets/controls",
            "_model_module_version": "1.5.0",
            "_model_name": "DescriptionStyleModel",
            "_view_count": null,
            "_view_module": "@jupyter-widgets/base",
            "_view_module_version": "1.2.0",
            "_view_name": "StyleView",
            "description_width": ""
          }
        },
        "e3feccfc5cb740839c442ba37160b58c": {
          "model_module": "@jupyter-widgets/controls",
          "model_name": "HBoxModel",
          "model_module_version": "1.5.0",
          "state": {
            "_dom_classes": [],
            "_model_module": "@jupyter-widgets/controls",
            "_model_module_version": "1.5.0",
            "_model_name": "HBoxModel",
            "_view_count": null,
            "_view_module": "@jupyter-widgets/controls",
            "_view_module_version": "1.5.0",
            "_view_name": "HBoxView",
            "box_style": "",
            "children": [
              "IPY_MODEL_ba2a20413b8c44da835a1890de0c65c0",
              "IPY_MODEL_ecafec73f4ea4e1087184654af678191",
              "IPY_MODEL_405d6f7bfad7423c8a35627395fd161b"
            ],
            "layout": "IPY_MODEL_801cd99d277f46549fa7f05d03cd1fc7"
          }
        },
        "ba2a20413b8c44da835a1890de0c65c0": {
          "model_module": "@jupyter-widgets/controls",
          "model_name": "HTMLModel",
          "model_module_version": "1.5.0",
          "state": {
            "_dom_classes": [],
            "_model_module": "@jupyter-widgets/controls",
            "_model_module_version": "1.5.0",
            "_model_name": "HTMLModel",
            "_view_count": null,
            "_view_module": "@jupyter-widgets/controls",
            "_view_module_version": "1.5.0",
            "_view_name": "HTMLView",
            "description": "",
            "description_tooltip": null,
            "layout": "IPY_MODEL_baed27e9764e4b85ad11f87401930266",
            "placeholder": "​",
            "style": "IPY_MODEL_7d5a3ac3e9b3463db8d25ab462c025eb",
            "value": "model.onnx: 100%"
          }
        },
        "ecafec73f4ea4e1087184654af678191": {
          "model_module": "@jupyter-widgets/controls",
          "model_name": "FloatProgressModel",
          "model_module_version": "1.5.0",
          "state": {
            "_dom_classes": [],
            "_model_module": "@jupyter-widgets/controls",
            "_model_module_version": "1.5.0",
            "_model_name": "FloatProgressModel",
            "_view_count": null,
            "_view_module": "@jupyter-widgets/controls",
            "_view_module_version": "1.5.0",
            "_view_name": "ProgressView",
            "bar_style": "success",
            "description": "",
            "description_tooltip": null,
            "layout": "IPY_MODEL_2c22f2b3a7ae44e6801326ed532c0229",
            "max": 133126567,
            "min": 0,
            "orientation": "horizontal",
            "style": "IPY_MODEL_51bdcfe0a1eb454e871501b0c751a18c",
            "value": 133126567
          }
        },
        "405d6f7bfad7423c8a35627395fd161b": {
          "model_module": "@jupyter-widgets/controls",
          "model_name": "HTMLModel",
          "model_module_version": "1.5.0",
          "state": {
            "_dom_classes": [],
            "_model_module": "@jupyter-widgets/controls",
            "_model_module_version": "1.5.0",
            "_model_name": "HTMLModel",
            "_view_count": null,
            "_view_module": "@jupyter-widgets/controls",
            "_view_module_version": "1.5.0",
            "_view_name": "HTMLView",
            "description": "",
            "description_tooltip": null,
            "layout": "IPY_MODEL_87a283bbc454470b927d5cf3a6579887",
            "placeholder": "​",
            "style": "IPY_MODEL_6b92cc7ee6f24638a99ce87f80d512ce",
            "value": " 133M/133M [00:00&lt;00:00, 174MB/s]"
          }
        },
        "801cd99d277f46549fa7f05d03cd1fc7": {
          "model_module": "@jupyter-widgets/base",
          "model_name": "LayoutModel",
          "model_module_version": "1.2.0",
          "state": {
            "_model_module": "@jupyter-widgets/base",
            "_model_module_version": "1.2.0",
            "_model_name": "LayoutModel",
            "_view_count": null,
            "_view_module": "@jupyter-widgets/base",
            "_view_module_version": "1.2.0",
            "_view_name": "LayoutView",
            "align_content": null,
            "align_items": null,
            "align_self": null,
            "border": null,
            "bottom": null,
            "display": null,
            "flex": null,
            "flex_flow": null,
            "grid_area": null,
            "grid_auto_columns": null,
            "grid_auto_flow": null,
            "grid_auto_rows": null,
            "grid_column": null,
            "grid_gap": null,
            "grid_row": null,
            "grid_template_areas": null,
            "grid_template_columns": null,
            "grid_template_rows": null,
            "height": null,
            "justify_content": null,
            "justify_items": null,
            "left": null,
            "margin": null,
            "max_height": null,
            "max_width": null,
            "min_height": null,
            "min_width": null,
            "object_fit": null,
            "object_position": null,
            "order": null,
            "overflow": null,
            "overflow_x": null,
            "overflow_y": null,
            "padding": null,
            "right": null,
            "top": null,
            "visibility": null,
            "width": null
          }
        },
        "baed27e9764e4b85ad11f87401930266": {
          "model_module": "@jupyter-widgets/base",
          "model_name": "LayoutModel",
          "model_module_version": "1.2.0",
          "state": {
            "_model_module": "@jupyter-widgets/base",
            "_model_module_version": "1.2.0",
            "_model_name": "LayoutModel",
            "_view_count": null,
            "_view_module": "@jupyter-widgets/base",
            "_view_module_version": "1.2.0",
            "_view_name": "LayoutView",
            "align_content": null,
            "align_items": null,
            "align_self": null,
            "border": null,
            "bottom": null,
            "display": null,
            "flex": null,
            "flex_flow": null,
            "grid_area": null,
            "grid_auto_columns": null,
            "grid_auto_flow": null,
            "grid_auto_rows": null,
            "grid_column": null,
            "grid_gap": null,
            "grid_row": null,
            "grid_template_areas": null,
            "grid_template_columns": null,
            "grid_template_rows": null,
            "height": null,
            "justify_content": null,
            "justify_items": null,
            "left": null,
            "margin": null,
            "max_height": null,
            "max_width": null,
            "min_height": null,
            "min_width": null,
            "object_fit": null,
            "object_position": null,
            "order": null,
            "overflow": null,
            "overflow_x": null,
            "overflow_y": null,
            "padding": null,
            "right": null,
            "top": null,
            "visibility": null,
            "width": null
          }
        },
        "7d5a3ac3e9b3463db8d25ab462c025eb": {
          "model_module": "@jupyter-widgets/controls",
          "model_name": "DescriptionStyleModel",
          "model_module_version": "1.5.0",
          "state": {
            "_model_module": "@jupyter-widgets/controls",
            "_model_module_version": "1.5.0",
            "_model_name": "DescriptionStyleModel",
            "_view_count": null,
            "_view_module": "@jupyter-widgets/base",
            "_view_module_version": "1.2.0",
            "_view_name": "StyleView",
            "description_width": ""
          }
        },
        "2c22f2b3a7ae44e6801326ed532c0229": {
          "model_module": "@jupyter-widgets/base",
          "model_name": "LayoutModel",
          "model_module_version": "1.2.0",
          "state": {
            "_model_module": "@jupyter-widgets/base",
            "_model_module_version": "1.2.0",
            "_model_name": "LayoutModel",
            "_view_count": null,
            "_view_module": "@jupyter-widgets/base",
            "_view_module_version": "1.2.0",
            "_view_name": "LayoutView",
            "align_content": null,
            "align_items": null,
            "align_self": null,
            "border": null,
            "bottom": null,
            "display": null,
            "flex": null,
            "flex_flow": null,
            "grid_area": null,
            "grid_auto_columns": null,
            "grid_auto_flow": null,
            "grid_auto_rows": null,
            "grid_column": null,
            "grid_gap": null,
            "grid_row": null,
            "grid_template_areas": null,
            "grid_template_columns": null,
            "grid_template_rows": null,
            "height": null,
            "justify_content": null,
            "justify_items": null,
            "left": null,
            "margin": null,
            "max_height": null,
            "max_width": null,
            "min_height": null,
            "min_width": null,
            "object_fit": null,
            "object_position": null,
            "order": null,
            "overflow": null,
            "overflow_x": null,
            "overflow_y": null,
            "padding": null,
            "right": null,
            "top": null,
            "visibility": null,
            "width": null
          }
        },
        "51bdcfe0a1eb454e871501b0c751a18c": {
          "model_module": "@jupyter-widgets/controls",
          "model_name": "ProgressStyleModel",
          "model_module_version": "1.5.0",
          "state": {
            "_model_module": "@jupyter-widgets/controls",
            "_model_module_version": "1.5.0",
            "_model_name": "ProgressStyleModel",
            "_view_count": null,
            "_view_module": "@jupyter-widgets/base",
            "_view_module_version": "1.2.0",
            "_view_name": "StyleView",
            "bar_color": null,
            "description_width": ""
          }
        },
        "87a283bbc454470b927d5cf3a6579887": {
          "model_module": "@jupyter-widgets/base",
          "model_name": "LayoutModel",
          "model_module_version": "1.2.0",
          "state": {
            "_model_module": "@jupyter-widgets/base",
            "_model_module_version": "1.2.0",
            "_model_name": "LayoutModel",
            "_view_count": null,
            "_view_module": "@jupyter-widgets/base",
            "_view_module_version": "1.2.0",
            "_view_name": "LayoutView",
            "align_content": null,
            "align_items": null,
            "align_self": null,
            "border": null,
            "bottom": null,
            "display": null,
            "flex": null,
            "flex_flow": null,
            "grid_area": null,
            "grid_auto_columns": null,
            "grid_auto_flow": null,
            "grid_auto_rows": null,
            "grid_column": null,
            "grid_gap": null,
            "grid_row": null,
            "grid_template_areas": null,
            "grid_template_columns": null,
            "grid_template_rows": null,
            "height": null,
            "justify_content": null,
            "justify_items": null,
            "left": null,
            "margin": null,
            "max_height": null,
            "max_width": null,
            "min_height": null,
            "min_width": null,
            "object_fit": null,
            "object_position": null,
            "order": null,
            "overflow": null,
            "overflow_x": null,
            "overflow_y": null,
            "padding": null,
            "right": null,
            "top": null,
            "visibility": null,
            "width": null
          }
        },
        "6b92cc7ee6f24638a99ce87f80d512ce": {
          "model_module": "@jupyter-widgets/controls",
          "model_name": "DescriptionStyleModel",
          "model_module_version": "1.5.0",
          "state": {
            "_model_module": "@jupyter-widgets/controls",
            "_model_module_version": "1.5.0",
            "_model_name": "DescriptionStyleModel",
            "_view_count": null,
            "_view_module": "@jupyter-widgets/base",
            "_view_module_version": "1.2.0",
            "_view_name": "StyleView",
            "description_width": ""
          }
        },
        "362ffc6820c743d6a6f1bd9ecc9518e4": {
          "model_module": "@jupyter-widgets/controls",
          "model_name": "HBoxModel",
          "model_module_version": "1.5.0",
          "state": {
            "_dom_classes": [],
            "_model_module": "@jupyter-widgets/controls",
            "_model_module_version": "1.5.0",
            "_model_name": "HBoxModel",
            "_view_count": null,
            "_view_module": "@jupyter-widgets/controls",
            "_view_module_version": "1.5.0",
            "_view_name": "HBoxView",
            "box_style": "",
            "children": [
              "IPY_MODEL_3c43146d2f3d45378cc4beeebaceb2cb",
              "IPY_MODEL_9afde604cf9c447a90f2ea68cd7482c2",
              "IPY_MODEL_953ee654abc84f2ba607d216c0bde734"
            ],
            "layout": "IPY_MODEL_4886bd461efe4764b8132ed829e1b8e8"
          }
        },
        "3c43146d2f3d45378cc4beeebaceb2cb": {
          "model_module": "@jupyter-widgets/controls",
          "model_name": "HTMLModel",
          "model_module_version": "1.5.0",
          "state": {
            "_dom_classes": [],
            "_model_module": "@jupyter-widgets/controls",
            "_model_module_version": "1.5.0",
            "_model_name": "HTMLModel",
            "_view_count": null,
            "_view_module": "@jupyter-widgets/controls",
            "_view_module_version": "1.5.0",
            "_view_name": "HTMLView",
            "description": "",
            "description_tooltip": null,
            "layout": "IPY_MODEL_83766fc32a334a9b88f9a870f29ce233",
            "placeholder": "​",
            "style": "IPY_MODEL_6a167bac518c4c0c8984ab009691d831",
            "value": "model_O1.onnx: 100%"
          }
        },
        "9afde604cf9c447a90f2ea68cd7482c2": {
          "model_module": "@jupyter-widgets/controls",
          "model_name": "FloatProgressModel",
          "model_module_version": "1.5.0",
          "state": {
            "_dom_classes": [],
            "_model_module": "@jupyter-widgets/controls",
            "_model_module_version": "1.5.0",
            "_model_name": "FloatProgressModel",
            "_view_count": null,
            "_view_module": "@jupyter-widgets/controls",
            "_view_module_version": "1.5.0",
            "_view_name": "ProgressView",
            "bar_style": "success",
            "description": "",
            "description_tooltip": null,
            "layout": "IPY_MODEL_2b90d18062b043db99c9a1da587d97d3",
            "max": 133037320,
            "min": 0,
            "orientation": "horizontal",
            "style": "IPY_MODEL_1507695384cb49acbe220e85a6213177",
            "value": 133037320
          }
        },
        "953ee654abc84f2ba607d216c0bde734": {
          "model_module": "@jupyter-widgets/controls",
          "model_name": "HTMLModel",
          "model_module_version": "1.5.0",
          "state": {
            "_dom_classes": [],
            "_model_module": "@jupyter-widgets/controls",
            "_model_module_version": "1.5.0",
            "_model_name": "HTMLModel",
            "_view_count": null,
            "_view_module": "@jupyter-widgets/controls",
            "_view_module_version": "1.5.0",
            "_view_name": "HTMLView",
            "description": "",
            "description_tooltip": null,
            "layout": "IPY_MODEL_b949cf90450a4850ae2c85fbfe4c9b97",
            "placeholder": "​",
            "style": "IPY_MODEL_a82a7bf2b5a04eadb3d1f643af013d32",
            "value": " 133M/133M [00:00&lt;00:00, 150MB/s]"
          }
        },
        "4886bd461efe4764b8132ed829e1b8e8": {
          "model_module": "@jupyter-widgets/base",
          "model_name": "LayoutModel",
          "model_module_version": "1.2.0",
          "state": {
            "_model_module": "@jupyter-widgets/base",
            "_model_module_version": "1.2.0",
            "_model_name": "LayoutModel",
            "_view_count": null,
            "_view_module": "@jupyter-widgets/base",
            "_view_module_version": "1.2.0",
            "_view_name": "LayoutView",
            "align_content": null,
            "align_items": null,
            "align_self": null,
            "border": null,
            "bottom": null,
            "display": null,
            "flex": null,
            "flex_flow": null,
            "grid_area": null,
            "grid_auto_columns": null,
            "grid_auto_flow": null,
            "grid_auto_rows": null,
            "grid_column": null,
            "grid_gap": null,
            "grid_row": null,
            "grid_template_areas": null,
            "grid_template_columns": null,
            "grid_template_rows": null,
            "height": null,
            "justify_content": null,
            "justify_items": null,
            "left": null,
            "margin": null,
            "max_height": null,
            "max_width": null,
            "min_height": null,
            "min_width": null,
            "object_fit": null,
            "object_position": null,
            "order": null,
            "overflow": null,
            "overflow_x": null,
            "overflow_y": null,
            "padding": null,
            "right": null,
            "top": null,
            "visibility": null,
            "width": null
          }
        },
        "83766fc32a334a9b88f9a870f29ce233": {
          "model_module": "@jupyter-widgets/base",
          "model_name": "LayoutModel",
          "model_module_version": "1.2.0",
          "state": {
            "_model_module": "@jupyter-widgets/base",
            "_model_module_version": "1.2.0",
            "_model_name": "LayoutModel",
            "_view_count": null,
            "_view_module": "@jupyter-widgets/base",
            "_view_module_version": "1.2.0",
            "_view_name": "LayoutView",
            "align_content": null,
            "align_items": null,
            "align_self": null,
            "border": null,
            "bottom": null,
            "display": null,
            "flex": null,
            "flex_flow": null,
            "grid_area": null,
            "grid_auto_columns": null,
            "grid_auto_flow": null,
            "grid_auto_rows": null,
            "grid_column": null,
            "grid_gap": null,
            "grid_row": null,
            "grid_template_areas": null,
            "grid_template_columns": null,
            "grid_template_rows": null,
            "height": null,
            "justify_content": null,
            "justify_items": null,
            "left": null,
            "margin": null,
            "max_height": null,
            "max_width": null,
            "min_height": null,
            "min_width": null,
            "object_fit": null,
            "object_position": null,
            "order": null,
            "overflow": null,
            "overflow_x": null,
            "overflow_y": null,
            "padding": null,
            "right": null,
            "top": null,
            "visibility": null,
            "width": null
          }
        },
        "6a167bac518c4c0c8984ab009691d831": {
          "model_module": "@jupyter-widgets/controls",
          "model_name": "DescriptionStyleModel",
          "model_module_version": "1.5.0",
          "state": {
            "_model_module": "@jupyter-widgets/controls",
            "_model_module_version": "1.5.0",
            "_model_name": "DescriptionStyleModel",
            "_view_count": null,
            "_view_module": "@jupyter-widgets/base",
            "_view_module_version": "1.2.0",
            "_view_name": "StyleView",
            "description_width": ""
          }
        },
        "2b90d18062b043db99c9a1da587d97d3": {
          "model_module": "@jupyter-widgets/base",
          "model_name": "LayoutModel",
          "model_module_version": "1.2.0",
          "state": {
            "_model_module": "@jupyter-widgets/base",
            "_model_module_version": "1.2.0",
            "_model_name": "LayoutModel",
            "_view_count": null,
            "_view_module": "@jupyter-widgets/base",
            "_view_module_version": "1.2.0",
            "_view_name": "LayoutView",
            "align_content": null,
            "align_items": null,
            "align_self": null,
            "border": null,
            "bottom": null,
            "display": null,
            "flex": null,
            "flex_flow": null,
            "grid_area": null,
            "grid_auto_columns": null,
            "grid_auto_flow": null,
            "grid_auto_rows": null,
            "grid_column": null,
            "grid_gap": null,
            "grid_row": null,
            "grid_template_areas": null,
            "grid_template_columns": null,
            "grid_template_rows": null,
            "height": null,
            "justify_content": null,
            "justify_items": null,
            "left": null,
            "margin": null,
            "max_height": null,
            "max_width": null,
            "min_height": null,
            "min_width": null,
            "object_fit": null,
            "object_position": null,
            "order": null,
            "overflow": null,
            "overflow_x": null,
            "overflow_y": null,
            "padding": null,
            "right": null,
            "top": null,
            "visibility": null,
            "width": null
          }
        },
        "1507695384cb49acbe220e85a6213177": {
          "model_module": "@jupyter-widgets/controls",
          "model_name": "ProgressStyleModel",
          "model_module_version": "1.5.0",
          "state": {
            "_model_module": "@jupyter-widgets/controls",
            "_model_module_version": "1.5.0",
            "_model_name": "ProgressStyleModel",
            "_view_count": null,
            "_view_module": "@jupyter-widgets/base",
            "_view_module_version": "1.2.0",
            "_view_name": "StyleView",
            "bar_color": null,
            "description_width": ""
          }
        },
        "b949cf90450a4850ae2c85fbfe4c9b97": {
          "model_module": "@jupyter-widgets/base",
          "model_name": "LayoutModel",
          "model_module_version": "1.2.0",
          "state": {
            "_model_module": "@jupyter-widgets/base",
            "_model_module_version": "1.2.0",
            "_model_name": "LayoutModel",
            "_view_count": null,
            "_view_module": "@jupyter-widgets/base",
            "_view_module_version": "1.2.0",
            "_view_name": "LayoutView",
            "align_content": null,
            "align_items": null,
            "align_self": null,
            "border": null,
            "bottom": null,
            "display": null,
            "flex": null,
            "flex_flow": null,
            "grid_area": null,
            "grid_auto_columns": null,
            "grid_auto_flow": null,
            "grid_auto_rows": null,
            "grid_column": null,
            "grid_gap": null,
            "grid_row": null,
            "grid_template_areas": null,
            "grid_template_columns": null,
            "grid_template_rows": null,
            "height": null,
            "justify_content": null,
            "justify_items": null,
            "left": null,
            "margin": null,
            "max_height": null,
            "max_width": null,
            "min_height": null,
            "min_width": null,
            "object_fit": null,
            "object_position": null,
            "order": null,
            "overflow": null,
            "overflow_x": null,
            "overflow_y": null,
            "padding": null,
            "right": null,
            "top": null,
            "visibility": null,
            "width": null
          }
        },
        "a82a7bf2b5a04eadb3d1f643af013d32": {
          "model_module": "@jupyter-widgets/controls",
          "model_name": "DescriptionStyleModel",
          "model_module_version": "1.5.0",
          "state": {
            "_model_module": "@jupyter-widgets/controls",
            "_model_module_version": "1.5.0",
            "_model_name": "DescriptionStyleModel",
            "_view_count": null,
            "_view_module": "@jupyter-widgets/base",
            "_view_module_version": "1.2.0",
            "_view_name": "StyleView",
            "description_width": ""
          }
        },
        "6a3e76981b504609914789961493edbb": {
          "model_module": "@jupyter-widgets/controls",
          "model_name": "HBoxModel",
          "model_module_version": "1.5.0",
          "state": {
            "_dom_classes": [],
            "_model_module": "@jupyter-widgets/controls",
            "_model_module_version": "1.5.0",
            "_model_name": "HBoxModel",
            "_view_count": null,
            "_view_module": "@jupyter-widgets/controls",
            "_view_module_version": "1.5.0",
            "_view_name": "HBoxView",
            "box_style": "",
            "children": [
              "IPY_MODEL_b32762085b6b4d808152536e00241e59",
              "IPY_MODEL_7a4adea71f6b4e1f9cec5be360611ffe",
              "IPY_MODEL_ff6c5340007f487c9aa75a4a5c738d08"
            ],
            "layout": "IPY_MODEL_659c964839eb462cb4d09eb7161678f2"
          }
        },
        "b32762085b6b4d808152536e00241e59": {
          "model_module": "@jupyter-widgets/controls",
          "model_name": "HTMLModel",
          "model_module_version": "1.5.0",
          "state": {
            "_dom_classes": [],
            "_model_module": "@jupyter-widgets/controls",
            "_model_module_version": "1.5.0",
            "_model_name": "HTMLModel",
            "_view_count": null,
            "_view_module": "@jupyter-widgets/controls",
            "_view_module_version": "1.5.0",
            "_view_name": "HTMLView",
            "description": "",
            "description_tooltip": null,
            "layout": "IPY_MODEL_73ed2eaf19c9427db780ab8c35fd0104",
            "placeholder": "​",
            "style": "IPY_MODEL_b048e18d1ef144c98d6a56090b296924",
            "value": "model_O2.onnx: 100%"
          }
        },
        "7a4adea71f6b4e1f9cec5be360611ffe": {
          "model_module": "@jupyter-widgets/controls",
          "model_name": "FloatProgressModel",
          "model_module_version": "1.5.0",
          "state": {
            "_dom_classes": [],
            "_model_module": "@jupyter-widgets/controls",
            "_model_module_version": "1.5.0",
            "_model_name": "FloatProgressModel",
            "_view_count": null,
            "_view_module": "@jupyter-widgets/controls",
            "_view_module_version": "1.5.0",
            "_view_name": "ProgressView",
            "bar_style": "success",
            "description": "",
            "description_tooltip": null,
            "layout": "IPY_MODEL_b51116afe05247fb932badfbc0231980",
            "max": 132970874,
            "min": 0,
            "orientation": "horizontal",
            "style": "IPY_MODEL_610bd23b35f54855b5cc2e4c921a6340",
            "value": 132970874
          }
        },
        "ff6c5340007f487c9aa75a4a5c738d08": {
          "model_module": "@jupyter-widgets/controls",
          "model_name": "HTMLModel",
          "model_module_version": "1.5.0",
          "state": {
            "_dom_classes": [],
            "_model_module": "@jupyter-widgets/controls",
            "_model_module_version": "1.5.0",
            "_model_name": "HTMLModel",
            "_view_count": null,
            "_view_module": "@jupyter-widgets/controls",
            "_view_module_version": "1.5.0",
            "_view_name": "HTMLView",
            "description": "",
            "description_tooltip": null,
            "layout": "IPY_MODEL_63b01fa03d824360b675937f0aaad2ca",
            "placeholder": "​",
            "style": "IPY_MODEL_45ccf7846e344e088b3a41be822d879e",
            "value": " 133M/133M [00:00&lt;00:00, 153MB/s]"
          }
        },
        "659c964839eb462cb4d09eb7161678f2": {
          "model_module": "@jupyter-widgets/base",
          "model_name": "LayoutModel",
          "model_module_version": "1.2.0",
          "state": {
            "_model_module": "@jupyter-widgets/base",
            "_model_module_version": "1.2.0",
            "_model_name": "LayoutModel",
            "_view_count": null,
            "_view_module": "@jupyter-widgets/base",
            "_view_module_version": "1.2.0",
            "_view_name": "LayoutView",
            "align_content": null,
            "align_items": null,
            "align_self": null,
            "border": null,
            "bottom": null,
            "display": null,
            "flex": null,
            "flex_flow": null,
            "grid_area": null,
            "grid_auto_columns": null,
            "grid_auto_flow": null,
            "grid_auto_rows": null,
            "grid_column": null,
            "grid_gap": null,
            "grid_row": null,
            "grid_template_areas": null,
            "grid_template_columns": null,
            "grid_template_rows": null,
            "height": null,
            "justify_content": null,
            "justify_items": null,
            "left": null,
            "margin": null,
            "max_height": null,
            "max_width": null,
            "min_height": null,
            "min_width": null,
            "object_fit": null,
            "object_position": null,
            "order": null,
            "overflow": null,
            "overflow_x": null,
            "overflow_y": null,
            "padding": null,
            "right": null,
            "top": null,
            "visibility": null,
            "width": null
          }
        },
        "73ed2eaf19c9427db780ab8c35fd0104": {
          "model_module": "@jupyter-widgets/base",
          "model_name": "LayoutModel",
          "model_module_version": "1.2.0",
          "state": {
            "_model_module": "@jupyter-widgets/base",
            "_model_module_version": "1.2.0",
            "_model_name": "LayoutModel",
            "_view_count": null,
            "_view_module": "@jupyter-widgets/base",
            "_view_module_version": "1.2.0",
            "_view_name": "LayoutView",
            "align_content": null,
            "align_items": null,
            "align_self": null,
            "border": null,
            "bottom": null,
            "display": null,
            "flex": null,
            "flex_flow": null,
            "grid_area": null,
            "grid_auto_columns": null,
            "grid_auto_flow": null,
            "grid_auto_rows": null,
            "grid_column": null,
            "grid_gap": null,
            "grid_row": null,
            "grid_template_areas": null,
            "grid_template_columns": null,
            "grid_template_rows": null,
            "height": null,
            "justify_content": null,
            "justify_items": null,
            "left": null,
            "margin": null,
            "max_height": null,
            "max_width": null,
            "min_height": null,
            "min_width": null,
            "object_fit": null,
            "object_position": null,
            "order": null,
            "overflow": null,
            "overflow_x": null,
            "overflow_y": null,
            "padding": null,
            "right": null,
            "top": null,
            "visibility": null,
            "width": null
          }
        },
        "b048e18d1ef144c98d6a56090b296924": {
          "model_module": "@jupyter-widgets/controls",
          "model_name": "DescriptionStyleModel",
          "model_module_version": "1.5.0",
          "state": {
            "_model_module": "@jupyter-widgets/controls",
            "_model_module_version": "1.5.0",
            "_model_name": "DescriptionStyleModel",
            "_view_count": null,
            "_view_module": "@jupyter-widgets/base",
            "_view_module_version": "1.2.0",
            "_view_name": "StyleView",
            "description_width": ""
          }
        },
        "b51116afe05247fb932badfbc0231980": {
          "model_module": "@jupyter-widgets/base",
          "model_name": "LayoutModel",
          "model_module_version": "1.2.0",
          "state": {
            "_model_module": "@jupyter-widgets/base",
            "_model_module_version": "1.2.0",
            "_model_name": "LayoutModel",
            "_view_count": null,
            "_view_module": "@jupyter-widgets/base",
            "_view_module_version": "1.2.0",
            "_view_name": "LayoutView",
            "align_content": null,
            "align_items": null,
            "align_self": null,
            "border": null,
            "bottom": null,
            "display": null,
            "flex": null,
            "flex_flow": null,
            "grid_area": null,
            "grid_auto_columns": null,
            "grid_auto_flow": null,
            "grid_auto_rows": null,
            "grid_column": null,
            "grid_gap": null,
            "grid_row": null,
            "grid_template_areas": null,
            "grid_template_columns": null,
            "grid_template_rows": null,
            "height": null,
            "justify_content": null,
            "justify_items": null,
            "left": null,
            "margin": null,
            "max_height": null,
            "max_width": null,
            "min_height": null,
            "min_width": null,
            "object_fit": null,
            "object_position": null,
            "order": null,
            "overflow": null,
            "overflow_x": null,
            "overflow_y": null,
            "padding": null,
            "right": null,
            "top": null,
            "visibility": null,
            "width": null
          }
        },
        "610bd23b35f54855b5cc2e4c921a6340": {
          "model_module": "@jupyter-widgets/controls",
          "model_name": "ProgressStyleModel",
          "model_module_version": "1.5.0",
          "state": {
            "_model_module": "@jupyter-widgets/controls",
            "_model_module_version": "1.5.0",
            "_model_name": "ProgressStyleModel",
            "_view_count": null,
            "_view_module": "@jupyter-widgets/base",
            "_view_module_version": "1.2.0",
            "_view_name": "StyleView",
            "bar_color": null,
            "description_width": ""
          }
        },
        "63b01fa03d824360b675937f0aaad2ca": {
          "model_module": "@jupyter-widgets/base",
          "model_name": "LayoutModel",
          "model_module_version": "1.2.0",
          "state": {
            "_model_module": "@jupyter-widgets/base",
            "_model_module_version": "1.2.0",
            "_model_name": "LayoutModel",
            "_view_count": null,
            "_view_module": "@jupyter-widgets/base",
            "_view_module_version": "1.2.0",
            "_view_name": "LayoutView",
            "align_content": null,
            "align_items": null,
            "align_self": null,
            "border": null,
            "bottom": null,
            "display": null,
            "flex": null,
            "flex_flow": null,
            "grid_area": null,
            "grid_auto_columns": null,
            "grid_auto_flow": null,
            "grid_auto_rows": null,
            "grid_column": null,
            "grid_gap": null,
            "grid_row": null,
            "grid_template_areas": null,
            "grid_template_columns": null,
            "grid_template_rows": null,
            "height": null,
            "justify_content": null,
            "justify_items": null,
            "left": null,
            "margin": null,
            "max_height": null,
            "max_width": null,
            "min_height": null,
            "min_width": null,
            "object_fit": null,
            "object_position": null,
            "order": null,
            "overflow": null,
            "overflow_x": null,
            "overflow_y": null,
            "padding": null,
            "right": null,
            "top": null,
            "visibility": null,
            "width": null
          }
        },
        "45ccf7846e344e088b3a41be822d879e": {
          "model_module": "@jupyter-widgets/controls",
          "model_name": "DescriptionStyleModel",
          "model_module_version": "1.5.0",
          "state": {
            "_model_module": "@jupyter-widgets/controls",
            "_model_module_version": "1.5.0",
            "_model_name": "DescriptionStyleModel",
            "_view_count": null,
            "_view_module": "@jupyter-widgets/base",
            "_view_module_version": "1.2.0",
            "_view_name": "StyleView",
            "description_width": ""
          }
        },
        "22d7b8abbeb24028965f661d61d981a8": {
          "model_module": "@jupyter-widgets/controls",
          "model_name": "HBoxModel",
          "model_module_version": "1.5.0",
          "state": {
            "_dom_classes": [],
            "_model_module": "@jupyter-widgets/controls",
            "_model_module_version": "1.5.0",
            "_model_name": "HBoxModel",
            "_view_count": null,
            "_view_module": "@jupyter-widgets/controls",
            "_view_module_version": "1.5.0",
            "_view_name": "HBoxView",
            "box_style": "",
            "children": [
              "IPY_MODEL_2199c7ef7b304e59aaa1d0fc54a3d1d3",
              "IPY_MODEL_6f35daf558b24dbeba99559e85fee2ae",
              "IPY_MODEL_8bcee2216c4843c6ad342c385502b0da"
            ],
            "layout": "IPY_MODEL_c5ef2410cf61418cad20f52d1770060e"
          }
        },
        "2199c7ef7b304e59aaa1d0fc54a3d1d3": {
          "model_module": "@jupyter-widgets/controls",
          "model_name": "HTMLModel",
          "model_module_version": "1.5.0",
          "state": {
            "_dom_classes": [],
            "_model_module": "@jupyter-widgets/controls",
            "_model_module_version": "1.5.0",
            "_model_name": "HTMLModel",
            "_view_count": null,
            "_view_module": "@jupyter-widgets/controls",
            "_view_module_version": "1.5.0",
            "_view_name": "HTMLView",
            "description": "",
            "description_tooltip": null,
            "layout": "IPY_MODEL_67148799e0354cb1972e0c41e4277b09",
            "placeholder": "​",
            "style": "IPY_MODEL_c17249d1fc264e309e8354af6bcba01c",
            "value": "model_O3.onnx: 100%"
          }
        },
        "6f35daf558b24dbeba99559e85fee2ae": {
          "model_module": "@jupyter-widgets/controls",
          "model_name": "FloatProgressModel",
          "model_module_version": "1.5.0",
          "state": {
            "_dom_classes": [],
            "_model_module": "@jupyter-widgets/controls",
            "_model_module_version": "1.5.0",
            "_model_name": "FloatProgressModel",
            "_view_count": null,
            "_view_module": "@jupyter-widgets/controls",
            "_view_module_version": "1.5.0",
            "_view_name": "ProgressView",
            "bar_style": "success",
            "description": "",
            "description_tooltip": null,
            "layout": "IPY_MODEL_62f677882dbb4935bc855a63e11d173c",
            "max": 132970729,
            "min": 0,
            "orientation": "horizontal",
            "style": "IPY_MODEL_a9b2a7cadb054c68b801fb734effbb43",
            "value": 132970729
          }
        },
        "8bcee2216c4843c6ad342c385502b0da": {
          "model_module": "@jupyter-widgets/controls",
          "model_name": "HTMLModel",
          "model_module_version": "1.5.0",
          "state": {
            "_dom_classes": [],
            "_model_module": "@jupyter-widgets/controls",
            "_model_module_version": "1.5.0",
            "_model_name": "HTMLModel",
            "_view_count": null,
            "_view_module": "@jupyter-widgets/controls",
            "_view_module_version": "1.5.0",
            "_view_name": "HTMLView",
            "description": "",
            "description_tooltip": null,
            "layout": "IPY_MODEL_f79c9229eb0e48c2acf53cb1db87745d",
            "placeholder": "​",
            "style": "IPY_MODEL_2547458ef3cb4eb19b0e048efbce8338",
            "value": " 133M/133M [00:00&lt;00:00, 156MB/s]"
          }
        },
        "c5ef2410cf61418cad20f52d1770060e": {
          "model_module": "@jupyter-widgets/base",
          "model_name": "LayoutModel",
          "model_module_version": "1.2.0",
          "state": {
            "_model_module": "@jupyter-widgets/base",
            "_model_module_version": "1.2.0",
            "_model_name": "LayoutModel",
            "_view_count": null,
            "_view_module": "@jupyter-widgets/base",
            "_view_module_version": "1.2.0",
            "_view_name": "LayoutView",
            "align_content": null,
            "align_items": null,
            "align_self": null,
            "border": null,
            "bottom": null,
            "display": null,
            "flex": null,
            "flex_flow": null,
            "grid_area": null,
            "grid_auto_columns": null,
            "grid_auto_flow": null,
            "grid_auto_rows": null,
            "grid_column": null,
            "grid_gap": null,
            "grid_row": null,
            "grid_template_areas": null,
            "grid_template_columns": null,
            "grid_template_rows": null,
            "height": null,
            "justify_content": null,
            "justify_items": null,
            "left": null,
            "margin": null,
            "max_height": null,
            "max_width": null,
            "min_height": null,
            "min_width": null,
            "object_fit": null,
            "object_position": null,
            "order": null,
            "overflow": null,
            "overflow_x": null,
            "overflow_y": null,
            "padding": null,
            "right": null,
            "top": null,
            "visibility": null,
            "width": null
          }
        },
        "67148799e0354cb1972e0c41e4277b09": {
          "model_module": "@jupyter-widgets/base",
          "model_name": "LayoutModel",
          "model_module_version": "1.2.0",
          "state": {
            "_model_module": "@jupyter-widgets/base",
            "_model_module_version": "1.2.0",
            "_model_name": "LayoutModel",
            "_view_count": null,
            "_view_module": "@jupyter-widgets/base",
            "_view_module_version": "1.2.0",
            "_view_name": "LayoutView",
            "align_content": null,
            "align_items": null,
            "align_self": null,
            "border": null,
            "bottom": null,
            "display": null,
            "flex": null,
            "flex_flow": null,
            "grid_area": null,
            "grid_auto_columns": null,
            "grid_auto_flow": null,
            "grid_auto_rows": null,
            "grid_column": null,
            "grid_gap": null,
            "grid_row": null,
            "grid_template_areas": null,
            "grid_template_columns": null,
            "grid_template_rows": null,
            "height": null,
            "justify_content": null,
            "justify_items": null,
            "left": null,
            "margin": null,
            "max_height": null,
            "max_width": null,
            "min_height": null,
            "min_width": null,
            "object_fit": null,
            "object_position": null,
            "order": null,
            "overflow": null,
            "overflow_x": null,
            "overflow_y": null,
            "padding": null,
            "right": null,
            "top": null,
            "visibility": null,
            "width": null
          }
        },
        "c17249d1fc264e309e8354af6bcba01c": {
          "model_module": "@jupyter-widgets/controls",
          "model_name": "DescriptionStyleModel",
          "model_module_version": "1.5.0",
          "state": {
            "_model_module": "@jupyter-widgets/controls",
            "_model_module_version": "1.5.0",
            "_model_name": "DescriptionStyleModel",
            "_view_count": null,
            "_view_module": "@jupyter-widgets/base",
            "_view_module_version": "1.2.0",
            "_view_name": "StyleView",
            "description_width": ""
          }
        },
        "62f677882dbb4935bc855a63e11d173c": {
          "model_module": "@jupyter-widgets/base",
          "model_name": "LayoutModel",
          "model_module_version": "1.2.0",
          "state": {
            "_model_module": "@jupyter-widgets/base",
            "_model_module_version": "1.2.0",
            "_model_name": "LayoutModel",
            "_view_count": null,
            "_view_module": "@jupyter-widgets/base",
            "_view_module_version": "1.2.0",
            "_view_name": "LayoutView",
            "align_content": null,
            "align_items": null,
            "align_self": null,
            "border": null,
            "bottom": null,
            "display": null,
            "flex": null,
            "flex_flow": null,
            "grid_area": null,
            "grid_auto_columns": null,
            "grid_auto_flow": null,
            "grid_auto_rows": null,
            "grid_column": null,
            "grid_gap": null,
            "grid_row": null,
            "grid_template_areas": null,
            "grid_template_columns": null,
            "grid_template_rows": null,
            "height": null,
            "justify_content": null,
            "justify_items": null,
            "left": null,
            "margin": null,
            "max_height": null,
            "max_width": null,
            "min_height": null,
            "min_width": null,
            "object_fit": null,
            "object_position": null,
            "order": null,
            "overflow": null,
            "overflow_x": null,
            "overflow_y": null,
            "padding": null,
            "right": null,
            "top": null,
            "visibility": null,
            "width": null
          }
        },
        "a9b2a7cadb054c68b801fb734effbb43": {
          "model_module": "@jupyter-widgets/controls",
          "model_name": "ProgressStyleModel",
          "model_module_version": "1.5.0",
          "state": {
            "_model_module": "@jupyter-widgets/controls",
            "_model_module_version": "1.5.0",
            "_model_name": "ProgressStyleModel",
            "_view_count": null,
            "_view_module": "@jupyter-widgets/base",
            "_view_module_version": "1.2.0",
            "_view_name": "StyleView",
            "bar_color": null,
            "description_width": ""
          }
        },
        "f79c9229eb0e48c2acf53cb1db87745d": {
          "model_module": "@jupyter-widgets/base",
          "model_name": "LayoutModel",
          "model_module_version": "1.2.0",
          "state": {
            "_model_module": "@jupyter-widgets/base",
            "_model_module_version": "1.2.0",
            "_model_name": "LayoutModel",
            "_view_count": null,
            "_view_module": "@jupyter-widgets/base",
            "_view_module_version": "1.2.0",
            "_view_name": "LayoutView",
            "align_content": null,
            "align_items": null,
            "align_self": null,
            "border": null,
            "bottom": null,
            "display": null,
            "flex": null,
            "flex_flow": null,
            "grid_area": null,
            "grid_auto_columns": null,
            "grid_auto_flow": null,
            "grid_auto_rows": null,
            "grid_column": null,
            "grid_gap": null,
            "grid_row": null,
            "grid_template_areas": null,
            "grid_template_columns": null,
            "grid_template_rows": null,
            "height": null,
            "justify_content": null,
            "justify_items": null,
            "left": null,
            "margin": null,
            "max_height": null,
            "max_width": null,
            "min_height": null,
            "min_width": null,
            "object_fit": null,
            "object_position": null,
            "order": null,
            "overflow": null,
            "overflow_x": null,
            "overflow_y": null,
            "padding": null,
            "right": null,
            "top": null,
            "visibility": null,
            "width": null
          }
        },
        "2547458ef3cb4eb19b0e048efbce8338": {
          "model_module": "@jupyter-widgets/controls",
          "model_name": "DescriptionStyleModel",
          "model_module_version": "1.5.0",
          "state": {
            "_model_module": "@jupyter-widgets/controls",
            "_model_module_version": "1.5.0",
            "_model_name": "DescriptionStyleModel",
            "_view_count": null,
            "_view_module": "@jupyter-widgets/base",
            "_view_module_version": "1.2.0",
            "_view_name": "StyleView",
            "description_width": ""
          }
        },
        "b340c5c5b68243c5adfb02f390d620f5": {
          "model_module": "@jupyter-widgets/controls",
          "model_name": "HBoxModel",
          "model_module_version": "1.5.0",
          "state": {
            "_dom_classes": [],
            "_model_module": "@jupyter-widgets/controls",
            "_model_module_version": "1.5.0",
            "_model_name": "HBoxModel",
            "_view_count": null,
            "_view_module": "@jupyter-widgets/controls",
            "_view_module_version": "1.5.0",
            "_view_name": "HBoxView",
            "box_style": "",
            "children": [
              "IPY_MODEL_2bdff5a96ba74630bdac9c451daee053",
              "IPY_MODEL_9ae8a399830b4330bced04039100ca83",
              "IPY_MODEL_2588967b17c843f08101cfc938d145ed"
            ],
            "layout": "IPY_MODEL_c3dec198ffc44c1ba3119764104ce71b"
          }
        },
        "2bdff5a96ba74630bdac9c451daee053": {
          "model_module": "@jupyter-widgets/controls",
          "model_name": "HTMLModel",
          "model_module_version": "1.5.0",
          "state": {
            "_dom_classes": [],
            "_model_module": "@jupyter-widgets/controls",
            "_model_module_version": "1.5.0",
            "_model_name": "HTMLModel",
            "_view_count": null,
            "_view_module": "@jupyter-widgets/controls",
            "_view_module_version": "1.5.0",
            "_view_name": "HTMLView",
            "description": "",
            "description_tooltip": null,
            "layout": "IPY_MODEL_69430f867e3e4ab69a1ab49fc916d49f",
            "placeholder": "​",
            "style": "IPY_MODEL_a4350f0409574a6aa4d70c1a7920713b",
            "value": "model_O4.onnx: 100%"
          }
        },
        "9ae8a399830b4330bced04039100ca83": {
          "model_module": "@jupyter-widgets/controls",
          "model_name": "FloatProgressModel",
          "model_module_version": "1.5.0",
          "state": {
            "_dom_classes": [],
            "_model_module": "@jupyter-widgets/controls",
            "_model_module_version": "1.5.0",
            "_model_name": "FloatProgressModel",
            "_view_count": null,
            "_view_module": "@jupyter-widgets/controls",
            "_view_module_version": "1.5.0",
            "_view_name": "ProgressView",
            "bar_style": "success",
            "description": "",
            "description_tooltip": null,
            "layout": "IPY_MODEL_cc35c2f1620640acb5b2a586e32ffbde",
            "max": 66578744,
            "min": 0,
            "orientation": "horizontal",
            "style": "IPY_MODEL_df12a3ec4bb64b8dad0acd350fa44c2a",
            "value": 66578744
          }
        },
        "2588967b17c843f08101cfc938d145ed": {
          "model_module": "@jupyter-widgets/controls",
          "model_name": "HTMLModel",
          "model_module_version": "1.5.0",
          "state": {
            "_dom_classes": [],
            "_model_module": "@jupyter-widgets/controls",
            "_model_module_version": "1.5.0",
            "_model_name": "HTMLModel",
            "_view_count": null,
            "_view_module": "@jupyter-widgets/controls",
            "_view_module_version": "1.5.0",
            "_view_name": "HTMLView",
            "description": "",
            "description_tooltip": null,
            "layout": "IPY_MODEL_6138f21f5ee34199b9e80fd72bc7cc7d",
            "placeholder": "​",
            "style": "IPY_MODEL_27acbcf11af24861bf8bcc6085c9b43d",
            "value": " 66.6M/66.6M [00:00&lt;00:00, 163MB/s]"
          }
        },
        "c3dec198ffc44c1ba3119764104ce71b": {
          "model_module": "@jupyter-widgets/base",
          "model_name": "LayoutModel",
          "model_module_version": "1.2.0",
          "state": {
            "_model_module": "@jupyter-widgets/base",
            "_model_module_version": "1.2.0",
            "_model_name": "LayoutModel",
            "_view_count": null,
            "_view_module": "@jupyter-widgets/base",
            "_view_module_version": "1.2.0",
            "_view_name": "LayoutView",
            "align_content": null,
            "align_items": null,
            "align_self": null,
            "border": null,
            "bottom": null,
            "display": null,
            "flex": null,
            "flex_flow": null,
            "grid_area": null,
            "grid_auto_columns": null,
            "grid_auto_flow": null,
            "grid_auto_rows": null,
            "grid_column": null,
            "grid_gap": null,
            "grid_row": null,
            "grid_template_areas": null,
            "grid_template_columns": null,
            "grid_template_rows": null,
            "height": null,
            "justify_content": null,
            "justify_items": null,
            "left": null,
            "margin": null,
            "max_height": null,
            "max_width": null,
            "min_height": null,
            "min_width": null,
            "object_fit": null,
            "object_position": null,
            "order": null,
            "overflow": null,
            "overflow_x": null,
            "overflow_y": null,
            "padding": null,
            "right": null,
            "top": null,
            "visibility": null,
            "width": null
          }
        },
        "69430f867e3e4ab69a1ab49fc916d49f": {
          "model_module": "@jupyter-widgets/base",
          "model_name": "LayoutModel",
          "model_module_version": "1.2.0",
          "state": {
            "_model_module": "@jupyter-widgets/base",
            "_model_module_version": "1.2.0",
            "_model_name": "LayoutModel",
            "_view_count": null,
            "_view_module": "@jupyter-widgets/base",
            "_view_module_version": "1.2.0",
            "_view_name": "LayoutView",
            "align_content": null,
            "align_items": null,
            "align_self": null,
            "border": null,
            "bottom": null,
            "display": null,
            "flex": null,
            "flex_flow": null,
            "grid_area": null,
            "grid_auto_columns": null,
            "grid_auto_flow": null,
            "grid_auto_rows": null,
            "grid_column": null,
            "grid_gap": null,
            "grid_row": null,
            "grid_template_areas": null,
            "grid_template_columns": null,
            "grid_template_rows": null,
            "height": null,
            "justify_content": null,
            "justify_items": null,
            "left": null,
            "margin": null,
            "max_height": null,
            "max_width": null,
            "min_height": null,
            "min_width": null,
            "object_fit": null,
            "object_position": null,
            "order": null,
            "overflow": null,
            "overflow_x": null,
            "overflow_y": null,
            "padding": null,
            "right": null,
            "top": null,
            "visibility": null,
            "width": null
          }
        },
        "a4350f0409574a6aa4d70c1a7920713b": {
          "model_module": "@jupyter-widgets/controls",
          "model_name": "DescriptionStyleModel",
          "model_module_version": "1.5.0",
          "state": {
            "_model_module": "@jupyter-widgets/controls",
            "_model_module_version": "1.5.0",
            "_model_name": "DescriptionStyleModel",
            "_view_count": null,
            "_view_module": "@jupyter-widgets/base",
            "_view_module_version": "1.2.0",
            "_view_name": "StyleView",
            "description_width": ""
          }
        },
        "cc35c2f1620640acb5b2a586e32ffbde": {
          "model_module": "@jupyter-widgets/base",
          "model_name": "LayoutModel",
          "model_module_version": "1.2.0",
          "state": {
            "_model_module": "@jupyter-widgets/base",
            "_model_module_version": "1.2.0",
            "_model_name": "LayoutModel",
            "_view_count": null,
            "_view_module": "@jupyter-widgets/base",
            "_view_module_version": "1.2.0",
            "_view_name": "LayoutView",
            "align_content": null,
            "align_items": null,
            "align_self": null,
            "border": null,
            "bottom": null,
            "display": null,
            "flex": null,
            "flex_flow": null,
            "grid_area": null,
            "grid_auto_columns": null,
            "grid_auto_flow": null,
            "grid_auto_rows": null,
            "grid_column": null,
            "grid_gap": null,
            "grid_row": null,
            "grid_template_areas": null,
            "grid_template_columns": null,
            "grid_template_rows": null,
            "height": null,
            "justify_content": null,
            "justify_items": null,
            "left": null,
            "margin": null,
            "max_height": null,
            "max_width": null,
            "min_height": null,
            "min_width": null,
            "object_fit": null,
            "object_position": null,
            "order": null,
            "overflow": null,
            "overflow_x": null,
            "overflow_y": null,
            "padding": null,
            "right": null,
            "top": null,
            "visibility": null,
            "width": null
          }
        },
        "df12a3ec4bb64b8dad0acd350fa44c2a": {
          "model_module": "@jupyter-widgets/controls",
          "model_name": "ProgressStyleModel",
          "model_module_version": "1.5.0",
          "state": {
            "_model_module": "@jupyter-widgets/controls",
            "_model_module_version": "1.5.0",
            "_model_name": "ProgressStyleModel",
            "_view_count": null,
            "_view_module": "@jupyter-widgets/base",
            "_view_module_version": "1.2.0",
            "_view_name": "StyleView",
            "bar_color": null,
            "description_width": ""
          }
        },
        "6138f21f5ee34199b9e80fd72bc7cc7d": {
          "model_module": "@jupyter-widgets/base",
          "model_name": "LayoutModel",
          "model_module_version": "1.2.0",
          "state": {
            "_model_module": "@jupyter-widgets/base",
            "_model_module_version": "1.2.0",
            "_model_name": "LayoutModel",
            "_view_count": null,
            "_view_module": "@jupyter-widgets/base",
            "_view_module_version": "1.2.0",
            "_view_name": "LayoutView",
            "align_content": null,
            "align_items": null,
            "align_self": null,
            "border": null,
            "bottom": null,
            "display": null,
            "flex": null,
            "flex_flow": null,
            "grid_area": null,
            "grid_auto_columns": null,
            "grid_auto_flow": null,
            "grid_auto_rows": null,
            "grid_column": null,
            "grid_gap": null,
            "grid_row": null,
            "grid_template_areas": null,
            "grid_template_columns": null,
            "grid_template_rows": null,
            "height": null,
            "justify_content": null,
            "justify_items": null,
            "left": null,
            "margin": null,
            "max_height": null,
            "max_width": null,
            "min_height": null,
            "min_width": null,
            "object_fit": null,
            "object_position": null,
            "order": null,
            "overflow": null,
            "overflow_x": null,
            "overflow_y": null,
            "padding": null,
            "right": null,
            "top": null,
            "visibility": null,
            "width": null
          }
        },
        "27acbcf11af24861bf8bcc6085c9b43d": {
          "model_module": "@jupyter-widgets/controls",
          "model_name": "DescriptionStyleModel",
          "model_module_version": "1.5.0",
          "state": {
            "_model_module": "@jupyter-widgets/controls",
            "_model_module_version": "1.5.0",
            "_model_name": "DescriptionStyleModel",
            "_view_count": null,
            "_view_module": "@jupyter-widgets/base",
            "_view_module_version": "1.2.0",
            "_view_name": "StyleView",
            "description_width": ""
          }
        },
        "6d95599d317440efa219f55327bf9e04": {
          "model_module": "@jupyter-widgets/controls",
          "model_name": "HBoxModel",
          "model_module_version": "1.5.0",
          "state": {
            "_dom_classes": [],
            "_model_module": "@jupyter-widgets/controls",
            "_model_module_version": "1.5.0",
            "_model_name": "HBoxModel",
            "_view_count": null,
            "_view_module": "@jupyter-widgets/controls",
            "_view_module_version": "1.5.0",
            "_view_name": "HBoxView",
            "box_style": "",
            "children": [
              "IPY_MODEL_aad74b2474bc4d928319dfec9d0ad644",
              "IPY_MODEL_1ea61f0853f3498b93ec29423d6dd3d5",
              "IPY_MODEL_2d0db31cca2541fdb4301b487d856e70"
            ],
            "layout": "IPY_MODEL_40c0ecd597a347b89ac236af0acc6468"
          }
        },
        "aad74b2474bc4d928319dfec9d0ad644": {
          "model_module": "@jupyter-widgets/controls",
          "model_name": "HTMLModel",
          "model_module_version": "1.5.0",
          "state": {
            "_dom_classes": [],
            "_model_module": "@jupyter-widgets/controls",
            "_model_module_version": "1.5.0",
            "_model_name": "HTMLModel",
            "_view_count": null,
            "_view_module": "@jupyter-widgets/controls",
            "_view_module_version": "1.5.0",
            "_view_name": "HTMLView",
            "description": "",
            "description_tooltip": null,
            "layout": "IPY_MODEL_f91e0998cd244dfaa2f68aabb3167a89",
            "placeholder": "​",
            "style": "IPY_MODEL_fe72d893706147a2b1795ea95f803acf",
            "value": "model_qint8_arm64.onnx: 100%"
          }
        },
        "1ea61f0853f3498b93ec29423d6dd3d5": {
          "model_module": "@jupyter-widgets/controls",
          "model_name": "FloatProgressModel",
          "model_module_version": "1.5.0",
          "state": {
            "_dom_classes": [],
            "_model_module": "@jupyter-widgets/controls",
            "_model_module_version": "1.5.0",
            "_model_name": "FloatProgressModel",
            "_view_count": null,
            "_view_module": "@jupyter-widgets/controls",
            "_view_module_version": "1.5.0",
            "_view_name": "ProgressView",
            "bar_style": "success",
            "description": "",
            "description_tooltip": null,
            "layout": "IPY_MODEL_5758b1c2638a4b209c0c03d8c9167c71",
            "max": 34118638,
            "min": 0,
            "orientation": "horizontal",
            "style": "IPY_MODEL_d6a5e8221c5e4faeb7aa9109024de01a",
            "value": 34118638
          }
        },
        "2d0db31cca2541fdb4301b487d856e70": {
          "model_module": "@jupyter-widgets/controls",
          "model_name": "HTMLModel",
          "model_module_version": "1.5.0",
          "state": {
            "_dom_classes": [],
            "_model_module": "@jupyter-widgets/controls",
            "_model_module_version": "1.5.0",
            "_model_name": "HTMLModel",
            "_view_count": null,
            "_view_module": "@jupyter-widgets/controls",
            "_view_module_version": "1.5.0",
            "_view_name": "HTMLView",
            "description": "",
            "description_tooltip": null,
            "layout": "IPY_MODEL_96292c36fe4d4e24975c623500cb6585",
            "placeholder": "​",
            "style": "IPY_MODEL_ec7fc3504158427a97302894982f5ac9",
            "value": " 34.1M/34.1M [00:00&lt;00:00, 116MB/s]"
          }
        },
        "40c0ecd597a347b89ac236af0acc6468": {
          "model_module": "@jupyter-widgets/base",
          "model_name": "LayoutModel",
          "model_module_version": "1.2.0",
          "state": {
            "_model_module": "@jupyter-widgets/base",
            "_model_module_version": "1.2.0",
            "_model_name": "LayoutModel",
            "_view_count": null,
            "_view_module": "@jupyter-widgets/base",
            "_view_module_version": "1.2.0",
            "_view_name": "LayoutView",
            "align_content": null,
            "align_items": null,
            "align_self": null,
            "border": null,
            "bottom": null,
            "display": null,
            "flex": null,
            "flex_flow": null,
            "grid_area": null,
            "grid_auto_columns": null,
            "grid_auto_flow": null,
            "grid_auto_rows": null,
            "grid_column": null,
            "grid_gap": null,
            "grid_row": null,
            "grid_template_areas": null,
            "grid_template_columns": null,
            "grid_template_rows": null,
            "height": null,
            "justify_content": null,
            "justify_items": null,
            "left": null,
            "margin": null,
            "max_height": null,
            "max_width": null,
            "min_height": null,
            "min_width": null,
            "object_fit": null,
            "object_position": null,
            "order": null,
            "overflow": null,
            "overflow_x": null,
            "overflow_y": null,
            "padding": null,
            "right": null,
            "top": null,
            "visibility": null,
            "width": null
          }
        },
        "f91e0998cd244dfaa2f68aabb3167a89": {
          "model_module": "@jupyter-widgets/base",
          "model_name": "LayoutModel",
          "model_module_version": "1.2.0",
          "state": {
            "_model_module": "@jupyter-widgets/base",
            "_model_module_version": "1.2.0",
            "_model_name": "LayoutModel",
            "_view_count": null,
            "_view_module": "@jupyter-widgets/base",
            "_view_module_version": "1.2.0",
            "_view_name": "LayoutView",
            "align_content": null,
            "align_items": null,
            "align_self": null,
            "border": null,
            "bottom": null,
            "display": null,
            "flex": null,
            "flex_flow": null,
            "grid_area": null,
            "grid_auto_columns": null,
            "grid_auto_flow": null,
            "grid_auto_rows": null,
            "grid_column": null,
            "grid_gap": null,
            "grid_row": null,
            "grid_template_areas": null,
            "grid_template_columns": null,
            "grid_template_rows": null,
            "height": null,
            "justify_content": null,
            "justify_items": null,
            "left": null,
            "margin": null,
            "max_height": null,
            "max_width": null,
            "min_height": null,
            "min_width": null,
            "object_fit": null,
            "object_position": null,
            "order": null,
            "overflow": null,
            "overflow_x": null,
            "overflow_y": null,
            "padding": null,
            "right": null,
            "top": null,
            "visibility": null,
            "width": null
          }
        },
        "fe72d893706147a2b1795ea95f803acf": {
          "model_module": "@jupyter-widgets/controls",
          "model_name": "DescriptionStyleModel",
          "model_module_version": "1.5.0",
          "state": {
            "_model_module": "@jupyter-widgets/controls",
            "_model_module_version": "1.5.0",
            "_model_name": "DescriptionStyleModel",
            "_view_count": null,
            "_view_module": "@jupyter-widgets/base",
            "_view_module_version": "1.2.0",
            "_view_name": "StyleView",
            "description_width": ""
          }
        },
        "5758b1c2638a4b209c0c03d8c9167c71": {
          "model_module": "@jupyter-widgets/base",
          "model_name": "LayoutModel",
          "model_module_version": "1.2.0",
          "state": {
            "_model_module": "@jupyter-widgets/base",
            "_model_module_version": "1.2.0",
            "_model_name": "LayoutModel",
            "_view_count": null,
            "_view_module": "@jupyter-widgets/base",
            "_view_module_version": "1.2.0",
            "_view_name": "LayoutView",
            "align_content": null,
            "align_items": null,
            "align_self": null,
            "border": null,
            "bottom": null,
            "display": null,
            "flex": null,
            "flex_flow": null,
            "grid_area": null,
            "grid_auto_columns": null,
            "grid_auto_flow": null,
            "grid_auto_rows": null,
            "grid_column": null,
            "grid_gap": null,
            "grid_row": null,
            "grid_template_areas": null,
            "grid_template_columns": null,
            "grid_template_rows": null,
            "height": null,
            "justify_content": null,
            "justify_items": null,
            "left": null,
            "margin": null,
            "max_height": null,
            "max_width": null,
            "min_height": null,
            "min_width": null,
            "object_fit": null,
            "object_position": null,
            "order": null,
            "overflow": null,
            "overflow_x": null,
            "overflow_y": null,
            "padding": null,
            "right": null,
            "top": null,
            "visibility": null,
            "width": null
          }
        },
        "d6a5e8221c5e4faeb7aa9109024de01a": {
          "model_module": "@jupyter-widgets/controls",
          "model_name": "ProgressStyleModel",
          "model_module_version": "1.5.0",
          "state": {
            "_model_module": "@jupyter-widgets/controls",
            "_model_module_version": "1.5.0",
            "_model_name": "ProgressStyleModel",
            "_view_count": null,
            "_view_module": "@jupyter-widgets/base",
            "_view_module_version": "1.2.0",
            "_view_name": "StyleView",
            "bar_color": null,
            "description_width": ""
          }
        },
        "96292c36fe4d4e24975c623500cb6585": {
          "model_module": "@jupyter-widgets/base",
          "model_name": "LayoutModel",
          "model_module_version": "1.2.0",
          "state": {
            "_model_module": "@jupyter-widgets/base",
            "_model_module_version": "1.2.0",
            "_model_name": "LayoutModel",
            "_view_count": null,
            "_view_module": "@jupyter-widgets/base",
            "_view_module_version": "1.2.0",
            "_view_name": "LayoutView",
            "align_content": null,
            "align_items": null,
            "align_self": null,
            "border": null,
            "bottom": null,
            "display": null,
            "flex": null,
            "flex_flow": null,
            "grid_area": null,
            "grid_auto_columns": null,
            "grid_auto_flow": null,
            "grid_auto_rows": null,
            "grid_column": null,
            "grid_gap": null,
            "grid_row": null,
            "grid_template_areas": null,
            "grid_template_columns": null,
            "grid_template_rows": null,
            "height": null,
            "justify_content": null,
            "justify_items": null,
            "left": null,
            "margin": null,
            "max_height": null,
            "max_width": null,
            "min_height": null,
            "min_width": null,
            "object_fit": null,
            "object_position": null,
            "order": null,
            "overflow": null,
            "overflow_x": null,
            "overflow_y": null,
            "padding": null,
            "right": null,
            "top": null,
            "visibility": null,
            "width": null
          }
        },
        "ec7fc3504158427a97302894982f5ac9": {
          "model_module": "@jupyter-widgets/controls",
          "model_name": "DescriptionStyleModel",
          "model_module_version": "1.5.0",
          "state": {
            "_model_module": "@jupyter-widgets/controls",
            "_model_module_version": "1.5.0",
            "_model_name": "DescriptionStyleModel",
            "_view_count": null,
            "_view_module": "@jupyter-widgets/base",
            "_view_module_version": "1.2.0",
            "_view_name": "StyleView",
            "description_width": ""
          }
        },
        "7668762cb6204f45a01a194d58e1e261": {
          "model_module": "@jupyter-widgets/controls",
          "model_name": "HBoxModel",
          "model_module_version": "1.5.0",
          "state": {
            "_dom_classes": [],
            "_model_module": "@jupyter-widgets/controls",
            "_model_module_version": "1.5.0",
            "_model_name": "HBoxModel",
            "_view_count": null,
            "_view_module": "@jupyter-widgets/controls",
            "_view_module_version": "1.5.0",
            "_view_name": "HBoxView",
            "box_style": "",
            "children": [
              "IPY_MODEL_fb8a19023a344c978544e2fffc5d9961",
              "IPY_MODEL_c738e128660c4986a62aab8717a540e9",
              "IPY_MODEL_d2a2d6c393ce4a95b496443c352c2237"
            ],
            "layout": "IPY_MODEL_66e01444332d4defb03cc5c7c46f14e0"
          }
        },
        "fb8a19023a344c978544e2fffc5d9961": {
          "model_module": "@jupyter-widgets/controls",
          "model_name": "HTMLModel",
          "model_module_version": "1.5.0",
          "state": {
            "_dom_classes": [],
            "_model_module": "@jupyter-widgets/controls",
            "_model_module_version": "1.5.0",
            "_model_name": "HTMLModel",
            "_view_count": null,
            "_view_module": "@jupyter-widgets/controls",
            "_view_module_version": "1.5.0",
            "_view_name": "HTMLView",
            "description": "",
            "description_tooltip": null,
            "layout": "IPY_MODEL_b2f4938668e343cd8afb6ab6919ca2b2",
            "placeholder": "​",
            "style": "IPY_MODEL_82693c8cb00549658aa82337761da431",
            "value": "model_qint8_avx512.onnx: 100%"
          }
        },
        "c738e128660c4986a62aab8717a540e9": {
          "model_module": "@jupyter-widgets/controls",
          "model_name": "FloatProgressModel",
          "model_module_version": "1.5.0",
          "state": {
            "_dom_classes": [],
            "_model_module": "@jupyter-widgets/controls",
            "_model_module_version": "1.5.0",
            "_model_name": "FloatProgressModel",
            "_view_count": null,
            "_view_module": "@jupyter-widgets/controls",
            "_view_module_version": "1.5.0",
            "_view_name": "ProgressView",
            "bar_style": "success",
            "description": "",
            "description_tooltip": null,
            "layout": "IPY_MODEL_86601621ac554ea89bd69219a858f88b",
            "max": 34118638,
            "min": 0,
            "orientation": "horizontal",
            "style": "IPY_MODEL_cf1f9ae839fd481882cbafdd16841335",
            "value": 34118638
          }
        },
        "d2a2d6c393ce4a95b496443c352c2237": {
          "model_module": "@jupyter-widgets/controls",
          "model_name": "HTMLModel",
          "model_module_version": "1.5.0",
          "state": {
            "_dom_classes": [],
            "_model_module": "@jupyter-widgets/controls",
            "_model_module_version": "1.5.0",
            "_model_name": "HTMLModel",
            "_view_count": null,
            "_view_module": "@jupyter-widgets/controls",
            "_view_module_version": "1.5.0",
            "_view_name": "HTMLView",
            "description": "",
            "description_tooltip": null,
            "layout": "IPY_MODEL_a309fa535ee6443fb8614de4f3b3aac4",
            "placeholder": "​",
            "style": "IPY_MODEL_561fc77bf5f64b60a5fb516fd89aeab3",
            "value": " 34.1M/34.1M [00:00&lt;00:00, 118MB/s]"
          }
        },
        "66e01444332d4defb03cc5c7c46f14e0": {
          "model_module": "@jupyter-widgets/base",
          "model_name": "LayoutModel",
          "model_module_version": "1.2.0",
          "state": {
            "_model_module": "@jupyter-widgets/base",
            "_model_module_version": "1.2.0",
            "_model_name": "LayoutModel",
            "_view_count": null,
            "_view_module": "@jupyter-widgets/base",
            "_view_module_version": "1.2.0",
            "_view_name": "LayoutView",
            "align_content": null,
            "align_items": null,
            "align_self": null,
            "border": null,
            "bottom": null,
            "display": null,
            "flex": null,
            "flex_flow": null,
            "grid_area": null,
            "grid_auto_columns": null,
            "grid_auto_flow": null,
            "grid_auto_rows": null,
            "grid_column": null,
            "grid_gap": null,
            "grid_row": null,
            "grid_template_areas": null,
            "grid_template_columns": null,
            "grid_template_rows": null,
            "height": null,
            "justify_content": null,
            "justify_items": null,
            "left": null,
            "margin": null,
            "max_height": null,
            "max_width": null,
            "min_height": null,
            "min_width": null,
            "object_fit": null,
            "object_position": null,
            "order": null,
            "overflow": null,
            "overflow_x": null,
            "overflow_y": null,
            "padding": null,
            "right": null,
            "top": null,
            "visibility": null,
            "width": null
          }
        },
        "b2f4938668e343cd8afb6ab6919ca2b2": {
          "model_module": "@jupyter-widgets/base",
          "model_name": "LayoutModel",
          "model_module_version": "1.2.0",
          "state": {
            "_model_module": "@jupyter-widgets/base",
            "_model_module_version": "1.2.0",
            "_model_name": "LayoutModel",
            "_view_count": null,
            "_view_module": "@jupyter-widgets/base",
            "_view_module_version": "1.2.0",
            "_view_name": "LayoutView",
            "align_content": null,
            "align_items": null,
            "align_self": null,
            "border": null,
            "bottom": null,
            "display": null,
            "flex": null,
            "flex_flow": null,
            "grid_area": null,
            "grid_auto_columns": null,
            "grid_auto_flow": null,
            "grid_auto_rows": null,
            "grid_column": null,
            "grid_gap": null,
            "grid_row": null,
            "grid_template_areas": null,
            "grid_template_columns": null,
            "grid_template_rows": null,
            "height": null,
            "justify_content": null,
            "justify_items": null,
            "left": null,
            "margin": null,
            "max_height": null,
            "max_width": null,
            "min_height": null,
            "min_width": null,
            "object_fit": null,
            "object_position": null,
            "order": null,
            "overflow": null,
            "overflow_x": null,
            "overflow_y": null,
            "padding": null,
            "right": null,
            "top": null,
            "visibility": null,
            "width": null
          }
        },
        "82693c8cb00549658aa82337761da431": {
          "model_module": "@jupyter-widgets/controls",
          "model_name": "DescriptionStyleModel",
          "model_module_version": "1.5.0",
          "state": {
            "_model_module": "@jupyter-widgets/controls",
            "_model_module_version": "1.5.0",
            "_model_name": "DescriptionStyleModel",
            "_view_count": null,
            "_view_module": "@jupyter-widgets/base",
            "_view_module_version": "1.2.0",
            "_view_name": "StyleView",
            "description_width": ""
          }
        },
        "86601621ac554ea89bd69219a858f88b": {
          "model_module": "@jupyter-widgets/base",
          "model_name": "LayoutModel",
          "model_module_version": "1.2.0",
          "state": {
            "_model_module": "@jupyter-widgets/base",
            "_model_module_version": "1.2.0",
            "_model_name": "LayoutModel",
            "_view_count": null,
            "_view_module": "@jupyter-widgets/base",
            "_view_module_version": "1.2.0",
            "_view_name": "LayoutView",
            "align_content": null,
            "align_items": null,
            "align_self": null,
            "border": null,
            "bottom": null,
            "display": null,
            "flex": null,
            "flex_flow": null,
            "grid_area": null,
            "grid_auto_columns": null,
            "grid_auto_flow": null,
            "grid_auto_rows": null,
            "grid_column": null,
            "grid_gap": null,
            "grid_row": null,
            "grid_template_areas": null,
            "grid_template_columns": null,
            "grid_template_rows": null,
            "height": null,
            "justify_content": null,
            "justify_items": null,
            "left": null,
            "margin": null,
            "max_height": null,
            "max_width": null,
            "min_height": null,
            "min_width": null,
            "object_fit": null,
            "object_position": null,
            "order": null,
            "overflow": null,
            "overflow_x": null,
            "overflow_y": null,
            "padding": null,
            "right": null,
            "top": null,
            "visibility": null,
            "width": null
          }
        },
        "cf1f9ae839fd481882cbafdd16841335": {
          "model_module": "@jupyter-widgets/controls",
          "model_name": "ProgressStyleModel",
          "model_module_version": "1.5.0",
          "state": {
            "_model_module": "@jupyter-widgets/controls",
            "_model_module_version": "1.5.0",
            "_model_name": "ProgressStyleModel",
            "_view_count": null,
            "_view_module": "@jupyter-widgets/base",
            "_view_module_version": "1.2.0",
            "_view_name": "StyleView",
            "bar_color": null,
            "description_width": ""
          }
        },
        "a309fa535ee6443fb8614de4f3b3aac4": {
          "model_module": "@jupyter-widgets/base",
          "model_name": "LayoutModel",
          "model_module_version": "1.2.0",
          "state": {
            "_model_module": "@jupyter-widgets/base",
            "_model_module_version": "1.2.0",
            "_model_name": "LayoutModel",
            "_view_count": null,
            "_view_module": "@jupyter-widgets/base",
            "_view_module_version": "1.2.0",
            "_view_name": "LayoutView",
            "align_content": null,
            "align_items": null,
            "align_self": null,
            "border": null,
            "bottom": null,
            "display": null,
            "flex": null,
            "flex_flow": null,
            "grid_area": null,
            "grid_auto_columns": null,
            "grid_auto_flow": null,
            "grid_auto_rows": null,
            "grid_column": null,
            "grid_gap": null,
            "grid_row": null,
            "grid_template_areas": null,
            "grid_template_columns": null,
            "grid_template_rows": null,
            "height": null,
            "justify_content": null,
            "justify_items": null,
            "left": null,
            "margin": null,
            "max_height": null,
            "max_width": null,
            "min_height": null,
            "min_width": null,
            "object_fit": null,
            "object_position": null,
            "order": null,
            "overflow": null,
            "overflow_x": null,
            "overflow_y": null,
            "padding": null,
            "right": null,
            "top": null,
            "visibility": null,
            "width": null
          }
        },
        "561fc77bf5f64b60a5fb516fd89aeab3": {
          "model_module": "@jupyter-widgets/controls",
          "model_name": "DescriptionStyleModel",
          "model_module_version": "1.5.0",
          "state": {
            "_model_module": "@jupyter-widgets/controls",
            "_model_module_version": "1.5.0",
            "_model_name": "DescriptionStyleModel",
            "_view_count": null,
            "_view_module": "@jupyter-widgets/base",
            "_view_module_version": "1.2.0",
            "_view_name": "StyleView",
            "description_width": ""
          }
        },
        "3561479f2dba45f7ae36b1e6bc83a5c9": {
          "model_module": "@jupyter-widgets/controls",
          "model_name": "HBoxModel",
          "model_module_version": "1.5.0",
          "state": {
            "_dom_classes": [],
            "_model_module": "@jupyter-widgets/controls",
            "_model_module_version": "1.5.0",
            "_model_name": "HBoxModel",
            "_view_count": null,
            "_view_module": "@jupyter-widgets/controls",
            "_view_module_version": "1.5.0",
            "_view_name": "HBoxView",
            "box_style": "",
            "children": [
              "IPY_MODEL_1174d51b0b05497fa2e8977d77d857d3",
              "IPY_MODEL_593a070b900c4a37a4f59efdc4ed9e0d",
              "IPY_MODEL_53bbc10cde9d4cc6b4fe94b923fbe86f"
            ],
            "layout": "IPY_MODEL_097ace1e533a4a3ca4f543099a8f7566"
          }
        },
        "1174d51b0b05497fa2e8977d77d857d3": {
          "model_module": "@jupyter-widgets/controls",
          "model_name": "HTMLModel",
          "model_module_version": "1.5.0",
          "state": {
            "_dom_classes": [],
            "_model_module": "@jupyter-widgets/controls",
            "_model_module_version": "1.5.0",
            "_model_name": "HTMLModel",
            "_view_count": null,
            "_view_module": "@jupyter-widgets/controls",
            "_view_module_version": "1.5.0",
            "_view_name": "HTMLView",
            "description": "",
            "description_tooltip": null,
            "layout": "IPY_MODEL_1685a2ebb69e44dcac8d6d8384eeab7e",
            "placeholder": "​",
            "style": "IPY_MODEL_d0acd4af7ab548ff8c2a0b294d4a5278",
            "value": "model_qint8_avx512_vnni.onnx: 100%"
          }
        },
        "593a070b900c4a37a4f59efdc4ed9e0d": {
          "model_module": "@jupyter-widgets/controls",
          "model_name": "FloatProgressModel",
          "model_module_version": "1.5.0",
          "state": {
            "_dom_classes": [],
            "_model_module": "@jupyter-widgets/controls",
            "_model_module_version": "1.5.0",
            "_model_name": "FloatProgressModel",
            "_view_count": null,
            "_view_module": "@jupyter-widgets/controls",
            "_view_module_version": "1.5.0",
            "_view_name": "ProgressView",
            "bar_style": "success",
            "description": "",
            "description_tooltip": null,
            "layout": "IPY_MODEL_5524416a68964a6fbaafeb044126d28d",
            "max": 34118638,
            "min": 0,
            "orientation": "horizontal",
            "style": "IPY_MODEL_7cdddbf884e04a1d85f382a66ecaa077",
            "value": 34118638
          }
        },
        "53bbc10cde9d4cc6b4fe94b923fbe86f": {
          "model_module": "@jupyter-widgets/controls",
          "model_name": "HTMLModel",
          "model_module_version": "1.5.0",
          "state": {
            "_dom_classes": [],
            "_model_module": "@jupyter-widgets/controls",
            "_model_module_version": "1.5.0",
            "_model_name": "HTMLModel",
            "_view_count": null,
            "_view_module": "@jupyter-widgets/controls",
            "_view_module_version": "1.5.0",
            "_view_name": "HTMLView",
            "description": "",
            "description_tooltip": null,
            "layout": "IPY_MODEL_4b5fc0eb58844f3fa95cf4c43988f930",
            "placeholder": "​",
            "style": "IPY_MODEL_d63282c6cfc944b58acfc78f8cfb9397",
            "value": " 34.1M/34.1M [00:00&lt;00:00, 131MB/s]"
          }
        },
        "097ace1e533a4a3ca4f543099a8f7566": {
          "model_module": "@jupyter-widgets/base",
          "model_name": "LayoutModel",
          "model_module_version": "1.2.0",
          "state": {
            "_model_module": "@jupyter-widgets/base",
            "_model_module_version": "1.2.0",
            "_model_name": "LayoutModel",
            "_view_count": null,
            "_view_module": "@jupyter-widgets/base",
            "_view_module_version": "1.2.0",
            "_view_name": "LayoutView",
            "align_content": null,
            "align_items": null,
            "align_self": null,
            "border": null,
            "bottom": null,
            "display": null,
            "flex": null,
            "flex_flow": null,
            "grid_area": null,
            "grid_auto_columns": null,
            "grid_auto_flow": null,
            "grid_auto_rows": null,
            "grid_column": null,
            "grid_gap": null,
            "grid_row": null,
            "grid_template_areas": null,
            "grid_template_columns": null,
            "grid_template_rows": null,
            "height": null,
            "justify_content": null,
            "justify_items": null,
            "left": null,
            "margin": null,
            "max_height": null,
            "max_width": null,
            "min_height": null,
            "min_width": null,
            "object_fit": null,
            "object_position": null,
            "order": null,
            "overflow": null,
            "overflow_x": null,
            "overflow_y": null,
            "padding": null,
            "right": null,
            "top": null,
            "visibility": null,
            "width": null
          }
        },
        "1685a2ebb69e44dcac8d6d8384eeab7e": {
          "model_module": "@jupyter-widgets/base",
          "model_name": "LayoutModel",
          "model_module_version": "1.2.0",
          "state": {
            "_model_module": "@jupyter-widgets/base",
            "_model_module_version": "1.2.0",
            "_model_name": "LayoutModel",
            "_view_count": null,
            "_view_module": "@jupyter-widgets/base",
            "_view_module_version": "1.2.0",
            "_view_name": "LayoutView",
            "align_content": null,
            "align_items": null,
            "align_self": null,
            "border": null,
            "bottom": null,
            "display": null,
            "flex": null,
            "flex_flow": null,
            "grid_area": null,
            "grid_auto_columns": null,
            "grid_auto_flow": null,
            "grid_auto_rows": null,
            "grid_column": null,
            "grid_gap": null,
            "grid_row": null,
            "grid_template_areas": null,
            "grid_template_columns": null,
            "grid_template_rows": null,
            "height": null,
            "justify_content": null,
            "justify_items": null,
            "left": null,
            "margin": null,
            "max_height": null,
            "max_width": null,
            "min_height": null,
            "min_width": null,
            "object_fit": null,
            "object_position": null,
            "order": null,
            "overflow": null,
            "overflow_x": null,
            "overflow_y": null,
            "padding": null,
            "right": null,
            "top": null,
            "visibility": null,
            "width": null
          }
        },
        "d0acd4af7ab548ff8c2a0b294d4a5278": {
          "model_module": "@jupyter-widgets/controls",
          "model_name": "DescriptionStyleModel",
          "model_module_version": "1.5.0",
          "state": {
            "_model_module": "@jupyter-widgets/controls",
            "_model_module_version": "1.5.0",
            "_model_name": "DescriptionStyleModel",
            "_view_count": null,
            "_view_module": "@jupyter-widgets/base",
            "_view_module_version": "1.2.0",
            "_view_name": "StyleView",
            "description_width": ""
          }
        },
        "5524416a68964a6fbaafeb044126d28d": {
          "model_module": "@jupyter-widgets/base",
          "model_name": "LayoutModel",
          "model_module_version": "1.2.0",
          "state": {
            "_model_module": "@jupyter-widgets/base",
            "_model_module_version": "1.2.0",
            "_model_name": "LayoutModel",
            "_view_count": null,
            "_view_module": "@jupyter-widgets/base",
            "_view_module_version": "1.2.0",
            "_view_name": "LayoutView",
            "align_content": null,
            "align_items": null,
            "align_self": null,
            "border": null,
            "bottom": null,
            "display": null,
            "flex": null,
            "flex_flow": null,
            "grid_area": null,
            "grid_auto_columns": null,
            "grid_auto_flow": null,
            "grid_auto_rows": null,
            "grid_column": null,
            "grid_gap": null,
            "grid_row": null,
            "grid_template_areas": null,
            "grid_template_columns": null,
            "grid_template_rows": null,
            "height": null,
            "justify_content": null,
            "justify_items": null,
            "left": null,
            "margin": null,
            "max_height": null,
            "max_width": null,
            "min_height": null,
            "min_width": null,
            "object_fit": null,
            "object_position": null,
            "order": null,
            "overflow": null,
            "overflow_x": null,
            "overflow_y": null,
            "padding": null,
            "right": null,
            "top": null,
            "visibility": null,
            "width": null
          }
        },
        "7cdddbf884e04a1d85f382a66ecaa077": {
          "model_module": "@jupyter-widgets/controls",
          "model_name": "ProgressStyleModel",
          "model_module_version": "1.5.0",
          "state": {
            "_model_module": "@jupyter-widgets/controls",
            "_model_module_version": "1.5.0",
            "_model_name": "ProgressStyleModel",
            "_view_count": null,
            "_view_module": "@jupyter-widgets/base",
            "_view_module_version": "1.2.0",
            "_view_name": "StyleView",
            "bar_color": null,
            "description_width": ""
          }
        },
        "4b5fc0eb58844f3fa95cf4c43988f930": {
          "model_module": "@jupyter-widgets/base",
          "model_name": "LayoutModel",
          "model_module_version": "1.2.0",
          "state": {
            "_model_module": "@jupyter-widgets/base",
            "_model_module_version": "1.2.0",
            "_model_name": "LayoutModel",
            "_view_count": null,
            "_view_module": "@jupyter-widgets/base",
            "_view_module_version": "1.2.0",
            "_view_name": "LayoutView",
            "align_content": null,
            "align_items": null,
            "align_self": null,
            "border": null,
            "bottom": null,
            "display": null,
            "flex": null,
            "flex_flow": null,
            "grid_area": null,
            "grid_auto_columns": null,
            "grid_auto_flow": null,
            "grid_auto_rows": null,
            "grid_column": null,
            "grid_gap": null,
            "grid_row": null,
            "grid_template_areas": null,
            "grid_template_columns": null,
            "grid_template_rows": null,
            "height": null,
            "justify_content": null,
            "justify_items": null,
            "left": null,
            "margin": null,
            "max_height": null,
            "max_width": null,
            "min_height": null,
            "min_width": null,
            "object_fit": null,
            "object_position": null,
            "order": null,
            "overflow": null,
            "overflow_x": null,
            "overflow_y": null,
            "padding": null,
            "right": null,
            "top": null,
            "visibility": null,
            "width": null
          }
        },
        "d63282c6cfc944b58acfc78f8cfb9397": {
          "model_module": "@jupyter-widgets/controls",
          "model_name": "DescriptionStyleModel",
          "model_module_version": "1.5.0",
          "state": {
            "_model_module": "@jupyter-widgets/controls",
            "_model_module_version": "1.5.0",
            "_model_name": "DescriptionStyleModel",
            "_view_count": null,
            "_view_module": "@jupyter-widgets/base",
            "_view_module_version": "1.2.0",
            "_view_name": "StyleView",
            "description_width": ""
          }
        },
        "08583053317b4d9bba61b351e2c8fe5c": {
          "model_module": "@jupyter-widgets/controls",
          "model_name": "HBoxModel",
          "model_module_version": "1.5.0",
          "state": {
            "_dom_classes": [],
            "_model_module": "@jupyter-widgets/controls",
            "_model_module_version": "1.5.0",
            "_model_name": "HBoxModel",
            "_view_count": null,
            "_view_module": "@jupyter-widgets/controls",
            "_view_module_version": "1.5.0",
            "_view_name": "HBoxView",
            "box_style": "",
            "children": [
              "IPY_MODEL_c3b00f044ddc4a8ba6013e7f5e438b88",
              "IPY_MODEL_c459af29a84d4d3aa8cc8fd9c8f9b54b",
              "IPY_MODEL_ab256ecfd44a4917ab0e5ea672e83f61"
            ],
            "layout": "IPY_MODEL_c72f5268f3d94fdba5a1a7f5fbcb311d"
          }
        },
        "c3b00f044ddc4a8ba6013e7f5e438b88": {
          "model_module": "@jupyter-widgets/controls",
          "model_name": "HTMLModel",
          "model_module_version": "1.5.0",
          "state": {
            "_dom_classes": [],
            "_model_module": "@jupyter-widgets/controls",
            "_model_module_version": "1.5.0",
            "_model_name": "HTMLModel",
            "_view_count": null,
            "_view_module": "@jupyter-widgets/controls",
            "_view_module_version": "1.5.0",
            "_view_name": "HTMLView",
            "description": "",
            "description_tooltip": null,
            "layout": "IPY_MODEL_76904b41f93246999f6c448b8fd7ac8c",
            "placeholder": "​",
            "style": "IPY_MODEL_f602dd1f968848aeab8ba0eb72633e75",
            "value": "model_quint8_avx2.onnx: 100%"
          }
        },
        "c459af29a84d4d3aa8cc8fd9c8f9b54b": {
          "model_module": "@jupyter-widgets/controls",
          "model_name": "FloatProgressModel",
          "model_module_version": "1.5.0",
          "state": {
            "_dom_classes": [],
            "_model_module": "@jupyter-widgets/controls",
            "_model_module_version": "1.5.0",
            "_model_name": "FloatProgressModel",
            "_view_count": null,
            "_view_module": "@jupyter-widgets/controls",
            "_view_module_version": "1.5.0",
            "_view_name": "ProgressView",
            "bar_style": "success",
            "description": "",
            "description_tooltip": null,
            "layout": "IPY_MODEL_3ac9b8dd66cf44ceb6bf286dfb0c2ded",
            "max": 34160110,
            "min": 0,
            "orientation": "horizontal",
            "style": "IPY_MODEL_977e7cd821584b01a64866295c1270d8",
            "value": 34160110
          }
        },
        "ab256ecfd44a4917ab0e5ea672e83f61": {
          "model_module": "@jupyter-widgets/controls",
          "model_name": "HTMLModel",
          "model_module_version": "1.5.0",
          "state": {
            "_dom_classes": [],
            "_model_module": "@jupyter-widgets/controls",
            "_model_module_version": "1.5.0",
            "_model_name": "HTMLModel",
            "_view_count": null,
            "_view_module": "@jupyter-widgets/controls",
            "_view_module_version": "1.5.0",
            "_view_name": "HTMLView",
            "description": "",
            "description_tooltip": null,
            "layout": "IPY_MODEL_10d6bd7e1bf24effbb29fa75270cb4f2",
            "placeholder": "​",
            "style": "IPY_MODEL_f943e15c1c33479abba8775de4be3671",
            "value": " 34.2M/34.2M [00:00&lt;00:00, 173MB/s]"
          }
        },
        "c72f5268f3d94fdba5a1a7f5fbcb311d": {
          "model_module": "@jupyter-widgets/base",
          "model_name": "LayoutModel",
          "model_module_version": "1.2.0",
          "state": {
            "_model_module": "@jupyter-widgets/base",
            "_model_module_version": "1.2.0",
            "_model_name": "LayoutModel",
            "_view_count": null,
            "_view_module": "@jupyter-widgets/base",
            "_view_module_version": "1.2.0",
            "_view_name": "LayoutView",
            "align_content": null,
            "align_items": null,
            "align_self": null,
            "border": null,
            "bottom": null,
            "display": null,
            "flex": null,
            "flex_flow": null,
            "grid_area": null,
            "grid_auto_columns": null,
            "grid_auto_flow": null,
            "grid_auto_rows": null,
            "grid_column": null,
            "grid_gap": null,
            "grid_row": null,
            "grid_template_areas": null,
            "grid_template_columns": null,
            "grid_template_rows": null,
            "height": null,
            "justify_content": null,
            "justify_items": null,
            "left": null,
            "margin": null,
            "max_height": null,
            "max_width": null,
            "min_height": null,
            "min_width": null,
            "object_fit": null,
            "object_position": null,
            "order": null,
            "overflow": null,
            "overflow_x": null,
            "overflow_y": null,
            "padding": null,
            "right": null,
            "top": null,
            "visibility": null,
            "width": null
          }
        },
        "76904b41f93246999f6c448b8fd7ac8c": {
          "model_module": "@jupyter-widgets/base",
          "model_name": "LayoutModel",
          "model_module_version": "1.2.0",
          "state": {
            "_model_module": "@jupyter-widgets/base",
            "_model_module_version": "1.2.0",
            "_model_name": "LayoutModel",
            "_view_count": null,
            "_view_module": "@jupyter-widgets/base",
            "_view_module_version": "1.2.0",
            "_view_name": "LayoutView",
            "align_content": null,
            "align_items": null,
            "align_self": null,
            "border": null,
            "bottom": null,
            "display": null,
            "flex": null,
            "flex_flow": null,
            "grid_area": null,
            "grid_auto_columns": null,
            "grid_auto_flow": null,
            "grid_auto_rows": null,
            "grid_column": null,
            "grid_gap": null,
            "grid_row": null,
            "grid_template_areas": null,
            "grid_template_columns": null,
            "grid_template_rows": null,
            "height": null,
            "justify_content": null,
            "justify_items": null,
            "left": null,
            "margin": null,
            "max_height": null,
            "max_width": null,
            "min_height": null,
            "min_width": null,
            "object_fit": null,
            "object_position": null,
            "order": null,
            "overflow": null,
            "overflow_x": null,
            "overflow_y": null,
            "padding": null,
            "right": null,
            "top": null,
            "visibility": null,
            "width": null
          }
        },
        "f602dd1f968848aeab8ba0eb72633e75": {
          "model_module": "@jupyter-widgets/controls",
          "model_name": "DescriptionStyleModel",
          "model_module_version": "1.5.0",
          "state": {
            "_model_module": "@jupyter-widgets/controls",
            "_model_module_version": "1.5.0",
            "_model_name": "DescriptionStyleModel",
            "_view_count": null,
            "_view_module": "@jupyter-widgets/base",
            "_view_module_version": "1.2.0",
            "_view_name": "StyleView",
            "description_width": ""
          }
        },
        "3ac9b8dd66cf44ceb6bf286dfb0c2ded": {
          "model_module": "@jupyter-widgets/base",
          "model_name": "LayoutModel",
          "model_module_version": "1.2.0",
          "state": {
            "_model_module": "@jupyter-widgets/base",
            "_model_module_version": "1.2.0",
            "_model_name": "LayoutModel",
            "_view_count": null,
            "_view_module": "@jupyter-widgets/base",
            "_view_module_version": "1.2.0",
            "_view_name": "LayoutView",
            "align_content": null,
            "align_items": null,
            "align_self": null,
            "border": null,
            "bottom": null,
            "display": null,
            "flex": null,
            "flex_flow": null,
            "grid_area": null,
            "grid_auto_columns": null,
            "grid_auto_flow": null,
            "grid_auto_rows": null,
            "grid_column": null,
            "grid_gap": null,
            "grid_row": null,
            "grid_template_areas": null,
            "grid_template_columns": null,
            "grid_template_rows": null,
            "height": null,
            "justify_content": null,
            "justify_items": null,
            "left": null,
            "margin": null,
            "max_height": null,
            "max_width": null,
            "min_height": null,
            "min_width": null,
            "object_fit": null,
            "object_position": null,
            "order": null,
            "overflow": null,
            "overflow_x": null,
            "overflow_y": null,
            "padding": null,
            "right": null,
            "top": null,
            "visibility": null,
            "width": null
          }
        },
        "977e7cd821584b01a64866295c1270d8": {
          "model_module": "@jupyter-widgets/controls",
          "model_name": "ProgressStyleModel",
          "model_module_version": "1.5.0",
          "state": {
            "_model_module": "@jupyter-widgets/controls",
            "_model_module_version": "1.5.0",
            "_model_name": "ProgressStyleModel",
            "_view_count": null,
            "_view_module": "@jupyter-widgets/base",
            "_view_module_version": "1.2.0",
            "_view_name": "StyleView",
            "bar_color": null,
            "description_width": ""
          }
        },
        "10d6bd7e1bf24effbb29fa75270cb4f2": {
          "model_module": "@jupyter-widgets/base",
          "model_name": "LayoutModel",
          "model_module_version": "1.2.0",
          "state": {
            "_model_module": "@jupyter-widgets/base",
            "_model_module_version": "1.2.0",
            "_model_name": "LayoutModel",
            "_view_count": null,
            "_view_module": "@jupyter-widgets/base",
            "_view_module_version": "1.2.0",
            "_view_name": "LayoutView",
            "align_content": null,
            "align_items": null,
            "align_self": null,
            "border": null,
            "bottom": null,
            "display": null,
            "flex": null,
            "flex_flow": null,
            "grid_area": null,
            "grid_auto_columns": null,
            "grid_auto_flow": null,
            "grid_auto_rows": null,
            "grid_column": null,
            "grid_gap": null,
            "grid_row": null,
            "grid_template_areas": null,
            "grid_template_columns": null,
            "grid_template_rows": null,
            "height": null,
            "justify_content": null,
            "justify_items": null,
            "left": null,
            "margin": null,
            "max_height": null,
            "max_width": null,
            "min_height": null,
            "min_width": null,
            "object_fit": null,
            "object_position": null,
            "order": null,
            "overflow": null,
            "overflow_x": null,
            "overflow_y": null,
            "padding": null,
            "right": null,
            "top": null,
            "visibility": null,
            "width": null
          }
        },
        "f943e15c1c33479abba8775de4be3671": {
          "model_module": "@jupyter-widgets/controls",
          "model_name": "DescriptionStyleModel",
          "model_module_version": "1.5.0",
          "state": {
            "_model_module": "@jupyter-widgets/controls",
            "_model_module_version": "1.5.0",
            "_model_name": "DescriptionStyleModel",
            "_view_count": null,
            "_view_module": "@jupyter-widgets/base",
            "_view_module_version": "1.2.0",
            "_view_name": "StyleView",
            "description_width": ""
          }
        },
        "00dc968f98b14be39ca80385c9abe6b0": {
          "model_module": "@jupyter-widgets/controls",
          "model_name": "HBoxModel",
          "model_module_version": "1.5.0",
          "state": {
            "_dom_classes": [],
            "_model_module": "@jupyter-widgets/controls",
            "_model_module_version": "1.5.0",
            "_model_name": "HBoxModel",
            "_view_count": null,
            "_view_module": "@jupyter-widgets/controls",
            "_view_module_version": "1.5.0",
            "_view_name": "HBoxView",
            "box_style": "",
            "children": [
              "IPY_MODEL_19fad2633361431392252ca400f4ee32",
              "IPY_MODEL_50cd73b365af492aab06ecf6838b51a0",
              "IPY_MODEL_d0f5816ae4d6468d83b43ab199f6a708"
            ],
            "layout": "IPY_MODEL_13b3461eb5c442cbb919676f76a93ae3"
          }
        },
        "19fad2633361431392252ca400f4ee32": {
          "model_module": "@jupyter-widgets/controls",
          "model_name": "HTMLModel",
          "model_module_version": "1.5.0",
          "state": {
            "_dom_classes": [],
            "_model_module": "@jupyter-widgets/controls",
            "_model_module_version": "1.5.0",
            "_model_name": "HTMLModel",
            "_view_count": null,
            "_view_module": "@jupyter-widgets/controls",
            "_view_module_version": "1.5.0",
            "_view_name": "HTMLView",
            "description": "",
            "description_tooltip": null,
            "layout": "IPY_MODEL_19dc080a3fcd4b408d4bdd33f571cf0d",
            "placeholder": "​",
            "style": "IPY_MODEL_52dc67edd38647a082dfaf3bd5964176",
            "value": "openvino_model.bin: 100%"
          }
        },
        "50cd73b365af492aab06ecf6838b51a0": {
          "model_module": "@jupyter-widgets/controls",
          "model_name": "FloatProgressModel",
          "model_module_version": "1.5.0",
          "state": {
            "_dom_classes": [],
            "_model_module": "@jupyter-widgets/controls",
            "_model_module_version": "1.5.0",
            "_model_name": "FloatProgressModel",
            "_view_count": null,
            "_view_module": "@jupyter-widgets/controls",
            "_view_module_version": "1.5.0",
            "_view_name": "ProgressView",
            "bar_style": "success",
            "description": "",
            "description_tooltip": null,
            "layout": "IPY_MODEL_bd070ed196e143a499244607d88a1515",
            "max": 132852880,
            "min": 0,
            "orientation": "horizontal",
            "style": "IPY_MODEL_f10602ef04e44572afd89974d742489c",
            "value": 132852880
          }
        },
        "d0f5816ae4d6468d83b43ab199f6a708": {
          "model_module": "@jupyter-widgets/controls",
          "model_name": "HTMLModel",
          "model_module_version": "1.5.0",
          "state": {
            "_dom_classes": [],
            "_model_module": "@jupyter-widgets/controls",
            "_model_module_version": "1.5.0",
            "_model_name": "HTMLModel",
            "_view_count": null,
            "_view_module": "@jupyter-widgets/controls",
            "_view_module_version": "1.5.0",
            "_view_name": "HTMLView",
            "description": "",
            "description_tooltip": null,
            "layout": "IPY_MODEL_f688285029dd4ab4b94c5fec03e27b21",
            "placeholder": "​",
            "style": "IPY_MODEL_882c2e02cb244d599c3ad40530b061e7",
            "value": " 133M/133M [00:00&lt;00:00, 160MB/s]"
          }
        },
        "13b3461eb5c442cbb919676f76a93ae3": {
          "model_module": "@jupyter-widgets/base",
          "model_name": "LayoutModel",
          "model_module_version": "1.2.0",
          "state": {
            "_model_module": "@jupyter-widgets/base",
            "_model_module_version": "1.2.0",
            "_model_name": "LayoutModel",
            "_view_count": null,
            "_view_module": "@jupyter-widgets/base",
            "_view_module_version": "1.2.0",
            "_view_name": "LayoutView",
            "align_content": null,
            "align_items": null,
            "align_self": null,
            "border": null,
            "bottom": null,
            "display": null,
            "flex": null,
            "flex_flow": null,
            "grid_area": null,
            "grid_auto_columns": null,
            "grid_auto_flow": null,
            "grid_auto_rows": null,
            "grid_column": null,
            "grid_gap": null,
            "grid_row": null,
            "grid_template_areas": null,
            "grid_template_columns": null,
            "grid_template_rows": null,
            "height": null,
            "justify_content": null,
            "justify_items": null,
            "left": null,
            "margin": null,
            "max_height": null,
            "max_width": null,
            "min_height": null,
            "min_width": null,
            "object_fit": null,
            "object_position": null,
            "order": null,
            "overflow": null,
            "overflow_x": null,
            "overflow_y": null,
            "padding": null,
            "right": null,
            "top": null,
            "visibility": null,
            "width": null
          }
        },
        "19dc080a3fcd4b408d4bdd33f571cf0d": {
          "model_module": "@jupyter-widgets/base",
          "model_name": "LayoutModel",
          "model_module_version": "1.2.0",
          "state": {
            "_model_module": "@jupyter-widgets/base",
            "_model_module_version": "1.2.0",
            "_model_name": "LayoutModel",
            "_view_count": null,
            "_view_module": "@jupyter-widgets/base",
            "_view_module_version": "1.2.0",
            "_view_name": "LayoutView",
            "align_content": null,
            "align_items": null,
            "align_self": null,
            "border": null,
            "bottom": null,
            "display": null,
            "flex": null,
            "flex_flow": null,
            "grid_area": null,
            "grid_auto_columns": null,
            "grid_auto_flow": null,
            "grid_auto_rows": null,
            "grid_column": null,
            "grid_gap": null,
            "grid_row": null,
            "grid_template_areas": null,
            "grid_template_columns": null,
            "grid_template_rows": null,
            "height": null,
            "justify_content": null,
            "justify_items": null,
            "left": null,
            "margin": null,
            "max_height": null,
            "max_width": null,
            "min_height": null,
            "min_width": null,
            "object_fit": null,
            "object_position": null,
            "order": null,
            "overflow": null,
            "overflow_x": null,
            "overflow_y": null,
            "padding": null,
            "right": null,
            "top": null,
            "visibility": null,
            "width": null
          }
        },
        "52dc67edd38647a082dfaf3bd5964176": {
          "model_module": "@jupyter-widgets/controls",
          "model_name": "DescriptionStyleModel",
          "model_module_version": "1.5.0",
          "state": {
            "_model_module": "@jupyter-widgets/controls",
            "_model_module_version": "1.5.0",
            "_model_name": "DescriptionStyleModel",
            "_view_count": null,
            "_view_module": "@jupyter-widgets/base",
            "_view_module_version": "1.2.0",
            "_view_name": "StyleView",
            "description_width": ""
          }
        },
        "bd070ed196e143a499244607d88a1515": {
          "model_module": "@jupyter-widgets/base",
          "model_name": "LayoutModel",
          "model_module_version": "1.2.0",
          "state": {
            "_model_module": "@jupyter-widgets/base",
            "_model_module_version": "1.2.0",
            "_model_name": "LayoutModel",
            "_view_count": null,
            "_view_module": "@jupyter-widgets/base",
            "_view_module_version": "1.2.0",
            "_view_name": "LayoutView",
            "align_content": null,
            "align_items": null,
            "align_self": null,
            "border": null,
            "bottom": null,
            "display": null,
            "flex": null,
            "flex_flow": null,
            "grid_area": null,
            "grid_auto_columns": null,
            "grid_auto_flow": null,
            "grid_auto_rows": null,
            "grid_column": null,
            "grid_gap": null,
            "grid_row": null,
            "grid_template_areas": null,
            "grid_template_columns": null,
            "grid_template_rows": null,
            "height": null,
            "justify_content": null,
            "justify_items": null,
            "left": null,
            "margin": null,
            "max_height": null,
            "max_width": null,
            "min_height": null,
            "min_width": null,
            "object_fit": null,
            "object_position": null,
            "order": null,
            "overflow": null,
            "overflow_x": null,
            "overflow_y": null,
            "padding": null,
            "right": null,
            "top": null,
            "visibility": null,
            "width": null
          }
        },
        "f10602ef04e44572afd89974d742489c": {
          "model_module": "@jupyter-widgets/controls",
          "model_name": "ProgressStyleModel",
          "model_module_version": "1.5.0",
          "state": {
            "_model_module": "@jupyter-widgets/controls",
            "_model_module_version": "1.5.0",
            "_model_name": "ProgressStyleModel",
            "_view_count": null,
            "_view_module": "@jupyter-widgets/base",
            "_view_module_version": "1.2.0",
            "_view_name": "StyleView",
            "bar_color": null,
            "description_width": ""
          }
        },
        "f688285029dd4ab4b94c5fec03e27b21": {
          "model_module": "@jupyter-widgets/base",
          "model_name": "LayoutModel",
          "model_module_version": "1.2.0",
          "state": {
            "_model_module": "@jupyter-widgets/base",
            "_model_module_version": "1.2.0",
            "_model_name": "LayoutModel",
            "_view_count": null,
            "_view_module": "@jupyter-widgets/base",
            "_view_module_version": "1.2.0",
            "_view_name": "LayoutView",
            "align_content": null,
            "align_items": null,
            "align_self": null,
            "border": null,
            "bottom": null,
            "display": null,
            "flex": null,
            "flex_flow": null,
            "grid_area": null,
            "grid_auto_columns": null,
            "grid_auto_flow": null,
            "grid_auto_rows": null,
            "grid_column": null,
            "grid_gap": null,
            "grid_row": null,
            "grid_template_areas": null,
            "grid_template_columns": null,
            "grid_template_rows": null,
            "height": null,
            "justify_content": null,
            "justify_items": null,
            "left": null,
            "margin": null,
            "max_height": null,
            "max_width": null,
            "min_height": null,
            "min_width": null,
            "object_fit": null,
            "object_position": null,
            "order": null,
            "overflow": null,
            "overflow_x": null,
            "overflow_y": null,
            "padding": null,
            "right": null,
            "top": null,
            "visibility": null,
            "width": null
          }
        },
        "882c2e02cb244d599c3ad40530b061e7": {
          "model_module": "@jupyter-widgets/controls",
          "model_name": "DescriptionStyleModel",
          "model_module_version": "1.5.0",
          "state": {
            "_model_module": "@jupyter-widgets/controls",
            "_model_module_version": "1.5.0",
            "_model_name": "DescriptionStyleModel",
            "_view_count": null,
            "_view_module": "@jupyter-widgets/base",
            "_view_module_version": "1.2.0",
            "_view_name": "StyleView",
            "description_width": ""
          }
        },
        "0c09d3f0a8ca4f8197c4bfaed15b73f2": {
          "model_module": "@jupyter-widgets/controls",
          "model_name": "HBoxModel",
          "model_module_version": "1.5.0",
          "state": {
            "_dom_classes": [],
            "_model_module": "@jupyter-widgets/controls",
            "_model_module_version": "1.5.0",
            "_model_name": "HBoxModel",
            "_view_count": null,
            "_view_module": "@jupyter-widgets/controls",
            "_view_module_version": "1.5.0",
            "_view_name": "HBoxView",
            "box_style": "",
            "children": [
              "IPY_MODEL_0917404251c54b1c9ab73fbde2b105f2",
              "IPY_MODEL_6157e42a7e71480dba9c7191bc71188d",
              "IPY_MODEL_c4e53f05ef6f4ff2b951d20e3441c7cf"
            ],
            "layout": "IPY_MODEL_2faef89f8a9e480a9944614548be3a4c"
          }
        },
        "0917404251c54b1c9ab73fbde2b105f2": {
          "model_module": "@jupyter-widgets/controls",
          "model_name": "HTMLModel",
          "model_module_version": "1.5.0",
          "state": {
            "_dom_classes": [],
            "_model_module": "@jupyter-widgets/controls",
            "_model_module_version": "1.5.0",
            "_model_name": "HTMLModel",
            "_view_count": null,
            "_view_module": "@jupyter-widgets/controls",
            "_view_module_version": "1.5.0",
            "_view_name": "HTMLView",
            "description": "",
            "description_tooltip": null,
            "layout": "IPY_MODEL_13993a128ae94467a2156c8a9aada8ca",
            "placeholder": "​",
            "style": "IPY_MODEL_20deb903a5d04a558af414a8b1a2db7c",
            "value": "openvino_model.xml: 100%"
          }
        },
        "6157e42a7e71480dba9c7191bc71188d": {
          "model_module": "@jupyter-widgets/controls",
          "model_name": "FloatProgressModel",
          "model_module_version": "1.5.0",
          "state": {
            "_dom_classes": [],
            "_model_module": "@jupyter-widgets/controls",
            "_model_module_version": "1.5.0",
            "_model_name": "FloatProgressModel",
            "_view_count": null,
            "_view_module": "@jupyter-widgets/controls",
            "_view_module_version": "1.5.0",
            "_view_name": "ProgressView",
            "bar_style": "success",
            "description": "",
            "description_tooltip": null,
            "layout": "IPY_MODEL_c87cf37d83324845b306d6063bfb7dc5",
            "max": 398256,
            "min": 0,
            "orientation": "horizontal",
            "style": "IPY_MODEL_4e94998018b3456d8b66697f78dce861",
            "value": 398256
          }
        },
        "c4e53f05ef6f4ff2b951d20e3441c7cf": {
          "model_module": "@jupyter-widgets/controls",
          "model_name": "HTMLModel",
          "model_module_version": "1.5.0",
          "state": {
            "_dom_classes": [],
            "_model_module": "@jupyter-widgets/controls",
            "_model_module_version": "1.5.0",
            "_model_name": "HTMLModel",
            "_view_count": null,
            "_view_module": "@jupyter-widgets/controls",
            "_view_module_version": "1.5.0",
            "_view_name": "HTMLView",
            "description": "",
            "description_tooltip": null,
            "layout": "IPY_MODEL_b7c818b35893437ea9c2bb224970a63f",
            "placeholder": "​",
            "style": "IPY_MODEL_00a407760ce94522880cdd5eb08e3330",
            "value": " 398k/398k [00:01&lt;00:00, 339kB/s]"
          }
        },
        "2faef89f8a9e480a9944614548be3a4c": {
          "model_module": "@jupyter-widgets/base",
          "model_name": "LayoutModel",
          "model_module_version": "1.2.0",
          "state": {
            "_model_module": "@jupyter-widgets/base",
            "_model_module_version": "1.2.0",
            "_model_name": "LayoutModel",
            "_view_count": null,
            "_view_module": "@jupyter-widgets/base",
            "_view_module_version": "1.2.0",
            "_view_name": "LayoutView",
            "align_content": null,
            "align_items": null,
            "align_self": null,
            "border": null,
            "bottom": null,
            "display": null,
            "flex": null,
            "flex_flow": null,
            "grid_area": null,
            "grid_auto_columns": null,
            "grid_auto_flow": null,
            "grid_auto_rows": null,
            "grid_column": null,
            "grid_gap": null,
            "grid_row": null,
            "grid_template_areas": null,
            "grid_template_columns": null,
            "grid_template_rows": null,
            "height": null,
            "justify_content": null,
            "justify_items": null,
            "left": null,
            "margin": null,
            "max_height": null,
            "max_width": null,
            "min_height": null,
            "min_width": null,
            "object_fit": null,
            "object_position": null,
            "order": null,
            "overflow": null,
            "overflow_x": null,
            "overflow_y": null,
            "padding": null,
            "right": null,
            "top": null,
            "visibility": null,
            "width": null
          }
        },
        "13993a128ae94467a2156c8a9aada8ca": {
          "model_module": "@jupyter-widgets/base",
          "model_name": "LayoutModel",
          "model_module_version": "1.2.0",
          "state": {
            "_model_module": "@jupyter-widgets/base",
            "_model_module_version": "1.2.0",
            "_model_name": "LayoutModel",
            "_view_count": null,
            "_view_module": "@jupyter-widgets/base",
            "_view_module_version": "1.2.0",
            "_view_name": "LayoutView",
            "align_content": null,
            "align_items": null,
            "align_self": null,
            "border": null,
            "bottom": null,
            "display": null,
            "flex": null,
            "flex_flow": null,
            "grid_area": null,
            "grid_auto_columns": null,
            "grid_auto_flow": null,
            "grid_auto_rows": null,
            "grid_column": null,
            "grid_gap": null,
            "grid_row": null,
            "grid_template_areas": null,
            "grid_template_columns": null,
            "grid_template_rows": null,
            "height": null,
            "justify_content": null,
            "justify_items": null,
            "left": null,
            "margin": null,
            "max_height": null,
            "max_width": null,
            "min_height": null,
            "min_width": null,
            "object_fit": null,
            "object_position": null,
            "order": null,
            "overflow": null,
            "overflow_x": null,
            "overflow_y": null,
            "padding": null,
            "right": null,
            "top": null,
            "visibility": null,
            "width": null
          }
        },
        "20deb903a5d04a558af414a8b1a2db7c": {
          "model_module": "@jupyter-widgets/controls",
          "model_name": "DescriptionStyleModel",
          "model_module_version": "1.5.0",
          "state": {
            "_model_module": "@jupyter-widgets/controls",
            "_model_module_version": "1.5.0",
            "_model_name": "DescriptionStyleModel",
            "_view_count": null,
            "_view_module": "@jupyter-widgets/base",
            "_view_module_version": "1.2.0",
            "_view_name": "StyleView",
            "description_width": ""
          }
        },
        "c87cf37d83324845b306d6063bfb7dc5": {
          "model_module": "@jupyter-widgets/base",
          "model_name": "LayoutModel",
          "model_module_version": "1.2.0",
          "state": {
            "_model_module": "@jupyter-widgets/base",
            "_model_module_version": "1.2.0",
            "_model_name": "LayoutModel",
            "_view_count": null,
            "_view_module": "@jupyter-widgets/base",
            "_view_module_version": "1.2.0",
            "_view_name": "LayoutView",
            "align_content": null,
            "align_items": null,
            "align_self": null,
            "border": null,
            "bottom": null,
            "display": null,
            "flex": null,
            "flex_flow": null,
            "grid_area": null,
            "grid_auto_columns": null,
            "grid_auto_flow": null,
            "grid_auto_rows": null,
            "grid_column": null,
            "grid_gap": null,
            "grid_row": null,
            "grid_template_areas": null,
            "grid_template_columns": null,
            "grid_template_rows": null,
            "height": null,
            "justify_content": null,
            "justify_items": null,
            "left": null,
            "margin": null,
            "max_height": null,
            "max_width": null,
            "min_height": null,
            "min_width": null,
            "object_fit": null,
            "object_position": null,
            "order": null,
            "overflow": null,
            "overflow_x": null,
            "overflow_y": null,
            "padding": null,
            "right": null,
            "top": null,
            "visibility": null,
            "width": null
          }
        },
        "4e94998018b3456d8b66697f78dce861": {
          "model_module": "@jupyter-widgets/controls",
          "model_name": "ProgressStyleModel",
          "model_module_version": "1.5.0",
          "state": {
            "_model_module": "@jupyter-widgets/controls",
            "_model_module_version": "1.5.0",
            "_model_name": "ProgressStyleModel",
            "_view_count": null,
            "_view_module": "@jupyter-widgets/base",
            "_view_module_version": "1.2.0",
            "_view_name": "StyleView",
            "bar_color": null,
            "description_width": ""
          }
        },
        "b7c818b35893437ea9c2bb224970a63f": {
          "model_module": "@jupyter-widgets/base",
          "model_name": "LayoutModel",
          "model_module_version": "1.2.0",
          "state": {
            "_model_module": "@jupyter-widgets/base",
            "_model_module_version": "1.2.0",
            "_model_name": "LayoutModel",
            "_view_count": null,
            "_view_module": "@jupyter-widgets/base",
            "_view_module_version": "1.2.0",
            "_view_name": "LayoutView",
            "align_content": null,
            "align_items": null,
            "align_self": null,
            "border": null,
            "bottom": null,
            "display": null,
            "flex": null,
            "flex_flow": null,
            "grid_area": null,
            "grid_auto_columns": null,
            "grid_auto_flow": null,
            "grid_auto_rows": null,
            "grid_column": null,
            "grid_gap": null,
            "grid_row": null,
            "grid_template_areas": null,
            "grid_template_columns": null,
            "grid_template_rows": null,
            "height": null,
            "justify_content": null,
            "justify_items": null,
            "left": null,
            "margin": null,
            "max_height": null,
            "max_width": null,
            "min_height": null,
            "min_width": null,
            "object_fit": null,
            "object_position": null,
            "order": null,
            "overflow": null,
            "overflow_x": null,
            "overflow_y": null,
            "padding": null,
            "right": null,
            "top": null,
            "visibility": null,
            "width": null
          }
        },
        "00a407760ce94522880cdd5eb08e3330": {
          "model_module": "@jupyter-widgets/controls",
          "model_name": "DescriptionStyleModel",
          "model_module_version": "1.5.0",
          "state": {
            "_model_module": "@jupyter-widgets/controls",
            "_model_module_version": "1.5.0",
            "_model_name": "DescriptionStyleModel",
            "_view_count": null,
            "_view_module": "@jupyter-widgets/base",
            "_view_module_version": "1.2.0",
            "_view_name": "StyleView",
            "description_width": ""
          }
        },
        "e1b69d680403481d91bf7d7327225dc7": {
          "model_module": "@jupyter-widgets/controls",
          "model_name": "HBoxModel",
          "model_module_version": "1.5.0",
          "state": {
            "_dom_classes": [],
            "_model_module": "@jupyter-widgets/controls",
            "_model_module_version": "1.5.0",
            "_model_name": "HBoxModel",
            "_view_count": null,
            "_view_module": "@jupyter-widgets/controls",
            "_view_module_version": "1.5.0",
            "_view_name": "HBoxView",
            "box_style": "",
            "children": [
              "IPY_MODEL_0724252751804389bd696741e59736ba",
              "IPY_MODEL_d2d2fc6352124264875429109aa1e062",
              "IPY_MODEL_f9e3505804d5420b97630ff751d5403a"
            ],
            "layout": "IPY_MODEL_83b44bbe10b64549a883653cd064dc64"
          }
        },
        "0724252751804389bd696741e59736ba": {
          "model_module": "@jupyter-widgets/controls",
          "model_name": "HTMLModel",
          "model_module_version": "1.5.0",
          "state": {
            "_dom_classes": [],
            "_model_module": "@jupyter-widgets/controls",
            "_model_module_version": "1.5.0",
            "_model_name": "HTMLModel",
            "_view_count": null,
            "_view_module": "@jupyter-widgets/controls",
            "_view_module_version": "1.5.0",
            "_view_name": "HTMLView",
            "description": "",
            "description_tooltip": null,
            "layout": "IPY_MODEL_0f73148b30b14c2d904b1e9b7b8a0c94",
            "placeholder": "​",
            "style": "IPY_MODEL_545fe9b265ce4b8eabe75d5a8e7e30de",
            "value": "openvino_model_qint8_quantized.bin: 100%"
          }
        },
        "d2d2fc6352124264875429109aa1e062": {
          "model_module": "@jupyter-widgets/controls",
          "model_name": "FloatProgressModel",
          "model_module_version": "1.5.0",
          "state": {
            "_dom_classes": [],
            "_model_module": "@jupyter-widgets/controls",
            "_model_module_version": "1.5.0",
            "_model_name": "FloatProgressModel",
            "_view_count": null,
            "_view_module": "@jupyter-widgets/controls",
            "_view_module_version": "1.5.0",
            "_view_name": "ProgressView",
            "bar_style": "success",
            "description": "",
            "description_tooltip": null,
            "layout": "IPY_MODEL_b0675f67a56549e3ac8e0fd59419e134",
            "max": 33818048,
            "min": 0,
            "orientation": "horizontal",
            "style": "IPY_MODEL_a383111e6bbb45f7829527060a807e39",
            "value": 33818048
          }
        },
        "f9e3505804d5420b97630ff751d5403a": {
          "model_module": "@jupyter-widgets/controls",
          "model_name": "HTMLModel",
          "model_module_version": "1.5.0",
          "state": {
            "_dom_classes": [],
            "_model_module": "@jupyter-widgets/controls",
            "_model_module_version": "1.5.0",
            "_model_name": "HTMLModel",
            "_view_count": null,
            "_view_module": "@jupyter-widgets/controls",
            "_view_module_version": "1.5.0",
            "_view_name": "HTMLView",
            "description": "",
            "description_tooltip": null,
            "layout": "IPY_MODEL_0d396c0098234c9b9bc165fef1d51671",
            "placeholder": "​",
            "style": "IPY_MODEL_3714f9dc96ac45a2bd35fc429c342064",
            "value": " 33.8M/33.8M [00:00&lt;00:00, 167MB/s]"
          }
        },
        "83b44bbe10b64549a883653cd064dc64": {
          "model_module": "@jupyter-widgets/base",
          "model_name": "LayoutModel",
          "model_module_version": "1.2.0",
          "state": {
            "_model_module": "@jupyter-widgets/base",
            "_model_module_version": "1.2.0",
            "_model_name": "LayoutModel",
            "_view_count": null,
            "_view_module": "@jupyter-widgets/base",
            "_view_module_version": "1.2.0",
            "_view_name": "LayoutView",
            "align_content": null,
            "align_items": null,
            "align_self": null,
            "border": null,
            "bottom": null,
            "display": null,
            "flex": null,
            "flex_flow": null,
            "grid_area": null,
            "grid_auto_columns": null,
            "grid_auto_flow": null,
            "grid_auto_rows": null,
            "grid_column": null,
            "grid_gap": null,
            "grid_row": null,
            "grid_template_areas": null,
            "grid_template_columns": null,
            "grid_template_rows": null,
            "height": null,
            "justify_content": null,
            "justify_items": null,
            "left": null,
            "margin": null,
            "max_height": null,
            "max_width": null,
            "min_height": null,
            "min_width": null,
            "object_fit": null,
            "object_position": null,
            "order": null,
            "overflow": null,
            "overflow_x": null,
            "overflow_y": null,
            "padding": null,
            "right": null,
            "top": null,
            "visibility": null,
            "width": null
          }
        },
        "0f73148b30b14c2d904b1e9b7b8a0c94": {
          "model_module": "@jupyter-widgets/base",
          "model_name": "LayoutModel",
          "model_module_version": "1.2.0",
          "state": {
            "_model_module": "@jupyter-widgets/base",
            "_model_module_version": "1.2.0",
            "_model_name": "LayoutModel",
            "_view_count": null,
            "_view_module": "@jupyter-widgets/base",
            "_view_module_version": "1.2.0",
            "_view_name": "LayoutView",
            "align_content": null,
            "align_items": null,
            "align_self": null,
            "border": null,
            "bottom": null,
            "display": null,
            "flex": null,
            "flex_flow": null,
            "grid_area": null,
            "grid_auto_columns": null,
            "grid_auto_flow": null,
            "grid_auto_rows": null,
            "grid_column": null,
            "grid_gap": null,
            "grid_row": null,
            "grid_template_areas": null,
            "grid_template_columns": null,
            "grid_template_rows": null,
            "height": null,
            "justify_content": null,
            "justify_items": null,
            "left": null,
            "margin": null,
            "max_height": null,
            "max_width": null,
            "min_height": null,
            "min_width": null,
            "object_fit": null,
            "object_position": null,
            "order": null,
            "overflow": null,
            "overflow_x": null,
            "overflow_y": null,
            "padding": null,
            "right": null,
            "top": null,
            "visibility": null,
            "width": null
          }
        },
        "545fe9b265ce4b8eabe75d5a8e7e30de": {
          "model_module": "@jupyter-widgets/controls",
          "model_name": "DescriptionStyleModel",
          "model_module_version": "1.5.0",
          "state": {
            "_model_module": "@jupyter-widgets/controls",
            "_model_module_version": "1.5.0",
            "_model_name": "DescriptionStyleModel",
            "_view_count": null,
            "_view_module": "@jupyter-widgets/base",
            "_view_module_version": "1.2.0",
            "_view_name": "StyleView",
            "description_width": ""
          }
        },
        "b0675f67a56549e3ac8e0fd59419e134": {
          "model_module": "@jupyter-widgets/base",
          "model_name": "LayoutModel",
          "model_module_version": "1.2.0",
          "state": {
            "_model_module": "@jupyter-widgets/base",
            "_model_module_version": "1.2.0",
            "_model_name": "LayoutModel",
            "_view_count": null,
            "_view_module": "@jupyter-widgets/base",
            "_view_module_version": "1.2.0",
            "_view_name": "LayoutView",
            "align_content": null,
            "align_items": null,
            "align_self": null,
            "border": null,
            "bottom": null,
            "display": null,
            "flex": null,
            "flex_flow": null,
            "grid_area": null,
            "grid_auto_columns": null,
            "grid_auto_flow": null,
            "grid_auto_rows": null,
            "grid_column": null,
            "grid_gap": null,
            "grid_row": null,
            "grid_template_areas": null,
            "grid_template_columns": null,
            "grid_template_rows": null,
            "height": null,
            "justify_content": null,
            "justify_items": null,
            "left": null,
            "margin": null,
            "max_height": null,
            "max_width": null,
            "min_height": null,
            "min_width": null,
            "object_fit": null,
            "object_position": null,
            "order": null,
            "overflow": null,
            "overflow_x": null,
            "overflow_y": null,
            "padding": null,
            "right": null,
            "top": null,
            "visibility": null,
            "width": null
          }
        },
        "a383111e6bbb45f7829527060a807e39": {
          "model_module": "@jupyter-widgets/controls",
          "model_name": "ProgressStyleModel",
          "model_module_version": "1.5.0",
          "state": {
            "_model_module": "@jupyter-widgets/controls",
            "_model_module_version": "1.5.0",
            "_model_name": "ProgressStyleModel",
            "_view_count": null,
            "_view_module": "@jupyter-widgets/base",
            "_view_module_version": "1.2.0",
            "_view_name": "StyleView",
            "bar_color": null,
            "description_width": ""
          }
        },
        "0d396c0098234c9b9bc165fef1d51671": {
          "model_module": "@jupyter-widgets/base",
          "model_name": "LayoutModel",
          "model_module_version": "1.2.0",
          "state": {
            "_model_module": "@jupyter-widgets/base",
            "_model_module_version": "1.2.0",
            "_model_name": "LayoutModel",
            "_view_count": null,
            "_view_module": "@jupyter-widgets/base",
            "_view_module_version": "1.2.0",
            "_view_name": "LayoutView",
            "align_content": null,
            "align_items": null,
            "align_self": null,
            "border": null,
            "bottom": null,
            "display": null,
            "flex": null,
            "flex_flow": null,
            "grid_area": null,
            "grid_auto_columns": null,
            "grid_auto_flow": null,
            "grid_auto_rows": null,
            "grid_column": null,
            "grid_gap": null,
            "grid_row": null,
            "grid_template_areas": null,
            "grid_template_columns": null,
            "grid_template_rows": null,
            "height": null,
            "justify_content": null,
            "justify_items": null,
            "left": null,
            "margin": null,
            "max_height": null,
            "max_width": null,
            "min_height": null,
            "min_width": null,
            "object_fit": null,
            "object_position": null,
            "order": null,
            "overflow": null,
            "overflow_x": null,
            "overflow_y": null,
            "padding": null,
            "right": null,
            "top": null,
            "visibility": null,
            "width": null
          }
        },
        "3714f9dc96ac45a2bd35fc429c342064": {
          "model_module": "@jupyter-widgets/controls",
          "model_name": "DescriptionStyleModel",
          "model_module_version": "1.5.0",
          "state": {
            "_model_module": "@jupyter-widgets/controls",
            "_model_module_version": "1.5.0",
            "_model_name": "DescriptionStyleModel",
            "_view_count": null,
            "_view_module": "@jupyter-widgets/base",
            "_view_module_version": "1.2.0",
            "_view_name": "StyleView",
            "description_width": ""
          }
        },
        "6d23a9c666b44fcb8fb7fd530c98c266": {
          "model_module": "@jupyter-widgets/controls",
          "model_name": "HBoxModel",
          "model_module_version": "1.5.0",
          "state": {
            "_dom_classes": [],
            "_model_module": "@jupyter-widgets/controls",
            "_model_module_version": "1.5.0",
            "_model_name": "HBoxModel",
            "_view_count": null,
            "_view_module": "@jupyter-widgets/controls",
            "_view_module_version": "1.5.0",
            "_view_name": "HBoxView",
            "box_style": "",
            "children": [
              "IPY_MODEL_2c6df4747281412594f43f5554175425",
              "IPY_MODEL_adc9275f92684467a586024a56df1bce",
              "IPY_MODEL_f8942d3e4d5c4f0ea5ce425e4adb9af0"
            ],
            "layout": "IPY_MODEL_533f511e4fe44018b567f3c3d63a21d5"
          }
        },
        "2c6df4747281412594f43f5554175425": {
          "model_module": "@jupyter-widgets/controls",
          "model_name": "HTMLModel",
          "model_module_version": "1.5.0",
          "state": {
            "_dom_classes": [],
            "_model_module": "@jupyter-widgets/controls",
            "_model_module_version": "1.5.0",
            "_model_name": "HTMLModel",
            "_view_count": null,
            "_view_module": "@jupyter-widgets/controls",
            "_view_module_version": "1.5.0",
            "_view_name": "HTMLView",
            "description": "",
            "description_tooltip": null,
            "layout": "IPY_MODEL_d0d2ca96eba5467da40a90ceeb3c8487",
            "placeholder": "​",
            "style": "IPY_MODEL_1efef7ed3bda4d0fb7ce68576a92a823",
            "value": "openvino_model_qint8_quantized.xml: 100%"
          }
        },
        "adc9275f92684467a586024a56df1bce": {
          "model_module": "@jupyter-widgets/controls",
          "model_name": "FloatProgressModel",
          "model_module_version": "1.5.0",
          "state": {
            "_dom_classes": [],
            "_model_module": "@jupyter-widgets/controls",
            "_model_module_version": "1.5.0",
            "_model_name": "FloatProgressModel",
            "_view_count": null,
            "_view_module": "@jupyter-widgets/controls",
            "_view_module_version": "1.5.0",
            "_view_name": "ProgressView",
            "bar_style": "success",
            "description": "",
            "description_tooltip": null,
            "layout": "IPY_MODEL_7f5410f2c8a244efaf16c99d248cfe48",
            "max": 708135,
            "min": 0,
            "orientation": "horizontal",
            "style": "IPY_MODEL_7373b1728c8f469791567903f0dda03d",
            "value": 708135
          }
        },
        "f8942d3e4d5c4f0ea5ce425e4adb9af0": {
          "model_module": "@jupyter-widgets/controls",
          "model_name": "HTMLModel",
          "model_module_version": "1.5.0",
          "state": {
            "_dom_classes": [],
            "_model_module": "@jupyter-widgets/controls",
            "_model_module_version": "1.5.0",
            "_model_name": "HTMLModel",
            "_view_count": null,
            "_view_module": "@jupyter-widgets/controls",
            "_view_module_version": "1.5.0",
            "_view_name": "HTMLView",
            "description": "",
            "description_tooltip": null,
            "layout": "IPY_MODEL_d9bf8f3e140c4aa8b0cec0408ae674bd",
            "placeholder": "​",
            "style": "IPY_MODEL_d3633b9ca9f0486483bf79bd18ca4b7e",
            "value": " 708k/708k [00:00&lt;00:00, 9.26MB/s]"
          }
        },
        "533f511e4fe44018b567f3c3d63a21d5": {
          "model_module": "@jupyter-widgets/base",
          "model_name": "LayoutModel",
          "model_module_version": "1.2.0",
          "state": {
            "_model_module": "@jupyter-widgets/base",
            "_model_module_version": "1.2.0",
            "_model_name": "LayoutModel",
            "_view_count": null,
            "_view_module": "@jupyter-widgets/base",
            "_view_module_version": "1.2.0",
            "_view_name": "LayoutView",
            "align_content": null,
            "align_items": null,
            "align_self": null,
            "border": null,
            "bottom": null,
            "display": null,
            "flex": null,
            "flex_flow": null,
            "grid_area": null,
            "grid_auto_columns": null,
            "grid_auto_flow": null,
            "grid_auto_rows": null,
            "grid_column": null,
            "grid_gap": null,
            "grid_row": null,
            "grid_template_areas": null,
            "grid_template_columns": null,
            "grid_template_rows": null,
            "height": null,
            "justify_content": null,
            "justify_items": null,
            "left": null,
            "margin": null,
            "max_height": null,
            "max_width": null,
            "min_height": null,
            "min_width": null,
            "object_fit": null,
            "object_position": null,
            "order": null,
            "overflow": null,
            "overflow_x": null,
            "overflow_y": null,
            "padding": null,
            "right": null,
            "top": null,
            "visibility": null,
            "width": null
          }
        },
        "d0d2ca96eba5467da40a90ceeb3c8487": {
          "model_module": "@jupyter-widgets/base",
          "model_name": "LayoutModel",
          "model_module_version": "1.2.0",
          "state": {
            "_model_module": "@jupyter-widgets/base",
            "_model_module_version": "1.2.0",
            "_model_name": "LayoutModel",
            "_view_count": null,
            "_view_module": "@jupyter-widgets/base",
            "_view_module_version": "1.2.0",
            "_view_name": "LayoutView",
            "align_content": null,
            "align_items": null,
            "align_self": null,
            "border": null,
            "bottom": null,
            "display": null,
            "flex": null,
            "flex_flow": null,
            "grid_area": null,
            "grid_auto_columns": null,
            "grid_auto_flow": null,
            "grid_auto_rows": null,
            "grid_column": null,
            "grid_gap": null,
            "grid_row": null,
            "grid_template_areas": null,
            "grid_template_columns": null,
            "grid_template_rows": null,
            "height": null,
            "justify_content": null,
            "justify_items": null,
            "left": null,
            "margin": null,
            "max_height": null,
            "max_width": null,
            "min_height": null,
            "min_width": null,
            "object_fit": null,
            "object_position": null,
            "order": null,
            "overflow": null,
            "overflow_x": null,
            "overflow_y": null,
            "padding": null,
            "right": null,
            "top": null,
            "visibility": null,
            "width": null
          }
        },
        "1efef7ed3bda4d0fb7ce68576a92a823": {
          "model_module": "@jupyter-widgets/controls",
          "model_name": "DescriptionStyleModel",
          "model_module_version": "1.5.0",
          "state": {
            "_model_module": "@jupyter-widgets/controls",
            "_model_module_version": "1.5.0",
            "_model_name": "DescriptionStyleModel",
            "_view_count": null,
            "_view_module": "@jupyter-widgets/base",
            "_view_module_version": "1.2.0",
            "_view_name": "StyleView",
            "description_width": ""
          }
        },
        "7f5410f2c8a244efaf16c99d248cfe48": {
          "model_module": "@jupyter-widgets/base",
          "model_name": "LayoutModel",
          "model_module_version": "1.2.0",
          "state": {
            "_model_module": "@jupyter-widgets/base",
            "_model_module_version": "1.2.0",
            "_model_name": "LayoutModel",
            "_view_count": null,
            "_view_module": "@jupyter-widgets/base",
            "_view_module_version": "1.2.0",
            "_view_name": "LayoutView",
            "align_content": null,
            "align_items": null,
            "align_self": null,
            "border": null,
            "bottom": null,
            "display": null,
            "flex": null,
            "flex_flow": null,
            "grid_area": null,
            "grid_auto_columns": null,
            "grid_auto_flow": null,
            "grid_auto_rows": null,
            "grid_column": null,
            "grid_gap": null,
            "grid_row": null,
            "grid_template_areas": null,
            "grid_template_columns": null,
            "grid_template_rows": null,
            "height": null,
            "justify_content": null,
            "justify_items": null,
            "left": null,
            "margin": null,
            "max_height": null,
            "max_width": null,
            "min_height": null,
            "min_width": null,
            "object_fit": null,
            "object_position": null,
            "order": null,
            "overflow": null,
            "overflow_x": null,
            "overflow_y": null,
            "padding": null,
            "right": null,
            "top": null,
            "visibility": null,
            "width": null
          }
        },
        "7373b1728c8f469791567903f0dda03d": {
          "model_module": "@jupyter-widgets/controls",
          "model_name": "ProgressStyleModel",
          "model_module_version": "1.5.0",
          "state": {
            "_model_module": "@jupyter-widgets/controls",
            "_model_module_version": "1.5.0",
            "_model_name": "ProgressStyleModel",
            "_view_count": null,
            "_view_module": "@jupyter-widgets/base",
            "_view_module_version": "1.2.0",
            "_view_name": "StyleView",
            "bar_color": null,
            "description_width": ""
          }
        },
        "d9bf8f3e140c4aa8b0cec0408ae674bd": {
          "model_module": "@jupyter-widgets/base",
          "model_name": "LayoutModel",
          "model_module_version": "1.2.0",
          "state": {
            "_model_module": "@jupyter-widgets/base",
            "_model_module_version": "1.2.0",
            "_model_name": "LayoutModel",
            "_view_count": null,
            "_view_module": "@jupyter-widgets/base",
            "_view_module_version": "1.2.0",
            "_view_name": "LayoutView",
            "align_content": null,
            "align_items": null,
            "align_self": null,
            "border": null,
            "bottom": null,
            "display": null,
            "flex": null,
            "flex_flow": null,
            "grid_area": null,
            "grid_auto_columns": null,
            "grid_auto_flow": null,
            "grid_auto_rows": null,
            "grid_column": null,
            "grid_gap": null,
            "grid_row": null,
            "grid_template_areas": null,
            "grid_template_columns": null,
            "grid_template_rows": null,
            "height": null,
            "justify_content": null,
            "justify_items": null,
            "left": null,
            "margin": null,
            "max_height": null,
            "max_width": null,
            "min_height": null,
            "min_width": null,
            "object_fit": null,
            "object_position": null,
            "order": null,
            "overflow": null,
            "overflow_x": null,
            "overflow_y": null,
            "padding": null,
            "right": null,
            "top": null,
            "visibility": null,
            "width": null
          }
        },
        "d3633b9ca9f0486483bf79bd18ca4b7e": {
          "model_module": "@jupyter-widgets/controls",
          "model_name": "DescriptionStyleModel",
          "model_module_version": "1.5.0",
          "state": {
            "_model_module": "@jupyter-widgets/controls",
            "_model_module_version": "1.5.0",
            "_model_name": "DescriptionStyleModel",
            "_view_count": null,
            "_view_module": "@jupyter-widgets/base",
            "_view_module_version": "1.2.0",
            "_view_name": "StyleView",
            "description_width": ""
          }
        },
        "3827d4f061fb44c3a740baea350eae79": {
          "model_module": "@jupyter-widgets/controls",
          "model_name": "HBoxModel",
          "model_module_version": "1.5.0",
          "state": {
            "_dom_classes": [],
            "_model_module": "@jupyter-widgets/controls",
            "_model_module_version": "1.5.0",
            "_model_name": "HBoxModel",
            "_view_count": null,
            "_view_module": "@jupyter-widgets/controls",
            "_view_module_version": "1.5.0",
            "_view_name": "HBoxView",
            "box_style": "",
            "children": [
              "IPY_MODEL_611d2a97c6e943e185cabd4b8d2def30",
              "IPY_MODEL_d2bc3b3e42ab4084a02615c172ed4b99",
              "IPY_MODEL_90574a9e721e4602ab7eaa691dc92f43"
            ],
            "layout": "IPY_MODEL_e64ae4dcd23045948c62b74c9b9b120d"
          }
        },
        "611d2a97c6e943e185cabd4b8d2def30": {
          "model_module": "@jupyter-widgets/controls",
          "model_name": "HTMLModel",
          "model_module_version": "1.5.0",
          "state": {
            "_dom_classes": [],
            "_model_module": "@jupyter-widgets/controls",
            "_model_module_version": "1.5.0",
            "_model_name": "HTMLModel",
            "_view_count": null,
            "_view_module": "@jupyter-widgets/controls",
            "_view_module_version": "1.5.0",
            "_view_name": "HTMLView",
            "description": "",
            "description_tooltip": null,
            "layout": "IPY_MODEL_9ad5dd95a9e145328c7e8db1309a80dc",
            "placeholder": "​",
            "style": "IPY_MODEL_c6bffdef81f840d7b124aaea280ac5dc",
            "value": "pytorch_model.bin: 100%"
          }
        },
        "d2bc3b3e42ab4084a02615c172ed4b99": {
          "model_module": "@jupyter-widgets/controls",
          "model_name": "FloatProgressModel",
          "model_module_version": "1.5.0",
          "state": {
            "_dom_classes": [],
            "_model_module": "@jupyter-widgets/controls",
            "_model_module_version": "1.5.0",
            "_model_name": "FloatProgressModel",
            "_view_count": null,
            "_view_module": "@jupyter-widgets/controls",
            "_view_module_version": "1.5.0",
            "_view_name": "ProgressView",
            "bar_style": "success",
            "description": "",
            "description_tooltip": null,
            "layout": "IPY_MODEL_176e783ef82d4cc5827d092be06285f6",
            "max": 133506609,
            "min": 0,
            "orientation": "horizontal",
            "style": "IPY_MODEL_c54dec3fc8fb46748f2ad51a7241bdb7",
            "value": 133506609
          }
        },
        "90574a9e721e4602ab7eaa691dc92f43": {
          "model_module": "@jupyter-widgets/controls",
          "model_name": "HTMLModel",
          "model_module_version": "1.5.0",
          "state": {
            "_dom_classes": [],
            "_model_module": "@jupyter-widgets/controls",
            "_model_module_version": "1.5.0",
            "_model_name": "HTMLModel",
            "_view_count": null,
            "_view_module": "@jupyter-widgets/controls",
            "_view_module_version": "1.5.0",
            "_view_name": "HTMLView",
            "description": "",
            "description_tooltip": null,
            "layout": "IPY_MODEL_6b29be4ac3ae4e4a842bb47c74169f6b",
            "placeholder": "​",
            "style": "IPY_MODEL_65be346d365a417ba6295b5624a6f5b8",
            "value": " 134M/134M [00:00&lt;00:00, 138MB/s]"
          }
        },
        "e64ae4dcd23045948c62b74c9b9b120d": {
          "model_module": "@jupyter-widgets/base",
          "model_name": "LayoutModel",
          "model_module_version": "1.2.0",
          "state": {
            "_model_module": "@jupyter-widgets/base",
            "_model_module_version": "1.2.0",
            "_model_name": "LayoutModel",
            "_view_count": null,
            "_view_module": "@jupyter-widgets/base",
            "_view_module_version": "1.2.0",
            "_view_name": "LayoutView",
            "align_content": null,
            "align_items": null,
            "align_self": null,
            "border": null,
            "bottom": null,
            "display": null,
            "flex": null,
            "flex_flow": null,
            "grid_area": null,
            "grid_auto_columns": null,
            "grid_auto_flow": null,
            "grid_auto_rows": null,
            "grid_column": null,
            "grid_gap": null,
            "grid_row": null,
            "grid_template_areas": null,
            "grid_template_columns": null,
            "grid_template_rows": null,
            "height": null,
            "justify_content": null,
            "justify_items": null,
            "left": null,
            "margin": null,
            "max_height": null,
            "max_width": null,
            "min_height": null,
            "min_width": null,
            "object_fit": null,
            "object_position": null,
            "order": null,
            "overflow": null,
            "overflow_x": null,
            "overflow_y": null,
            "padding": null,
            "right": null,
            "top": null,
            "visibility": null,
            "width": null
          }
        },
        "9ad5dd95a9e145328c7e8db1309a80dc": {
          "model_module": "@jupyter-widgets/base",
          "model_name": "LayoutModel",
          "model_module_version": "1.2.0",
          "state": {
            "_model_module": "@jupyter-widgets/base",
            "_model_module_version": "1.2.0",
            "_model_name": "LayoutModel",
            "_view_count": null,
            "_view_module": "@jupyter-widgets/base",
            "_view_module_version": "1.2.0",
            "_view_name": "LayoutView",
            "align_content": null,
            "align_items": null,
            "align_self": null,
            "border": null,
            "bottom": null,
            "display": null,
            "flex": null,
            "flex_flow": null,
            "grid_area": null,
            "grid_auto_columns": null,
            "grid_auto_flow": null,
            "grid_auto_rows": null,
            "grid_column": null,
            "grid_gap": null,
            "grid_row": null,
            "grid_template_areas": null,
            "grid_template_columns": null,
            "grid_template_rows": null,
            "height": null,
            "justify_content": null,
            "justify_items": null,
            "left": null,
            "margin": null,
            "max_height": null,
            "max_width": null,
            "min_height": null,
            "min_width": null,
            "object_fit": null,
            "object_position": null,
            "order": null,
            "overflow": null,
            "overflow_x": null,
            "overflow_y": null,
            "padding": null,
            "right": null,
            "top": null,
            "visibility": null,
            "width": null
          }
        },
        "c6bffdef81f840d7b124aaea280ac5dc": {
          "model_module": "@jupyter-widgets/controls",
          "model_name": "DescriptionStyleModel",
          "model_module_version": "1.5.0",
          "state": {
            "_model_module": "@jupyter-widgets/controls",
            "_model_module_version": "1.5.0",
            "_model_name": "DescriptionStyleModel",
            "_view_count": null,
            "_view_module": "@jupyter-widgets/base",
            "_view_module_version": "1.2.0",
            "_view_name": "StyleView",
            "description_width": ""
          }
        },
        "176e783ef82d4cc5827d092be06285f6": {
          "model_module": "@jupyter-widgets/base",
          "model_name": "LayoutModel",
          "model_module_version": "1.2.0",
          "state": {
            "_model_module": "@jupyter-widgets/base",
            "_model_module_version": "1.2.0",
            "_model_name": "LayoutModel",
            "_view_count": null,
            "_view_module": "@jupyter-widgets/base",
            "_view_module_version": "1.2.0",
            "_view_name": "LayoutView",
            "align_content": null,
            "align_items": null,
            "align_self": null,
            "border": null,
            "bottom": null,
            "display": null,
            "flex": null,
            "flex_flow": null,
            "grid_area": null,
            "grid_auto_columns": null,
            "grid_auto_flow": null,
            "grid_auto_rows": null,
            "grid_column": null,
            "grid_gap": null,
            "grid_row": null,
            "grid_template_areas": null,
            "grid_template_columns": null,
            "grid_template_rows": null,
            "height": null,
            "justify_content": null,
            "justify_items": null,
            "left": null,
            "margin": null,
            "max_height": null,
            "max_width": null,
            "min_height": null,
            "min_width": null,
            "object_fit": null,
            "object_position": null,
            "order": null,
            "overflow": null,
            "overflow_x": null,
            "overflow_y": null,
            "padding": null,
            "right": null,
            "top": null,
            "visibility": null,
            "width": null
          }
        },
        "c54dec3fc8fb46748f2ad51a7241bdb7": {
          "model_module": "@jupyter-widgets/controls",
          "model_name": "ProgressStyleModel",
          "model_module_version": "1.5.0",
          "state": {
            "_model_module": "@jupyter-widgets/controls",
            "_model_module_version": "1.5.0",
            "_model_name": "ProgressStyleModel",
            "_view_count": null,
            "_view_module": "@jupyter-widgets/base",
            "_view_module_version": "1.2.0",
            "_view_name": "StyleView",
            "bar_color": null,
            "description_width": ""
          }
        },
        "6b29be4ac3ae4e4a842bb47c74169f6b": {
          "model_module": "@jupyter-widgets/base",
          "model_name": "LayoutModel",
          "model_module_version": "1.2.0",
          "state": {
            "_model_module": "@jupyter-widgets/base",
            "_model_module_version": "1.2.0",
            "_model_name": "LayoutModel",
            "_view_count": null,
            "_view_module": "@jupyter-widgets/base",
            "_view_module_version": "1.2.0",
            "_view_name": "LayoutView",
            "align_content": null,
            "align_items": null,
            "align_self": null,
            "border": null,
            "bottom": null,
            "display": null,
            "flex": null,
            "flex_flow": null,
            "grid_area": null,
            "grid_auto_columns": null,
            "grid_auto_flow": null,
            "grid_auto_rows": null,
            "grid_column": null,
            "grid_gap": null,
            "grid_row": null,
            "grid_template_areas": null,
            "grid_template_columns": null,
            "grid_template_rows": null,
            "height": null,
            "justify_content": null,
            "justify_items": null,
            "left": null,
            "margin": null,
            "max_height": null,
            "max_width": null,
            "min_height": null,
            "min_width": null,
            "object_fit": null,
            "object_position": null,
            "order": null,
            "overflow": null,
            "overflow_x": null,
            "overflow_y": null,
            "padding": null,
            "right": null,
            "top": null,
            "visibility": null,
            "width": null
          }
        },
        "65be346d365a417ba6295b5624a6f5b8": {
          "model_module": "@jupyter-widgets/controls",
          "model_name": "DescriptionStyleModel",
          "model_module_version": "1.5.0",
          "state": {
            "_model_module": "@jupyter-widgets/controls",
            "_model_module_version": "1.5.0",
            "_model_name": "DescriptionStyleModel",
            "_view_count": null,
            "_view_module": "@jupyter-widgets/base",
            "_view_module_version": "1.2.0",
            "_view_name": "StyleView",
            "description_width": ""
          }
        },
        "2ba7399750014d2f95793fc6e31ad6bb": {
          "model_module": "@jupyter-widgets/controls",
          "model_name": "HBoxModel",
          "model_module_version": "1.5.0",
          "state": {
            "_dom_classes": [],
            "_model_module": "@jupyter-widgets/controls",
            "_model_module_version": "1.5.0",
            "_model_name": "HBoxModel",
            "_view_count": null,
            "_view_module": "@jupyter-widgets/controls",
            "_view_module_version": "1.5.0",
            "_view_name": "HBoxView",
            "box_style": "",
            "children": [
              "IPY_MODEL_a243fc7760f14b1e951f54ebd2121e51",
              "IPY_MODEL_d474aa063e0b4ab8b8239917ecf4b247",
              "IPY_MODEL_ec575b3fc62843bf96fe425c810d19e9"
            ],
            "layout": "IPY_MODEL_65ea3d8497c842dab98d074718f332bb"
          }
        },
        "a243fc7760f14b1e951f54ebd2121e51": {
          "model_module": "@jupyter-widgets/controls",
          "model_name": "HTMLModel",
          "model_module_version": "1.5.0",
          "state": {
            "_dom_classes": [],
            "_model_module": "@jupyter-widgets/controls",
            "_model_module_version": "1.5.0",
            "_model_name": "HTMLModel",
            "_view_count": null,
            "_view_module": "@jupyter-widgets/controls",
            "_view_module_version": "1.5.0",
            "_view_name": "HTMLView",
            "description": "",
            "description_tooltip": null,
            "layout": "IPY_MODEL_296118c3eef84f109e02e54fd0fae9c4",
            "placeholder": "​",
            "style": "IPY_MODEL_0d19bfdcb54541b58ce500b9a478ae89",
            "value": "sentence_bert_config.json: 100%"
          }
        },
        "d474aa063e0b4ab8b8239917ecf4b247": {
          "model_module": "@jupyter-widgets/controls",
          "model_name": "FloatProgressModel",
          "model_module_version": "1.5.0",
          "state": {
            "_dom_classes": [],
            "_model_module": "@jupyter-widgets/controls",
            "_model_module_version": "1.5.0",
            "_model_name": "FloatProgressModel",
            "_view_count": null,
            "_view_module": "@jupyter-widgets/controls",
            "_view_module_version": "1.5.0",
            "_view_name": "ProgressView",
            "bar_style": "success",
            "description": "",
            "description_tooltip": null,
            "layout": "IPY_MODEL_91942e23e6074302aa2a6329b6231d57",
            "max": 53,
            "min": 0,
            "orientation": "horizontal",
            "style": "IPY_MODEL_619e3529e37544eea769dfa787e50303",
            "value": 53
          }
        },
        "ec575b3fc62843bf96fe425c810d19e9": {
          "model_module": "@jupyter-widgets/controls",
          "model_name": "HTMLModel",
          "model_module_version": "1.5.0",
          "state": {
            "_dom_classes": [],
            "_model_module": "@jupyter-widgets/controls",
            "_model_module_version": "1.5.0",
            "_model_name": "HTMLModel",
            "_view_count": null,
            "_view_module": "@jupyter-widgets/controls",
            "_view_module_version": "1.5.0",
            "_view_name": "HTMLView",
            "description": "",
            "description_tooltip": null,
            "layout": "IPY_MODEL_6fd430fd19964e52aaa94b45618d49f5",
            "placeholder": "​",
            "style": "IPY_MODEL_c0e08a1033d344e39ed7cf013bd3026d",
            "value": " 53.0/53.0 [00:00&lt;00:00, 3.34kB/s]"
          }
        },
        "65ea3d8497c842dab98d074718f332bb": {
          "model_module": "@jupyter-widgets/base",
          "model_name": "LayoutModel",
          "model_module_version": "1.2.0",
          "state": {
            "_model_module": "@jupyter-widgets/base",
            "_model_module_version": "1.2.0",
            "_model_name": "LayoutModel",
            "_view_count": null,
            "_view_module": "@jupyter-widgets/base",
            "_view_module_version": "1.2.0",
            "_view_name": "LayoutView",
            "align_content": null,
            "align_items": null,
            "align_self": null,
            "border": null,
            "bottom": null,
            "display": null,
            "flex": null,
            "flex_flow": null,
            "grid_area": null,
            "grid_auto_columns": null,
            "grid_auto_flow": null,
            "grid_auto_rows": null,
            "grid_column": null,
            "grid_gap": null,
            "grid_row": null,
            "grid_template_areas": null,
            "grid_template_columns": null,
            "grid_template_rows": null,
            "height": null,
            "justify_content": null,
            "justify_items": null,
            "left": null,
            "margin": null,
            "max_height": null,
            "max_width": null,
            "min_height": null,
            "min_width": null,
            "object_fit": null,
            "object_position": null,
            "order": null,
            "overflow": null,
            "overflow_x": null,
            "overflow_y": null,
            "padding": null,
            "right": null,
            "top": null,
            "visibility": null,
            "width": null
          }
        },
        "296118c3eef84f109e02e54fd0fae9c4": {
          "model_module": "@jupyter-widgets/base",
          "model_name": "LayoutModel",
          "model_module_version": "1.2.0",
          "state": {
            "_model_module": "@jupyter-widgets/base",
            "_model_module_version": "1.2.0",
            "_model_name": "LayoutModel",
            "_view_count": null,
            "_view_module": "@jupyter-widgets/base",
            "_view_module_version": "1.2.0",
            "_view_name": "LayoutView",
            "align_content": null,
            "align_items": null,
            "align_self": null,
            "border": null,
            "bottom": null,
            "display": null,
            "flex": null,
            "flex_flow": null,
            "grid_area": null,
            "grid_auto_columns": null,
            "grid_auto_flow": null,
            "grid_auto_rows": null,
            "grid_column": null,
            "grid_gap": null,
            "grid_row": null,
            "grid_template_areas": null,
            "grid_template_columns": null,
            "grid_template_rows": null,
            "height": null,
            "justify_content": null,
            "justify_items": null,
            "left": null,
            "margin": null,
            "max_height": null,
            "max_width": null,
            "min_height": null,
            "min_width": null,
            "object_fit": null,
            "object_position": null,
            "order": null,
            "overflow": null,
            "overflow_x": null,
            "overflow_y": null,
            "padding": null,
            "right": null,
            "top": null,
            "visibility": null,
            "width": null
          }
        },
        "0d19bfdcb54541b58ce500b9a478ae89": {
          "model_module": "@jupyter-widgets/controls",
          "model_name": "DescriptionStyleModel",
          "model_module_version": "1.5.0",
          "state": {
            "_model_module": "@jupyter-widgets/controls",
            "_model_module_version": "1.5.0",
            "_model_name": "DescriptionStyleModel",
            "_view_count": null,
            "_view_module": "@jupyter-widgets/base",
            "_view_module_version": "1.2.0",
            "_view_name": "StyleView",
            "description_width": ""
          }
        },
        "91942e23e6074302aa2a6329b6231d57": {
          "model_module": "@jupyter-widgets/base",
          "model_name": "LayoutModel",
          "model_module_version": "1.2.0",
          "state": {
            "_model_module": "@jupyter-widgets/base",
            "_model_module_version": "1.2.0",
            "_model_name": "LayoutModel",
            "_view_count": null,
            "_view_module": "@jupyter-widgets/base",
            "_view_module_version": "1.2.0",
            "_view_name": "LayoutView",
            "align_content": null,
            "align_items": null,
            "align_self": null,
            "border": null,
            "bottom": null,
            "display": null,
            "flex": null,
            "flex_flow": null,
            "grid_area": null,
            "grid_auto_columns": null,
            "grid_auto_flow": null,
            "grid_auto_rows": null,
            "grid_column": null,
            "grid_gap": null,
            "grid_row": null,
            "grid_template_areas": null,
            "grid_template_columns": null,
            "grid_template_rows": null,
            "height": null,
            "justify_content": null,
            "justify_items": null,
            "left": null,
            "margin": null,
            "max_height": null,
            "max_width": null,
            "min_height": null,
            "min_width": null,
            "object_fit": null,
            "object_position": null,
            "order": null,
            "overflow": null,
            "overflow_x": null,
            "overflow_y": null,
            "padding": null,
            "right": null,
            "top": null,
            "visibility": null,
            "width": null
          }
        },
        "619e3529e37544eea769dfa787e50303": {
          "model_module": "@jupyter-widgets/controls",
          "model_name": "ProgressStyleModel",
          "model_module_version": "1.5.0",
          "state": {
            "_model_module": "@jupyter-widgets/controls",
            "_model_module_version": "1.5.0",
            "_model_name": "ProgressStyleModel",
            "_view_count": null,
            "_view_module": "@jupyter-widgets/base",
            "_view_module_version": "1.2.0",
            "_view_name": "StyleView",
            "bar_color": null,
            "description_width": ""
          }
        },
        "6fd430fd19964e52aaa94b45618d49f5": {
          "model_module": "@jupyter-widgets/base",
          "model_name": "LayoutModel",
          "model_module_version": "1.2.0",
          "state": {
            "_model_module": "@jupyter-widgets/base",
            "_model_module_version": "1.2.0",
            "_model_name": "LayoutModel",
            "_view_count": null,
            "_view_module": "@jupyter-widgets/base",
            "_view_module_version": "1.2.0",
            "_view_name": "LayoutView",
            "align_content": null,
            "align_items": null,
            "align_self": null,
            "border": null,
            "bottom": null,
            "display": null,
            "flex": null,
            "flex_flow": null,
            "grid_area": null,
            "grid_auto_columns": null,
            "grid_auto_flow": null,
            "grid_auto_rows": null,
            "grid_column": null,
            "grid_gap": null,
            "grid_row": null,
            "grid_template_areas": null,
            "grid_template_columns": null,
            "grid_template_rows": null,
            "height": null,
            "justify_content": null,
            "justify_items": null,
            "left": null,
            "margin": null,
            "max_height": null,
            "max_width": null,
            "min_height": null,
            "min_width": null,
            "object_fit": null,
            "object_position": null,
            "order": null,
            "overflow": null,
            "overflow_x": null,
            "overflow_y": null,
            "padding": null,
            "right": null,
            "top": null,
            "visibility": null,
            "width": null
          }
        },
        "c0e08a1033d344e39ed7cf013bd3026d": {
          "model_module": "@jupyter-widgets/controls",
          "model_name": "DescriptionStyleModel",
          "model_module_version": "1.5.0",
          "state": {
            "_model_module": "@jupyter-widgets/controls",
            "_model_module_version": "1.5.0",
            "_model_name": "DescriptionStyleModel",
            "_view_count": null,
            "_view_module": "@jupyter-widgets/base",
            "_view_module_version": "1.2.0",
            "_view_name": "StyleView",
            "description_width": ""
          }
        },
        "bf7dcf25306440d09774bf90daf9c1fe": {
          "model_module": "@jupyter-widgets/controls",
          "model_name": "HBoxModel",
          "model_module_version": "1.5.0",
          "state": {
            "_dom_classes": [],
            "_model_module": "@jupyter-widgets/controls",
            "_model_module_version": "1.5.0",
            "_model_name": "HBoxModel",
            "_view_count": null,
            "_view_module": "@jupyter-widgets/controls",
            "_view_module_version": "1.5.0",
            "_view_name": "HBoxView",
            "box_style": "",
            "children": [
              "IPY_MODEL_f24d5b97715c4d7f9a8213448d60af1d",
              "IPY_MODEL_6568ba3a48cd4154b7caccb29a2c9496",
              "IPY_MODEL_7f3c8bbaa6f643cea6b5aced3a55bcfc"
            ],
            "layout": "IPY_MODEL_a4c9d719948e4ad684244d30d6e23691"
          }
        },
        "f24d5b97715c4d7f9a8213448d60af1d": {
          "model_module": "@jupyter-widgets/controls",
          "model_name": "HTMLModel",
          "model_module_version": "1.5.0",
          "state": {
            "_dom_classes": [],
            "_model_module": "@jupyter-widgets/controls",
            "_model_module_version": "1.5.0",
            "_model_name": "HTMLModel",
            "_view_count": null,
            "_view_module": "@jupyter-widgets/controls",
            "_view_module_version": "1.5.0",
            "_view_name": "HTMLView",
            "description": "",
            "description_tooltip": null,
            "layout": "IPY_MODEL_1b1c06d83b0447a8b9a534969d2cfcb1",
            "placeholder": "​",
            "style": "IPY_MODEL_4bfbd8442035411eb7d8cad8eca01356",
            "value": "special_tokens_map.json: 100%"
          }
        },
        "6568ba3a48cd4154b7caccb29a2c9496": {
          "model_module": "@jupyter-widgets/controls",
          "model_name": "FloatProgressModel",
          "model_module_version": "1.5.0",
          "state": {
            "_dom_classes": [],
            "_model_module": "@jupyter-widgets/controls",
            "_model_module_version": "1.5.0",
            "_model_name": "FloatProgressModel",
            "_view_count": null,
            "_view_module": "@jupyter-widgets/controls",
            "_view_module_version": "1.5.0",
            "_view_name": "ProgressView",
            "bar_style": "success",
            "description": "",
            "description_tooltip": null,
            "layout": "IPY_MODEL_669937ff472a46c8b1c4ad5cb3f302ad",
            "max": 112,
            "min": 0,
            "orientation": "horizontal",
            "style": "IPY_MODEL_0fb8d6a2050e46f4993fc66880fdab8c",
            "value": 112
          }
        },
        "7f3c8bbaa6f643cea6b5aced3a55bcfc": {
          "model_module": "@jupyter-widgets/controls",
          "model_name": "HTMLModel",
          "model_module_version": "1.5.0",
          "state": {
            "_dom_classes": [],
            "_model_module": "@jupyter-widgets/controls",
            "_model_module_version": "1.5.0",
            "_model_name": "HTMLModel",
            "_view_count": null,
            "_view_module": "@jupyter-widgets/controls",
            "_view_module_version": "1.5.0",
            "_view_name": "HTMLView",
            "description": "",
            "description_tooltip": null,
            "layout": "IPY_MODEL_07a77e6ede1a4373a9aa57e814c52026",
            "placeholder": "​",
            "style": "IPY_MODEL_1636acea879a412e99e934be389cec8d",
            "value": " 112/112 [00:00&lt;00:00, 9.45kB/s]"
          }
        },
        "a4c9d719948e4ad684244d30d6e23691": {
          "model_module": "@jupyter-widgets/base",
          "model_name": "LayoutModel",
          "model_module_version": "1.2.0",
          "state": {
            "_model_module": "@jupyter-widgets/base",
            "_model_module_version": "1.2.0",
            "_model_name": "LayoutModel",
            "_view_count": null,
            "_view_module": "@jupyter-widgets/base",
            "_view_module_version": "1.2.0",
            "_view_name": "LayoutView",
            "align_content": null,
            "align_items": null,
            "align_self": null,
            "border": null,
            "bottom": null,
            "display": null,
            "flex": null,
            "flex_flow": null,
            "grid_area": null,
            "grid_auto_columns": null,
            "grid_auto_flow": null,
            "grid_auto_rows": null,
            "grid_column": null,
            "grid_gap": null,
            "grid_row": null,
            "grid_template_areas": null,
            "grid_template_columns": null,
            "grid_template_rows": null,
            "height": null,
            "justify_content": null,
            "justify_items": null,
            "left": null,
            "margin": null,
            "max_height": null,
            "max_width": null,
            "min_height": null,
            "min_width": null,
            "object_fit": null,
            "object_position": null,
            "order": null,
            "overflow": null,
            "overflow_x": null,
            "overflow_y": null,
            "padding": null,
            "right": null,
            "top": null,
            "visibility": null,
            "width": null
          }
        },
        "1b1c06d83b0447a8b9a534969d2cfcb1": {
          "model_module": "@jupyter-widgets/base",
          "model_name": "LayoutModel",
          "model_module_version": "1.2.0",
          "state": {
            "_model_module": "@jupyter-widgets/base",
            "_model_module_version": "1.2.0",
            "_model_name": "LayoutModel",
            "_view_count": null,
            "_view_module": "@jupyter-widgets/base",
            "_view_module_version": "1.2.0",
            "_view_name": "LayoutView",
            "align_content": null,
            "align_items": null,
            "align_self": null,
            "border": null,
            "bottom": null,
            "display": null,
            "flex": null,
            "flex_flow": null,
            "grid_area": null,
            "grid_auto_columns": null,
            "grid_auto_flow": null,
            "grid_auto_rows": null,
            "grid_column": null,
            "grid_gap": null,
            "grid_row": null,
            "grid_template_areas": null,
            "grid_template_columns": null,
            "grid_template_rows": null,
            "height": null,
            "justify_content": null,
            "justify_items": null,
            "left": null,
            "margin": null,
            "max_height": null,
            "max_width": null,
            "min_height": null,
            "min_width": null,
            "object_fit": null,
            "object_position": null,
            "order": null,
            "overflow": null,
            "overflow_x": null,
            "overflow_y": null,
            "padding": null,
            "right": null,
            "top": null,
            "visibility": null,
            "width": null
          }
        },
        "4bfbd8442035411eb7d8cad8eca01356": {
          "model_module": "@jupyter-widgets/controls",
          "model_name": "DescriptionStyleModel",
          "model_module_version": "1.5.0",
          "state": {
            "_model_module": "@jupyter-widgets/controls",
            "_model_module_version": "1.5.0",
            "_model_name": "DescriptionStyleModel",
            "_view_count": null,
            "_view_module": "@jupyter-widgets/base",
            "_view_module_version": "1.2.0",
            "_view_name": "StyleView",
            "description_width": ""
          }
        },
        "669937ff472a46c8b1c4ad5cb3f302ad": {
          "model_module": "@jupyter-widgets/base",
          "model_name": "LayoutModel",
          "model_module_version": "1.2.0",
          "state": {
            "_model_module": "@jupyter-widgets/base",
            "_model_module_version": "1.2.0",
            "_model_name": "LayoutModel",
            "_view_count": null,
            "_view_module": "@jupyter-widgets/base",
            "_view_module_version": "1.2.0",
            "_view_name": "LayoutView",
            "align_content": null,
            "align_items": null,
            "align_self": null,
            "border": null,
            "bottom": null,
            "display": null,
            "flex": null,
            "flex_flow": null,
            "grid_area": null,
            "grid_auto_columns": null,
            "grid_auto_flow": null,
            "grid_auto_rows": null,
            "grid_column": null,
            "grid_gap": null,
            "grid_row": null,
            "grid_template_areas": null,
            "grid_template_columns": null,
            "grid_template_rows": null,
            "height": null,
            "justify_content": null,
            "justify_items": null,
            "left": null,
            "margin": null,
            "max_height": null,
            "max_width": null,
            "min_height": null,
            "min_width": null,
            "object_fit": null,
            "object_position": null,
            "order": null,
            "overflow": null,
            "overflow_x": null,
            "overflow_y": null,
            "padding": null,
            "right": null,
            "top": null,
            "visibility": null,
            "width": null
          }
        },
        "0fb8d6a2050e46f4993fc66880fdab8c": {
          "model_module": "@jupyter-widgets/controls",
          "model_name": "ProgressStyleModel",
          "model_module_version": "1.5.0",
          "state": {
            "_model_module": "@jupyter-widgets/controls",
            "_model_module_version": "1.5.0",
            "_model_name": "ProgressStyleModel",
            "_view_count": null,
            "_view_module": "@jupyter-widgets/base",
            "_view_module_version": "1.2.0",
            "_view_name": "StyleView",
            "bar_color": null,
            "description_width": ""
          }
        },
        "07a77e6ede1a4373a9aa57e814c52026": {
          "model_module": "@jupyter-widgets/base",
          "model_name": "LayoutModel",
          "model_module_version": "1.2.0",
          "state": {
            "_model_module": "@jupyter-widgets/base",
            "_model_module_version": "1.2.0",
            "_model_name": "LayoutModel",
            "_view_count": null,
            "_view_module": "@jupyter-widgets/base",
            "_view_module_version": "1.2.0",
            "_view_name": "LayoutView",
            "align_content": null,
            "align_items": null,
            "align_self": null,
            "border": null,
            "bottom": null,
            "display": null,
            "flex": null,
            "flex_flow": null,
            "grid_area": null,
            "grid_auto_columns": null,
            "grid_auto_flow": null,
            "grid_auto_rows": null,
            "grid_column": null,
            "grid_gap": null,
            "grid_row": null,
            "grid_template_areas": null,
            "grid_template_columns": null,
            "grid_template_rows": null,
            "height": null,
            "justify_content": null,
            "justify_items": null,
            "left": null,
            "margin": null,
            "max_height": null,
            "max_width": null,
            "min_height": null,
            "min_width": null,
            "object_fit": null,
            "object_position": null,
            "order": null,
            "overflow": null,
            "overflow_x": null,
            "overflow_y": null,
            "padding": null,
            "right": null,
            "top": null,
            "visibility": null,
            "width": null
          }
        },
        "1636acea879a412e99e934be389cec8d": {
          "model_module": "@jupyter-widgets/controls",
          "model_name": "DescriptionStyleModel",
          "model_module_version": "1.5.0",
          "state": {
            "_model_module": "@jupyter-widgets/controls",
            "_model_module_version": "1.5.0",
            "_model_name": "DescriptionStyleModel",
            "_view_count": null,
            "_view_module": "@jupyter-widgets/base",
            "_view_module_version": "1.2.0",
            "_view_name": "StyleView",
            "description_width": ""
          }
        },
        "0ebe41c8324b4c60b04743b0f3f57428": {
          "model_module": "@jupyter-widgets/controls",
          "model_name": "HBoxModel",
          "model_module_version": "1.5.0",
          "state": {
            "_dom_classes": [],
            "_model_module": "@jupyter-widgets/controls",
            "_model_module_version": "1.5.0",
            "_model_name": "HBoxModel",
            "_view_count": null,
            "_view_module": "@jupyter-widgets/controls",
            "_view_module_version": "1.5.0",
            "_view_name": "HBoxView",
            "box_style": "",
            "children": [
              "IPY_MODEL_f732dd2b6e5f4679953e369c3d33fabd",
              "IPY_MODEL_92acc10976d24074b9ae184147fcae7b",
              "IPY_MODEL_8d168acd6c17483ba8d55a8ae873c7a8"
            ],
            "layout": "IPY_MODEL_306011f3702d45fd8d60583811d3fbba"
          }
        },
        "f732dd2b6e5f4679953e369c3d33fabd": {
          "model_module": "@jupyter-widgets/controls",
          "model_name": "HTMLModel",
          "model_module_version": "1.5.0",
          "state": {
            "_dom_classes": [],
            "_model_module": "@jupyter-widgets/controls",
            "_model_module_version": "1.5.0",
            "_model_name": "HTMLModel",
            "_view_count": null,
            "_view_module": "@jupyter-widgets/controls",
            "_view_module_version": "1.5.0",
            "_view_name": "HTMLView",
            "description": "",
            "description_tooltip": null,
            "layout": "IPY_MODEL_d69f4efad900431a9e20bb8861582b46",
            "placeholder": "​",
            "style": "IPY_MODEL_4a59385f1ff345218b874c4d4692117d",
            "value": "tokenizer.json: 100%"
          }
        },
        "92acc10976d24074b9ae184147fcae7b": {
          "model_module": "@jupyter-widgets/controls",
          "model_name": "FloatProgressModel",
          "model_module_version": "1.5.0",
          "state": {
            "_dom_classes": [],
            "_model_module": "@jupyter-widgets/controls",
            "_model_module_version": "1.5.0",
            "_model_name": "FloatProgressModel",
            "_view_count": null,
            "_view_module": "@jupyter-widgets/controls",
            "_view_module_version": "1.5.0",
            "_view_name": "ProgressView",
            "bar_style": "success",
            "description": "",
            "description_tooltip": null,
            "layout": "IPY_MODEL_b079b8a5e80d46c0b0ab4d44cc101e93",
            "max": 466247,
            "min": 0,
            "orientation": "horizontal",
            "style": "IPY_MODEL_777122e281ca4544b4b4f8d6f0cd3f10",
            "value": 466247
          }
        },
        "8d168acd6c17483ba8d55a8ae873c7a8": {
          "model_module": "@jupyter-widgets/controls",
          "model_name": "HTMLModel",
          "model_module_version": "1.5.0",
          "state": {
            "_dom_classes": [],
            "_model_module": "@jupyter-widgets/controls",
            "_model_module_version": "1.5.0",
            "_model_name": "HTMLModel",
            "_view_count": null,
            "_view_module": "@jupyter-widgets/controls",
            "_view_module_version": "1.5.0",
            "_view_name": "HTMLView",
            "description": "",
            "description_tooltip": null,
            "layout": "IPY_MODEL_1f6a3b34c9ae462684389b2ef494edbc",
            "placeholder": "​",
            "style": "IPY_MODEL_cc217b959987404580106accd733517b",
            "value": " 466k/466k [00:00&lt;00:00, 17.9MB/s]"
          }
        },
        "306011f3702d45fd8d60583811d3fbba": {
          "model_module": "@jupyter-widgets/base",
          "model_name": "LayoutModel",
          "model_module_version": "1.2.0",
          "state": {
            "_model_module": "@jupyter-widgets/base",
            "_model_module_version": "1.2.0",
            "_model_name": "LayoutModel",
            "_view_count": null,
            "_view_module": "@jupyter-widgets/base",
            "_view_module_version": "1.2.0",
            "_view_name": "LayoutView",
            "align_content": null,
            "align_items": null,
            "align_self": null,
            "border": null,
            "bottom": null,
            "display": null,
            "flex": null,
            "flex_flow": null,
            "grid_area": null,
            "grid_auto_columns": null,
            "grid_auto_flow": null,
            "grid_auto_rows": null,
            "grid_column": null,
            "grid_gap": null,
            "grid_row": null,
            "grid_template_areas": null,
            "grid_template_columns": null,
            "grid_template_rows": null,
            "height": null,
            "justify_content": null,
            "justify_items": null,
            "left": null,
            "margin": null,
            "max_height": null,
            "max_width": null,
            "min_height": null,
            "min_width": null,
            "object_fit": null,
            "object_position": null,
            "order": null,
            "overflow": null,
            "overflow_x": null,
            "overflow_y": null,
            "padding": null,
            "right": null,
            "top": null,
            "visibility": null,
            "width": null
          }
        },
        "d69f4efad900431a9e20bb8861582b46": {
          "model_module": "@jupyter-widgets/base",
          "model_name": "LayoutModel",
          "model_module_version": "1.2.0",
          "state": {
            "_model_module": "@jupyter-widgets/base",
            "_model_module_version": "1.2.0",
            "_model_name": "LayoutModel",
            "_view_count": null,
            "_view_module": "@jupyter-widgets/base",
            "_view_module_version": "1.2.0",
            "_view_name": "LayoutView",
            "align_content": null,
            "align_items": null,
            "align_self": null,
            "border": null,
            "bottom": null,
            "display": null,
            "flex": null,
            "flex_flow": null,
            "grid_area": null,
            "grid_auto_columns": null,
            "grid_auto_flow": null,
            "grid_auto_rows": null,
            "grid_column": null,
            "grid_gap": null,
            "grid_row": null,
            "grid_template_areas": null,
            "grid_template_columns": null,
            "grid_template_rows": null,
            "height": null,
            "justify_content": null,
            "justify_items": null,
            "left": null,
            "margin": null,
            "max_height": null,
            "max_width": null,
            "min_height": null,
            "min_width": null,
            "object_fit": null,
            "object_position": null,
            "order": null,
            "overflow": null,
            "overflow_x": null,
            "overflow_y": null,
            "padding": null,
            "right": null,
            "top": null,
            "visibility": null,
            "width": null
          }
        },
        "4a59385f1ff345218b874c4d4692117d": {
          "model_module": "@jupyter-widgets/controls",
          "model_name": "DescriptionStyleModel",
          "model_module_version": "1.5.0",
          "state": {
            "_model_module": "@jupyter-widgets/controls",
            "_model_module_version": "1.5.0",
            "_model_name": "DescriptionStyleModel",
            "_view_count": null,
            "_view_module": "@jupyter-widgets/base",
            "_view_module_version": "1.2.0",
            "_view_name": "StyleView",
            "description_width": ""
          }
        },
        "b079b8a5e80d46c0b0ab4d44cc101e93": {
          "model_module": "@jupyter-widgets/base",
          "model_name": "LayoutModel",
          "model_module_version": "1.2.0",
          "state": {
            "_model_module": "@jupyter-widgets/base",
            "_model_module_version": "1.2.0",
            "_model_name": "LayoutModel",
            "_view_count": null,
            "_view_module": "@jupyter-widgets/base",
            "_view_module_version": "1.2.0",
            "_view_name": "LayoutView",
            "align_content": null,
            "align_items": null,
            "align_self": null,
            "border": null,
            "bottom": null,
            "display": null,
            "flex": null,
            "flex_flow": null,
            "grid_area": null,
            "grid_auto_columns": null,
            "grid_auto_flow": null,
            "grid_auto_rows": null,
            "grid_column": null,
            "grid_gap": null,
            "grid_row": null,
            "grid_template_areas": null,
            "grid_template_columns": null,
            "grid_template_rows": null,
            "height": null,
            "justify_content": null,
            "justify_items": null,
            "left": null,
            "margin": null,
            "max_height": null,
            "max_width": null,
            "min_height": null,
            "min_width": null,
            "object_fit": null,
            "object_position": null,
            "order": null,
            "overflow": null,
            "overflow_x": null,
            "overflow_y": null,
            "padding": null,
            "right": null,
            "top": null,
            "visibility": null,
            "width": null
          }
        },
        "777122e281ca4544b4b4f8d6f0cd3f10": {
          "model_module": "@jupyter-widgets/controls",
          "model_name": "ProgressStyleModel",
          "model_module_version": "1.5.0",
          "state": {
            "_model_module": "@jupyter-widgets/controls",
            "_model_module_version": "1.5.0",
            "_model_name": "ProgressStyleModel",
            "_view_count": null,
            "_view_module": "@jupyter-widgets/base",
            "_view_module_version": "1.2.0",
            "_view_name": "StyleView",
            "bar_color": null,
            "description_width": ""
          }
        },
        "1f6a3b34c9ae462684389b2ef494edbc": {
          "model_module": "@jupyter-widgets/base",
          "model_name": "LayoutModel",
          "model_module_version": "1.2.0",
          "state": {
            "_model_module": "@jupyter-widgets/base",
            "_model_module_version": "1.2.0",
            "_model_name": "LayoutModel",
            "_view_count": null,
            "_view_module": "@jupyter-widgets/base",
            "_view_module_version": "1.2.0",
            "_view_name": "LayoutView",
            "align_content": null,
            "align_items": null,
            "align_self": null,
            "border": null,
            "bottom": null,
            "display": null,
            "flex": null,
            "flex_flow": null,
            "grid_area": null,
            "grid_auto_columns": null,
            "grid_auto_flow": null,
            "grid_auto_rows": null,
            "grid_column": null,
            "grid_gap": null,
            "grid_row": null,
            "grid_template_areas": null,
            "grid_template_columns": null,
            "grid_template_rows": null,
            "height": null,
            "justify_content": null,
            "justify_items": null,
            "left": null,
            "margin": null,
            "max_height": null,
            "max_width": null,
            "min_height": null,
            "min_width": null,
            "object_fit": null,
            "object_position": null,
            "order": null,
            "overflow": null,
            "overflow_x": null,
            "overflow_y": null,
            "padding": null,
            "right": null,
            "top": null,
            "visibility": null,
            "width": null
          }
        },
        "cc217b959987404580106accd733517b": {
          "model_module": "@jupyter-widgets/controls",
          "model_name": "DescriptionStyleModel",
          "model_module_version": "1.5.0",
          "state": {
            "_model_module": "@jupyter-widgets/controls",
            "_model_module_version": "1.5.0",
            "_model_name": "DescriptionStyleModel",
            "_view_count": null,
            "_view_module": "@jupyter-widgets/base",
            "_view_module_version": "1.2.0",
            "_view_name": "StyleView",
            "description_width": ""
          }
        },
        "717e9850a8b44e9083ad6b2892479c9b": {
          "model_module": "@jupyter-widgets/controls",
          "model_name": "HBoxModel",
          "model_module_version": "1.5.0",
          "state": {
            "_dom_classes": [],
            "_model_module": "@jupyter-widgets/controls",
            "_model_module_version": "1.5.0",
            "_model_name": "HBoxModel",
            "_view_count": null,
            "_view_module": "@jupyter-widgets/controls",
            "_view_module_version": "1.5.0",
            "_view_name": "HBoxView",
            "box_style": "",
            "children": [
              "IPY_MODEL_348ef76cc66f46f5b2ddb46e3ee143aa",
              "IPY_MODEL_719e792cacd34c679154f10d8f5e066c",
              "IPY_MODEL_f7b751ff24a148d5a8750e7b72547c98"
            ],
            "layout": "IPY_MODEL_eacc5c90e45f4c49b6ed11e312673ead"
          }
        },
        "348ef76cc66f46f5b2ddb46e3ee143aa": {
          "model_module": "@jupyter-widgets/controls",
          "model_name": "HTMLModel",
          "model_module_version": "1.5.0",
          "state": {
            "_dom_classes": [],
            "_model_module": "@jupyter-widgets/controls",
            "_model_module_version": "1.5.0",
            "_model_name": "HTMLModel",
            "_view_count": null,
            "_view_module": "@jupyter-widgets/controls",
            "_view_module_version": "1.5.0",
            "_view_name": "HTMLView",
            "description": "",
            "description_tooltip": null,
            "layout": "IPY_MODEL_f82d5458ce664b52a227cc461a9b4810",
            "placeholder": "​",
            "style": "IPY_MODEL_5e0abb936399442698531dbd0dbd6c88",
            "value": "tokenizer_config.json: 100%"
          }
        },
        "719e792cacd34c679154f10d8f5e066c": {
          "model_module": "@jupyter-widgets/controls",
          "model_name": "FloatProgressModel",
          "model_module_version": "1.5.0",
          "state": {
            "_dom_classes": [],
            "_model_module": "@jupyter-widgets/controls",
            "_model_module_version": "1.5.0",
            "_model_name": "FloatProgressModel",
            "_view_count": null,
            "_view_module": "@jupyter-widgets/controls",
            "_view_module_version": "1.5.0",
            "_view_name": "ProgressView",
            "bar_style": "success",
            "description": "",
            "description_tooltip": null,
            "layout": "IPY_MODEL_39903fe2dfe54b02b1347b43edcb085a",
            "max": 352,
            "min": 0,
            "orientation": "horizontal",
            "style": "IPY_MODEL_c1a711c6159444c5bc9ae430452b242e",
            "value": 352
          }
        },
        "f7b751ff24a148d5a8750e7b72547c98": {
          "model_module": "@jupyter-widgets/controls",
          "model_name": "HTMLModel",
          "model_module_version": "1.5.0",
          "state": {
            "_dom_classes": [],
            "_model_module": "@jupyter-widgets/controls",
            "_model_module_version": "1.5.0",
            "_model_name": "HTMLModel",
            "_view_count": null,
            "_view_module": "@jupyter-widgets/controls",
            "_view_module_version": "1.5.0",
            "_view_name": "HTMLView",
            "description": "",
            "description_tooltip": null,
            "layout": "IPY_MODEL_0d77df6e4774414c8b4527fb0ba329bb",
            "placeholder": "​",
            "style": "IPY_MODEL_064c89ffab444818bc57f346bfafe83d",
            "value": " 352/352 [00:00&lt;00:00, 25.9kB/s]"
          }
        },
        "eacc5c90e45f4c49b6ed11e312673ead": {
          "model_module": "@jupyter-widgets/base",
          "model_name": "LayoutModel",
          "model_module_version": "1.2.0",
          "state": {
            "_model_module": "@jupyter-widgets/base",
            "_model_module_version": "1.2.0",
            "_model_name": "LayoutModel",
            "_view_count": null,
            "_view_module": "@jupyter-widgets/base",
            "_view_module_version": "1.2.0",
            "_view_name": "LayoutView",
            "align_content": null,
            "align_items": null,
            "align_self": null,
            "border": null,
            "bottom": null,
            "display": null,
            "flex": null,
            "flex_flow": null,
            "grid_area": null,
            "grid_auto_columns": null,
            "grid_auto_flow": null,
            "grid_auto_rows": null,
            "grid_column": null,
            "grid_gap": null,
            "grid_row": null,
            "grid_template_areas": null,
            "grid_template_columns": null,
            "grid_template_rows": null,
            "height": null,
            "justify_content": null,
            "justify_items": null,
            "left": null,
            "margin": null,
            "max_height": null,
            "max_width": null,
            "min_height": null,
            "min_width": null,
            "object_fit": null,
            "object_position": null,
            "order": null,
            "overflow": null,
            "overflow_x": null,
            "overflow_y": null,
            "padding": null,
            "right": null,
            "top": null,
            "visibility": null,
            "width": null
          }
        },
        "f82d5458ce664b52a227cc461a9b4810": {
          "model_module": "@jupyter-widgets/base",
          "model_name": "LayoutModel",
          "model_module_version": "1.2.0",
          "state": {
            "_model_module": "@jupyter-widgets/base",
            "_model_module_version": "1.2.0",
            "_model_name": "LayoutModel",
            "_view_count": null,
            "_view_module": "@jupyter-widgets/base",
            "_view_module_version": "1.2.0",
            "_view_name": "LayoutView",
            "align_content": null,
            "align_items": null,
            "align_self": null,
            "border": null,
            "bottom": null,
            "display": null,
            "flex": null,
            "flex_flow": null,
            "grid_area": null,
            "grid_auto_columns": null,
            "grid_auto_flow": null,
            "grid_auto_rows": null,
            "grid_column": null,
            "grid_gap": null,
            "grid_row": null,
            "grid_template_areas": null,
            "grid_template_columns": null,
            "grid_template_rows": null,
            "height": null,
            "justify_content": null,
            "justify_items": null,
            "left": null,
            "margin": null,
            "max_height": null,
            "max_width": null,
            "min_height": null,
            "min_width": null,
            "object_fit": null,
            "object_position": null,
            "order": null,
            "overflow": null,
            "overflow_x": null,
            "overflow_y": null,
            "padding": null,
            "right": null,
            "top": null,
            "visibility": null,
            "width": null
          }
        },
        "5e0abb936399442698531dbd0dbd6c88": {
          "model_module": "@jupyter-widgets/controls",
          "model_name": "DescriptionStyleModel",
          "model_module_version": "1.5.0",
          "state": {
            "_model_module": "@jupyter-widgets/controls",
            "_model_module_version": "1.5.0",
            "_model_name": "DescriptionStyleModel",
            "_view_count": null,
            "_view_module": "@jupyter-widgets/base",
            "_view_module_version": "1.2.0",
            "_view_name": "StyleView",
            "description_width": ""
          }
        },
        "39903fe2dfe54b02b1347b43edcb085a": {
          "model_module": "@jupyter-widgets/base",
          "model_name": "LayoutModel",
          "model_module_version": "1.2.0",
          "state": {
            "_model_module": "@jupyter-widgets/base",
            "_model_module_version": "1.2.0",
            "_model_name": "LayoutModel",
            "_view_count": null,
            "_view_module": "@jupyter-widgets/base",
            "_view_module_version": "1.2.0",
            "_view_name": "LayoutView",
            "align_content": null,
            "align_items": null,
            "align_self": null,
            "border": null,
            "bottom": null,
            "display": null,
            "flex": null,
            "flex_flow": null,
            "grid_area": null,
            "grid_auto_columns": null,
            "grid_auto_flow": null,
            "grid_auto_rows": null,
            "grid_column": null,
            "grid_gap": null,
            "grid_row": null,
            "grid_template_areas": null,
            "grid_template_columns": null,
            "grid_template_rows": null,
            "height": null,
            "justify_content": null,
            "justify_items": null,
            "left": null,
            "margin": null,
            "max_height": null,
            "max_width": null,
            "min_height": null,
            "min_width": null,
            "object_fit": null,
            "object_position": null,
            "order": null,
            "overflow": null,
            "overflow_x": null,
            "overflow_y": null,
            "padding": null,
            "right": null,
            "top": null,
            "visibility": null,
            "width": null
          }
        },
        "c1a711c6159444c5bc9ae430452b242e": {
          "model_module": "@jupyter-widgets/controls",
          "model_name": "ProgressStyleModel",
          "model_module_version": "1.5.0",
          "state": {
            "_model_module": "@jupyter-widgets/controls",
            "_model_module_version": "1.5.0",
            "_model_name": "ProgressStyleModel",
            "_view_count": null,
            "_view_module": "@jupyter-widgets/base",
            "_view_module_version": "1.2.0",
            "_view_name": "StyleView",
            "bar_color": null,
            "description_width": ""
          }
        },
        "0d77df6e4774414c8b4527fb0ba329bb": {
          "model_module": "@jupyter-widgets/base",
          "model_name": "LayoutModel",
          "model_module_version": "1.2.0",
          "state": {
            "_model_module": "@jupyter-widgets/base",
            "_model_module_version": "1.2.0",
            "_model_name": "LayoutModel",
            "_view_count": null,
            "_view_module": "@jupyter-widgets/base",
            "_view_module_version": "1.2.0",
            "_view_name": "LayoutView",
            "align_content": null,
            "align_items": null,
            "align_self": null,
            "border": null,
            "bottom": null,
            "display": null,
            "flex": null,
            "flex_flow": null,
            "grid_area": null,
            "grid_auto_columns": null,
            "grid_auto_flow": null,
            "grid_auto_rows": null,
            "grid_column": null,
            "grid_gap": null,
            "grid_row": null,
            "grid_template_areas": null,
            "grid_template_columns": null,
            "grid_template_rows": null,
            "height": null,
            "justify_content": null,
            "justify_items": null,
            "left": null,
            "margin": null,
            "max_height": null,
            "max_width": null,
            "min_height": null,
            "min_width": null,
            "object_fit": null,
            "object_position": null,
            "order": null,
            "overflow": null,
            "overflow_x": null,
            "overflow_y": null,
            "padding": null,
            "right": null,
            "top": null,
            "visibility": null,
            "width": null
          }
        },
        "064c89ffab444818bc57f346bfafe83d": {
          "model_module": "@jupyter-widgets/controls",
          "model_name": "DescriptionStyleModel",
          "model_module_version": "1.5.0",
          "state": {
            "_model_module": "@jupyter-widgets/controls",
            "_model_module_version": "1.5.0",
            "_model_name": "DescriptionStyleModel",
            "_view_count": null,
            "_view_module": "@jupyter-widgets/base",
            "_view_module_version": "1.2.0",
            "_view_name": "StyleView",
            "description_width": ""
          }
        },
        "a38608a58e0e4ae9b0d8d26fbff93b74": {
          "model_module": "@jupyter-widgets/controls",
          "model_name": "HBoxModel",
          "model_module_version": "1.5.0",
          "state": {
            "_dom_classes": [],
            "_model_module": "@jupyter-widgets/controls",
            "_model_module_version": "1.5.0",
            "_model_name": "HBoxModel",
            "_view_count": null,
            "_view_module": "@jupyter-widgets/controls",
            "_view_module_version": "1.5.0",
            "_view_name": "HBoxView",
            "box_style": "",
            "children": [
              "IPY_MODEL_290643689e8041ca893f0d03bd5c2ece",
              "IPY_MODEL_3c02c23267c549feb6c281a7c312fd68",
              "IPY_MODEL_6b93d367a12542d2a7b75b9cf60af824"
            ],
            "layout": "IPY_MODEL_449ab4dbb99f44ffbe486910fc638033"
          }
        },
        "290643689e8041ca893f0d03bd5c2ece": {
          "model_module": "@jupyter-widgets/controls",
          "model_name": "HTMLModel",
          "model_module_version": "1.5.0",
          "state": {
            "_dom_classes": [],
            "_model_module": "@jupyter-widgets/controls",
            "_model_module_version": "1.5.0",
            "_model_name": "HTMLModel",
            "_view_count": null,
            "_view_module": "@jupyter-widgets/controls",
            "_view_module_version": "1.5.0",
            "_view_name": "HTMLView",
            "description": "",
            "description_tooltip": null,
            "layout": "IPY_MODEL_9ac3f829adae4894b26af3f8e8ec8092",
            "placeholder": "​",
            "style": "IPY_MODEL_09aae0c48cfe46dc8a1ba50443bee049",
            "value": "train_script.py: 100%"
          }
        },
        "3c02c23267c549feb6c281a7c312fd68": {
          "model_module": "@jupyter-widgets/controls",
          "model_name": "FloatProgressModel",
          "model_module_version": "1.5.0",
          "state": {
            "_dom_classes": [],
            "_model_module": "@jupyter-widgets/controls",
            "_model_module_version": "1.5.0",
            "_model_name": "FloatProgressModel",
            "_view_count": null,
            "_view_module": "@jupyter-widgets/controls",
            "_view_module_version": "1.5.0",
            "_view_name": "ProgressView",
            "bar_style": "success",
            "description": "",
            "description_tooltip": null,
            "layout": "IPY_MODEL_e5fd4ec660b84d218394f348f0884380",
            "max": 13159,
            "min": 0,
            "orientation": "horizontal",
            "style": "IPY_MODEL_efe866b6cef5496d9be6abbbb28b24f8",
            "value": 13159
          }
        },
        "6b93d367a12542d2a7b75b9cf60af824": {
          "model_module": "@jupyter-widgets/controls",
          "model_name": "HTMLModel",
          "model_module_version": "1.5.0",
          "state": {
            "_dom_classes": [],
            "_model_module": "@jupyter-widgets/controls",
            "_model_module_version": "1.5.0",
            "_model_name": "HTMLModel",
            "_view_count": null,
            "_view_module": "@jupyter-widgets/controls",
            "_view_module_version": "1.5.0",
            "_view_name": "HTMLView",
            "description": "",
            "description_tooltip": null,
            "layout": "IPY_MODEL_bb93fdc2a94b48b3b6d1792d309cd99e",
            "placeholder": "​",
            "style": "IPY_MODEL_37eafea8fbbf40ceb5a2c8cc9ade9de2",
            "value": " 13.2k/13.2k [00:00&lt;00:00, 697kB/s]"
          }
        },
        "449ab4dbb99f44ffbe486910fc638033": {
          "model_module": "@jupyter-widgets/base",
          "model_name": "LayoutModel",
          "model_module_version": "1.2.0",
          "state": {
            "_model_module": "@jupyter-widgets/base",
            "_model_module_version": "1.2.0",
            "_model_name": "LayoutModel",
            "_view_count": null,
            "_view_module": "@jupyter-widgets/base",
            "_view_module_version": "1.2.0",
            "_view_name": "LayoutView",
            "align_content": null,
            "align_items": null,
            "align_self": null,
            "border": null,
            "bottom": null,
            "display": null,
            "flex": null,
            "flex_flow": null,
            "grid_area": null,
            "grid_auto_columns": null,
            "grid_auto_flow": null,
            "grid_auto_rows": null,
            "grid_column": null,
            "grid_gap": null,
            "grid_row": null,
            "grid_template_areas": null,
            "grid_template_columns": null,
            "grid_template_rows": null,
            "height": null,
            "justify_content": null,
            "justify_items": null,
            "left": null,
            "margin": null,
            "max_height": null,
            "max_width": null,
            "min_height": null,
            "min_width": null,
            "object_fit": null,
            "object_position": null,
            "order": null,
            "overflow": null,
            "overflow_x": null,
            "overflow_y": null,
            "padding": null,
            "right": null,
            "top": null,
            "visibility": null,
            "width": null
          }
        },
        "9ac3f829adae4894b26af3f8e8ec8092": {
          "model_module": "@jupyter-widgets/base",
          "model_name": "LayoutModel",
          "model_module_version": "1.2.0",
          "state": {
            "_model_module": "@jupyter-widgets/base",
            "_model_module_version": "1.2.0",
            "_model_name": "LayoutModel",
            "_view_count": null,
            "_view_module": "@jupyter-widgets/base",
            "_view_module_version": "1.2.0",
            "_view_name": "LayoutView",
            "align_content": null,
            "align_items": null,
            "align_self": null,
            "border": null,
            "bottom": null,
            "display": null,
            "flex": null,
            "flex_flow": null,
            "grid_area": null,
            "grid_auto_columns": null,
            "grid_auto_flow": null,
            "grid_auto_rows": null,
            "grid_column": null,
            "grid_gap": null,
            "grid_row": null,
            "grid_template_areas": null,
            "grid_template_columns": null,
            "grid_template_rows": null,
            "height": null,
            "justify_content": null,
            "justify_items": null,
            "left": null,
            "margin": null,
            "max_height": null,
            "max_width": null,
            "min_height": null,
            "min_width": null,
            "object_fit": null,
            "object_position": null,
            "order": null,
            "overflow": null,
            "overflow_x": null,
            "overflow_y": null,
            "padding": null,
            "right": null,
            "top": null,
            "visibility": null,
            "width": null
          }
        },
        "09aae0c48cfe46dc8a1ba50443bee049": {
          "model_module": "@jupyter-widgets/controls",
          "model_name": "DescriptionStyleModel",
          "model_module_version": "1.5.0",
          "state": {
            "_model_module": "@jupyter-widgets/controls",
            "_model_module_version": "1.5.0",
            "_model_name": "DescriptionStyleModel",
            "_view_count": null,
            "_view_module": "@jupyter-widgets/base",
            "_view_module_version": "1.2.0",
            "_view_name": "StyleView",
            "description_width": ""
          }
        },
        "e5fd4ec660b84d218394f348f0884380": {
          "model_module": "@jupyter-widgets/base",
          "model_name": "LayoutModel",
          "model_module_version": "1.2.0",
          "state": {
            "_model_module": "@jupyter-widgets/base",
            "_model_module_version": "1.2.0",
            "_model_name": "LayoutModel",
            "_view_count": null,
            "_view_module": "@jupyter-widgets/base",
            "_view_module_version": "1.2.0",
            "_view_name": "LayoutView",
            "align_content": null,
            "align_items": null,
            "align_self": null,
            "border": null,
            "bottom": null,
            "display": null,
            "flex": null,
            "flex_flow": null,
            "grid_area": null,
            "grid_auto_columns": null,
            "grid_auto_flow": null,
            "grid_auto_rows": null,
            "grid_column": null,
            "grid_gap": null,
            "grid_row": null,
            "grid_template_areas": null,
            "grid_template_columns": null,
            "grid_template_rows": null,
            "height": null,
            "justify_content": null,
            "justify_items": null,
            "left": null,
            "margin": null,
            "max_height": null,
            "max_width": null,
            "min_height": null,
            "min_width": null,
            "object_fit": null,
            "object_position": null,
            "order": null,
            "overflow": null,
            "overflow_x": null,
            "overflow_y": null,
            "padding": null,
            "right": null,
            "top": null,
            "visibility": null,
            "width": null
          }
        },
        "efe866b6cef5496d9be6abbbb28b24f8": {
          "model_module": "@jupyter-widgets/controls",
          "model_name": "ProgressStyleModel",
          "model_module_version": "1.5.0",
          "state": {
            "_model_module": "@jupyter-widgets/controls",
            "_model_module_version": "1.5.0",
            "_model_name": "ProgressStyleModel",
            "_view_count": null,
            "_view_module": "@jupyter-widgets/base",
            "_view_module_version": "1.2.0",
            "_view_name": "StyleView",
            "bar_color": null,
            "description_width": ""
          }
        },
        "bb93fdc2a94b48b3b6d1792d309cd99e": {
          "model_module": "@jupyter-widgets/base",
          "model_name": "LayoutModel",
          "model_module_version": "1.2.0",
          "state": {
            "_model_module": "@jupyter-widgets/base",
            "_model_module_version": "1.2.0",
            "_model_name": "LayoutModel",
            "_view_count": null,
            "_view_module": "@jupyter-widgets/base",
            "_view_module_version": "1.2.0",
            "_view_name": "LayoutView",
            "align_content": null,
            "align_items": null,
            "align_self": null,
            "border": null,
            "bottom": null,
            "display": null,
            "flex": null,
            "flex_flow": null,
            "grid_area": null,
            "grid_auto_columns": null,
            "grid_auto_flow": null,
            "grid_auto_rows": null,
            "grid_column": null,
            "grid_gap": null,
            "grid_row": null,
            "grid_template_areas": null,
            "grid_template_columns": null,
            "grid_template_rows": null,
            "height": null,
            "justify_content": null,
            "justify_items": null,
            "left": null,
            "margin": null,
            "max_height": null,
            "max_width": null,
            "min_height": null,
            "min_width": null,
            "object_fit": null,
            "object_position": null,
            "order": null,
            "overflow": null,
            "overflow_x": null,
            "overflow_y": null,
            "padding": null,
            "right": null,
            "top": null,
            "visibility": null,
            "width": null
          }
        },
        "37eafea8fbbf40ceb5a2c8cc9ade9de2": {
          "model_module": "@jupyter-widgets/controls",
          "model_name": "DescriptionStyleModel",
          "model_module_version": "1.5.0",
          "state": {
            "_model_module": "@jupyter-widgets/controls",
            "_model_module_version": "1.5.0",
            "_model_name": "DescriptionStyleModel",
            "_view_count": null,
            "_view_module": "@jupyter-widgets/base",
            "_view_module_version": "1.2.0",
            "_view_name": "StyleView",
            "description_width": ""
          }
        },
        "c09abd859f04490987f2b749f3b23908": {
          "model_module": "@jupyter-widgets/controls",
          "model_name": "HBoxModel",
          "model_module_version": "1.5.0",
          "state": {
            "_dom_classes": [],
            "_model_module": "@jupyter-widgets/controls",
            "_model_module_version": "1.5.0",
            "_model_name": "HBoxModel",
            "_view_count": null,
            "_view_module": "@jupyter-widgets/controls",
            "_view_module_version": "1.5.0",
            "_view_name": "HBoxView",
            "box_style": "",
            "children": [
              "IPY_MODEL_855c09bccbb04135a1280340184c44da",
              "IPY_MODEL_9a85db24887442ae8cee78de8c39ca79",
              "IPY_MODEL_12e43c4f7e9a4384ae636a5d0c0ef968"
            ],
            "layout": "IPY_MODEL_69951daefc1c464d99d6d8190c4083fd"
          }
        },
        "855c09bccbb04135a1280340184c44da": {
          "model_module": "@jupyter-widgets/controls",
          "model_name": "HTMLModel",
          "model_module_version": "1.5.0",
          "state": {
            "_dom_classes": [],
            "_model_module": "@jupyter-widgets/controls",
            "_model_module_version": "1.5.0",
            "_model_name": "HTMLModel",
            "_view_count": null,
            "_view_module": "@jupyter-widgets/controls",
            "_view_module_version": "1.5.0",
            "_view_name": "HTMLView",
            "description": "",
            "description_tooltip": null,
            "layout": "IPY_MODEL_f177f5f0d1ec419b990ba19beba191c2",
            "placeholder": "​",
            "style": "IPY_MODEL_556e1bb09bef4ba1903673254d49c8a1",
            "value": "vocab.txt: 100%"
          }
        },
        "9a85db24887442ae8cee78de8c39ca79": {
          "model_module": "@jupyter-widgets/controls",
          "model_name": "FloatProgressModel",
          "model_module_version": "1.5.0",
          "state": {
            "_dom_classes": [],
            "_model_module": "@jupyter-widgets/controls",
            "_model_module_version": "1.5.0",
            "_model_name": "FloatProgressModel",
            "_view_count": null,
            "_view_module": "@jupyter-widgets/controls",
            "_view_module_version": "1.5.0",
            "_view_name": "ProgressView",
            "bar_style": "success",
            "description": "",
            "description_tooltip": null,
            "layout": "IPY_MODEL_607dc4abcdec44529119d2b212e6398b",
            "max": 231508,
            "min": 0,
            "orientation": "horizontal",
            "style": "IPY_MODEL_76f9e9f647c148caae0665291163bd8c",
            "value": 231508
          }
        },
        "12e43c4f7e9a4384ae636a5d0c0ef968": {
          "model_module": "@jupyter-widgets/controls",
          "model_name": "HTMLModel",
          "model_module_version": "1.5.0",
          "state": {
            "_dom_classes": [],
            "_model_module": "@jupyter-widgets/controls",
            "_model_module_version": "1.5.0",
            "_model_name": "HTMLModel",
            "_view_count": null,
            "_view_module": "@jupyter-widgets/controls",
            "_view_module_version": "1.5.0",
            "_view_name": "HTMLView",
            "description": "",
            "description_tooltip": null,
            "layout": "IPY_MODEL_bb15a2664e734599afb85945db6df0f6",
            "placeholder": "​",
            "style": "IPY_MODEL_cc16ae4c40c64791900b20fb60998696",
            "value": " 232k/232k [00:00&lt;00:00, 9.18MB/s]"
          }
        },
        "69951daefc1c464d99d6d8190c4083fd": {
          "model_module": "@jupyter-widgets/base",
          "model_name": "LayoutModel",
          "model_module_version": "1.2.0",
          "state": {
            "_model_module": "@jupyter-widgets/base",
            "_model_module_version": "1.2.0",
            "_model_name": "LayoutModel",
            "_view_count": null,
            "_view_module": "@jupyter-widgets/base",
            "_view_module_version": "1.2.0",
            "_view_name": "LayoutView",
            "align_content": null,
            "align_items": null,
            "align_self": null,
            "border": null,
            "bottom": null,
            "display": null,
            "flex": null,
            "flex_flow": null,
            "grid_area": null,
            "grid_auto_columns": null,
            "grid_auto_flow": null,
            "grid_auto_rows": null,
            "grid_column": null,
            "grid_gap": null,
            "grid_row": null,
            "grid_template_areas": null,
            "grid_template_columns": null,
            "grid_template_rows": null,
            "height": null,
            "justify_content": null,
            "justify_items": null,
            "left": null,
            "margin": null,
            "max_height": null,
            "max_width": null,
            "min_height": null,
            "min_width": null,
            "object_fit": null,
            "object_position": null,
            "order": null,
            "overflow": null,
            "overflow_x": null,
            "overflow_y": null,
            "padding": null,
            "right": null,
            "top": null,
            "visibility": null,
            "width": null
          }
        },
        "f177f5f0d1ec419b990ba19beba191c2": {
          "model_module": "@jupyter-widgets/base",
          "model_name": "LayoutModel",
          "model_module_version": "1.2.0",
          "state": {
            "_model_module": "@jupyter-widgets/base",
            "_model_module_version": "1.2.0",
            "_model_name": "LayoutModel",
            "_view_count": null,
            "_view_module": "@jupyter-widgets/base",
            "_view_module_version": "1.2.0",
            "_view_name": "LayoutView",
            "align_content": null,
            "align_items": null,
            "align_self": null,
            "border": null,
            "bottom": null,
            "display": null,
            "flex": null,
            "flex_flow": null,
            "grid_area": null,
            "grid_auto_columns": null,
            "grid_auto_flow": null,
            "grid_auto_rows": null,
            "grid_column": null,
            "grid_gap": null,
            "grid_row": null,
            "grid_template_areas": null,
            "grid_template_columns": null,
            "grid_template_rows": null,
            "height": null,
            "justify_content": null,
            "justify_items": null,
            "left": null,
            "margin": null,
            "max_height": null,
            "max_width": null,
            "min_height": null,
            "min_width": null,
            "object_fit": null,
            "object_position": null,
            "order": null,
            "overflow": null,
            "overflow_x": null,
            "overflow_y": null,
            "padding": null,
            "right": null,
            "top": null,
            "visibility": null,
            "width": null
          }
        },
        "556e1bb09bef4ba1903673254d49c8a1": {
          "model_module": "@jupyter-widgets/controls",
          "model_name": "DescriptionStyleModel",
          "model_module_version": "1.5.0",
          "state": {
            "_model_module": "@jupyter-widgets/controls",
            "_model_module_version": "1.5.0",
            "_model_name": "DescriptionStyleModel",
            "_view_count": null,
            "_view_module": "@jupyter-widgets/base",
            "_view_module_version": "1.2.0",
            "_view_name": "StyleView",
            "description_width": ""
          }
        },
        "607dc4abcdec44529119d2b212e6398b": {
          "model_module": "@jupyter-widgets/base",
          "model_name": "LayoutModel",
          "model_module_version": "1.2.0",
          "state": {
            "_model_module": "@jupyter-widgets/base",
            "_model_module_version": "1.2.0",
            "_model_name": "LayoutModel",
            "_view_count": null,
            "_view_module": "@jupyter-widgets/base",
            "_view_module_version": "1.2.0",
            "_view_name": "LayoutView",
            "align_content": null,
            "align_items": null,
            "align_self": null,
            "border": null,
            "bottom": null,
            "display": null,
            "flex": null,
            "flex_flow": null,
            "grid_area": null,
            "grid_auto_columns": null,
            "grid_auto_flow": null,
            "grid_auto_rows": null,
            "grid_column": null,
            "grid_gap": null,
            "grid_row": null,
            "grid_template_areas": null,
            "grid_template_columns": null,
            "grid_template_rows": null,
            "height": null,
            "justify_content": null,
            "justify_items": null,
            "left": null,
            "margin": null,
            "max_height": null,
            "max_width": null,
            "min_height": null,
            "min_width": null,
            "object_fit": null,
            "object_position": null,
            "order": null,
            "overflow": null,
            "overflow_x": null,
            "overflow_y": null,
            "padding": null,
            "right": null,
            "top": null,
            "visibility": null,
            "width": null
          }
        },
        "76f9e9f647c148caae0665291163bd8c": {
          "model_module": "@jupyter-widgets/controls",
          "model_name": "ProgressStyleModel",
          "model_module_version": "1.5.0",
          "state": {
            "_model_module": "@jupyter-widgets/controls",
            "_model_module_version": "1.5.0",
            "_model_name": "ProgressStyleModel",
            "_view_count": null,
            "_view_module": "@jupyter-widgets/base",
            "_view_module_version": "1.2.0",
            "_view_name": "StyleView",
            "bar_color": null,
            "description_width": ""
          }
        },
        "bb15a2664e734599afb85945db6df0f6": {
          "model_module": "@jupyter-widgets/base",
          "model_name": "LayoutModel",
          "model_module_version": "1.2.0",
          "state": {
            "_model_module": "@jupyter-widgets/base",
            "_model_module_version": "1.2.0",
            "_model_name": "LayoutModel",
            "_view_count": null,
            "_view_module": "@jupyter-widgets/base",
            "_view_module_version": "1.2.0",
            "_view_name": "LayoutView",
            "align_content": null,
            "align_items": null,
            "align_self": null,
            "border": null,
            "bottom": null,
            "display": null,
            "flex": null,
            "flex_flow": null,
            "grid_area": null,
            "grid_auto_columns": null,
            "grid_auto_flow": null,
            "grid_auto_rows": null,
            "grid_column": null,
            "grid_gap": null,
            "grid_row": null,
            "grid_template_areas": null,
            "grid_template_columns": null,
            "grid_template_rows": null,
            "height": null,
            "justify_content": null,
            "justify_items": null,
            "left": null,
            "margin": null,
            "max_height": null,
            "max_width": null,
            "min_height": null,
            "min_width": null,
            "object_fit": null,
            "object_position": null,
            "order": null,
            "overflow": null,
            "overflow_x": null,
            "overflow_y": null,
            "padding": null,
            "right": null,
            "top": null,
            "visibility": null,
            "width": null
          }
        },
        "cc16ae4c40c64791900b20fb60998696": {
          "model_module": "@jupyter-widgets/controls",
          "model_name": "DescriptionStyleModel",
          "model_module_version": "1.5.0",
          "state": {
            "_model_module": "@jupyter-widgets/controls",
            "_model_module_version": "1.5.0",
            "_model_name": "DescriptionStyleModel",
            "_view_count": null,
            "_view_module": "@jupyter-widgets/base",
            "_view_module_version": "1.2.0",
            "_view_name": "StyleView",
            "description_width": ""
          }
        },
        "651c2d5f7f744ea081617edb8c6fa2b4": {
          "model_module": "@jupyter-widgets/controls",
          "model_name": "HBoxModel",
          "model_module_version": "1.5.0",
          "state": {
            "_dom_classes": [],
            "_model_module": "@jupyter-widgets/controls",
            "_model_module_version": "1.5.0",
            "_model_name": "HBoxModel",
            "_view_count": null,
            "_view_module": "@jupyter-widgets/controls",
            "_view_module_version": "1.5.0",
            "_view_name": "HBoxView",
            "box_style": "",
            "children": [
              "IPY_MODEL_073f8800924440c29d5d52d59be573f6",
              "IPY_MODEL_26f85df3a22a44e98628ce7a791954e3",
              "IPY_MODEL_479f6695ba3649bd85e37750e8c8c5c7"
            ],
            "layout": "IPY_MODEL_1780eaff880b411a871a78dcd2317d1a"
          }
        },
        "073f8800924440c29d5d52d59be573f6": {
          "model_module": "@jupyter-widgets/controls",
          "model_name": "HTMLModel",
          "model_module_version": "1.5.0",
          "state": {
            "_dom_classes": [],
            "_model_module": "@jupyter-widgets/controls",
            "_model_module_version": "1.5.0",
            "_model_name": "HTMLModel",
            "_view_count": null,
            "_view_module": "@jupyter-widgets/controls",
            "_view_module_version": "1.5.0",
            "_view_name": "HTMLView",
            "description": "",
            "description_tooltip": null,
            "layout": "IPY_MODEL_88335cc1c36745ac8e46806df0f224bc",
            "placeholder": "​",
            "style": "IPY_MODEL_8857a71d734a43188e4f053a645fc98e",
            "value": "modules.json: 100%"
          }
        },
        "26f85df3a22a44e98628ce7a791954e3": {
          "model_module": "@jupyter-widgets/controls",
          "model_name": "FloatProgressModel",
          "model_module_version": "1.5.0",
          "state": {
            "_dom_classes": [],
            "_model_module": "@jupyter-widgets/controls",
            "_model_module_version": "1.5.0",
            "_model_name": "FloatProgressModel",
            "_view_count": null,
            "_view_module": "@jupyter-widgets/controls",
            "_view_module_version": "1.5.0",
            "_view_name": "ProgressView",
            "bar_style": "success",
            "description": "",
            "description_tooltip": null,
            "layout": "IPY_MODEL_6acfc23e61e544b08296cf501d472e76",
            "max": 349,
            "min": 0,
            "orientation": "horizontal",
            "style": "IPY_MODEL_6b26992154484de0abab4d680b3a589b",
            "value": 349
          }
        },
        "479f6695ba3649bd85e37750e8c8c5c7": {
          "model_module": "@jupyter-widgets/controls",
          "model_name": "HTMLModel",
          "model_module_version": "1.5.0",
          "state": {
            "_dom_classes": [],
            "_model_module": "@jupyter-widgets/controls",
            "_model_module_version": "1.5.0",
            "_model_name": "HTMLModel",
            "_view_count": null,
            "_view_module": "@jupyter-widgets/controls",
            "_view_module_version": "1.5.0",
            "_view_name": "HTMLView",
            "description": "",
            "description_tooltip": null,
            "layout": "IPY_MODEL_139b839fe5cc4e4498bd12c8bc739681",
            "placeholder": "​",
            "style": "IPY_MODEL_502b3cb736264a3d806284305dca0f6d",
            "value": " 349/349 [00:00&lt;00:00, 21.9kB/s]"
          }
        },
        "1780eaff880b411a871a78dcd2317d1a": {
          "model_module": "@jupyter-widgets/base",
          "model_name": "LayoutModel",
          "model_module_version": "1.2.0",
          "state": {
            "_model_module": "@jupyter-widgets/base",
            "_model_module_version": "1.2.0",
            "_model_name": "LayoutModel",
            "_view_count": null,
            "_view_module": "@jupyter-widgets/base",
            "_view_module_version": "1.2.0",
            "_view_name": "LayoutView",
            "align_content": null,
            "align_items": null,
            "align_self": null,
            "border": null,
            "bottom": null,
            "display": null,
            "flex": null,
            "flex_flow": null,
            "grid_area": null,
            "grid_auto_columns": null,
            "grid_auto_flow": null,
            "grid_auto_rows": null,
            "grid_column": null,
            "grid_gap": null,
            "grid_row": null,
            "grid_template_areas": null,
            "grid_template_columns": null,
            "grid_template_rows": null,
            "height": null,
            "justify_content": null,
            "justify_items": null,
            "left": null,
            "margin": null,
            "max_height": null,
            "max_width": null,
            "min_height": null,
            "min_width": null,
            "object_fit": null,
            "object_position": null,
            "order": null,
            "overflow": null,
            "overflow_x": null,
            "overflow_y": null,
            "padding": null,
            "right": null,
            "top": null,
            "visibility": null,
            "width": null
          }
        },
        "88335cc1c36745ac8e46806df0f224bc": {
          "model_module": "@jupyter-widgets/base",
          "model_name": "LayoutModel",
          "model_module_version": "1.2.0",
          "state": {
            "_model_module": "@jupyter-widgets/base",
            "_model_module_version": "1.2.0",
            "_model_name": "LayoutModel",
            "_view_count": null,
            "_view_module": "@jupyter-widgets/base",
            "_view_module_version": "1.2.0",
            "_view_name": "LayoutView",
            "align_content": null,
            "align_items": null,
            "align_self": null,
            "border": null,
            "bottom": null,
            "display": null,
            "flex": null,
            "flex_flow": null,
            "grid_area": null,
            "grid_auto_columns": null,
            "grid_auto_flow": null,
            "grid_auto_rows": null,
            "grid_column": null,
            "grid_gap": null,
            "grid_row": null,
            "grid_template_areas": null,
            "grid_template_columns": null,
            "grid_template_rows": null,
            "height": null,
            "justify_content": null,
            "justify_items": null,
            "left": null,
            "margin": null,
            "max_height": null,
            "max_width": null,
            "min_height": null,
            "min_width": null,
            "object_fit": null,
            "object_position": null,
            "order": null,
            "overflow": null,
            "overflow_x": null,
            "overflow_y": null,
            "padding": null,
            "right": null,
            "top": null,
            "visibility": null,
            "width": null
          }
        },
        "8857a71d734a43188e4f053a645fc98e": {
          "model_module": "@jupyter-widgets/controls",
          "model_name": "DescriptionStyleModel",
          "model_module_version": "1.5.0",
          "state": {
            "_model_module": "@jupyter-widgets/controls",
            "_model_module_version": "1.5.0",
            "_model_name": "DescriptionStyleModel",
            "_view_count": null,
            "_view_module": "@jupyter-widgets/base",
            "_view_module_version": "1.2.0",
            "_view_name": "StyleView",
            "description_width": ""
          }
        },
        "6acfc23e61e544b08296cf501d472e76": {
          "model_module": "@jupyter-widgets/base",
          "model_name": "LayoutModel",
          "model_module_version": "1.2.0",
          "state": {
            "_model_module": "@jupyter-widgets/base",
            "_model_module_version": "1.2.0",
            "_model_name": "LayoutModel",
            "_view_count": null,
            "_view_module": "@jupyter-widgets/base",
            "_view_module_version": "1.2.0",
            "_view_name": "LayoutView",
            "align_content": null,
            "align_items": null,
            "align_self": null,
            "border": null,
            "bottom": null,
            "display": null,
            "flex": null,
            "flex_flow": null,
            "grid_area": null,
            "grid_auto_columns": null,
            "grid_auto_flow": null,
            "grid_auto_rows": null,
            "grid_column": null,
            "grid_gap": null,
            "grid_row": null,
            "grid_template_areas": null,
            "grid_template_columns": null,
            "grid_template_rows": null,
            "height": null,
            "justify_content": null,
            "justify_items": null,
            "left": null,
            "margin": null,
            "max_height": null,
            "max_width": null,
            "min_height": null,
            "min_width": null,
            "object_fit": null,
            "object_position": null,
            "order": null,
            "overflow": null,
            "overflow_x": null,
            "overflow_y": null,
            "padding": null,
            "right": null,
            "top": null,
            "visibility": null,
            "width": null
          }
        },
        "6b26992154484de0abab4d680b3a589b": {
          "model_module": "@jupyter-widgets/controls",
          "model_name": "ProgressStyleModel",
          "model_module_version": "1.5.0",
          "state": {
            "_model_module": "@jupyter-widgets/controls",
            "_model_module_version": "1.5.0",
            "_model_name": "ProgressStyleModel",
            "_view_count": null,
            "_view_module": "@jupyter-widgets/base",
            "_view_module_version": "1.2.0",
            "_view_name": "StyleView",
            "bar_color": null,
            "description_width": ""
          }
        },
        "139b839fe5cc4e4498bd12c8bc739681": {
          "model_module": "@jupyter-widgets/base",
          "model_name": "LayoutModel",
          "model_module_version": "1.2.0",
          "state": {
            "_model_module": "@jupyter-widgets/base",
            "_model_module_version": "1.2.0",
            "_model_name": "LayoutModel",
            "_view_count": null,
            "_view_module": "@jupyter-widgets/base",
            "_view_module_version": "1.2.0",
            "_view_name": "LayoutView",
            "align_content": null,
            "align_items": null,
            "align_self": null,
            "border": null,
            "bottom": null,
            "display": null,
            "flex": null,
            "flex_flow": null,
            "grid_area": null,
            "grid_auto_columns": null,
            "grid_auto_flow": null,
            "grid_auto_rows": null,
            "grid_column": null,
            "grid_gap": null,
            "grid_row": null,
            "grid_template_areas": null,
            "grid_template_columns": null,
            "grid_template_rows": null,
            "height": null,
            "justify_content": null,
            "justify_items": null,
            "left": null,
            "margin": null,
            "max_height": null,
            "max_width": null,
            "min_height": null,
            "min_width": null,
            "object_fit": null,
            "object_position": null,
            "order": null,
            "overflow": null,
            "overflow_x": null,
            "overflow_y": null,
            "padding": null,
            "right": null,
            "top": null,
            "visibility": null,
            "width": null
          }
        },
        "502b3cb736264a3d806284305dca0f6d": {
          "model_module": "@jupyter-widgets/controls",
          "model_name": "DescriptionStyleModel",
          "model_module_version": "1.5.0",
          "state": {
            "_model_module": "@jupyter-widgets/controls",
            "_model_module_version": "1.5.0",
            "_model_name": "DescriptionStyleModel",
            "_view_count": null,
            "_view_module": "@jupyter-widgets/base",
            "_view_module_version": "1.2.0",
            "_view_name": "StyleView",
            "description_width": ""
          }
        },
        "8481d83940534654b0d5497c1cc409c2": {
          "model_module": "@jupyter-widgets/controls",
          "model_name": "HBoxModel",
          "model_module_version": "1.5.0",
          "state": {
            "_dom_classes": [],
            "_model_module": "@jupyter-widgets/controls",
            "_model_module_version": "1.5.0",
            "_model_name": "HBoxModel",
            "_view_count": null,
            "_view_module": "@jupyter-widgets/controls",
            "_view_module_version": "1.5.0",
            "_view_name": "HBoxView",
            "box_style": "",
            "children": [
              "IPY_MODEL_0594bb9d995546b6bd5c5632ef768abc",
              "IPY_MODEL_235c0ac7540946d3ae419037178f0fd2",
              "IPY_MODEL_e420097da9b6415fa849230c37f2053d"
            ],
            "layout": "IPY_MODEL_9ba61c2cac714536ae6bea7653d6b3a6"
          }
        },
        "0594bb9d995546b6bd5c5632ef768abc": {
          "model_module": "@jupyter-widgets/controls",
          "model_name": "HTMLModel",
          "model_module_version": "1.5.0",
          "state": {
            "_dom_classes": [],
            "_model_module": "@jupyter-widgets/controls",
            "_model_module_version": "1.5.0",
            "_model_name": "HTMLModel",
            "_view_count": null,
            "_view_module": "@jupyter-widgets/controls",
            "_view_module_version": "1.5.0",
            "_view_name": "HTMLView",
            "description": "",
            "description_tooltip": null,
            "layout": "IPY_MODEL_487f2c6632b44b789f143fbb7a39a737",
            "placeholder": "​",
            "style": "IPY_MODEL_294f4d1648fa41b6a63ec3d5028d2ca4",
            "value": "100%"
          }
        },
        "235c0ac7540946d3ae419037178f0fd2": {
          "model_module": "@jupyter-widgets/controls",
          "model_name": "FloatProgressModel",
          "model_module_version": "1.5.0",
          "state": {
            "_dom_classes": [],
            "_model_module": "@jupyter-widgets/controls",
            "_model_module_version": "1.5.0",
            "_model_name": "FloatProgressModel",
            "_view_count": null,
            "_view_module": "@jupyter-widgets/controls",
            "_view_module_version": "1.5.0",
            "_view_name": "ProgressView",
            "bar_style": "success",
            "description": "",
            "description_tooltip": null,
            "layout": "IPY_MODEL_35048dc334f9480ea09c6cb33001a610",
            "max": 50940,
            "min": 0,
            "orientation": "horizontal",
            "style": "IPY_MODEL_8ba346b01bd74cfbb234a264204ee66f",
            "value": 50940
          }
        },
        "e420097da9b6415fa849230c37f2053d": {
          "model_module": "@jupyter-widgets/controls",
          "model_name": "HTMLModel",
          "model_module_version": "1.5.0",
          "state": {
            "_dom_classes": [],
            "_model_module": "@jupyter-widgets/controls",
            "_model_module_version": "1.5.0",
            "_model_name": "HTMLModel",
            "_view_count": null,
            "_view_module": "@jupyter-widgets/controls",
            "_view_module_version": "1.5.0",
            "_view_name": "HTMLView",
            "description": "",
            "description_tooltip": null,
            "layout": "IPY_MODEL_37a55b4e42b44cf380b2e5575fd1e21f",
            "placeholder": "​",
            "style": "IPY_MODEL_a855877acd8644f69a2838b78b0d778d",
            "value": " 50940/50940 [00:02&lt;00:00, 23017.64it/s]"
          }
        },
        "9ba61c2cac714536ae6bea7653d6b3a6": {
          "model_module": "@jupyter-widgets/base",
          "model_name": "LayoutModel",
          "model_module_version": "1.2.0",
          "state": {
            "_model_module": "@jupyter-widgets/base",
            "_model_module_version": "1.2.0",
            "_model_name": "LayoutModel",
            "_view_count": null,
            "_view_module": "@jupyter-widgets/base",
            "_view_module_version": "1.2.0",
            "_view_name": "LayoutView",
            "align_content": null,
            "align_items": null,
            "align_self": null,
            "border": null,
            "bottom": null,
            "display": null,
            "flex": null,
            "flex_flow": null,
            "grid_area": null,
            "grid_auto_columns": null,
            "grid_auto_flow": null,
            "grid_auto_rows": null,
            "grid_column": null,
            "grid_gap": null,
            "grid_row": null,
            "grid_template_areas": null,
            "grid_template_columns": null,
            "grid_template_rows": null,
            "height": null,
            "justify_content": null,
            "justify_items": null,
            "left": null,
            "margin": null,
            "max_height": null,
            "max_width": null,
            "min_height": null,
            "min_width": null,
            "object_fit": null,
            "object_position": null,
            "order": null,
            "overflow": null,
            "overflow_x": null,
            "overflow_y": null,
            "padding": null,
            "right": null,
            "top": null,
            "visibility": null,
            "width": null
          }
        },
        "487f2c6632b44b789f143fbb7a39a737": {
          "model_module": "@jupyter-widgets/base",
          "model_name": "LayoutModel",
          "model_module_version": "1.2.0",
          "state": {
            "_model_module": "@jupyter-widgets/base",
            "_model_module_version": "1.2.0",
            "_model_name": "LayoutModel",
            "_view_count": null,
            "_view_module": "@jupyter-widgets/base",
            "_view_module_version": "1.2.0",
            "_view_name": "LayoutView",
            "align_content": null,
            "align_items": null,
            "align_self": null,
            "border": null,
            "bottom": null,
            "display": null,
            "flex": null,
            "flex_flow": null,
            "grid_area": null,
            "grid_auto_columns": null,
            "grid_auto_flow": null,
            "grid_auto_rows": null,
            "grid_column": null,
            "grid_gap": null,
            "grid_row": null,
            "grid_template_areas": null,
            "grid_template_columns": null,
            "grid_template_rows": null,
            "height": null,
            "justify_content": null,
            "justify_items": null,
            "left": null,
            "margin": null,
            "max_height": null,
            "max_width": null,
            "min_height": null,
            "min_width": null,
            "object_fit": null,
            "object_position": null,
            "order": null,
            "overflow": null,
            "overflow_x": null,
            "overflow_y": null,
            "padding": null,
            "right": null,
            "top": null,
            "visibility": null,
            "width": null
          }
        },
        "294f4d1648fa41b6a63ec3d5028d2ca4": {
          "model_module": "@jupyter-widgets/controls",
          "model_name": "DescriptionStyleModel",
          "model_module_version": "1.5.0",
          "state": {
            "_model_module": "@jupyter-widgets/controls",
            "_model_module_version": "1.5.0",
            "_model_name": "DescriptionStyleModel",
            "_view_count": null,
            "_view_module": "@jupyter-widgets/base",
            "_view_module_version": "1.2.0",
            "_view_name": "StyleView",
            "description_width": ""
          }
        },
        "35048dc334f9480ea09c6cb33001a610": {
          "model_module": "@jupyter-widgets/base",
          "model_name": "LayoutModel",
          "model_module_version": "1.2.0",
          "state": {
            "_model_module": "@jupyter-widgets/base",
            "_model_module_version": "1.2.0",
            "_model_name": "LayoutModel",
            "_view_count": null,
            "_view_module": "@jupyter-widgets/base",
            "_view_module_version": "1.2.0",
            "_view_name": "LayoutView",
            "align_content": null,
            "align_items": null,
            "align_self": null,
            "border": null,
            "bottom": null,
            "display": null,
            "flex": null,
            "flex_flow": null,
            "grid_area": null,
            "grid_auto_columns": null,
            "grid_auto_flow": null,
            "grid_auto_rows": null,
            "grid_column": null,
            "grid_gap": null,
            "grid_row": null,
            "grid_template_areas": null,
            "grid_template_columns": null,
            "grid_template_rows": null,
            "height": null,
            "justify_content": null,
            "justify_items": null,
            "left": null,
            "margin": null,
            "max_height": null,
            "max_width": null,
            "min_height": null,
            "min_width": null,
            "object_fit": null,
            "object_position": null,
            "order": null,
            "overflow": null,
            "overflow_x": null,
            "overflow_y": null,
            "padding": null,
            "right": null,
            "top": null,
            "visibility": null,
            "width": null
          }
        },
        "8ba346b01bd74cfbb234a264204ee66f": {
          "model_module": "@jupyter-widgets/controls",
          "model_name": "ProgressStyleModel",
          "model_module_version": "1.5.0",
          "state": {
            "_model_module": "@jupyter-widgets/controls",
            "_model_module_version": "1.5.0",
            "_model_name": "ProgressStyleModel",
            "_view_count": null,
            "_view_module": "@jupyter-widgets/base",
            "_view_module_version": "1.2.0",
            "_view_name": "StyleView",
            "bar_color": null,
            "description_width": ""
          }
        },
        "37a55b4e42b44cf380b2e5575fd1e21f": {
          "model_module": "@jupyter-widgets/base",
          "model_name": "LayoutModel",
          "model_module_version": "1.2.0",
          "state": {
            "_model_module": "@jupyter-widgets/base",
            "_model_module_version": "1.2.0",
            "_model_name": "LayoutModel",
            "_view_count": null,
            "_view_module": "@jupyter-widgets/base",
            "_view_module_version": "1.2.0",
            "_view_name": "LayoutView",
            "align_content": null,
            "align_items": null,
            "align_self": null,
            "border": null,
            "bottom": null,
            "display": null,
            "flex": null,
            "flex_flow": null,
            "grid_area": null,
            "grid_auto_columns": null,
            "grid_auto_flow": null,
            "grid_auto_rows": null,
            "grid_column": null,
            "grid_gap": null,
            "grid_row": null,
            "grid_template_areas": null,
            "grid_template_columns": null,
            "grid_template_rows": null,
            "height": null,
            "justify_content": null,
            "justify_items": null,
            "left": null,
            "margin": null,
            "max_height": null,
            "max_width": null,
            "min_height": null,
            "min_width": null,
            "object_fit": null,
            "object_position": null,
            "order": null,
            "overflow": null,
            "overflow_x": null,
            "overflow_y": null,
            "padding": null,
            "right": null,
            "top": null,
            "visibility": null,
            "width": null
          }
        },
        "a855877acd8644f69a2838b78b0d778d": {
          "model_module": "@jupyter-widgets/controls",
          "model_name": "DescriptionStyleModel",
          "model_module_version": "1.5.0",
          "state": {
            "_model_module": "@jupyter-widgets/controls",
            "_model_module_version": "1.5.0",
            "_model_name": "DescriptionStyleModel",
            "_view_count": null,
            "_view_module": "@jupyter-widgets/base",
            "_view_module_version": "1.2.0",
            "_view_name": "StyleView",
            "description_width": ""
          }
        }
      }
    }
  },
  "nbformat": 4,
  "nbformat_minor": 5
}